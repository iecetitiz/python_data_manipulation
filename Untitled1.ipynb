{
 "cells": [
  {
   "cell_type": "code",
   "execution_count": 11,
   "id": "4a38e1d5-37b6-4361-861a-6fb0e584a2ee",
   "metadata": {},
   "outputs": [],
   "source": [
    "import numpy as np\n",
    "import pandas as pd"
   ]
  },
  {
   "cell_type": "code",
   "execution_count": 12,
   "id": "cce966cf-f766-43b5-ae4e-4e7168ca648a",
   "metadata": {},
   "outputs": [],
   "source": [
    "a = [2, 4, 6, 8, 9, 11, 14, 56]"
   ]
  },
  {
   "cell_type": "code",
   "execution_count": 14,
   "id": "d4532252-9ad8-4783-827c-f526572e8fdc",
   "metadata": {},
   "outputs": [],
   "source": [
    "b = np.arange(1, 10)"
   ]
  },
  {
   "cell_type": "code",
   "execution_count": 16,
   "id": "b2e2e527-9b92-4d79-9c91-ae7ca91d3495",
   "metadata": {},
   "outputs": [],
   "source": [
    "df = pd.DataFrame(a)"
   ]
  },
  {
   "cell_type": "code",
   "execution_count": 17,
   "id": "e9dab3b4-567d-4d0e-98a9-8dd7cec7455a",
   "metadata": {},
   "outputs": [
    {
     "data": {
      "text/html": [
       "<div>\n",
       "<style scoped>\n",
       "    .dataframe tbody tr th:only-of-type {\n",
       "        vertical-align: middle;\n",
       "    }\n",
       "\n",
       "    .dataframe tbody tr th {\n",
       "        vertical-align: top;\n",
       "    }\n",
       "\n",
       "    .dataframe thead th {\n",
       "        text-align: right;\n",
       "    }\n",
       "</style>\n",
       "<table border=\"1\" class=\"dataframe\">\n",
       "  <thead>\n",
       "    <tr style=\"text-align: right;\">\n",
       "      <th></th>\n",
       "      <th>0</th>\n",
       "    </tr>\n",
       "  </thead>\n",
       "  <tbody>\n",
       "    <tr>\n",
       "      <th>0</th>\n",
       "      <td>2</td>\n",
       "    </tr>\n",
       "    <tr>\n",
       "      <th>1</th>\n",
       "      <td>4</td>\n",
       "    </tr>\n",
       "    <tr>\n",
       "      <th>2</th>\n",
       "      <td>6</td>\n",
       "    </tr>\n",
       "    <tr>\n",
       "      <th>3</th>\n",
       "      <td>8</td>\n",
       "    </tr>\n",
       "    <tr>\n",
       "      <th>4</th>\n",
       "      <td>9</td>\n",
       "    </tr>\n",
       "    <tr>\n",
       "      <th>5</th>\n",
       "      <td>11</td>\n",
       "    </tr>\n",
       "    <tr>\n",
       "      <th>6</th>\n",
       "      <td>14</td>\n",
       "    </tr>\n",
       "    <tr>\n",
       "      <th>7</th>\n",
       "      <td>56</td>\n",
       "    </tr>\n",
       "  </tbody>\n",
       "</table>\n",
       "</div>"
      ],
      "text/plain": [
       "    0\n",
       "0   2\n",
       "1   4\n",
       "2   6\n",
       "3   8\n",
       "4   9\n",
       "5  11\n",
       "6  14\n",
       "7  56"
      ]
     },
     "execution_count": 17,
     "metadata": {},
     "output_type": "execute_result"
    }
   ],
   "source": [
    "df"
   ]
  },
  {
   "cell_type": "code",
   "execution_count": 18,
   "id": "c6170b0d-e7e9-49a1-8cc0-fa6595d115da",
   "metadata": {},
   "outputs": [
    {
     "data": {
      "text/plain": [
       "pandas.core.frame.DataFrame"
      ]
     },
     "execution_count": 18,
     "metadata": {},
     "output_type": "execute_result"
    }
   ],
   "source": [
    "type(df)"
   ]
  },
  {
   "cell_type": "code",
   "execution_count": 20,
   "id": "bcd9f90d-9e9b-4cc2-b806-a58d8848b3af",
   "metadata": {},
   "outputs": [
    {
     "data": {
      "text/plain": [
       "array([ True,  True,  True, False, False, False, False, False, False])"
      ]
     },
     "execution_count": 20,
     "metadata": {},
     "output_type": "execute_result"
    }
   ],
   "source": [
    "b < 4"
   ]
  },
  {
   "cell_type": "code",
   "execution_count": 22,
   "id": "b4b551dc-e0ab-4656-af64-e3b90d071c76",
   "metadata": {},
   "outputs": [],
   "source": [
    "filter = df < 4"
   ]
  },
  {
   "cell_type": "code",
   "execution_count": 23,
   "id": "45b958f6-5977-42da-b63c-c17602f6a313",
   "metadata": {},
   "outputs": [
    {
     "data": {
      "text/plain": [
       "pandas.core.frame.DataFrame"
      ]
     },
     "execution_count": 23,
     "metadata": {},
     "output_type": "execute_result"
    }
   ],
   "source": [
    "type(filter)"
   ]
  },
  {
   "cell_type": "code",
   "execution_count": 25,
   "id": "2bc5b279-a152-40a5-a8cd-de2837f686b1",
   "metadata": {},
   "outputs": [],
   "source": [
    "filter2 = b < 4"
   ]
  },
  {
   "cell_type": "code",
   "execution_count": 26,
   "id": "1b4e7560-743f-4115-af7e-de09d2ac3a11",
   "metadata": {},
   "outputs": [
    {
     "data": {
      "text/plain": [
       "array([ True,  True,  True, False, False, False, False, False, False])"
      ]
     },
     "execution_count": 26,
     "metadata": {},
     "output_type": "execute_result"
    }
   ],
   "source": [
    "filter2"
   ]
  },
  {
   "cell_type": "code",
   "execution_count": 27,
   "id": "04c215a6-2f1a-44ee-8dc8-46bfcbf84529",
   "metadata": {},
   "outputs": [
    {
     "data": {
      "text/plain": [
       "numpy.ndarray"
      ]
     },
     "execution_count": 27,
     "metadata": {},
     "output_type": "execute_result"
    }
   ],
   "source": [
    "type(filter2)"
   ]
  },
  {
   "cell_type": "code",
   "execution_count": 30,
   "id": "5d767564-f50f-425f-85b0-817ea89a62e0",
   "metadata": {},
   "outputs": [],
   "source": [
    "r = np.random.randint(20, 100, 30)"
   ]
  },
  {
   "cell_type": "code",
   "execution_count": 31,
   "id": "aa41a467-2844-4a3a-b547-f59bffc6aace",
   "metadata": {},
   "outputs": [
    {
     "data": {
      "text/plain": [
       "array([97, 82, 95, 91, 99, 92, 48, 30, 54, 82, 70, 65, 29, 29, 47, 81, 71,\n",
       "       77, 26, 93, 23, 61, 59, 69, 21, 30, 90, 71, 95, 75])"
      ]
     },
     "execution_count": 31,
     "metadata": {},
     "output_type": "execute_result"
    }
   ],
   "source": [
    "r"
   ]
  },
  {
   "cell_type": "code",
   "execution_count": 32,
   "id": "819b8e14-bcb5-478e-989a-db011813e742",
   "metadata": {},
   "outputs": [],
   "source": [
    "filter_even = r % 2 == 0"
   ]
  },
  {
   "cell_type": "code",
   "execution_count": 33,
   "id": "49409d17-51a3-457f-b4e0-3ddf0872593f",
   "metadata": {},
   "outputs": [
    {
     "data": {
      "text/plain": [
       "array([82, 92, 48, 30, 54, 82, 70, 26, 30, 90])"
      ]
     },
     "execution_count": 33,
     "metadata": {},
     "output_type": "execute_result"
    }
   ],
   "source": [
    "r[filter_even]"
   ]
  },
  {
   "cell_type": "code",
   "execution_count": 35,
   "id": "eb1e840c-2648-408d-a049-0ec4bffe55dc",
   "metadata": {},
   "outputs": [],
   "source": [
    "filter_odd = r % 2 == 1"
   ]
  },
  {
   "cell_type": "code",
   "execution_count": 36,
   "id": "ba97e171-99e4-439c-a931-5b59fd0ab864",
   "metadata": {},
   "outputs": [
    {
     "data": {
      "text/plain": [
       "array([97, 95, 91, 99, 65, 29, 29, 47, 81, 71, 77, 93, 23, 61, 59, 69, 21,\n",
       "       71, 95, 75])"
      ]
     },
     "execution_count": 36,
     "metadata": {},
     "output_type": "execute_result"
    }
   ],
   "source": [
    "r[filter_odd]"
   ]
  },
  {
   "cell_type": "code",
   "execution_count": null,
   "id": "32efa862-a5cd-4695-8895-56ef5960dfc0",
   "metadata": {},
   "outputs": [],
   "source": []
  }
 ],
 "metadata": {
  "kernelspec": {
   "display_name": "Python 3 (ipykernel)",
   "language": "python",
   "name": "python3"
  },
  "language_info": {
   "codemirror_mode": {
    "name": "ipython",
    "version": 3
   },
   "file_extension": ".py",
   "mimetype": "text/x-python",
   "name": "python",
   "nbconvert_exporter": "python",
   "pygments_lexer": "ipython3",
   "version": "3.9.13"
  }
 },
 "nbformat": 4,
 "nbformat_minor": 5
}
