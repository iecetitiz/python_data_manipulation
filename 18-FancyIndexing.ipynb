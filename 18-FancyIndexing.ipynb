{
 "cells": [
  {
   "cell_type": "markdown",
   "id": "8081c6b9-fb20-4f1d-aac9-b5952659de98",
   "metadata": {},
   "source": [
    "# Fancy Indexing"
   ]
  },
  {
   "cell_type": "markdown",
   "id": "84f904d0-483b-4f55-9128-b5bcbf79f21a",
   "metadata": {},
   "source": [
    "**sirasi onemli olmadan bir list olusturuyorum ve indis olarak x'in icinde bir list olarak yani, koseli parantez icinde fancy index kullaniyorum istersem bu indisi buyukten kucuge sayilarla olustururum yani bu listin sirasi onemli degil**\n",
    "\n",
    "**ayni mantigi matrixlerde de kullanabilirim**\n",
    "\n",
    "**bir onceki slice yapma mantiginda eger iki tarafi da slice verirsem sayi obegi degil bir matrix elde ederim**\n",
    "\n",
    "**fancy indexing bu koseli parantezle yazdigim sey**\n",
    "\n",
    "**istersem her iki tarafi da fancy index verebilirim**\n",
    "\n",
    "**istersem bir matrixe tek bir indis verip istedigim satiri alabiliyordum, simdi birden fazla indisi fancy indexle verip istedidgim kadar satiri yine bir matrix olarak alabilirim**\n",
    "\n"
   ]
  },
  {
   "cell_type": "code",
   "execution_count": 3,
   "id": "70fc5676-b3ed-421c-b9d8-753684bbb779",
   "metadata": {},
   "outputs": [],
   "source": [
    "import numpy as np"
   ]
  },
  {
   "cell_type": "code",
   "execution_count": 4,
   "id": "82f25626-b028-42c8-be6b-08a23ffa5b38",
   "metadata": {},
   "outputs": [],
   "source": [
    "x = np.arange(1, 15)"
   ]
  },
  {
   "cell_type": "code",
   "execution_count": 5,
   "id": "847ef9c5-71db-431e-9b96-4629090aa2dc",
   "metadata": {},
   "outputs": [
    {
     "data": {
      "text/plain": [
       "array([ 1,  2,  3,  4,  5,  6,  7,  8,  9, 10, 11, 12, 13, 14])"
      ]
     },
     "execution_count": 5,
     "metadata": {},
     "output_type": "execute_result"
    }
   ],
   "source": [
    "x"
   ]
  },
  {
   "cell_type": "code",
   "execution_count": 6,
   "id": "87283316-b006-4cea-af6b-d92f8f4041d0",
   "metadata": {},
   "outputs": [
    {
     "data": {
      "text/plain": [
       "numpy.ndarray"
      ]
     },
     "execution_count": 6,
     "metadata": {},
     "output_type": "execute_result"
    }
   ],
   "source": [
    "type(x)"
   ]
  },
  {
   "cell_type": "code",
   "execution_count": 7,
   "id": "9f5e3bc7-5d01-49ab-b326-9a6f694211f3",
   "metadata": {},
   "outputs": [],
   "source": [
    "indx = [4, 5, 7, 11]"
   ]
  },
  {
   "cell_type": "code",
   "execution_count": 8,
   "id": "f867b4ed-3dab-44c7-98e7-3a984e0e27d2",
   "metadata": {},
   "outputs": [
    {
     "data": {
      "text/plain": [
       "array([ 5,  6,  8, 12])"
      ]
     },
     "execution_count": 8,
     "metadata": {},
     "output_type": "execute_result"
    }
   ],
   "source": [
    "x[indx]"
   ]
  },
  {
   "cell_type": "markdown",
   "id": "947646ed-f119-49ec-b06a-95acf17f9ec1",
   "metadata": {},
   "source": [
    "# Fancy Indexing"
   ]
  },
  {
   "cell_type": "code",
   "execution_count": 9,
   "id": "5dc24c37-6b16-446b-a759-aff88668a0ec",
   "metadata": {},
   "outputs": [],
   "source": [
    "b = np.arange(1, 41).reshape(8, 5)"
   ]
  },
  {
   "cell_type": "code",
   "execution_count": 10,
   "id": "fbbcdf36-1905-4dbf-8b8a-920a63dba39c",
   "metadata": {},
   "outputs": [
    {
     "data": {
      "text/plain": [
       "array([[ 1,  2,  3,  4,  5],\n",
       "       [ 6,  7,  8,  9, 10],\n",
       "       [11, 12, 13, 14, 15],\n",
       "       [16, 17, 18, 19, 20],\n",
       "       [21, 22, 23, 24, 25],\n",
       "       [26, 27, 28, 29, 30],\n",
       "       [31, 32, 33, 34, 35],\n",
       "       [36, 37, 38, 39, 40]])"
      ]
     },
     "execution_count": 10,
     "metadata": {},
     "output_type": "execute_result"
    }
   ],
   "source": [
    "b"
   ]
  },
  {
   "cell_type": "code",
   "execution_count": 11,
   "id": "3a795d2c-95c9-4438-9e1c-4c57a5997416",
   "metadata": {},
   "outputs": [],
   "source": [
    "c = b[0, [1, 3]] #fancy indexing bu koseli parantez icinde yazdigim sey"
   ]
  },
  {
   "cell_type": "code",
   "execution_count": 12,
   "id": "ecc539ee-9591-43c8-a5a1-c278e07243f2",
   "metadata": {},
   "outputs": [
    {
     "data": {
      "text/plain": [
       "array([2, 4])"
      ]
     },
     "execution_count": 12,
     "metadata": {},
     "output_type": "execute_result"
    }
   ],
   "source": [
    "c"
   ]
  },
  {
   "cell_type": "code",
   "execution_count": 13,
   "id": "c0634783-2f80-4a51-a211-2039b8b1ba90",
   "metadata": {},
   "outputs": [],
   "source": [
    "d = b[0:, [3, 4]] #boyle yaptigimda bir matrix donduruyorum"
   ]
  },
  {
   "cell_type": "code",
   "execution_count": 21,
   "id": "4c4d13ae-1c28-4cf0-a559-dc6e52a80727",
   "metadata": {},
   "outputs": [
    {
     "data": {
      "text/plain": [
       "array([[ 4,  5],\n",
       "       [ 9, 10],\n",
       "       [14, 15],\n",
       "       [19, 20],\n",
       "       [24, 25],\n",
       "       [29, 30],\n",
       "       [34, 35],\n",
       "       [39, 40]])"
      ]
     },
     "execution_count": 21,
     "metadata": {},
     "output_type": "execute_result"
    }
   ],
   "source": [
    "d"
   ]
  },
  {
   "cell_type": "code",
   "execution_count": 19,
   "id": "1f4759d8-75bb-4b1e-a397-5686790c59e6",
   "metadata": {},
   "outputs": [
    {
     "data": {
      "text/plain": [
       "(8, 2)"
      ]
     },
     "execution_count": 19,
     "metadata": {},
     "output_type": "execute_result"
    }
   ],
   "source": [
    "d.shape"
   ]
  },
  {
   "cell_type": "code",
   "execution_count": 14,
   "id": "df899889-2831-499f-a65d-de4e0042a38a",
   "metadata": {},
   "outputs": [],
   "source": [
    "m = b[[1, 4], [0,2]] #boyle yaptigim zaman yine row column mantiginda olmayan bir sayi obegi elde ediyorum\n",
    "#burasi onemli, cizgiler cekmisim gibi dusun, cizgilerin kesisim noktalarindaki elemanlari aliyorum"
   ]
  },
  {
   "cell_type": "code",
   "execution_count": 15,
   "id": "9097ec6e-8692-4856-a328-211d30701c77",
   "metadata": {},
   "outputs": [
    {
     "data": {
      "text/plain": [
       "array([ 6, 23])"
      ]
     },
     "execution_count": 15,
     "metadata": {},
     "output_type": "execute_result"
    }
   ],
   "source": [
    "m"
   ]
  },
  {
   "cell_type": "code",
   "execution_count": 28,
   "id": "9a23b79d-a6da-4273-9430-262181fc82f3",
   "metadata": {},
   "outputs": [
    {
     "data": {
      "text/plain": [
       "(2,)"
      ]
     },
     "execution_count": 28,
     "metadata": {},
     "output_type": "execute_result"
    }
   ],
   "source": [
    "m.shape"
   ]
  },
  {
   "cell_type": "code",
   "execution_count": 30,
   "id": "34b17abb-51a6-41a8-9a9f-a43c903bf079",
   "metadata": {},
   "outputs": [
    {
     "data": {
      "text/plain": [
       "array([[ 1,  2,  3,  4,  5],\n",
       "       [ 6,  7,  8,  9, 10],\n",
       "       [11, 12, 13, 14, 15],\n",
       "       [16, 17, 18, 19, 20],\n",
       "       [21, 22, 23, 24, 25],\n",
       "       [26, 27, 28, 29, 30],\n",
       "       [31, 32, 33, 34, 35],\n",
       "       [36, 37, 38, 39, 40]])"
      ]
     },
     "execution_count": 30,
     "metadata": {},
     "output_type": "execute_result"
    }
   ],
   "source": [
    "b"
   ]
  },
  {
   "cell_type": "code",
   "execution_count": 31,
   "id": "90f3cc3c-c575-4ef2-ba07-99f7ea411fae",
   "metadata": {},
   "outputs": [
    {
     "data": {
      "text/plain": [
       "(8, 5)"
      ]
     },
     "execution_count": 31,
     "metadata": {},
     "output_type": "execute_result"
    }
   ],
   "source": [
    "b.shape"
   ]
  },
  {
   "cell_type": "code",
   "execution_count": 35,
   "id": "38a4df37-6e60-4bcb-89b2-0eb1b9f37a11",
   "metadata": {},
   "outputs": [],
   "source": [
    "indx1 = [0, 1, 4]"
   ]
  },
  {
   "cell_type": "code",
   "execution_count": 38,
   "id": "77fc34bd-a860-496d-aa4e-f9ed6a9c88b8",
   "metadata": {},
   "outputs": [],
   "source": [
    "indx2 = [1,2]"
   ]
  },
  {
   "cell_type": "code",
   "execution_count": 46,
   "id": "8b081a0f-4ac5-4ff2-a13c-c6b6fc9c77b7",
   "metadata": {},
   "outputs": [],
   "source": [
    "ece = b[indx1][indx2] #satirlarin yine satirlarini alan bir yapi veriyor"
   ]
  },
  {
   "cell_type": "code",
   "execution_count": 41,
   "id": "eb2530dd-0be0-4774-b7d6-6952d19087c4",
   "metadata": {},
   "outputs": [
    {
     "data": {
      "text/plain": [
       "array([[ 6,  7,  8,  9, 10],\n",
       "       [21, 22, 23, 24, 25]])"
      ]
     },
     "execution_count": 41,
     "metadata": {},
     "output_type": "execute_result"
    }
   ],
   "source": [
    "ece"
   ]
  },
  {
   "cell_type": "code",
   "execution_count": 42,
   "id": "02365570-cc5f-4ae9-ba48-85e02eb16556",
   "metadata": {},
   "outputs": [],
   "source": [
    "efe = b[indx1]"
   ]
  },
  {
   "cell_type": "code",
   "execution_count": 43,
   "id": "b39ee162-268d-4951-b100-e42f279cccb7",
   "metadata": {},
   "outputs": [
    {
     "data": {
      "text/plain": [
       "(3, 5)"
      ]
     },
     "execution_count": 43,
     "metadata": {},
     "output_type": "execute_result"
    }
   ],
   "source": [
    "efe.shape"
   ]
  },
  {
   "cell_type": "code",
   "execution_count": 44,
   "id": "565a028e-b486-4a24-b912-160dbe09ed1f",
   "metadata": {},
   "outputs": [
    {
     "data": {
      "text/plain": [
       "array([[ 1,  2,  3,  4,  5],\n",
       "       [ 6,  7,  8,  9, 10],\n",
       "       [21, 22, 23, 24, 25]])"
      ]
     },
     "execution_count": 44,
     "metadata": {},
     "output_type": "execute_result"
    }
   ],
   "source": [
    "efe"
   ]
  },
  {
   "cell_type": "code",
   "execution_count": 45,
   "id": "8095bbd6-1b18-4e2c-bce6-199b0c508c19",
   "metadata": {},
   "outputs": [
    {
     "data": {
      "text/plain": [
       "array([[ 6,  7,  8,  9, 10],\n",
       "       [21, 22, 23, 24, 25]])"
      ]
     },
     "execution_count": 45,
     "metadata": {},
     "output_type": "execute_result"
    }
   ],
   "source": [
    "efe[indx2]"
   ]
  },
  {
   "cell_type": "markdown",
   "id": "e80b3823-365f-4cb9-ba7e-e5cc582438ae",
   "metadata": {},
   "source": [
    "* Fancy Indexing ile Istersem Degerleri Degistire de Bilirim, istersem hepsini ayni deger yaparim istersem her bir index icin farkli degerler yaparimm"
   ]
  },
  {
   "cell_type": "code",
   "execution_count": 47,
   "id": "4bf1628b-25ac-42a2-9ccc-0cb05c7a6a5c",
   "metadata": {},
   "outputs": [],
   "source": [
    "x = np.arange(1, 21)"
   ]
  },
  {
   "cell_type": "code",
   "execution_count": 48,
   "id": "1bcd23ea-64db-49c1-8dff-4ec57dd8fbd7",
   "metadata": {},
   "outputs": [
    {
     "data": {
      "text/plain": [
       "array([ 1,  2,  3,  4,  5,  6,  7,  8,  9, 10, 11, 12, 13, 14, 15, 16, 17,\n",
       "       18, 19, 20])"
      ]
     },
     "execution_count": 48,
     "metadata": {},
     "output_type": "execute_result"
    }
   ],
   "source": [
    "x"
   ]
  },
  {
   "cell_type": "code",
   "execution_count": 49,
   "id": "3140d3df-ae2f-45b6-bf39-baf5c4e5a740",
   "metadata": {},
   "outputs": [],
   "source": [
    "x[[1, 3, 8]] = 999"
   ]
  },
  {
   "cell_type": "code",
   "execution_count": 50,
   "id": "970151c3-117f-423f-aa92-c642e9e95bf0",
   "metadata": {},
   "outputs": [
    {
     "data": {
      "text/plain": [
       "array([  1, 999,   3, 999,   5,   6,   7,   8, 999,  10,  11,  12,  13,\n",
       "        14,  15,  16,  17,  18,  19,  20])"
      ]
     },
     "execution_count": 50,
     "metadata": {},
     "output_type": "execute_result"
    }
   ],
   "source": [
    "x"
   ]
  },
  {
   "cell_type": "code",
   "execution_count": 54,
   "id": "8fac46de-360f-49f6-a4c0-be4ef4fe777b",
   "metadata": {},
   "outputs": [],
   "source": [
    "x[[1, 3, 8]] = [9999, 9998, 99990]"
   ]
  },
  {
   "cell_type": "code",
   "execution_count": 55,
   "id": "61145b32-c78e-41e7-b7b9-9477ce34e24d",
   "metadata": {},
   "outputs": [
    {
     "data": {
      "text/plain": [
       "array([    1,  9999,     3,  9998,     5,     6,     7,     8, 99990,\n",
       "          10,    11,    12,    13,    14,    15,    16,    17,    18,\n",
       "          19,    20])"
      ]
     },
     "execution_count": 55,
     "metadata": {},
     "output_type": "execute_result"
    }
   ],
   "source": [
    "x"
   ]
  },
  {
   "cell_type": "markdown",
   "id": "a58a7698-6e3e-4bb0-a182-4a4d623cddba",
   "metadata": {},
   "source": []
  }
 ],
 "metadata": {
  "kernelspec": {
   "display_name": "Python 3 (ipykernel)",
   "language": "python",
   "name": "python3"
  },
  "language_info": {
   "codemirror_mode": {
    "name": "ipython",
    "version": 3
   },
   "file_extension": ".py",
   "mimetype": "text/x-python",
   "name": "python",
   "nbconvert_exporter": "python",
   "pygments_lexer": "ipython3",
   "version": "3.9.13"
  }
 },
 "nbformat": 4,
 "nbformat_minor": 5
}
