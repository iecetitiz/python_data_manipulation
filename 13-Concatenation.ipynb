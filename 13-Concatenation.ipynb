{
 "cells": [
  {
   "cell_type": "markdown",
   "id": "734b7c3f-bb8a-42a7-9281-d507bf853120",
   "metadata": {},
   "source": [
    "# Concatenation"
   ]
  },
  {
   "cell_type": "markdown",
   "id": "f9ab152e-5187-4f47-a5ad-c98d34e650a7",
   "metadata": {},
   "source": [
    "**np.concatenate([a, b]) methodunun icine illa da numpy ndarray koymak zorunda degilim istersem python list de, tuple da koyabilirim, bu arada dikkat birlesecek olan degerleri koseli parantez icine atip birlestiriyorum**\n",
    "\n",
    "**cok ilginc, t = (55) dersem t int olarak donuyor vay canina, ve int oldugu icin de concatenate methodu icine eklemek icin koyamiyorum**\n",
    "\n",
    "**burda np.array([bisilerbisiler]) diye ndarray yaratirken gecerli olan mantik aynen gecerli concatenate ederken kullandigim liste eger karma bir list veya tuple'sa yine en genel hale gore cast edip oyle concatenate ediyor**\n",
    "\n",
    "**array([1, 2, 3, 4]) cikti olarak bunu gordugunde aman 1 rowlu 4 columnlu bir sey var diye dusunme, burda row column mantigi yok, bu bir sayi obegi ve tek boyutlu yani satiri sutunu yok, row column mantigina gecebilmek icin en az 2 boyutlu olmasi gerek**\n",
    "\n",
    "**concatenate methoduna sokabilmem icin shape'ler uyusuyor olmali**\n",
    "\n",
    "**1 boyutluyken normal linear olarak yanina yanina ekliyor, ama isin icine satir ve sutun mantigi girmeye basladiktan sonra artik axis de devreye giriyor, yani ben bu concatenate isini istersem yukardan asagi istersem soldan saga dogru yapabilirim bunun icin de axisleri kullanirim**\n",
    "\n",
    "**eger axis olarak hicbir sey yazmasam default olarak axis = 0 dogrultusunda yani yukardan asagi concatenate ediyor, eger axis = 1 dersem soldan saga concatenate ediyor** "
   ]
  },
  {
   "cell_type": "code",
   "execution_count": 1,
   "id": "8ce688a9-112f-4475-a49d-d3101ee91009",
   "metadata": {},
   "outputs": [],
   "source": [
    "import numpy as np"
   ]
  },
  {
   "cell_type": "code",
   "execution_count": 2,
   "id": "a250a132-dec3-4b6b-9d1a-9ad3abf218dc",
   "metadata": {},
   "outputs": [],
   "source": [
    "a = np.array([1, 2,3, 4])\n",
    "b = np.array([10, 20, 30, 40 ,50])"
   ]
  },
  {
   "cell_type": "code",
   "execution_count": 3,
   "id": "7f34c62a-0812-4a48-89f4-9d81325a5188",
   "metadata": {},
   "outputs": [
    {
     "data": {
      "text/plain": [
       "array([ 1,  2,  3,  4, 10, 20, 30, 40, 50])"
      ]
     },
     "execution_count": 3,
     "metadata": {},
     "output_type": "execute_result"
    }
   ],
   "source": [
    "np.concatenate([a, b])"
   ]
  },
  {
   "cell_type": "code",
   "execution_count": 4,
   "id": "3a6061fe-6344-44ea-9a71-4d5567a41241",
   "metadata": {},
   "outputs": [
    {
     "data": {
      "text/plain": [
       "array([1, 2, 3, 4])"
      ]
     },
     "execution_count": 4,
     "metadata": {},
     "output_type": "execute_result"
    }
   ],
   "source": [
    "a"
   ]
  },
  {
   "cell_type": "code",
   "execution_count": 5,
   "id": "c5802a1c-4dc6-4d6f-a5a9-0a699c0a57a8",
   "metadata": {},
   "outputs": [],
   "source": [
    "l = [44, 55, 66, \"11\", 11.9]"
   ]
  },
  {
   "cell_type": "code",
   "execution_count": 6,
   "id": "d2e6542d-f7ac-4035-ab68-d1cc2cda2556",
   "metadata": {},
   "outputs": [
    {
     "data": {
      "text/plain": [
       "array(['1', '2', '3', '4', '44', '55', '66', '11', '11.9', '10', '20',\n",
       "       '30', '40', '50'], dtype='<U32')"
      ]
     },
     "execution_count": 6,
     "metadata": {},
     "output_type": "execute_result"
    }
   ],
   "source": [
    "np.concatenate([a, l, b])"
   ]
  },
  {
   "cell_type": "code",
   "execution_count": 7,
   "id": "4e23fccc-9f05-4aa3-b3a2-d95da6001c00",
   "metadata": {},
   "outputs": [],
   "source": [
    "t = (555,999)"
   ]
  },
  {
   "cell_type": "code",
   "execution_count": 14,
   "id": "1e943acf-0c76-4bac-a4aa-5bbe32840986",
   "metadata": {},
   "outputs": [
    {
     "data": {
      "text/plain": [
       "tuple"
      ]
     },
     "execution_count": 14,
     "metadata": {},
     "output_type": "execute_result"
    }
   ],
   "source": [
    "type(t)"
   ]
  },
  {
   "cell_type": "code",
   "execution_count": 15,
   "id": "97d0df97-d7f8-4ec4-a95f-db735839a710",
   "metadata": {},
   "outputs": [
    {
     "data": {
      "text/plain": [
       "array([555, 999,   1,   2,   3,   4,  44,  55,  66,  10,  20,  30,  40,\n",
       "        50])"
      ]
     },
     "execution_count": 15,
     "metadata": {},
     "output_type": "execute_result"
    }
   ],
   "source": [
    "np.concatenate([t, a, l, b])"
   ]
  },
  {
   "cell_type": "code",
   "execution_count": 20,
   "id": "9472217c-fec8-4ce6-97fa-025450c1ed33",
   "metadata": {},
   "outputs": [
    {
     "data": {
      "text/plain": [
       "array([1, 2, 3, 4])"
      ]
     },
     "execution_count": 20,
     "metadata": {},
     "output_type": "execute_result"
    }
   ],
   "source": [
    "a "
   ]
  },
  {
   "cell_type": "code",
   "execution_count": 21,
   "id": "cd3545a8-418b-4d39-852c-b0cfe5026733",
   "metadata": {},
   "outputs": [],
   "source": [
    "x = np.arange(1, 21).reshape(4, 5)"
   ]
  },
  {
   "cell_type": "code",
   "execution_count": 23,
   "id": "34015e1b-9f24-4445-b3d9-7039ae2c5b07",
   "metadata": {},
   "outputs": [
    {
     "data": {
      "text/plain": [
       "array([[ 1,  2,  3,  4,  5],\n",
       "       [ 6,  7,  8,  9, 10],\n",
       "       [11, 12, 13, 14, 15],\n",
       "       [16, 17, 18, 19, 20],\n",
       "       [ 1,  2,  3,  4,  5],\n",
       "       [ 6,  7,  8,  9, 10],\n",
       "       [11, 12, 13, 14, 15],\n",
       "       [16, 17, 18, 19, 20]])"
      ]
     },
     "execution_count": 23,
     "metadata": {},
     "output_type": "execute_result"
    }
   ],
   "source": [
    "np.concatenate([x, x])"
   ]
  },
  {
   "cell_type": "code",
   "execution_count": 24,
   "id": "ce9c1821-f77b-461b-991a-79caa3c4fb87",
   "metadata": {},
   "outputs": [
    {
     "data": {
      "text/plain": [
       "array([[ 1,  2,  3,  4,  5,  1,  2,  3,  4,  5],\n",
       "       [ 6,  7,  8,  9, 10,  6,  7,  8,  9, 10],\n",
       "       [11, 12, 13, 14, 15, 11, 12, 13, 14, 15],\n",
       "       [16, 17, 18, 19, 20, 16, 17, 18, 19, 20]])"
      ]
     },
     "execution_count": 24,
     "metadata": {},
     "output_type": "execute_result"
    }
   ],
   "source": [
    "np.concatenate([x, x], axis = 1)"
   ]
  },
  {
   "cell_type": "code",
   "execution_count": null,
   "id": "df4b5448-a95e-4e30-9c5e-9a047d5c452c",
   "metadata": {},
   "outputs": [],
   "source": []
  }
 ],
 "metadata": {
  "kernelspec": {
   "display_name": "Python 3 (ipykernel)",
   "language": "python",
   "name": "python3"
  },
  "language_info": {
   "codemirror_mode": {
    "name": "ipython",
    "version": 3
   },
   "file_extension": ".py",
   "mimetype": "text/x-python",
   "name": "python",
   "nbconvert_exporter": "python",
   "pygments_lexer": "ipython3",
   "version": "3.9.13"
  }
 },
 "nbformat": 4,
 "nbformat_minor": 5
}
