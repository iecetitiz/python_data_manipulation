{
 "cells": [
  {
   "cell_type": "markdown",
   "id": "9c741470-070c-44c9-9807-d1a5b052a7de",
   "metadata": {},
   "source": [
    "# Sum"
   ]
  },
  {
   "cell_type": "code",
   "execution_count": 3,
   "id": "e3e769d9-c99c-46ec-a1b5-74dba92e771e",
   "metadata": {},
   "outputs": [],
   "source": [
    "import numpy as np"
   ]
  },
  {
   "cell_type": "code",
   "execution_count": 5,
   "id": "00a53a00-a69c-444a-bc32-c3506ef0eb54",
   "metadata": {},
   "outputs": [],
   "source": [
    "a = np.arange(1, 21).reshape(4, 5)"
   ]
  },
  {
   "cell_type": "code",
   "execution_count": 6,
   "id": "be15e516-837d-4cb4-9d37-622303510bb3",
   "metadata": {},
   "outputs": [
    {
     "data": {
      "text/plain": [
       "array([[ True,  True,  True,  True, False],\n",
       "       [False, False, False, False, False],\n",
       "       [False, False, False, False, False],\n",
       "       [False, False, False, False, False]])"
      ]
     },
     "execution_count": 6,
     "metadata": {},
     "output_type": "execute_result"
    }
   ],
   "source": [
    "filter = a < 5\n",
    "filter"
   ]
  },
  {
   "cell_type": "code",
   "execution_count": 7,
   "id": "1fd62461-d9e6-4837-8b8e-bd259e4ec4b1",
   "metadata": {},
   "outputs": [],
   "source": [
    "summation_all_elements = np.sum(a)"
   ]
  },
  {
   "cell_type": "code",
   "execution_count": 8,
   "id": "b846638b-63fc-48c7-841d-c4a308ef34cd",
   "metadata": {},
   "outputs": [
    {
     "data": {
      "text/plain": [
       "210"
      ]
     },
     "execution_count": 8,
     "metadata": {},
     "output_type": "execute_result"
    }
   ],
   "source": [
    "summation_all_elements"
   ]
  },
  {
   "cell_type": "code",
   "execution_count": 9,
   "id": "623da7fd-0a3d-413f-92a1-917df90867f4",
   "metadata": {},
   "outputs": [],
   "source": [
    "filter_sum = np.sum(filter)"
   ]
  },
  {
   "cell_type": "code",
   "execution_count": 10,
   "id": "6fdbffac-a846-4c8b-8543-7ed72bf0d5bd",
   "metadata": {},
   "outputs": [
    {
     "data": {
      "text/plain": [
       "4"
      ]
     },
     "execution_count": 10,
     "metadata": {},
     "output_type": "execute_result"
    }
   ],
   "source": [
    "filter_sum"
   ]
  },
  {
   "cell_type": "code",
   "execution_count": 11,
   "id": "03dc64fc-99ab-4b5f-a57a-a56bb3624f03",
   "metadata": {},
   "outputs": [
    {
     "data": {
      "text/plain": [
       "array([1, 2, 3, 4])"
      ]
     },
     "execution_count": 11,
     "metadata": {},
     "output_type": "execute_result"
    }
   ],
   "source": [
    "a[filter]"
   ]
  },
  {
   "cell_type": "code",
   "execution_count": 12,
   "id": "c79bfd50-2678-4327-9683-c2b0f863811c",
   "metadata": {},
   "outputs": [],
   "source": [
    "filter2 = (a>5) & (a<9)"
   ]
  },
  {
   "cell_type": "code",
   "execution_count": 13,
   "id": "f94522c5-f871-4106-b69b-e37d265c7016",
   "metadata": {},
   "outputs": [
    {
     "data": {
      "text/plain": [
       "array([6, 7, 8])"
      ]
     },
     "execution_count": 13,
     "metadata": {},
     "output_type": "execute_result"
    }
   ],
   "source": [
    "a[filter2]"
   ]
  },
  {
   "cell_type": "code",
   "execution_count": 14,
   "id": "53a8140d-343d-4486-98fa-ed82b223b744",
   "metadata": {},
   "outputs": [
    {
     "data": {
      "text/plain": [
       "21"
      ]
     },
     "execution_count": 14,
     "metadata": {},
     "output_type": "execute_result"
    }
   ],
   "source": [
    "np.sum(a[filter2])"
   ]
  },
  {
   "cell_type": "code",
   "execution_count": 20,
   "id": "1b892156-589f-4a73-925c-645d33550837",
   "metadata": {},
   "outputs": [
    {
     "data": {
      "text/plain": [
       "array([34, 38, 42, 46, 50])"
      ]
     },
     "execution_count": 20,
     "metadata": {},
     "output_type": "execute_result"
    }
   ],
   "source": [
    "np.sum(a, axis = 0)"
   ]
  },
  {
   "cell_type": "code",
   "execution_count": 21,
   "id": "e3f2b2e9-6d91-4113-ba9e-5740c42a3ec3",
   "metadata": {},
   "outputs": [
    {
     "data": {
      "text/plain": [
       "array([15, 40, 65, 90])"
      ]
     },
     "execution_count": 21,
     "metadata": {},
     "output_type": "execute_result"
    }
   ],
   "source": [
    "np.sum(a, axis = 1)"
   ]
  }
 ],
 "metadata": {
  "kernelspec": {
   "display_name": "Python 3 (ipykernel)",
   "language": "python",
   "name": "python3"
  },
  "language_info": {
   "codemirror_mode": {
    "name": "ipython",
    "version": 3
   },
   "file_extension": ".py",
   "mimetype": "text/x-python",
   "name": "python",
   "nbconvert_exporter": "python",
   "pygments_lexer": "ipython3",
   "version": "3.9.13"
  }
 },
 "nbformat": 4,
 "nbformat_minor": 5
}
