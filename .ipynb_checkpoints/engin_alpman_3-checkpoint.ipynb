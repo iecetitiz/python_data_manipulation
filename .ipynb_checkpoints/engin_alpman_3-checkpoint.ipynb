{
 "cells": [
  {
   "cell_type": "markdown",
   "id": "ca6277fe-5813-482f-8c87-08397ce6941c",
   "metadata": {},
   "source": [
    "# Indexing"
   ]
  },
  {
   "cell_type": "code",
   "execution_count": 1,
   "id": "73982c00-14ee-4829-8135-9a4c45caab7b",
   "metadata": {},
   "outputs": [],
   "source": [
    "import numpy as np"
   ]
  },
  {
   "cell_type": "code",
   "execution_count": 3,
   "id": "343cfa26-4d64-4566-b528-3e5638da378c",
   "metadata": {},
   "outputs": [],
   "source": [
    "a = np.arange(1,21).reshape(4,5)"
   ]
  },
  {
   "cell_type": "code",
   "execution_count": 4,
   "id": "b3e4b799-21c3-453a-85ac-f263f88bbf3a",
   "metadata": {},
   "outputs": [
    {
     "data": {
      "text/plain": [
       "array([[ 1,  2,  3,  4,  5],\n",
       "       [ 6,  7,  8,  9, 10],\n",
       "       [11, 12, 13, 14, 15],\n",
       "       [16, 17, 18, 19, 20]])"
      ]
     },
     "execution_count": 4,
     "metadata": {},
     "output_type": "execute_result"
    }
   ],
   "source": [
    "a"
   ]
  },
  {
   "cell_type": "code",
   "execution_count": 5,
   "id": "a855cdb2-3c54-4f4d-9d57-e187a8930482",
   "metadata": {},
   "outputs": [
    {
     "data": {
      "text/plain": [
       "array([1, 2, 3, 4, 5])"
      ]
     },
     "execution_count": 5,
     "metadata": {},
     "output_type": "execute_result"
    }
   ],
   "source": [
    "a[0]"
   ]
  },
  {
   "cell_type": "code",
   "execution_count": 6,
   "id": "792555ad-4b07-4c9b-855e-67d24fd42ce7",
   "metadata": {},
   "outputs": [],
   "source": [
    "a[1, 1] = 333.90"
   ]
  },
  {
   "cell_type": "code",
   "execution_count": 7,
   "id": "ff26689a-bc5b-4593-bffa-a3549b0935b6",
   "metadata": {},
   "outputs": [
    {
     "data": {
      "text/plain": [
       "array([[  1,   2,   3,   4,   5],\n",
       "       [  6, 333,   8,   9,  10],\n",
       "       [ 11,  12,  13,  14,  15],\n",
       "       [ 16,  17,  18,  19,  20]])"
      ]
     },
     "execution_count": 7,
     "metadata": {},
     "output_type": "execute_result"
    }
   ],
   "source": [
    "a"
   ]
  },
  {
   "cell_type": "code",
   "execution_count": 15,
   "id": "9228442b-7825-49f3-827b-1599668816c4",
   "metadata": {},
   "outputs": [],
   "source": [
    "b = np.arange(1, 201).reshape(20, 10)"
   ]
  },
  {
   "cell_type": "code",
   "execution_count": 16,
   "id": "29ab97ab-c565-4c3d-a9ae-c7c288afe5c7",
   "metadata": {},
   "outputs": [
    {
     "data": {
      "text/plain": [
       "array([[  1,   2,   3,   4,   5,   6,   7,   8,   9,  10],\n",
       "       [ 11,  12,  13,  14,  15,  16,  17,  18,  19,  20],\n",
       "       [ 21,  22,  23,  24,  25,  26,  27,  28,  29,  30],\n",
       "       [ 31,  32,  33,  34,  35,  36,  37,  38,  39,  40],\n",
       "       [ 41,  42,  43,  44,  45,  46,  47,  48,  49,  50],\n",
       "       [ 51,  52,  53,  54,  55,  56,  57,  58,  59,  60],\n",
       "       [ 61,  62,  63,  64,  65,  66,  67,  68,  69,  70],\n",
       "       [ 71,  72,  73,  74,  75,  76,  77,  78,  79,  80],\n",
       "       [ 81,  82,  83,  84,  85,  86,  87,  88,  89,  90],\n",
       "       [ 91,  92,  93,  94,  95,  96,  97,  98,  99, 100],\n",
       "       [101, 102, 103, 104, 105, 106, 107, 108, 109, 110],\n",
       "       [111, 112, 113, 114, 115, 116, 117, 118, 119, 120],\n",
       "       [121, 122, 123, 124, 125, 126, 127, 128, 129, 130],\n",
       "       [131, 132, 133, 134, 135, 136, 137, 138, 139, 140],\n",
       "       [141, 142, 143, 144, 145, 146, 147, 148, 149, 150],\n",
       "       [151, 152, 153, 154, 155, 156, 157, 158, 159, 160],\n",
       "       [161, 162, 163, 164, 165, 166, 167, 168, 169, 170],\n",
       "       [171, 172, 173, 174, 175, 176, 177, 178, 179, 180],\n",
       "       [181, 182, 183, 184, 185, 186, 187, 188, 189, 190],\n",
       "       [191, 192, 193, 194, 195, 196, 197, 198, 199, 200]])"
      ]
     },
     "execution_count": 16,
     "metadata": {},
     "output_type": "execute_result"
    }
   ],
   "source": [
    "b"
   ]
  },
  {
   "cell_type": "markdown",
   "id": "7285ba48-2ff7-496b-9304-07f92dc7b839",
   "metadata": {},
   "source": [
    "# Slicing"
   ]
  },
  {
   "cell_type": "code",
   "execution_count": 21,
   "id": "704071c6-2ed6-4571-94bf-cef664b0a515",
   "metadata": {},
   "outputs": [
    {
     "data": {
      "text/plain": [
       "array([[ 35],\n",
       "       [ 55],\n",
       "       [ 75],\n",
       "       [ 95],\n",
       "       [115],\n",
       "       [135]])"
      ]
     },
     "execution_count": 21,
     "metadata": {},
     "output_type": "execute_result"
    }
   ],
   "source": [
    "b[3:15:2, 4:7:5]"
   ]
  },
  {
   "cell_type": "code",
   "execution_count": 23,
   "id": "2b90fba6-fd35-4711-9506-f33cf4729e36",
   "metadata": {},
   "outputs": [
    {
     "data": {
      "text/plain": [
       "(20,)"
      ]
     },
     "execution_count": 23,
     "metadata": {},
     "output_type": "execute_result"
    }
   ],
   "source": [
    "b[:,3].shape"
   ]
  },
  {
   "cell_type": "code",
   "execution_count": 26,
   "id": "42a26325-59e8-48e1-bf7c-7d533d4e099f",
   "metadata": {},
   "outputs": [
    {
     "data": {
      "text/plain": [
       "(7,)"
      ]
     },
     "execution_count": 26,
     "metadata": {},
     "output_type": "execute_result"
    }
   ],
   "source": [
    "b[::3, 4].shape"
   ]
  },
  {
   "cell_type": "code",
   "execution_count": 25,
   "id": "502a6d84-2e7e-4c8b-abba-e21497a1469f",
   "metadata": {},
   "outputs": [
    {
     "data": {
      "text/plain": [
       "array([[ 1,  2,  3,  4,  5],\n",
       "       [11, 12, 13, 14, 15],\n",
       "       [21, 22, 23, 24, 25],\n",
       "       [31, 32, 33, 34, 35],\n",
       "       [41, 42, 43, 44, 45]])"
      ]
     },
     "execution_count": 25,
     "metadata": {},
     "output_type": "execute_result"
    }
   ],
   "source": [
    "b[:5, :5]"
   ]
  },
  {
   "cell_type": "code",
   "execution_count": 27,
   "id": "1f52cb11-e682-4ce4-93aa-ae727ac69935",
   "metadata": {},
   "outputs": [
    {
     "data": {
      "text/plain": [
       "(5, 5)"
      ]
     },
     "execution_count": 27,
     "metadata": {},
     "output_type": "execute_result"
    }
   ],
   "source": [
    "b[:5, :5].shape"
   ]
  },
  {
   "cell_type": "markdown",
   "id": "c900531a-1d3d-45e1-926e-1350aedab241",
   "metadata": {},
   "source": [
    "# Fancy Indexing"
   ]
  },
  {
   "cell_type": "code",
   "execution_count": 28,
   "id": "7051dbe4-434e-4db3-9618-5d56d0397547",
   "metadata": {},
   "outputs": [],
   "source": [
    "indx = [1, 3, 5]"
   ]
  },
  {
   "cell_type": "code",
   "execution_count": 29,
   "id": "e8359e8b-0a40-4f94-bb20-3ca50eea2a3b",
   "metadata": {},
   "outputs": [
    {
     "data": {
      "text/plain": [
       "array([2, 4, 6])"
      ]
     },
     "execution_count": 29,
     "metadata": {},
     "output_type": "execute_result"
    }
   ],
   "source": [
    "b[0, indx]"
   ]
  },
  {
   "cell_type": "code",
   "execution_count": 30,
   "id": "4e8a4c46-eb69-48e0-9eb2-9ed85aac3048",
   "metadata": {},
   "outputs": [
    {
     "data": {
      "text/plain": [
       "1"
      ]
     },
     "execution_count": 30,
     "metadata": {},
     "output_type": "execute_result"
    }
   ],
   "source": [
    "b[0, indx].ndim"
   ]
  },
  {
   "cell_type": "code",
   "execution_count": 31,
   "id": "d4e2051d-8d6e-404d-83eb-16d955cc84d7",
   "metadata": {},
   "outputs": [
    {
     "data": {
      "text/plain": [
       "(3,)"
      ]
     },
     "execution_count": 31,
     "metadata": {},
     "output_type": "execute_result"
    }
   ],
   "source": [
    "b[0, indx].shape"
   ]
  },
  {
   "cell_type": "code",
   "execution_count": 32,
   "id": "a13bc13d-8ded-42ee-bf91-a966ea920127",
   "metadata": {},
   "outputs": [
    {
     "data": {
      "text/plain": [
       "array([[  2,   4,   6],\n",
       "       [ 12,  14,  16],\n",
       "       [ 22,  24,  26],\n",
       "       [ 32,  34,  36],\n",
       "       [ 42,  44,  46],\n",
       "       [ 52,  54,  56],\n",
       "       [ 62,  64,  66],\n",
       "       [ 72,  74,  76],\n",
       "       [ 82,  84,  86],\n",
       "       [ 92,  94,  96],\n",
       "       [102, 104, 106],\n",
       "       [112, 114, 116],\n",
       "       [122, 124, 126],\n",
       "       [132, 134, 136],\n",
       "       [142, 144, 146],\n",
       "       [152, 154, 156],\n",
       "       [162, 164, 166],\n",
       "       [172, 174, 176],\n",
       "       [182, 184, 186],\n",
       "       [192, 194, 196]])"
      ]
     },
     "execution_count": 32,
     "metadata": {},
     "output_type": "execute_result"
    }
   ],
   "source": [
    "b[:, indx]"
   ]
  },
  {
   "cell_type": "code",
   "execution_count": 33,
   "id": "6d53252f-bcb6-4adf-b615-0495a5a5b08c",
   "metadata": {},
   "outputs": [
    {
     "data": {
      "text/plain": [
       "(20, 3)"
      ]
     },
     "execution_count": 33,
     "metadata": {},
     "output_type": "execute_result"
    }
   ],
   "source": [
    "b[:, indx].shape"
   ]
  },
  {
   "cell_type": "code",
   "execution_count": 34,
   "id": "8a4ac682-4524-43f5-891a-62618e9e8934",
   "metadata": {},
   "outputs": [
    {
     "data": {
      "text/plain": [
       "array([[11, 12, 13, 14, 15, 16, 17, 18, 19, 20],\n",
       "       [31, 32, 33, 34, 35, 36, 37, 38, 39, 40],\n",
       "       [51, 52, 53, 54, 55, 56, 57, 58, 59, 60]])"
      ]
     },
     "execution_count": 34,
     "metadata": {},
     "output_type": "execute_result"
    }
   ],
   "source": [
    "b[indx]"
   ]
  },
  {
   "cell_type": "code",
   "execution_count": 35,
   "id": "376c7e29-b4f2-4e21-a60e-1f31b9824fd7",
   "metadata": {},
   "outputs": [
    {
     "data": {
      "text/plain": [
       "array([[  2,   4,   6],\n",
       "       [ 12,  14,  16],\n",
       "       [ 22,  24,  26],\n",
       "       [ 32,  34,  36],\n",
       "       [ 42,  44,  46],\n",
       "       [ 52,  54,  56],\n",
       "       [ 62,  64,  66],\n",
       "       [ 72,  74,  76],\n",
       "       [ 82,  84,  86],\n",
       "       [ 92,  94,  96],\n",
       "       [102, 104, 106]])"
      ]
     },
     "execution_count": 35,
     "metadata": {},
     "output_type": "execute_result"
    }
   ],
   "source": [
    "b[0:11, indx]"
   ]
  },
  {
   "cell_type": "code",
   "execution_count": 36,
   "id": "dbb59d06-eccd-4a2f-9a43-b6bdab167f0f",
   "metadata": {},
   "outputs": [
    {
     "data": {
      "text/plain": [
       "(11, 3)"
      ]
     },
     "execution_count": 36,
     "metadata": {},
     "output_type": "execute_result"
    }
   ],
   "source": [
    "b[0:11, indx].shape"
   ]
  },
  {
   "cell_type": "code",
   "execution_count": 37,
   "id": "91b92210-d2d8-4365-81b7-cebe48be0ee7",
   "metadata": {},
   "outputs": [
    {
     "data": {
      "text/plain": [
       "array([[11, 12, 13, 14, 15],\n",
       "       [31, 32, 33, 34, 35],\n",
       "       [51, 52, 53, 54, 55]])"
      ]
     },
     "execution_count": 37,
     "metadata": {},
     "output_type": "execute_result"
    }
   ],
   "source": [
    "b[indx, 0:5]"
   ]
  },
  {
   "cell_type": "code",
   "execution_count": 38,
   "id": "a5c624e0-2ef4-4441-999f-ce948f182562",
   "metadata": {},
   "outputs": [
    {
     "data": {
      "text/plain": [
       "(3, 5)"
      ]
     },
     "execution_count": 38,
     "metadata": {},
     "output_type": "execute_result"
    }
   ],
   "source": [
    "b[indx, 0:5].shape"
   ]
  },
  {
   "cell_type": "code",
   "execution_count": 39,
   "id": "702d1b7d-2435-4ce3-81c6-179a90441d9a",
   "metadata": {},
   "outputs": [],
   "source": [
    "c = np.arange(1, 21)"
   ]
  },
  {
   "cell_type": "code",
   "execution_count": 40,
   "id": "916f4c52-d920-495c-8262-e8293f7d973b",
   "metadata": {},
   "outputs": [],
   "source": [
    "c[[0, 5, 10]] = 20"
   ]
  },
  {
   "cell_type": "code",
   "execution_count": 41,
   "id": "278c005a-7651-42fd-80a1-49235c0efc51",
   "metadata": {},
   "outputs": [
    {
     "data": {
      "text/plain": [
       "array([20,  2,  3,  4,  5, 20,  7,  8,  9, 10, 20, 12, 13, 14, 15, 16, 17,\n",
       "       18, 19, 20])"
      ]
     },
     "execution_count": 41,
     "metadata": {},
     "output_type": "execute_result"
    }
   ],
   "source": [
    "c"
   ]
  },
  {
   "cell_type": "code",
   "execution_count": 42,
   "id": "6709e17a-94dd-41a9-ae2b-6eaff41009f0",
   "metadata": {},
   "outputs": [],
   "source": [
    "c[[2, 6]] = [99999, 99999]"
   ]
  },
  {
   "cell_type": "code",
   "execution_count": 43,
   "id": "af1928bf-3693-4af4-901e-125d94bc38bd",
   "metadata": {},
   "outputs": [
    {
     "data": {
      "text/plain": [
       "array([   20,     2, 99999,     4,     5,    20, 99999,     8,     9,\n",
       "          10,    20,    12,    13,    14,    15,    16,    17,    18,\n",
       "          19,    20])"
      ]
     },
     "execution_count": 43,
     "metadata": {},
     "output_type": "execute_result"
    }
   ],
   "source": [
    "c"
   ]
  },
  {
   "cell_type": "code",
   "execution_count": 44,
   "id": "e42b67c4-ab55-42f2-be69-3b30cbd26971",
   "metadata": {},
   "outputs": [
    {
     "data": {
      "text/plain": [
       "array([0, 1, 2, 3, 4, 5, 6, 7, 8, 9])"
      ]
     },
     "execution_count": 44,
     "metadata": {},
     "output_type": "execute_result"
    }
   ],
   "source": [
    "d = np.arange(10)\n",
    "d"
   ]
  },
  {
   "cell_type": "code",
   "execution_count": 45,
   "id": "99f1023e-ceec-43f2-a17b-c91866202946",
   "metadata": {},
   "outputs": [],
   "source": [
    "a=np.arange(1,13).reshape(3,4) "
   ]
  },
  {
   "cell_type": "code",
   "execution_count": 46,
   "id": "d9fb01fc-b02b-4eb3-9a2b-0e2a24905294",
   "metadata": {},
   "outputs": [],
   "source": [
    "b=a[1,(1,3)] "
   ]
  },
  {
   "cell_type": "code",
   "execution_count": 47,
   "id": "751ee8f3-e144-4203-a93f-1df40f92e043",
   "metadata": {},
   "outputs": [
    {
     "data": {
      "text/plain": [
       "(2,)"
      ]
     },
     "execution_count": 47,
     "metadata": {},
     "output_type": "execute_result"
    }
   ],
   "source": [
    "b.shape"
   ]
  },
  {
   "cell_type": "markdown",
   "id": "6042b50f-1ef2-4d22-bcb3-f40ed93d0da3",
   "metadata": {},
   "source": [
    "# Subarray"
   ]
  },
  {
   "cell_type": "code",
   "execution_count": 50,
   "id": "be0752b8-0386-4a0e-b88f-88a1c3e15c96",
   "metadata": {},
   "outputs": [],
   "source": [
    "f = np.arange(1, 21).reshape(4, 5)\n"
   ]
  },
  {
   "cell_type": "code",
   "execution_count": 51,
   "id": "8332b941-3ff2-4c51-988b-045ccea73817",
   "metadata": {},
   "outputs": [
    {
     "data": {
      "text/plain": [
       "array([[ 1,  2,  3,  4,  5],\n",
       "       [ 6,  7,  8,  9, 10],\n",
       "       [11, 12, 13, 14, 15],\n",
       "       [16, 17, 18, 19, 20]])"
      ]
     },
     "execution_count": 51,
     "metadata": {},
     "output_type": "execute_result"
    }
   ],
   "source": [
    "f"
   ]
  },
  {
   "cell_type": "code",
   "execution_count": 52,
   "id": "080390b0-e877-4138-807b-8122ca7290e2",
   "metadata": {},
   "outputs": [],
   "source": [
    "d = f[0:3, 0:3]"
   ]
  },
  {
   "cell_type": "code",
   "execution_count": 53,
   "id": "bf7447dd-f817-4809-8d4a-2efd528d37ca",
   "metadata": {},
   "outputs": [
    {
     "data": {
      "text/plain": [
       "array([[ 1,  2,  3],\n",
       "       [ 6,  7,  8],\n",
       "       [11, 12, 13]])"
      ]
     },
     "execution_count": 53,
     "metadata": {},
     "output_type": "execute_result"
    }
   ],
   "source": [
    "d"
   ]
  },
  {
   "cell_type": "code",
   "execution_count": 54,
   "id": "351e9481-efea-4ade-842d-fe23fdede817",
   "metadata": {},
   "outputs": [],
   "source": [
    "d[0,0] = 1000"
   ]
  },
  {
   "cell_type": "code",
   "execution_count": 55,
   "id": "82d0b606-60a5-4f4c-ba11-adb22a6ca3bf",
   "metadata": {},
   "outputs": [
    {
     "data": {
      "text/plain": [
       "array([[1000,    2,    3],\n",
       "       [   6,    7,    8],\n",
       "       [  11,   12,   13]])"
      ]
     },
     "execution_count": 55,
     "metadata": {},
     "output_type": "execute_result"
    }
   ],
   "source": [
    "d"
   ]
  },
  {
   "cell_type": "code",
   "execution_count": 56,
   "id": "93065a31-18c0-43ba-9272-8e341de41807",
   "metadata": {},
   "outputs": [
    {
     "data": {
      "text/plain": [
       "array([[1000,    2,    3,    4,    5],\n",
       "       [   6,    7,    8,    9,   10],\n",
       "       [  11,   12,   13,   14,   15],\n",
       "       [  16,   17,   18,   19,   20]])"
      ]
     },
     "execution_count": 56,
     "metadata": {},
     "output_type": "execute_result"
    }
   ],
   "source": [
    "f"
   ]
  },
  {
   "cell_type": "code",
   "execution_count": 57,
   "id": "7effca30-2ffb-4b6c-8f0a-07fc35ba8800",
   "metadata": {},
   "outputs": [],
   "source": [
    "g = d = f[0:3, 0:3].copy()"
   ]
  },
  {
   "cell_type": "code",
   "execution_count": 58,
   "id": "25b35789-3a80-47df-8a6a-08516a796ffe",
   "metadata": {},
   "outputs": [
    {
     "data": {
      "text/plain": [
       "array([[1000,    2,    3],\n",
       "       [   6,    7,    8],\n",
       "       [  11,   12,   13]])"
      ]
     },
     "execution_count": 58,
     "metadata": {},
     "output_type": "execute_result"
    }
   ],
   "source": [
    "g"
   ]
  },
  {
   "cell_type": "code",
   "execution_count": 59,
   "id": "33d7b008-b4ef-44cc-9389-ced2cb2ad1ea",
   "metadata": {},
   "outputs": [
    {
     "data": {
      "text/plain": [
       "array([[1000,  999,    3],\n",
       "       [   6,    7,    8],\n",
       "       [  11,   12,   13]])"
      ]
     },
     "execution_count": 59,
     "metadata": {},
     "output_type": "execute_result"
    }
   ],
   "source": [
    "g[0,1] = 999\n",
    "g"
   ]
  },
  {
   "cell_type": "code",
   "execution_count": 60,
   "id": "ab6120de-2d45-4ab8-9b96-4568a318717d",
   "metadata": {},
   "outputs": [
    {
     "data": {
      "text/plain": [
       "array([[1000,    2,    3,    4,    5],\n",
       "       [   6,    7,    8,    9,   10],\n",
       "       [  11,   12,   13,   14,   15],\n",
       "       [  16,   17,   18,   19,   20]])"
      ]
     },
     "execution_count": 60,
     "metadata": {},
     "output_type": "execute_result"
    }
   ],
   "source": [
    "f"
   ]
  },
  {
   "cell_type": "code",
   "execution_count": null,
   "id": "6c3b0af8-cb1f-4a13-b710-b1ead05898e3",
   "metadata": {},
   "outputs": [],
   "source": []
  }
 ],
 "metadata": {
  "kernelspec": {
   "display_name": "Python 3 (ipykernel)",
   "language": "python",
   "name": "python3"
  },
  "language_info": {
   "codemirror_mode": {
    "name": "ipython",
    "version": 3
   },
   "file_extension": ".py",
   "mimetype": "text/x-python",
   "name": "python",
   "nbconvert_exporter": "python",
   "pygments_lexer": "ipython3",
   "version": "3.9.13"
  }
 },
 "nbformat": 4,
 "nbformat_minor": 5
}
