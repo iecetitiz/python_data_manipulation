{
 "cells": [
  {
   "cell_type": "code",
   "execution_count": 1,
   "id": "a95633f8-e13c-41e5-a021-34f8d5e29313",
   "metadata": {},
   "outputs": [],
   "source": [
    "import numpy as np"
   ]
  },
  {
   "cell_type": "code",
   "execution_count": 5,
   "id": "dbc4532c-6332-4381-a0c7-1e3558812bcc",
   "metadata": {},
   "outputs": [],
   "source": [
    "matrix = np.random.randint(20, size=(5, 5))"
   ]
  },
  {
   "cell_type": "code",
   "execution_count": 6,
   "id": "a01fd228-ce23-471c-9f34-10f74a15d60d",
   "metadata": {},
   "outputs": [
    {
     "data": {
      "text/plain": [
       "array([[15, 14, 18,  5, 18],\n",
       "       [ 8, 14,  6,  4,  4],\n",
       "       [14,  1,  5,  8,  6],\n",
       "       [ 7, 10, 18,  0, 16],\n",
       "       [19, 12, 12,  2, 15]])"
      ]
     },
     "execution_count": 6,
     "metadata": {},
     "output_type": "execute_result"
    }
   ],
   "source": [
    "matrix"
   ]
  },
  {
   "cell_type": "code",
   "execution_count": 8,
   "id": "d206842b-2401-4df0-8ccf-d5544f71c8d9",
   "metadata": {},
   "outputs": [],
   "source": [
    "sub_matrix = matrix[1:4, 1:4].copy()"
   ]
  },
  {
   "cell_type": "code",
   "execution_count": 9,
   "id": "1754d0b2-401e-4175-a7a3-18c9d5bd00c8",
   "metadata": {},
   "outputs": [
    {
     "data": {
      "text/plain": [
       "array([[14,  6,  4],\n",
       "       [ 1,  5,  8],\n",
       "       [10, 18,  0]])"
      ]
     },
     "execution_count": 9,
     "metadata": {},
     "output_type": "execute_result"
    }
   ],
   "source": [
    "sub_matrix"
   ]
  },
  {
   "cell_type": "code",
   "execution_count": 10,
   "id": "a2832d7b-ef06-48c5-9b12-b50eb70dc4c1",
   "metadata": {},
   "outputs": [
    {
     "data": {
      "text/plain": [
       "array([[42, 18, 12],\n",
       "       [ 3, 15, 24],\n",
       "       [30, 54,  0]])"
      ]
     },
     "execution_count": 10,
     "metadata": {},
     "output_type": "execute_result"
    }
   ],
   "source": [
    "3 * sub_matrix"
   ]
  },
  {
   "cell_type": "code",
   "execution_count": 11,
   "id": "2964653f-1385-4176-8182-41e5988b3d29",
   "metadata": {},
   "outputs": [
    {
     "data": {
      "text/plain": [
       "array([[15, 14, 18,  5, 18],\n",
       "       [ 8, 14,  6,  4,  4],\n",
       "       [14,  1,  5,  8,  6],\n",
       "       [ 7, 10, 18,  0, 16],\n",
       "       [19, 12, 12,  2, 15]])"
      ]
     },
     "execution_count": 11,
     "metadata": {},
     "output_type": "execute_result"
    }
   ],
   "source": [
    "matrix"
   ]
  },
  {
   "cell_type": "code",
   "execution_count": null,
   "id": "868ce643-aba5-48d3-943c-fa6da7b3d914",
   "metadata": {},
   "outputs": [],
   "source": []
  }
 ],
 "metadata": {
  "kernelspec": {
   "display_name": "Python 3 (ipykernel)",
   "language": "python",
   "name": "python3"
  },
  "language_info": {
   "codemirror_mode": {
    "name": "ipython",
    "version": 3
   },
   "file_extension": ".py",
   "mimetype": "text/x-python",
   "name": "python",
   "nbconvert_exporter": "python",
   "pygments_lexer": "ipython3",
   "version": "3.9.13"
  }
 },
 "nbformat": 4,
 "nbformat_minor": 5
}
