{
 "cells": [
  {
   "cell_type": "markdown",
   "id": "a3598b1c-b7e9-4a45-8043-7c39200081e2",
   "metadata": {},
   "source": [
    "**Herhangi bir eleman verilen sarti sagliyor mu diye kontrol ediyorum, all durumunda hepsi mi ayni diye kontrol ediyordum**"
   ]
  },
  {
   "cell_type": "code",
   "execution_count": 2,
   "id": "c895f22a-c3b4-427b-8d32-8fc26ddbdf72",
   "metadata": {},
   "outputs": [],
   "source": [
    "import numpy as np"
   ]
  },
  {
   "cell_type": "code",
   "execution_count": 7,
   "id": "8a72336c-2975-4702-ad35-5943ad5b4955",
   "metadata": {},
   "outputs": [],
   "source": [
    "a = np.arange(20).reshape(4,5)"
   ]
  },
  {
   "cell_type": "code",
   "execution_count": 8,
   "id": "76c8f1bb-d3a9-407b-a92e-cf1080943db4",
   "metadata": {},
   "outputs": [
    {
     "data": {
      "text/plain": [
       "array([[ 0,  1,  2,  3,  4],\n",
       "       [ 5,  6,  7,  8,  9],\n",
       "       [10, 11, 12, 13, 14],\n",
       "       [15, 16, 17, 18, 19]])"
      ]
     },
     "execution_count": 8,
     "metadata": {},
     "output_type": "execute_result"
    }
   ],
   "source": [
    "a"
   ]
  },
  {
   "cell_type": "code",
   "execution_count": 9,
   "id": "e273dc76-460f-4267-b2e4-c2c361b6a16e",
   "metadata": {},
   "outputs": [
    {
     "data": {
      "text/plain": [
       "array([[False, False, False, False, False],\n",
       "       [False, False, False, False, False],\n",
       "       [False, False, False, False, False],\n",
       "       [False, False, False,  True,  True]])"
      ]
     },
     "execution_count": 9,
     "metadata": {},
     "output_type": "execute_result"
    }
   ],
   "source": [
    "a > 17"
   ]
  },
  {
   "cell_type": "code",
   "execution_count": 10,
   "id": "15bb4f37-256d-4a46-ad9f-03cdfaf0e44f",
   "metadata": {},
   "outputs": [
    {
     "data": {
      "text/plain": [
       "True"
      ]
     },
     "execution_count": 10,
     "metadata": {},
     "output_type": "execute_result"
    }
   ],
   "source": [
    "np.any(a > 17)"
   ]
  },
  {
   "cell_type": "code",
   "execution_count": 11,
   "id": "91ccba29-bd41-45c8-8832-b03f68f4b8db",
   "metadata": {},
   "outputs": [
    {
     "data": {
      "text/plain": [
       "array([False, False, False,  True])"
      ]
     },
     "execution_count": 11,
     "metadata": {},
     "output_type": "execute_result"
    }
   ],
   "source": [
    "np.any(a > 17, axis = 1)"
   ]
  },
  {
   "cell_type": "code",
   "execution_count": null,
   "id": "12166e03-ca9b-406b-a37e-b1720548edbc",
   "metadata": {},
   "outputs": [],
   "source": []
  }
 ],
 "metadata": {
  "kernelspec": {
   "display_name": "Python 3 (ipykernel)",
   "language": "python",
   "name": "python3"
  },
  "language_info": {
   "codemirror_mode": {
    "name": "ipython",
    "version": 3
   },
   "file_extension": ".py",
   "mimetype": "text/x-python",
   "name": "python",
   "nbconvert_exporter": "python",
   "pygments_lexer": "ipython3",
   "version": "3.9.13"
  }
 },
 "nbformat": 4,
 "nbformat_minor": 5
}
