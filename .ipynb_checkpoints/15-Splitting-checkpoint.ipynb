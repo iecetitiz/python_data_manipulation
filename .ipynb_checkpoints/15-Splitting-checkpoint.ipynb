{
 "cells": [
  {
   "cell_type": "markdown",
   "id": "0e493a83-68d6-43c3-9103-da81df734962",
   "metadata": {},
   "source": [
    "# Splitting"
   ]
  },
  {
   "cell_type": "markdown",
   "id": "8059baa6-eee9-4515-b5f9-1ccd50dcca38",
   "metadata": {},
   "source": [
    "**python listlerinde de calisir once bunu soyleyeyim bastan, elime bir kalem aliyorum ve buraya bir centik suraya bir centik yapip o listi ya da ndarrayi parcalamis oluyorum**\n",
    "\n",
    "**np.split(l, [2, 6]) dedigimde ilk degisken parcalayacagim sey, ikincisi de attigim centiklerin indexleri**\n",
    "\n",
    "**kac centik varsa bir fazlasi kadar parca olusuyor**\n",
    "\n",
    "**ve ben coklu atama yaparak bu parcalari degiskenlere atayabilirim**\n",
    "\n",
    "**split methodu icine list de atmis olsam output olarak ndarray'lerden olusan bir list aliyorum**"
   ]
  },
  {
   "cell_type": "code",
   "execution_count": 3,
   "id": "d2928802-35dd-4bc0-aed6-85015b535413",
   "metadata": {},
   "outputs": [],
   "source": [
    "import numpy as np"
   ]
  },
  {
   "cell_type": "code",
   "execution_count": 4,
   "id": "c48aa341-05d3-4844-82b7-f288b761417b",
   "metadata": {},
   "outputs": [],
   "source": [
    "l = [1, 2, 3, 4, 5, 6, 7, 8, 9, 10, 11, 12, 13, 14, 15, 16]"
   ]
  },
  {
   "cell_type": "code",
   "execution_count": 5,
   "id": "68025155-fb77-415e-8b1b-5aa84827a802",
   "metadata": {},
   "outputs": [
    {
     "data": {
      "text/plain": [
       "[array([1, 2]),\n",
       " array([3, 4, 5, 6]),\n",
       " array([ 7,  8,  9, 10, 11, 12, 13, 14, 15, 16])]"
      ]
     },
     "execution_count": 5,
     "metadata": {},
     "output_type": "execute_result"
    }
   ],
   "source": [
    "np.split(l, [2, 6])"
   ]
  },
  {
   "cell_type": "code",
   "execution_count": 6,
   "id": "f2b032ea-3b8a-46d8-8a68-3e6c79f6df5b",
   "metadata": {},
   "outputs": [],
   "source": [
    "a, b, c = np.split(l, [2, 6])"
   ]
  },
  {
   "cell_type": "code",
   "execution_count": 7,
   "id": "a67478b2-0f1f-4040-ae7e-ededb5b2faf1",
   "metadata": {},
   "outputs": [
    {
     "data": {
      "text/plain": [
       "array([1, 2])"
      ]
     },
     "execution_count": 7,
     "metadata": {},
     "output_type": "execute_result"
    }
   ],
   "source": [
    "a"
   ]
  },
  {
   "cell_type": "code",
   "execution_count": 8,
   "id": "310e843d-611d-42a7-b09e-615a65abd853",
   "metadata": {},
   "outputs": [
    {
     "data": {
      "text/plain": [
       "numpy.ndarray"
      ]
     },
     "execution_count": 8,
     "metadata": {},
     "output_type": "execute_result"
    }
   ],
   "source": [
    "type(a)"
   ]
  },
  {
   "cell_type": "code",
   "execution_count": 9,
   "id": "85ebf589-f45b-4622-b7a3-3c2e6be72a75",
   "metadata": {},
   "outputs": [],
   "source": [
    "x = np.array([1, 2, 3, 4, 5, 6, 7, 8, 9, 10, 11, 12, 13, 14, 15, 16])"
   ]
  },
  {
   "cell_type": "code",
   "execution_count": 11,
   "id": "f5ddb39a-0089-49a7-a79d-151c10a1a1c2",
   "metadata": {},
   "outputs": [],
   "source": [
    "k, l, m = np.split(x, [2, 6])"
   ]
  },
  {
   "cell_type": "code",
   "execution_count": 12,
   "id": "413fa7cb-7ac3-41b1-b2f7-2353ba561f6f",
   "metadata": {},
   "outputs": [
    {
     "data": {
      "text/plain": [
       "array([1, 2])"
      ]
     },
     "execution_count": 12,
     "metadata": {},
     "output_type": "execute_result"
    }
   ],
   "source": [
    "k"
   ]
  },
  {
   "cell_type": "code",
   "execution_count": 13,
   "id": "5f55ff8e-41e1-49d3-bdc2-a6fb640bba18",
   "metadata": {},
   "outputs": [
    {
     "data": {
      "text/plain": [
       "array([3, 4, 5, 6])"
      ]
     },
     "execution_count": 13,
     "metadata": {},
     "output_type": "execute_result"
    }
   ],
   "source": [
    "l"
   ]
  },
  {
   "cell_type": "code",
   "execution_count": 14,
   "id": "760ea98c-3fb7-4f9e-9808-23e58d6cb71f",
   "metadata": {},
   "outputs": [
    {
     "data": {
      "text/plain": [
       "array([ 7,  8,  9, 10, 11, 12, 13, 14, 15, 16])"
      ]
     },
     "execution_count": 14,
     "metadata": {},
     "output_type": "execute_result"
    }
   ],
   "source": [
    "m"
   ]
  },
  {
   "cell_type": "code",
   "execution_count": 15,
   "id": "76e6fad6-1246-4561-82a0-cfe5e3de3a8f",
   "metadata": {},
   "outputs": [],
   "source": [
    "ece = np.split(x, [2, 6])"
   ]
  },
  {
   "cell_type": "code",
   "execution_count": 16,
   "id": "29b01fa9-d1eb-4a43-9db6-ca52df29173f",
   "metadata": {},
   "outputs": [
    {
     "data": {
      "text/plain": [
       "[array([1, 2]),\n",
       " array([3, 4, 5, 6]),\n",
       " array([ 7,  8,  9, 10, 11, 12, 13, 14, 15, 16])]"
      ]
     },
     "execution_count": 16,
     "metadata": {},
     "output_type": "execute_result"
    }
   ],
   "source": [
    "ece\n"
   ]
  },
  {
   "cell_type": "code",
   "execution_count": 17,
   "id": "61365f0c-82d2-41fa-b054-1990990c3680",
   "metadata": {},
   "outputs": [
    {
     "data": {
      "text/plain": [
       "list"
      ]
     },
     "execution_count": 17,
     "metadata": {},
     "output_type": "execute_result"
    }
   ],
   "source": [
    "type(ece)"
   ]
  },
  {
   "cell_type": "code",
   "execution_count": 18,
   "id": "630087b4-9b07-4b22-a211-a0e4ccaf3cad",
   "metadata": {},
   "outputs": [
    {
     "data": {
      "text/plain": [
       "array([1, 2])"
      ]
     },
     "execution_count": 18,
     "metadata": {},
     "output_type": "execute_result"
    }
   ],
   "source": [
    "ece[0]"
   ]
  },
  {
   "cell_type": "code",
   "execution_count": 19,
   "id": "54f5d5fd-104c-4c9d-a2fc-adf6268e82f4",
   "metadata": {},
   "outputs": [
    {
     "data": {
      "text/plain": [
       "numpy.ndarray"
      ]
     },
     "execution_count": 19,
     "metadata": {},
     "output_type": "execute_result"
    }
   ],
   "source": [
    "type(ece[0])"
   ]
  },
  {
   "cell_type": "code",
   "execution_count": 20,
   "id": "1644bd11-6b96-4b15-96e9-75b92d503e05",
   "metadata": {},
   "outputs": [],
   "source": [
    "a, b, c, d = [1, 2, 3, 4]"
   ]
  },
  {
   "cell_type": "code",
   "execution_count": 21,
   "id": "d7ab677a-450c-4766-a3b8-131260adb1bd",
   "metadata": {},
   "outputs": [
    {
     "data": {
      "text/plain": [
       "1"
      ]
     },
     "execution_count": 21,
     "metadata": {},
     "output_type": "execute_result"
    }
   ],
   "source": [
    "a"
   ]
  },
  {
   "cell_type": "code",
   "execution_count": null,
   "id": "060e85a4-2df2-4463-ac54-0fb593e2984f",
   "metadata": {},
   "outputs": [],
   "source": []
  }
 ],
 "metadata": {
  "kernelspec": {
   "display_name": "Python 3 (ipykernel)",
   "language": "python",
   "name": "python3"
  },
  "language_info": {
   "codemirror_mode": {
    "name": "ipython",
    "version": 3
   },
   "file_extension": ".py",
   "mimetype": "text/x-python",
   "name": "python",
   "nbconvert_exporter": "python",
   "pygments_lexer": "ipython3",
   "version": "3.9.13"
  }
 },
 "nbformat": 4,
 "nbformat_minor": 5
}
