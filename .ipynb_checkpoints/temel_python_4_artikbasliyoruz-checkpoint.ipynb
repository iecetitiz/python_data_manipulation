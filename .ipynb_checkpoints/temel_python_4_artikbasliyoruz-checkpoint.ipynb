{
 "cells": [
  {
   "cell_type": "code",
   "execution_count": 1,
   "id": "73d43aec-aee2-4c59-b075-4f2fccb481b4",
   "metadata": {},
   "outputs": [
    {
     "name": "stdout",
     "output_type": "stream",
     "text": [
      "0\n",
      "1\n",
      "2\n",
      "3\n",
      "4\n"
     ]
    }
   ],
   "source": [
    "for i in range(5):\n",
    "    print(i)"
   ]
  },
  {
   "cell_type": "code",
   "execution_count": 2,
   "id": "f030624d-f4c3-4773-aa9b-bb9b286f7406",
   "metadata": {},
   "outputs": [
    {
     "name": "stdout",
     "output_type": "stream",
     "text": [
      "ece\n",
      "ece\n",
      "ece\n"
     ]
    }
   ],
   "source": [
    "for c in \"hey\":\n",
    "    print(\"ece\")"
   ]
  },
  {
   "cell_type": "code",
   "execution_count": 4,
   "id": "de8322e6-a304-4a3b-b377-d9ca3b6b1b51",
   "metadata": {},
   "outputs": [
    {
     "name": "stdout",
     "output_type": "stream",
     "text": [
      "merhaba\n",
      "merhaba\n",
      "merhaba\n",
      "merhaba\n",
      "merhaba\n"
     ]
    }
   ],
   "source": [
    "for c in \"hello\":\n",
    "    print(\"merhaba\")"
   ]
  },
  {
   "cell_type": "code",
   "execution_count": 5,
   "id": "da13ea64-5292-4e8f-bc6c-dab3a314352f",
   "metadata": {},
   "outputs": [
    {
     "name": "stdout",
     "output_type": "stream",
     "text": [
      "ece\n",
      "ece\n",
      "ece\n",
      "ece\n",
      "ece\n"
     ]
    }
   ],
   "source": [
    "for _ in range(5):\n",
    "    print(\"ece\")"
   ]
  },
  {
   "cell_type": "code",
   "execution_count": null,
   "id": "ef28d3ef-e09d-477f-905b-3859ddaa670f",
   "metadata": {},
   "outputs": [],
   "source": []
  }
 ],
 "metadata": {
  "kernelspec": {
   "display_name": "Python 3 (ipykernel)",
   "language": "python",
   "name": "python3"
  },
  "language_info": {
   "codemirror_mode": {
    "name": "ipython",
    "version": 3
   },
   "file_extension": ".py",
   "mimetype": "text/x-python",
   "name": "python",
   "nbconvert_exporter": "python",
   "pygments_lexer": "ipython3",
   "version": "3.9.13"
  }
 },
 "nbformat": 4,
 "nbformat_minor": 5
}
