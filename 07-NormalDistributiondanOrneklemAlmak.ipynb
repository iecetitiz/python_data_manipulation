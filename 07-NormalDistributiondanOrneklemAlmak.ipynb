{
 "cells": [
  {
   "cell_type": "markdown",
   "id": "0e33af9a-73e0-4198-9e0f-024f11f79f73",
   "metadata": {},
   "source": [
    "# Normal Distributiondan Orneklem Almak"
   ]
  },
  {
   "cell_type": "markdown",
   "id": "a0865496-eaa9-4761-9d9e-93e172bf3514",
   "metadata": {},
   "source": [
    "**(mean, std, (shape))**"
   ]
  },
  {
   "cell_type": "code",
   "execution_count": 1,
   "id": "b4627c94-ec24-45d0-a034-68fd782c2582",
   "metadata": {},
   "outputs": [],
   "source": [
    "import numpy as np"
   ]
  },
  {
   "cell_type": "code",
   "execution_count": 3,
   "id": "9854035f-7fc3-4206-b025-1678cde88db9",
   "metadata": {},
   "outputs": [
    {
     "data": {
      "text/plain": [
       "array([[ 0.3866379 , -0.98950815, -0.1242999 ,  0.38315829,  1.06929959],\n",
       "       [ 0.35034945, -0.28675854, -2.76040101, -1.64953726,  0.53112026],\n",
       "       [ 1.18024434, -0.28976974, -0.44703039, -0.15634467,  1.09772339],\n",
       "       [ 1.59887101, -0.89969619, -1.30846587,  0.73673014,  0.52398589]])"
      ]
     },
     "execution_count": 3,
     "metadata": {},
     "output_type": "execute_result"
    }
   ],
   "source": [
    "np.random.normal(0, 1, (4, 5))"
   ]
  },
  {
   "cell_type": "code",
   "execution_count": 4,
   "id": "4a14a909-10df-4e73-964a-2a28c8a9ab69",
   "metadata": {},
   "outputs": [
    {
     "data": {
      "text/plain": [
       "array([[  65.97222107, -272.53576817,   90.57502949, -104.29805288,\n",
       "         -68.08368611],\n",
       "       [-111.0345306 ,  -44.45803067,   40.5732973 ,    6.2430926 ,\n",
       "        -100.3250626 ],\n",
       "       [  -4.87402001,   40.36833972,   53.48231313, -115.83281161,\n",
       "        -145.53969501],\n",
       "       [-141.60552874,   26.64044517,   38.62480367,  -45.00966338,\n",
       "          77.41487882]])"
      ]
     },
     "execution_count": 4,
     "metadata": {},
     "output_type": "execute_result"
    }
   ],
   "source": [
    "np.random.normal(0, 100, (4, 5))"
   ]
  },
  {
   "cell_type": "code",
   "execution_count": null,
   "id": "4ea112cb-e7c9-4b34-91d5-8eb06b4ebc6c",
   "metadata": {},
   "outputs": [],
   "source": []
  }
 ],
 "metadata": {
  "kernelspec": {
   "display_name": "Python 3 (ipykernel)",
   "language": "python",
   "name": "python3"
  },
  "language_info": {
   "codemirror_mode": {
    "name": "ipython",
    "version": 3
   },
   "file_extension": ".py",
   "mimetype": "text/x-python",
   "name": "python",
   "nbconvert_exporter": "python",
   "pygments_lexer": "ipython3",
   "version": "3.9.13"
  }
 },
 "nbformat": 4,
 "nbformat_minor": 5
}
