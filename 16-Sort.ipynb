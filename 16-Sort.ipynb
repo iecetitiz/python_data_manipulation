{
 "cells": [
  {
   "cell_type": "markdown",
   "id": "ae0a3336-bbe0-419b-8e7e-071b90477108",
   "metadata": {},
   "source": [
    "**np.sort(a) bunu yaptigimda numpy arrayi guncellenmiyor**\n",
    "\n",
    "**a.sort() dedigimde guncelleniyor**\n",
    "\n",
    "**np.argsort() diye cilgin bir sey var, bu method list'i siraliyor ama siralanmis elemanlarin indexlerini donduruyor, harika bisey mi cok gereksiz bisey mi henuz emin degilim**"
   ]
  },
  {
   "cell_type": "code",
   "execution_count": 1,
   "id": "f8a0ad58-b9ea-4fe3-a096-f2cf415ef7a7",
   "metadata": {},
   "outputs": [],
   "source": [
    "import numpy as np"
   ]
  },
  {
   "cell_type": "code",
   "execution_count": 2,
   "id": "3f098f91-123c-4f6f-81fa-1be76f7d6b70",
   "metadata": {},
   "outputs": [],
   "source": [
    "a = np.array([20, 32, 5, 30, 10])"
   ]
  },
  {
   "cell_type": "code",
   "execution_count": 3,
   "id": "33ac5961-f345-45b2-89a5-8df862c0cfd2",
   "metadata": {},
   "outputs": [
    {
     "data": {
      "text/plain": [
       "array([20, 32,  5, 30, 10])"
      ]
     },
     "execution_count": 3,
     "metadata": {},
     "output_type": "execute_result"
    }
   ],
   "source": [
    "a"
   ]
  },
  {
   "cell_type": "code",
   "execution_count": 4,
   "id": "8dcf64b1-d1e5-405e-ab13-686ab1fbba25",
   "metadata": {},
   "outputs": [
    {
     "data": {
      "text/plain": [
       "array([ 5, 10, 20, 30, 32])"
      ]
     },
     "execution_count": 4,
     "metadata": {},
     "output_type": "execute_result"
    }
   ],
   "source": [
    "np.sort(a)"
   ]
  },
  {
   "cell_type": "code",
   "execution_count": 5,
   "id": "e641f9ea-2709-45bb-9c9f-1fdecd0aceaf",
   "metadata": {},
   "outputs": [
    {
     "data": {
      "text/plain": [
       "array([20, 32,  5, 30, 10])"
      ]
     },
     "execution_count": 5,
     "metadata": {},
     "output_type": "execute_result"
    }
   ],
   "source": [
    "a"
   ]
  },
  {
   "cell_type": "code",
   "execution_count": 7,
   "id": "695d0cc9-13ab-493a-b41c-7bbd6ed8aed0",
   "metadata": {},
   "outputs": [],
   "source": [
    "b = np.array([3, 5, 2, 6, 1, 4])"
   ]
  },
  {
   "cell_type": "code",
   "execution_count": 8,
   "id": "086e372b-c23f-4131-a419-107121059c3f",
   "metadata": {},
   "outputs": [
    {
     "data": {
      "text/plain": [
       "array([3, 5, 2, 6, 1, 4])"
      ]
     },
     "execution_count": 8,
     "metadata": {},
     "output_type": "execute_result"
    }
   ],
   "source": [
    "b"
   ]
  },
  {
   "cell_type": "code",
   "execution_count": 9,
   "id": "8d0bf93d-50db-41bf-a28a-b6778000f2ea",
   "metadata": {},
   "outputs": [
    {
     "data": {
      "text/plain": [
       "array([4, 2, 0, 5, 1, 3], dtype=int64)"
      ]
     },
     "execution_count": 9,
     "metadata": {},
     "output_type": "execute_result"
    }
   ],
   "source": [
    "np.argsort(b)"
   ]
  },
  {
   "cell_type": "code",
   "execution_count": null,
   "id": "d2b7cd3e-d35a-409e-9306-574cc4a1bf43",
   "metadata": {},
   "outputs": [],
   "source": []
  }
 ],
 "metadata": {
  "kernelspec": {
   "display_name": "Python 3 (ipykernel)",
   "language": "python",
   "name": "python3"
  },
  "language_info": {
   "codemirror_mode": {
    "name": "ipython",
    "version": 3
   },
   "file_extension": ".py",
   "mimetype": "text/x-python",
   "name": "python",
   "nbconvert_exporter": "python",
   "pygments_lexer": "ipython3",
   "version": "3.9.13"
  }
 },
 "nbformat": 4,
 "nbformat_minor": 5
}
