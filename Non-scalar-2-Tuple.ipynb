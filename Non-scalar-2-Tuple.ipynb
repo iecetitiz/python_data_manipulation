{
 "cells": [
  {
   "cell_type": "markdown",
   "id": "c9977c73-996b-44f4-8944-4c39baa27510",
   "metadata": {},
   "source": [
    "# tuple'lar immutable\n",
    "\n",
    "* ama eger tuple icinde bir list eleman olarak varsa onun elemanini guncelleyebilirim, bunda bir sikinti yok"
   ]
  },
  {
   "cell_type": "code",
   "execution_count": 1,
   "id": "bce7cb89-d914-4ca8-b1a0-2a912b664de8",
   "metadata": {},
   "outputs": [],
   "source": [
    "t = ([1, 2, 3, 4], \"a\", 1)"
   ]
  },
  {
   "cell_type": "code",
   "execution_count": 2,
   "id": "020eef73-1263-4563-adaf-c8bb3879df38",
   "metadata": {},
   "outputs": [],
   "source": [
    "t[0][1] = 200"
   ]
  },
  {
   "cell_type": "code",
   "execution_count": 3,
   "id": "9381ed56-020f-4605-8492-35401127238b",
   "metadata": {},
   "outputs": [
    {
     "data": {
      "text/plain": [
       "([1, 200, 3, 4], 'a', 1)"
      ]
     },
     "execution_count": 3,
     "metadata": {},
     "output_type": "execute_result"
    }
   ],
   "source": [
    "t"
   ]
  },
  {
   "cell_type": "markdown",
   "id": "3fc7c2ac-4fab-4728-837c-14a9fed0cc4d",
   "metadata": {},
   "source": [
    "# tuple'larin bence asil islevi swap yapmak"
   ]
  },
  {
   "cell_type": "code",
   "execution_count": 4,
   "id": "5b7602f2-f021-438e-b950-f668745ae7ec",
   "metadata": {},
   "outputs": [],
   "source": [
    "x = 2\n",
    "y = 3"
   ]
  },
  {
   "cell_type": "code",
   "execution_count": 5,
   "id": "d10093a4-e4b0-45a9-8028-a9f4ac1d90f6",
   "metadata": {},
   "outputs": [],
   "source": [
    "temp = x\n",
    "x = y\n",
    "y = temp"
   ]
  },
  {
   "cell_type": "code",
   "execution_count": 6,
   "id": "1adfc841-6743-4977-8676-9b01376ede98",
   "metadata": {},
   "outputs": [
    {
     "data": {
      "text/plain": [
       "3"
      ]
     },
     "execution_count": 6,
     "metadata": {},
     "output_type": "execute_result"
    }
   ],
   "source": [
    "x"
   ]
  },
  {
   "cell_type": "code",
   "execution_count": 7,
   "id": "6c9e1132-87e3-42aa-a36b-c338cfdebcb5",
   "metadata": {},
   "outputs": [
    {
     "data": {
      "text/plain": [
       "2"
      ]
     },
     "execution_count": 7,
     "metadata": {},
     "output_type": "execute_result"
    }
   ],
   "source": [
    "y"
   ]
  },
  {
   "cell_type": "markdown",
   "id": "d62d4ee2-2ff3-48a9-9059-3470c369bee8",
   "metadata": {},
   "source": [
    "# eger parantez kullanmadan bir seyleri virgullerle ayirarak yazarsam bu otomatik olarak tuple olur python icin, aynisini listle de yapabiliyomusum"
   ]
  },
  {
   "cell_type": "code",
   "execution_count": 8,
   "id": "cd15ad02-d504-4eac-a13b-988a75e8460c",
   "metadata": {},
   "outputs": [],
   "source": [
    "u = 1, 2, 3"
   ]
  },
  {
   "cell_type": "code",
   "execution_count": 9,
   "id": "20657a31-5e8e-4e68-96bc-e91c3b15c9fd",
   "metadata": {},
   "outputs": [
    {
     "data": {
      "text/plain": [
       "tuple"
      ]
     },
     "execution_count": 9,
     "metadata": {},
     "output_type": "execute_result"
    }
   ],
   "source": [
    "type(u)"
   ]
  },
  {
   "cell_type": "code",
   "execution_count": 67,
   "id": "bc4019eb-10f6-45a2-80aa-7ed5dd966baa",
   "metadata": {},
   "outputs": [],
   "source": [
    "m = 10\n",
    "n = 20\n",
    "p = 30"
   ]
  },
  {
   "cell_type": "code",
   "execution_count": 68,
   "id": "abb9057f-2bfe-4b95-991f-2fdffe01a6be",
   "metadata": {},
   "outputs": [],
   "source": [
    "[m, n, p] = [p, n, m]"
   ]
  },
  {
   "cell_type": "code",
   "execution_count": 69,
   "id": "de3a5b52-da85-45ca-bfef-d4de2008b9e0",
   "metadata": {},
   "outputs": [
    {
     "data": {
      "text/plain": [
       "30"
      ]
     },
     "execution_count": 69,
     "metadata": {},
     "output_type": "execute_result"
    }
   ],
   "source": [
    "m"
   ]
  },
  {
   "cell_type": "code",
   "execution_count": 70,
   "id": "50065c77-9f23-4e74-8d9d-28661941f1f1",
   "metadata": {},
   "outputs": [
    {
     "data": {
      "text/plain": [
       "20"
      ]
     },
     "execution_count": 70,
     "metadata": {},
     "output_type": "execute_result"
    }
   ],
   "source": [
    "n"
   ]
  },
  {
   "cell_type": "code",
   "execution_count": 71,
   "id": "d0b1d783-b243-441d-8883-795579adcad9",
   "metadata": {},
   "outputs": [
    {
     "data": {
      "text/plain": [
       "10"
      ]
     },
     "execution_count": 71,
     "metadata": {},
     "output_type": "execute_result"
    }
   ],
   "source": [
    "p"
   ]
  },
  {
   "cell_type": "code",
   "execution_count": null,
   "id": "cbd81e4f-0ec2-4d05-b1e6-b1f9732e9df9",
   "metadata": {},
   "outputs": [],
   "source": []
  }
 ],
 "metadata": {
  "kernelspec": {
   "display_name": "Python 3 (ipykernel)",
   "language": "python",
   "name": "python3"
  },
  "language_info": {
   "codemirror_mode": {
    "name": "ipython",
    "version": 3
   },
   "file_extension": ".py",
   "mimetype": "text/x-python",
   "name": "python",
   "nbconvert_exporter": "python",
   "pygments_lexer": "ipython3",
   "version": "3.9.13"
  }
 },
 "nbformat": 4,
 "nbformat_minor": 5
}
