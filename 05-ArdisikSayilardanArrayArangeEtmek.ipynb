{
 "cells": [
  {
   "cell_type": "markdown",
   "id": "5b9e2900-b33e-4d9e-8419-198c80cae69d",
   "metadata": {},
   "source": [
    "# Ardisik Sayilardan Array Arange Etmek"
   ]
  },
  {
   "cell_type": "markdown",
   "id": "e09d4268-28d4-4f92-9fe3-ac902c59913f",
   "metadata": {},
   "source": [
    "**python range'e cok benziyor, start,stop,step mantigi ayni**\n",
    "\n",
    "**burda su onemli, np.arange(12, 3, -2) dedigimde dahil olmayan yine stop, buyuk olan dahil edilmez gibi dusunme, dahil edilmeyen stop**\n",
    "\n",
    "**start degeri vermezsem default olarak 0 aliyor**"
   ]
  },
  {
   "cell_type": "code",
   "execution_count": 1,
   "id": "3f7cc973-10b9-45f0-851a-431a46a5dfaa",
   "metadata": {},
   "outputs": [],
   "source": [
    "import numpy as np"
   ]
  },
  {
   "cell_type": "code",
   "execution_count": 3,
   "id": "54fb10ff-15ef-4e8c-8cb3-10d3bc122186",
   "metadata": {},
   "outputs": [
    {
     "data": {
      "text/plain": [
       "array([ 1,  2,  3,  4,  5,  6,  7,  8,  9, 10, 11, 12, 13, 14, 15, 16, 17,\n",
       "       18, 19, 20])"
      ]
     },
     "execution_count": 3,
     "metadata": {},
     "output_type": "execute_result"
    }
   ],
   "source": [
    "np.arange(1, 21)"
   ]
  },
  {
   "cell_type": "code",
   "execution_count": 2,
   "id": "7c4d0cd4-6c67-4e74-a4c1-97668817243c",
   "metadata": {},
   "outputs": [],
   "source": [
    "a = np.arange(3, 12, 5)"
   ]
  },
  {
   "cell_type": "code",
   "execution_count": 3,
   "id": "3bfc1971-4fbc-4f64-9fb4-b2977391209b",
   "metadata": {},
   "outputs": [
    {
     "data": {
      "text/plain": [
       "numpy.ndarray"
      ]
     },
     "execution_count": 3,
     "metadata": {},
     "output_type": "execute_result"
    }
   ],
   "source": [
    "type(a)"
   ]
  },
  {
   "cell_type": "code",
   "execution_count": 4,
   "id": "6b55c3ba-56a8-473c-8cac-c4c6f40bd631",
   "metadata": {},
   "outputs": [
    {
     "data": {
      "text/plain": [
       "array([45, 40, 35, 30, 25, 20, 15])"
      ]
     },
     "execution_count": 4,
     "metadata": {},
     "output_type": "execute_result"
    }
   ],
   "source": [
    "np.arange(45, 10, -5)"
   ]
  },
  {
   "cell_type": "code",
   "execution_count": 5,
   "id": "8a1ab8b6-3999-4b5a-ba83-c3c2a93737c4",
   "metadata": {},
   "outputs": [],
   "source": [
    "b = np.arange(5, 101, 5)"
   ]
  },
  {
   "cell_type": "code",
   "execution_count": 6,
   "id": "fbce588e-198e-4157-8a49-0b8124b6fcac",
   "metadata": {},
   "outputs": [
    {
     "data": {
      "text/plain": [
       "array([  5,  10,  15,  20,  25,  30,  35,  40,  45,  50,  55,  60,  65,\n",
       "        70,  75,  80,  85,  90,  95, 100])"
      ]
     },
     "execution_count": 6,
     "metadata": {},
     "output_type": "execute_result"
    }
   ],
   "source": [
    "b"
   ]
  },
  {
   "cell_type": "code",
   "execution_count": 7,
   "id": "d6a0c104-48e7-4dc1-9b1f-ddbb589ec991",
   "metadata": {},
   "outputs": [
    {
     "data": {
      "text/plain": [
       "numpy.ndarray"
      ]
     },
     "execution_count": 7,
     "metadata": {},
     "output_type": "execute_result"
    }
   ],
   "source": [
    "type(b)"
   ]
  },
  {
   "cell_type": "code",
   "execution_count": 11,
   "id": "6fb8a2cb-93df-48cd-86bd-7f0b8fdf4a5a",
   "metadata": {},
   "outputs": [
    {
     "data": {
      "text/plain": [
       "array([100,  95,  90,  85,  80,  75,  70,  65,  60,  55,  50,  45,  40,\n",
       "        35,  30,  25,  20,  15,  10,   5])"
      ]
     },
     "execution_count": 11,
     "metadata": {},
     "output_type": "execute_result"
    }
   ],
   "source": [
    "np.arange(100, 0, -5)"
   ]
  },
  {
   "cell_type": "code",
   "execution_count": null,
   "id": "9cfb119a-4fb2-4a93-b377-93f57fff9954",
   "metadata": {},
   "outputs": [],
   "source": []
  }
 ],
 "metadata": {
  "kernelspec": {
   "display_name": "Python 3 (ipykernel)",
   "language": "python",
   "name": "python3"
  },
  "language_info": {
   "codemirror_mode": {
    "name": "ipython",
    "version": 3
   },
   "file_extension": ".py",
   "mimetype": "text/x-python",
   "name": "python",
   "nbconvert_exporter": "python",
   "pygments_lexer": "ipython3",
   "version": "3.9.13"
  }
 },
 "nbformat": 4,
 "nbformat_minor": 5
}
