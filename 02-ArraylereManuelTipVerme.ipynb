{
 "cells": [
  {
   "cell_type": "markdown",
   "id": "f93f07e1-fccc-4686-bfdf-bac3d8e7863a",
   "metadata": {},
   "source": [
    "# Arraylere Manuel Tip Verme"
   ]
  },
  {
   "cell_type": "markdown",
   "id": "56f81c65-b437-405a-8925-363f574def58",
   "metadata": {},
   "source": [
    "**istersem elimdeki listenin elemanlarinin icinde floatlar varsa onlarin kusuratlarini yollayip sadece intlerden olusmasini isteyebilirim veya string olarak tutmak isteyebilirim. bu durumda kendim manuel olarak tip belirtmem gerekir**\n",
    "\n",
    "**onemli bir not, eger string halinde int'e ya da float'a donusebilecek bir deger varsa onlar sayi olarak cast edilebilir, tamami sayilardan olusmali bu durumda buna dikkat**\n",
    "\n",
    "**ama suna dikkat etmem lazim, string halden floata ya da inte direkt cast edeceksem buna uygun formatta sayilar olmali, string bir int float karisik diziyi floata cast edebilirim ama float string'i inte cast edemem** "
   ]
  },
  {
   "cell_type": "code",
   "execution_count": 2,
   "id": "a89a2af8-a483-470e-a842-69b87fcf5d58",
   "metadata": {},
   "outputs": [],
   "source": [
    "import numpy as np"
   ]
  },
  {
   "cell_type": "code",
   "execution_count": 13,
   "id": "15d9b0da-72c2-40de-af1e-feea59186d5d",
   "metadata": {},
   "outputs": [],
   "source": [
    "x = np.array([1, 2.7, 6, 9, \"5\", \"5.90\"], dtype=\"float\")"
   ]
  },
  {
   "cell_type": "code",
   "execution_count": 14,
   "id": "fcbb8b24-64ad-40ee-bded-1326f799cc3d",
   "metadata": {},
   "outputs": [
    {
     "data": {
      "text/plain": [
       "array([1. , 2.7, 6. , 9. , 5. , 5.9])"
      ]
     },
     "execution_count": 14,
     "metadata": {},
     "output_type": "execute_result"
    }
   ],
   "source": [
    "x"
   ]
  },
  {
   "cell_type": "code",
   "execution_count": 15,
   "id": "3dc1ea6f-45bd-456a-a55b-9684657a75b1",
   "metadata": {},
   "outputs": [
    {
     "ename": "ValueError",
     "evalue": "invalid literal for int() with base 10: '5.90'",
     "output_type": "error",
     "traceback": [
      "\u001b[1;31m---------------------------------------------------------------------------\u001b[0m",
      "\u001b[1;31mValueError\u001b[0m                                Traceback (most recent call last)",
      "\u001b[1;32m~\\AppData\\Local\\Temp\\ipykernel_13788\\2086441129.py\u001b[0m in \u001b[0;36m<module>\u001b[1;34m\u001b[0m\n\u001b[1;32m----> 1\u001b[1;33m \u001b[0mx\u001b[0m \u001b[1;33m=\u001b[0m \u001b[0mnp\u001b[0m\u001b[1;33m.\u001b[0m\u001b[0marray\u001b[0m\u001b[1;33m(\u001b[0m\u001b[1;33m[\u001b[0m\u001b[1;36m1\u001b[0m\u001b[1;33m,\u001b[0m \u001b[1;36m2.7\u001b[0m\u001b[1;33m,\u001b[0m \u001b[1;36m6\u001b[0m\u001b[1;33m,\u001b[0m \u001b[1;36m9\u001b[0m\u001b[1;33m,\u001b[0m \u001b[1;34m\"5\"\u001b[0m\u001b[1;33m,\u001b[0m \u001b[1;34m\"5.90\"\u001b[0m\u001b[1;33m]\u001b[0m\u001b[1;33m,\u001b[0m \u001b[0mdtype\u001b[0m\u001b[1;33m=\u001b[0m\u001b[1;34m\"int\"\u001b[0m\u001b[1;33m)\u001b[0m\u001b[1;33m\u001b[0m\u001b[1;33m\u001b[0m\u001b[0m\n\u001b[0m",
      "\u001b[1;31mValueError\u001b[0m: invalid literal for int() with base 10: '5.90'"
     ]
    }
   ],
   "source": [
    "x = np.array([1, 2.7, 6, 9, \"5\", \"5.90\"], dtype=\"int\")"
   ]
  },
  {
   "cell_type": "code",
   "execution_count": 22,
   "id": "8f70e3db-cc40-4c26-87e0-23f5f8696a2b",
   "metadata": {},
   "outputs": [
    {
     "data": {
      "text/plain": [
       "array([1, 2, 6, 9, 5])"
      ]
     },
     "execution_count": 22,
     "metadata": {},
     "output_type": "execute_result"
    }
   ],
   "source": [
    "x"
   ]
  },
  {
   "cell_type": "code",
   "execution_count": 5,
   "id": "328651fa-aeae-49d4-ba4f-191301faa109",
   "metadata": {},
   "outputs": [],
   "source": [
    "x = np.array([1, 2.7, 6, 9, \"5\"], dtype=\"float\")"
   ]
  },
  {
   "cell_type": "code",
   "execution_count": 6,
   "id": "ad09cda9-0489-4c88-8dc1-f7076bfbfe55",
   "metadata": {},
   "outputs": [
    {
     "data": {
      "text/plain": [
       "array([1. , 2.7, 6. , 9. , 5. ])"
      ]
     },
     "execution_count": 6,
     "metadata": {},
     "output_type": "execute_result"
    }
   ],
   "source": [
    "x"
   ]
  },
  {
   "cell_type": "code",
   "execution_count": 3,
   "id": "e9c1d55a-8f7e-4cf2-be36-c857c963d3ab",
   "metadata": {},
   "outputs": [],
   "source": [
    "x = x = np.array([1, 2.7, 6, 9, \"5\", \"5.90\"], float)"
   ]
  },
  {
   "cell_type": "code",
   "execution_count": 4,
   "id": "a568e8aa-0e8c-4537-892e-7901ecac5534",
   "metadata": {},
   "outputs": [
    {
     "data": {
      "text/plain": [
       "array([1. , 2.7, 6. , 9. , 5. , 5.9])"
      ]
     },
     "execution_count": 4,
     "metadata": {},
     "output_type": "execute_result"
    }
   ],
   "source": [
    "x"
   ]
  },
  {
   "cell_type": "code",
   "execution_count": 8,
   "id": "aa8c6d81-e683-4bad-80a8-a6046411d856",
   "metadata": {},
   "outputs": [],
   "source": [
    "z = np.array([1, 2, 6, 9, \"5.90\"], dtype = \"float\")"
   ]
  },
  {
   "cell_type": "code",
   "execution_count": 22,
   "id": "fa61f777-d795-44b2-b4a5-ac1cfdaf9915",
   "metadata": {},
   "outputs": [
    {
     "data": {
      "text/plain": [
       "array([1, 2, 6, 9, 5])"
      ]
     },
     "execution_count": 22,
     "metadata": {},
     "output_type": "execute_result"
    }
   ],
   "source": [
    "z"
   ]
  },
  {
   "cell_type": "code",
   "execution_count": 10,
   "id": "e5eae98b-c9c1-45f6-aa4d-65b71ac02ced",
   "metadata": {},
   "outputs": [],
   "source": [
    "k = np.array([1, 2.7, 6, 9, \"5\", \"5.90\"], dtype = \"str\")"
   ]
  },
  {
   "cell_type": "code",
   "execution_count": 11,
   "id": "e25fb58d-a5ad-4668-b94c-88845457ead3",
   "metadata": {},
   "outputs": [
    {
     "data": {
      "text/plain": [
       "array(['1', '2.7', '6', '9', '5', '5.90'], dtype='<U4')"
      ]
     },
     "execution_count": 11,
     "metadata": {},
     "output_type": "execute_result"
    }
   ],
   "source": [
    "k"
   ]
  },
  {
   "cell_type": "code",
   "execution_count": null,
   "id": "f186bb3c-101b-458f-80e1-4b85f7c6c91d",
   "metadata": {},
   "outputs": [],
   "source": []
  }
 ],
 "metadata": {
  "kernelspec": {
   "display_name": "Python 3 (ipykernel)",
   "language": "python",
   "name": "python3"
  },
  "language_info": {
   "codemirror_mode": {
    "name": "ipython",
    "version": 3
   },
   "file_extension": ".py",
   "mimetype": "text/x-python",
   "name": "python",
   "nbconvert_exporter": "python",
   "pygments_lexer": "ipython3",
   "version": "3.9.13"
  }
 },
 "nbformat": 4,
 "nbformat_minor": 5
}
