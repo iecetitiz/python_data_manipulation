{
 "cells": [
  {
   "cell_type": "code",
   "execution_count": 1,
   "id": "73d43aec-aee2-4c59-b075-4f2fccb481b4",
   "metadata": {},
   "outputs": [
    {
     "name": "stdout",
     "output_type": "stream",
     "text": [
      "0\n",
      "1\n",
      "2\n",
      "3\n",
      "4\n"
     ]
    }
   ],
   "source": [
    "for i in range(5):\n",
    "    print(i)"
   ]
  },
  {
   "cell_type": "code",
   "execution_count": 2,
   "id": "f030624d-f4c3-4773-aa9b-bb9b286f7406",
   "metadata": {},
   "outputs": [
    {
     "name": "stdout",
     "output_type": "stream",
     "text": [
      "ece\n",
      "ece\n",
      "ece\n"
     ]
    }
   ],
   "source": [
    "for c in \"hey\":\n",
    "    print(\"ece\")"
   ]
  },
  {
   "cell_type": "code",
   "execution_count": 4,
   "id": "de8322e6-a304-4a3b-b377-d9ca3b6b1b51",
   "metadata": {},
   "outputs": [
    {
     "name": "stdout",
     "output_type": "stream",
     "text": [
      "merhaba\n",
      "merhaba\n",
      "merhaba\n",
      "merhaba\n",
      "merhaba\n"
     ]
    }
   ],
   "source": [
    "for c in \"hello\":\n",
    "    print(\"merhaba\")"
   ]
  },
  {
   "cell_type": "code",
   "execution_count": 5,
   "id": "da13ea64-5292-4e8f-bc6c-dab3a314352f",
   "metadata": {},
   "outputs": [
    {
     "name": "stdout",
     "output_type": "stream",
     "text": [
      "ece\n",
      "ece\n",
      "ece\n",
      "ece\n",
      "ece\n"
     ]
    }
   ],
   "source": [
    "for _ in range(5):\n",
    "    print(\"ece\")"
   ]
  },
  {
   "cell_type": "code",
   "execution_count": 1,
   "id": "ef28d3ef-e09d-477f-905b-3859ddaa670f",
   "metadata": {},
   "outputs": [
    {
     "data": {
      "text/plain": [
       "'mydarling'"
      ]
     },
     "execution_count": 1,
     "metadata": {},
     "output_type": "execute_result"
    }
   ],
   "source": [
    "print(\"say hallo\") if 3 > 4 else \"mydarling\""
   ]
  },
  {
   "cell_type": "markdown",
   "id": "6a757aa7-2fc4-4f5e-8353-5940be5d302a",
   "metadata": {},
   "source": [
    "# listin bir elemanini da bir diliminin tamamini da degistirebilirim\n",
    "* bir araliga baska bir list ekleyebilirim\n",
    "* sona tek bir eleman ekleyebilirim\n",
    "* sona birden fazla eleman ekleyebilirim"
   ]
  },
  {
   "cell_type": "code",
   "execution_count": 38,
   "id": "a69a46f9-d55d-4877-8155-3b97248632b8",
   "metadata": {},
   "outputs": [],
   "source": [
    "notlar = [5, 70, 40, 6, 56, 80]"
   ]
  },
  {
   "cell_type": "markdown",
   "id": "522d1e42-4463-4085-9c4a-8bc2a7d147ec",
   "metadata": {},
   "source": [
    "bir dilimin tamamini 50 olarak guncelledi"
   ]
  },
  {
   "cell_type": "code",
   "execution_count": 39,
   "id": "6f68f882-5b80-4a82-a812-2ef8b04c47ec",
   "metadata": {},
   "outputs": [],
   "source": [
    "notlar[0:3] = [50]"
   ]
  },
  {
   "cell_type": "code",
   "execution_count": 42,
   "id": "e3055bbe-42d0-4306-9ce1-a61eee82c845",
   "metadata": {},
   "outputs": [
    {
     "data": {
      "text/plain": [
       "[50, 6, 56, 80]"
      ]
     },
     "execution_count": 42,
     "metadata": {},
     "output_type": "execute_result"
    }
   ],
   "source": [
    "notlar"
   ]
  },
  {
   "cell_type": "code",
   "execution_count": 43,
   "id": "66ecb472-6c10-418a-b604-3052bbb7fba5",
   "metadata": {},
   "outputs": [],
   "source": [
    "notlar = [5, 70, 40, 6, 56, 80]"
   ]
  },
  {
   "cell_type": "code",
   "execution_count": 45,
   "id": "b4e157b6-c587-46a2-bee9-0fd924522c73",
   "metadata": {},
   "outputs": [
    {
     "data": {
      "text/plain": [
       "[5, 70, 40, 6, 56, 80]"
      ]
     },
     "execution_count": 45,
     "metadata": {},
     "output_type": "execute_result"
    }
   ],
   "source": [
    "notlar"
   ]
  },
  {
   "cell_type": "code",
   "execution_count": 46,
   "id": "21bc5556-b4d9-4b3c-a21e-68721580e8db",
   "metadata": {},
   "outputs": [],
   "source": [
    "notlar.extend([60, 70, 80, 90, 100])"
   ]
  },
  {
   "cell_type": "code",
   "execution_count": 47,
   "id": "fd0c9077-ba35-43cd-bdb7-9489943d168c",
   "metadata": {},
   "outputs": [
    {
     "data": {
      "text/plain": [
       "[5, 70, 40, 6, 56, 80, 60, 70, 80, 90, 100]"
      ]
     },
     "execution_count": 47,
     "metadata": {},
     "output_type": "execute_result"
    }
   ],
   "source": [
    "notlar"
   ]
  },
  {
   "cell_type": "code",
   "execution_count": 48,
   "id": "ef823058-ba4c-4e00-b47e-791841b859b4",
   "metadata": {},
   "outputs": [],
   "source": [
    "notlar[0:3] = 1, 2, 3, 4, 5"
   ]
  },
  {
   "cell_type": "code",
   "execution_count": 57,
   "id": "f5608e88-bfed-4cc2-a5db-4a60cea14b1f",
   "metadata": {},
   "outputs": [
    {
     "data": {
      "text/plain": [
       "[1, 2, 3, 4, 5, 6, 56, 80, 60, 70, 1, 2, 1, 2, 1, 2, 80, 90, 100]"
      ]
     },
     "execution_count": 57,
     "metadata": {},
     "output_type": "execute_result"
    }
   ],
   "source": [
    "notlar"
   ]
  },
  {
   "cell_type": "code",
   "execution_count": 58,
   "id": "f69d6667-7ae5-4064-aec7-8ab932d59b96",
   "metadata": {},
   "outputs": [],
   "source": [
    "notlar = [5, 70, 40, 6, 56, 80]"
   ]
  },
  {
   "cell_type": "code",
   "execution_count": 59,
   "id": "7576a6f5-0465-4614-a8fc-1a6443adb334",
   "metadata": {},
   "outputs": [
    {
     "data": {
      "text/plain": [
       "[5, 70, 40, 6, 56, 80]"
      ]
     },
     "execution_count": 59,
     "metadata": {},
     "output_type": "execute_result"
    }
   ],
   "source": [
    "notlar"
   ]
  },
  {
   "cell_type": "code",
   "execution_count": 60,
   "id": "e0a28777-3927-4508-aad2-abf9c6daa57a",
   "metadata": {},
   "outputs": [],
   "source": [
    "notlar[1] = [200, 300, 400, 500]"
   ]
  },
  {
   "cell_type": "code",
   "execution_count": 61,
   "id": "d2135103-68f4-458b-80b6-ec76d4e69705",
   "metadata": {},
   "outputs": [
    {
     "data": {
      "text/plain": [
       "[5, [200, 300, 400, 500], 40, 6, 56, 80]"
      ]
     },
     "execution_count": 61,
     "metadata": {},
     "output_type": "execute_result"
    }
   ],
   "source": [
    "notlar"
   ]
  },
  {
   "cell_type": "code",
   "execution_count": 62,
   "id": "3932f50b-d303-4cd1-8609-50d499f7d5d9",
   "metadata": {},
   "outputs": [],
   "source": [
    "notlar[1:3] = [999, 999, 999, 999]"
   ]
  },
  {
   "cell_type": "code",
   "execution_count": 63,
   "id": "bf622e46-c76d-4a1c-9257-eb5efa1b4ae4",
   "metadata": {},
   "outputs": [
    {
     "data": {
      "text/plain": [
       "[5, 999, 999, 999, 999, 6, 56, 80]"
      ]
     },
     "execution_count": 63,
     "metadata": {},
     "output_type": "execute_result"
    }
   ],
   "source": [
    "notlar"
   ]
  },
  {
   "cell_type": "code",
   "execution_count": 64,
   "id": "f14bb861-94db-4c9e-a616-dd442c0ac23e",
   "metadata": {},
   "outputs": [],
   "source": [
    "notlar.append(12345)"
   ]
  },
  {
   "cell_type": "code",
   "execution_count": 65,
   "id": "8c2cee0b-d4a1-4338-95d2-5a73b5dcf434",
   "metadata": {},
   "outputs": [
    {
     "data": {
      "text/plain": [
       "[5, 999, 999, 999, 999, 6, 56, 80, 12345]"
      ]
     },
     "execution_count": 65,
     "metadata": {},
     "output_type": "execute_result"
    }
   ],
   "source": [
    "notlar"
   ]
  },
  {
   "cell_type": "code",
   "execution_count": 66,
   "id": "3e709b38-633e-43eb-8fdc-7bb498ea6305",
   "metadata": {},
   "outputs": [],
   "source": [
    "notlar.append([1,1,1,1,1])"
   ]
  },
  {
   "cell_type": "code",
   "execution_count": 68,
   "id": "4f01f2c7-be97-4c80-8ddf-dd7232d33926",
   "metadata": {},
   "outputs": [
    {
     "data": {
      "text/plain": [
       "[5, 999, 999, 999, 999, 6, 56, 80, 12345, [1, 1, 1, 1, 1]]"
      ]
     },
     "execution_count": 68,
     "metadata": {},
     "output_type": "execute_result"
    }
   ],
   "source": [
    "notlar"
   ]
  },
  {
   "cell_type": "code",
   "execution_count": 69,
   "id": "fbea9afe-313d-4985-b862-bd5f287d40fa",
   "metadata": {},
   "outputs": [],
   "source": [
    "notlar.extend([555,666])"
   ]
  },
  {
   "cell_type": "code",
   "execution_count": 70,
   "id": "d96db8e1-6359-4a9a-84fb-b5a83155c6be",
   "metadata": {},
   "outputs": [
    {
     "data": {
      "text/plain": [
       "[5, 999, 999, 999, 999, 6, 56, 80, 12345, [1, 1, 1, 1, 1], 555, 666]"
      ]
     },
     "execution_count": 70,
     "metadata": {},
     "output_type": "execute_result"
    }
   ],
   "source": [
    "notlar"
   ]
  },
  {
   "cell_type": "code",
   "execution_count": 72,
   "id": "7de35330-9fd5-41ac-a136-7f094da26620",
   "metadata": {},
   "outputs": [],
   "source": [
    "notlar.extend((1, 2, 3))"
   ]
  },
  {
   "cell_type": "code",
   "execution_count": 73,
   "id": "ad428a3f-1016-4a11-adc1-1917f0df65e0",
   "metadata": {},
   "outputs": [
    {
     "data": {
      "text/plain": [
       "[5, 999, 999, 999, 999, 6, 56, 80, 12345, [1, 1, 1, 1, 1], 555, 666, 1, 2, 3]"
      ]
     },
     "execution_count": 73,
     "metadata": {},
     "output_type": "execute_result"
    }
   ],
   "source": [
    "notlar"
   ]
  },
  {
   "cell_type": "code",
   "execution_count": 74,
   "id": "1e688c62-d92b-4f0a-aaff-c2331c1a2b98",
   "metadata": {},
   "outputs": [],
   "source": [
    "notlar.insert(0, (1, 2, 3, 4))"
   ]
  },
  {
   "cell_type": "code",
   "execution_count": 77,
   "id": "82903315-9010-434c-8d96-e48146c6db2d",
   "metadata": {},
   "outputs": [
    {
     "data": {
      "text/plain": [
       "[(1, 2, 3, 4),\n",
       " 5,\n",
       " 999,\n",
       " 999,\n",
       " 999,\n",
       " 999,\n",
       " 6,\n",
       " 56,\n",
       " 80,\n",
       " 12345,\n",
       " [1, 1, 1, 1, 1],\n",
       " 555,\n",
       " 666,\n",
       " 1,\n",
       " 2,\n",
       " 3]"
      ]
     },
     "execution_count": 77,
     "metadata": {},
     "output_type": "execute_result"
    }
   ],
   "source": [
    "notlar"
   ]
  },
  {
   "cell_type": "code",
   "execution_count": 81,
   "id": "2024ee89-a62f-4f68-ad4d-4b2c89bfef1e",
   "metadata": {},
   "outputs": [],
   "source": [
    "numbers = [3, 6, 9, 14, 67, 34, 23, 54, 98, 34]"
   ]
  },
  {
   "cell_type": "code",
   "execution_count": 83,
   "id": "c9ca48c0-adc2-4acd-ba64-5e6fd20e7472",
   "metadata": {},
   "outputs": [],
   "source": [
    "try:\n",
    "  numbers.remove(90)\n",
    "except ValueError:\n",
    "    pass"
   ]
  },
  {
   "cell_type": "code",
   "execution_count": 84,
   "id": "a2bb4b2f-a1ec-49e3-ba85-54ebfca3b186",
   "metadata": {},
   "outputs": [],
   "source": []
  },
  {
   "cell_type": "code",
   "execution_count": 87,
   "id": "f95aebcf-3d18-4a2e-8845-ba125a49af92",
   "metadata": {},
   "outputs": [],
   "source": [
    "numbers = [3, 6, 9, 14, 67, 34, 23, 54, 98, 34]"
   ]
  },
  {
   "cell_type": "code",
   "execution_count": 88,
   "id": "5f477f6b-cf71-4696-ae76-bb002c5145bb",
   "metadata": {},
   "outputs": [],
   "source": [
    "numbers.remove(34)"
   ]
  },
  {
   "cell_type": "code",
   "execution_count": 89,
   "id": "50a5fe29-0627-4ede-b295-83afdb81cad3",
   "metadata": {},
   "outputs": [
    {
     "data": {
      "text/plain": [
       "[3, 6, 9, 14, 67, 23, 54, 98, 34]"
      ]
     },
     "execution_count": 89,
     "metadata": {},
     "output_type": "execute_result"
    }
   ],
   "source": [
    "numbers"
   ]
  },
  {
   "cell_type": "code",
   "execution_count": 90,
   "id": "8e06e387-b4e0-4c19-8648-6418ceadb4c1",
   "metadata": {},
   "outputs": [
    {
     "data": {
      "text/plain": [
       "6"
      ]
     },
     "execution_count": 90,
     "metadata": {},
     "output_type": "execute_result"
    }
   ],
   "source": [
    "numbers.pop(1)"
   ]
  },
  {
   "cell_type": "code",
   "execution_count": 91,
   "id": "cf272b09-3254-4220-b198-fb2567d15220",
   "metadata": {},
   "outputs": [
    {
     "data": {
      "text/plain": [
       "[3, 9, 14, 67, 23, 54, 98, 34]"
      ]
     },
     "execution_count": 91,
     "metadata": {},
     "output_type": "execute_result"
    }
   ],
   "source": [
    "numbers"
   ]
  },
  {
   "cell_type": "code",
   "execution_count": 92,
   "id": "4eb12179-9f4d-4a19-8fe5-92e47baba903",
   "metadata": {},
   "outputs": [],
   "source": [
    "a = numbers.pop(1)"
   ]
  },
  {
   "cell_type": "code",
   "execution_count": 93,
   "id": "60ec7978-ed93-486d-8b0b-f6cc2f2e3cc4",
   "metadata": {},
   "outputs": [
    {
     "data": {
      "text/plain": [
       "9"
      ]
     },
     "execution_count": 93,
     "metadata": {},
     "output_type": "execute_result"
    }
   ],
   "source": [
    "a"
   ]
  },
  {
   "cell_type": "code",
   "execution_count": 94,
   "id": "78f684df-9cc0-48e9-a597-b8e6f4a28fb5",
   "metadata": {},
   "outputs": [],
   "source": [
    "a = 5"
   ]
  },
  {
   "cell_type": "code",
   "execution_count": 95,
   "id": "c71366f5-851e-47ca-8582-25fa466cb62a",
   "metadata": {},
   "outputs": [],
   "source": [
    "sayilar = numbers + notlar"
   ]
  },
  {
   "cell_type": "code",
   "execution_count": 96,
   "id": "8a067899-684a-41d1-bbb1-0a18ab668fb1",
   "metadata": {},
   "outputs": [
    {
     "data": {
      "text/plain": [
       "[3,\n",
       " 14,\n",
       " 67,\n",
       " 23,\n",
       " 54,\n",
       " 98,\n",
       " 34,\n",
       " (1, 2, 3, 4),\n",
       " 5,\n",
       " 999,\n",
       " 999,\n",
       " 999,\n",
       " 999,\n",
       " 6,\n",
       " 56,\n",
       " 80,\n",
       " 12345,\n",
       " [1, 1, 1, 1, 1],\n",
       " 555,\n",
       " 666,\n",
       " 1,\n",
       " 2,\n",
       " 3]"
      ]
     },
     "execution_count": 96,
     "metadata": {},
     "output_type": "execute_result"
    }
   ],
   "source": [
    "sayilar"
   ]
  },
  {
   "cell_type": "code",
   "execution_count": 97,
   "id": "ee8765e8-0d37-4426-a547-037e2a0b7317",
   "metadata": {},
   "outputs": [
    {
     "data": {
      "text/plain": [
       "[3, 14, 67, 23, 54, 98, 34]"
      ]
     },
     "execution_count": 97,
     "metadata": {},
     "output_type": "execute_result"
    }
   ],
   "source": [
    "numbers"
   ]
  },
  {
   "cell_type": "code",
   "execution_count": 99,
   "id": "1c26458f-4985-4f3a-b079-b44458d2d7ac",
   "metadata": {},
   "outputs": [
    {
     "data": {
      "text/plain": [
       "[34, 98, 54, 23, 67, 14, 3]"
      ]
     },
     "execution_count": 99,
     "metadata": {},
     "output_type": "execute_result"
    }
   ],
   "source": [
    "numbers"
   ]
  },
  {
   "cell_type": "code",
   "execution_count": 100,
   "id": "6a6b4c2d-9d2c-4a97-a865-0a659dafc74b",
   "metadata": {},
   "outputs": [],
   "source": [
    "numbers_normal = numbers[::-1]"
   ]
  },
  {
   "cell_type": "code",
   "execution_count": 101,
   "id": "2a8cb096-d6e0-46b4-b80c-36232946a1ce",
   "metadata": {},
   "outputs": [
    {
     "data": {
      "text/plain": [
       "[3, 14, 67, 23, 54, 98, 34]"
      ]
     },
     "execution_count": 101,
     "metadata": {},
     "output_type": "execute_result"
    }
   ],
   "source": [
    "numbers_normal"
   ]
  },
  {
   "cell_type": "code",
   "execution_count": 102,
   "id": "a08e0391-4d53-4af6-8684-b760ec1469bc",
   "metadata": {},
   "outputs": [
    {
     "data": {
      "text/plain": [
       "49"
      ]
     },
     "execution_count": 102,
     "metadata": {},
     "output_type": "execute_result"
    }
   ],
   "source": [
    "ord(\"1\")"
   ]
  },
  {
   "cell_type": "code",
   "execution_count": 103,
   "id": "cd77dea3-2cd8-49c7-b16c-1b224394cc26",
   "metadata": {},
   "outputs": [
    {
     "data": {
      "text/plain": [
       "97"
      ]
     },
     "execution_count": 103,
     "metadata": {},
     "output_type": "execute_result"
    }
   ],
   "source": [
    "ord(\"a\")"
   ]
  },
  {
   "cell_type": "code",
   "execution_count": 107,
   "id": "8f38ab43-1be9-4e72-ab83-d0f530090e78",
   "metadata": {},
   "outputs": [],
   "source": [
    "l = [\"1\", \"a\", \"b\", \"4\", \"94\" ]"
   ]
  },
  {
   "cell_type": "code",
   "execution_count": 108,
   "id": "cf4e3905-f9fa-442a-b7a2-86c6f97a54e0",
   "metadata": {},
   "outputs": [],
   "source": [
    "l.sort()"
   ]
  },
  {
   "cell_type": "code",
   "execution_count": 109,
   "id": "a6c4634f-6728-4b67-b0ad-e54aadefd6ef",
   "metadata": {},
   "outputs": [
    {
     "data": {
      "text/plain": [
       "['1', '4', '94', 'a', 'b']"
      ]
     },
     "execution_count": 109,
     "metadata": {},
     "output_type": "execute_result"
    }
   ],
   "source": [
    "l"
   ]
  },
  {
   "cell_type": "code",
   "execution_count": 111,
   "id": "fdf56abc-2fbe-4fee-942b-580609831425",
   "metadata": {},
   "outputs": [],
   "source": [
    "s = [1.8, 9, 6]"
   ]
  },
  {
   "cell_type": "code",
   "execution_count": 112,
   "id": "c3c185ff-1ab5-4ba9-92e0-16ab9ce4c591",
   "metadata": {},
   "outputs": [],
   "source": [
    "s.sort()"
   ]
  },
  {
   "cell_type": "code",
   "execution_count": 113,
   "id": "dde8de1b-d470-44d4-8f65-d3c961a8c781",
   "metadata": {},
   "outputs": [
    {
     "data": {
      "text/plain": [
       "[1.8, 6, 9]"
      ]
     },
     "execution_count": 113,
     "metadata": {},
     "output_type": "execute_result"
    }
   ],
   "source": [
    "s"
   ]
  },
  {
   "cell_type": "markdown",
   "id": "e8fa1ab2-4268-4278-8483-6c3a2135f23f",
   "metadata": {},
   "source": [
    "# dictionary"
   ]
  },
  {
   "cell_type": "code",
   "execution_count": 114,
   "id": "f49aa382-e12e-4b29-9833-a497ea7f1557",
   "metadata": {},
   "outputs": [],
   "source": [
    "info = {\"Ece\": {\"surname\":\"titiz\", \"notes\": {\"eng\": 100, \"ds\": 80, \"math250\": 100, \"disc\": 100}, \"place\": \"dorm\"},\n",
    "       \"Melis\": {\"surname\":\"titiz\", \"notes\": {\"eng\": 800, \"ds\": 50, \"math250\": 80, \"disc\": 70}, \"place\": \"home\"}}\n",
    "\n"
   ]
  },
  {
   "cell_type": "code",
   "execution_count": 115,
   "id": "7d9754b4-f058-4776-9af2-8dfd481c862a",
   "metadata": {},
   "outputs": [],
   "source": [
    "notlar = {\"Ece\": 80, \"Selen\":70}"
   ]
  },
  {
   "cell_type": "code",
   "execution_count": 116,
   "id": "c024aad7-353d-446c-a0ec-ad12fe4baa38",
   "metadata": {},
   "outputs": [],
   "source": [
    "notlar[\"Selen\"] = 40"
   ]
  },
  {
   "cell_type": "code",
   "execution_count": 117,
   "id": "d6f9e69d-a18d-4f40-b521-ab11ff5679ba",
   "metadata": {},
   "outputs": [
    {
     "data": {
      "text/plain": [
       "{'Ece': 80, 'Selen': 40}"
      ]
     },
     "execution_count": 117,
     "metadata": {},
     "output_type": "execute_result"
    }
   ],
   "source": [
    "notlar"
   ]
  },
  {
   "cell_type": "code",
   "execution_count": 118,
   "id": "d295bea8-76d3-4ecf-a602-5de8219328be",
   "metadata": {},
   "outputs": [],
   "source": [
    "message = \"merhaba, orda misin?\""
   ]
  },
  {
   "cell_type": "code",
   "execution_count": 119,
   "id": "99a61215-c943-4f44-8b07-fbc48a516182",
   "metadata": {},
   "outputs": [],
   "source": [
    "m = set(message)"
   ]
  },
  {
   "cell_type": "code",
   "execution_count": 120,
   "id": "e13b7367-a8c8-47cf-95cb-b02ff22744ff",
   "metadata": {},
   "outputs": [
    {
     "data": {
      "text/plain": [
       "{' ', ',', '?', 'a', 'b', 'd', 'e', 'h', 'i', 'm', 'n', 'o', 'r', 's'}"
      ]
     },
     "execution_count": 120,
     "metadata": {},
     "output_type": "execute_result"
    }
   ],
   "source": [
    "m"
   ]
  },
  {
   "cell_type": "code",
   "execution_count": 121,
   "id": "614b76c9-fa7f-453f-80d2-33c3665f5d8e",
   "metadata": {},
   "outputs": [],
   "source": [
    "s = set()"
   ]
  },
  {
   "cell_type": "code",
   "execution_count": 122,
   "id": "71d10ab3-60b4-4ed5-8a43-46ba961ac188",
   "metadata": {},
   "outputs": [
    {
     "data": {
      "text/plain": [
       "set"
      ]
     },
     "execution_count": 122,
     "metadata": {},
     "output_type": "execute_result"
    }
   ],
   "source": [
    "type(s)"
   ]
  },
  {
   "cell_type": "code",
   "execution_count": 123,
   "id": "f0a70623-601e-4f8d-8329-aa97637b6d06",
   "metadata": {},
   "outputs": [],
   "source": [
    "list = [1, 3, 3, 3, 5]"
   ]
  },
  {
   "cell_type": "code",
   "execution_count": 124,
   "id": "b32d9aed-3b8e-4a59-be87-e171223b5f13",
   "metadata": {},
   "outputs": [],
   "source": [
    "ms = set(list)"
   ]
  },
  {
   "cell_type": "code",
   "execution_count": 125,
   "id": "39ed6294-f192-4c41-9f5f-d4a774f08226",
   "metadata": {},
   "outputs": [
    {
     "data": {
      "text/plain": [
       "{1, 3, 5}"
      ]
     },
     "execution_count": 125,
     "metadata": {},
     "output_type": "execute_result"
    }
   ],
   "source": [
    "ms\n"
   ]
  },
  {
   "cell_type": "code",
   "execution_count": 126,
   "id": "b9d9b8c0-ef1e-4daa-b6cc-ae0f2dc73780",
   "metadata": {},
   "outputs": [],
   "source": [
    "list.remove(5)"
   ]
  },
  {
   "cell_type": "code",
   "execution_count": 127,
   "id": "7a7d1885-92b7-4697-8ee1-d221ed880005",
   "metadata": {},
   "outputs": [
    {
     "data": {
      "text/plain": [
       "[1, 3, 3, 3]"
      ]
     },
     "execution_count": 127,
     "metadata": {},
     "output_type": "execute_result"
    }
   ],
   "source": [
    "list"
   ]
  },
  {
   "cell_type": "code",
   "execution_count": 130,
   "id": "ef0b7620-4c39-45b2-9858-af7758e391a5",
   "metadata": {},
   "outputs": [],
   "source": [
    "list = [90, 72, 65, 90]"
   ]
  },
  {
   "cell_type": "code",
   "execution_count": 133,
   "id": "50bdce22-b5a8-413a-91c9-5c6de5226170",
   "metadata": {},
   "outputs": [
    {
     "name": "stdout",
     "output_type": "stream",
     "text": [
      "2\n",
      "5\n",
      "8\n"
     ]
    }
   ],
   "source": [
    "for i in range(2, 9, 3):\n",
    "    print(i)"
   ]
  },
  {
   "cell_type": "code",
   "execution_count": 134,
   "id": "8a976abf-99e2-4658-b4b1-fa7e1bb0fe42",
   "metadata": {},
   "outputs": [
    {
     "name": "stdout",
     "output_type": "stream",
     "text": [
      "100\n",
      "82\n",
      "75\n",
      "100\n"
     ]
    }
   ],
   "source": [
    "for e in list:\n",
    "    e = e + 10\n",
    "    print(e)"
   ]
  },
  {
   "cell_type": "code",
   "execution_count": null,
   "id": "88df475d-7a7a-47e8-8509-bfe7ed1a2354",
   "metadata": {},
   "outputs": [],
   "source": []
  }
 ],
 "metadata": {
  "kernelspec": {
   "display_name": "Python 3 (ipykernel)",
   "language": "python",
   "name": "python3"
  },
  "language_info": {
   "codemirror_mode": {
    "name": "ipython",
    "version": 3
   },
   "file_extension": ".py",
   "mimetype": "text/x-python",
   "name": "python",
   "nbconvert_exporter": "python",
   "pygments_lexer": "ipython3",
   "version": "3.9.13"
  }
 },
 "nbformat": 4,
 "nbformat_minor": 5
}
