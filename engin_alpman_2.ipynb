{
 "cells": [
  {
   "cell_type": "code",
   "execution_count": 2,
   "id": "629168d2-7651-4b0f-9006-06cc014a389d",
   "metadata": {},
   "outputs": [],
   "source": [
    "import numpy as np"
   ]
  },
  {
   "cell_type": "markdown",
   "id": "a75fe3fe-00e0-45ce-871d-b50727064d05",
   "metadata": {},
   "source": [
    "# Concatenation"
   ]
  },
  {
   "cell_type": "code",
   "execution_count": 11,
   "id": "6d941013-b39a-410c-8bce-576096760b6d",
   "metadata": {},
   "outputs": [],
   "source": [
    "a = np.array([1, 2, 3, 4])"
   ]
  },
  {
   "cell_type": "code",
   "execution_count": 12,
   "id": "1d20f732-6a32-4448-9754-04b74bddf53e",
   "metadata": {},
   "outputs": [
    {
     "data": {
      "text/plain": [
       "array([1, 2, 3, 4])"
      ]
     },
     "execution_count": 12,
     "metadata": {},
     "output_type": "execute_result"
    }
   ],
   "source": [
    "a"
   ]
  },
  {
   "cell_type": "code",
   "execution_count": 15,
   "id": "672e149c-61ae-4e02-8ce9-fb1788a32725",
   "metadata": {},
   "outputs": [
    {
     "data": {
      "text/plain": [
       "(4,)"
      ]
     },
     "execution_count": 15,
     "metadata": {},
     "output_type": "execute_result"
    }
   ],
   "source": [
    "a.shape"
   ]
  },
  {
   "cell_type": "code",
   "execution_count": 13,
   "id": "72225ab4-c627-4866-8fbc-23d3a962e63e",
   "metadata": {},
   "outputs": [],
   "source": [
    "b = np.array([5, 6, 7, 8, 9])"
   ]
  },
  {
   "cell_type": "code",
   "execution_count": 14,
   "id": "4a5aa852-5880-4226-81d1-56f1a5afcdf8",
   "metadata": {},
   "outputs": [
    {
     "data": {
      "text/plain": [
       "array([5, 6, 7, 8, 9])"
      ]
     },
     "execution_count": 14,
     "metadata": {},
     "output_type": "execute_result"
    }
   ],
   "source": [
    "b"
   ]
  },
  {
   "cell_type": "code",
   "execution_count": 7,
   "id": "75959777-4af2-437a-9876-bcf36167987a",
   "metadata": {},
   "outputs": [],
   "source": [
    "c = np.concatenate([a, b])"
   ]
  },
  {
   "cell_type": "code",
   "execution_count": 8,
   "id": "d51cdb63-8a4d-4193-b155-2b7bda0a7440",
   "metadata": {},
   "outputs": [
    {
     "data": {
      "text/plain": [
       "array([1, 2, 3, 4, 5, 6, 7, 8, 9])"
      ]
     },
     "execution_count": 8,
     "metadata": {},
     "output_type": "execute_result"
    }
   ],
   "source": [
    "c"
   ]
  },
  {
   "cell_type": "code",
   "execution_count": 9,
   "id": "1e20a409-a201-4dc7-b4d8-0988cae31194",
   "metadata": {},
   "outputs": [
    {
     "data": {
      "text/plain": [
       "(9,)"
      ]
     },
     "execution_count": 9,
     "metadata": {},
     "output_type": "execute_result"
    }
   ],
   "source": [
    "c.shape"
   ]
  },
  {
   "cell_type": "code",
   "execution_count": 17,
   "id": "dcde8b9f-f4a4-4696-9ed0-82a4d32cc57f",
   "metadata": {},
   "outputs": [],
   "source": [
    "list1 = [10, 20, 30, 40]"
   ]
  },
  {
   "cell_type": "code",
   "execution_count": 18,
   "id": "a6eb4c43-a833-4cbf-82ed-fe33053f49eb",
   "metadata": {},
   "outputs": [],
   "source": [
    "list2 = [60, 70]"
   ]
  },
  {
   "cell_type": "code",
   "execution_count": 19,
   "id": "669d6dfa-297c-4755-84fd-72197fa6a7f7",
   "metadata": {},
   "outputs": [
    {
     "data": {
      "text/plain": [
       "[10, 20, 30, 40, 60, 70]"
      ]
     },
     "execution_count": 19,
     "metadata": {},
     "output_type": "execute_result"
    }
   ],
   "source": [
    "list1 + list2"
   ]
  },
  {
   "cell_type": "code",
   "execution_count": 12,
   "id": "b3cc68eb-f9c1-4bf1-a29c-b5947e2d1874",
   "metadata": {},
   "outputs": [
    {
     "data": {
      "text/plain": [
       "[10, 20, 30, 40, 10, 20, 30, 40, 10, 20, 30, 40]"
      ]
     },
     "execution_count": 12,
     "metadata": {},
     "output_type": "execute_result"
    }
   ],
   "source": [
    "list1 * 3"
   ]
  },
  {
   "cell_type": "code",
   "execution_count": 24,
   "id": "7b4f3e99-7fbd-47cc-bff7-7b8e0c7ea071",
   "metadata": {},
   "outputs": [],
   "source": [
    "d = np.concatenate([a, b], axis = 0)"
   ]
  },
  {
   "cell_type": "code",
   "execution_count": 26,
   "id": "e3919816-da77-4801-88d0-1601d68ea019",
   "metadata": {},
   "outputs": [
    {
     "data": {
      "text/plain": [
       "numpy.ndarray"
      ]
     },
     "execution_count": 26,
     "metadata": {},
     "output_type": "execute_result"
    }
   ],
   "source": [
    "type(d)"
   ]
  },
  {
   "cell_type": "code",
   "execution_count": 15,
   "id": "a7ac6a37-b40b-404f-8ac4-45f307de2d15",
   "metadata": {},
   "outputs": [],
   "source": [
    "list3 = [1, 2.1, \"5.4\"]"
   ]
  },
  {
   "cell_type": "code",
   "execution_count": 16,
   "id": "08a96bf8-0812-4715-a435-e56ee6300f47",
   "metadata": {},
   "outputs": [
    {
     "data": {
      "text/plain": [
       "array(['1', '2', '3', '4', '1', '2.1', '5.4'], dtype='<U32')"
      ]
     },
     "execution_count": 16,
     "metadata": {},
     "output_type": "execute_result"
    }
   ],
   "source": [
    "np.concatenate([a, list3])"
   ]
  },
  {
   "cell_type": "code",
   "execution_count": 17,
   "id": "93a57bdd-d9b7-4126-b2fe-b9a988f5a0fd",
   "metadata": {},
   "outputs": [],
   "source": [
    "matrix1 = np.arange(1, 31).reshape(5, 6)"
   ]
  },
  {
   "cell_type": "code",
   "execution_count": 29,
   "id": "5b83278b-2015-4d12-bcce-21028284193d",
   "metadata": {},
   "outputs": [],
   "source": [
    "matrix2 = np.arange(21, 51).reshape(5, 6)"
   ]
  },
  {
   "cell_type": "code",
   "execution_count": 18,
   "id": "b92ef6ac-2186-4849-bf04-8d426097eceb",
   "metadata": {},
   "outputs": [
    {
     "data": {
      "text/plain": [
       "array([[ 1,  2,  3,  4,  5,  6],\n",
       "       [ 7,  8,  9, 10, 11, 12],\n",
       "       [13, 14, 15, 16, 17, 18],\n",
       "       [19, 20, 21, 22, 23, 24],\n",
       "       [25, 26, 27, 28, 29, 30]])"
      ]
     },
     "execution_count": 18,
     "metadata": {},
     "output_type": "execute_result"
    }
   ],
   "source": [
    "matrix1"
   ]
  },
  {
   "cell_type": "code",
   "execution_count": 30,
   "id": "bc2d7640-aff2-4399-8675-093bec2363d7",
   "metadata": {},
   "outputs": [
    {
     "data": {
      "text/plain": [
       "array([[21, 22, 23, 24, 25, 26],\n",
       "       [27, 28, 29, 30, 31, 32],\n",
       "       [33, 34, 35, 36, 37, 38],\n",
       "       [39, 40, 41, 42, 43, 44],\n",
       "       [45, 46, 47, 48, 49, 50]])"
      ]
     },
     "execution_count": 30,
     "metadata": {},
     "output_type": "execute_result"
    }
   ],
   "source": [
    "matrix2"
   ]
  },
  {
   "cell_type": "code",
   "execution_count": 33,
   "id": "33cea2fe-2805-4dbe-b436-624e0e343374",
   "metadata": {},
   "outputs": [],
   "source": [
    "matrix3 = np.concatenate([matrix1, matrix2], axis=1)"
   ]
  },
  {
   "cell_type": "code",
   "execution_count": 34,
   "id": "2cfa754e-3d58-448a-9b97-67b9a0cb7d66",
   "metadata": {},
   "outputs": [
    {
     "data": {
      "text/plain": [
       "array([[ 1,  2,  3,  4,  5,  6, 21, 22, 23, 24, 25, 26],\n",
       "       [ 7,  8,  9, 10, 11, 12, 27, 28, 29, 30, 31, 32],\n",
       "       [13, 14, 15, 16, 17, 18, 33, 34, 35, 36, 37, 38],\n",
       "       [19, 20, 21, 22, 23, 24, 39, 40, 41, 42, 43, 44],\n",
       "       [25, 26, 27, 28, 29, 30, 45, 46, 47, 48, 49, 50]])"
      ]
     },
     "execution_count": 34,
     "metadata": {},
     "output_type": "execute_result"
    }
   ],
   "source": [
    "matrix3"
   ]
  },
  {
   "cell_type": "markdown",
   "id": "ffe70c82-7a93-42d2-be91-2b46540dae4f",
   "metadata": {},
   "source": [
    "# Stack"
   ]
  },
  {
   "cell_type": "markdown",
   "id": "b9157a3d-b732-4fdc-8444-169ac75b5083",
   "metadata": {},
   "source": [
    "* Stack mantiginda olay yeni bir dimension ekleyip onun uzerinden bir ekleme yapmak"
   ]
  },
  {
   "cell_type": "code",
   "execution_count": 48,
   "id": "1a4a6750-2ad2-46da-8735-4268354c9130",
   "metadata": {},
   "outputs": [],
   "source": [
    "a = np.array([10, 11, 12, 13])"
   ]
  },
  {
   "cell_type": "code",
   "execution_count": 49,
   "id": "b456cc61-64bc-446d-8185-20608b1b4558",
   "metadata": {},
   "outputs": [],
   "source": [
    "b = np.array([15, 16, 17, 18])"
   ]
  },
  {
   "cell_type": "code",
   "execution_count": 50,
   "id": "274016bd-7b58-4a66-91e5-52e249b34c62",
   "metadata": {},
   "outputs": [],
   "source": [
    "c = np.concatenate([a, b])"
   ]
  },
  {
   "cell_type": "code",
   "execution_count": 51,
   "id": "6140b7f7-6633-4bc1-865c-08025a2b82e0",
   "metadata": {},
   "outputs": [
    {
     "data": {
      "text/plain": [
       "array([10, 11, 12, 13, 15, 16, 17, 18])"
      ]
     },
     "execution_count": 51,
     "metadata": {},
     "output_type": "execute_result"
    }
   ],
   "source": [
    "c"
   ]
  },
  {
   "cell_type": "code",
   "execution_count": 59,
   "id": "b1d49b96-1777-47e6-9777-a84f594d30f9",
   "metadata": {},
   "outputs": [
    {
     "data": {
      "text/plain": [
       "array([[10, 11, 12, 13],\n",
       "       [15, 16, 17, 18]])"
      ]
     },
     "execution_count": 59,
     "metadata": {},
     "output_type": "execute_result"
    }
   ],
   "source": [
    "np.stack([a, b])"
   ]
  },
  {
   "cell_type": "code",
   "execution_count": 58,
   "id": "8f432a74-4871-436f-871a-f327b426f7dd",
   "metadata": {},
   "outputs": [
    {
     "data": {
      "text/plain": [
       "array([[[ 1,  2,  3,  4,  5,  6],\n",
       "        [ 7,  8,  9, 10, 11, 12],\n",
       "        [13, 14, 15, 16, 17, 18],\n",
       "        [19, 20, 21, 22, 23, 24],\n",
       "        [25, 26, 27, 28, 29, 30]],\n",
       "\n",
       "       [[21, 22, 23, 24, 25, 26],\n",
       "        [27, 28, 29, 30, 31, 32],\n",
       "        [33, 34, 35, 36, 37, 38],\n",
       "        [39, 40, 41, 42, 43, 44],\n",
       "        [45, 46, 47, 48, 49, 50]]])"
      ]
     },
     "execution_count": 58,
     "metadata": {},
     "output_type": "execute_result"
    }
   ],
   "source": [
    "np.stack([matrix1, matrix2])"
   ]
  },
  {
   "cell_type": "markdown",
   "id": "38580f6d-379b-4c90-853f-1bbff7eef408",
   "metadata": {},
   "source": []
  },
  {
   "cell_type": "code",
   "execution_count": null,
   "id": "6bdded07-394c-47bc-a6f7-b91521499ea5",
   "metadata": {},
   "outputs": [],
   "source": []
  }
 ],
 "metadata": {
  "kernelspec": {
   "display_name": "Python 3 (ipykernel)",
   "language": "python",
   "name": "python3"
  },
  "language_info": {
   "codemirror_mode": {
    "name": "ipython",
    "version": 3
   },
   "file_extension": ".py",
   "mimetype": "text/x-python",
   "name": "python",
   "nbconvert_exporter": "python",
   "pygments_lexer": "ipython3",
   "version": "3.9.13"
  }
 },
 "nbformat": 4,
 "nbformat_minor": 5
}
