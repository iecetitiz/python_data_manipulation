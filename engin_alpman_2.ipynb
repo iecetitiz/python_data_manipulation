{
 "cells": [
  {
   "cell_type": "code",
   "execution_count": 1,
   "id": "629168d2-7651-4b0f-9006-06cc014a389d",
   "metadata": {},
   "outputs": [],
   "source": [
    "import numpy as np"
   ]
  },
  {
   "cell_type": "markdown",
   "id": "a75fe3fe-00e0-45ce-871d-b50727064d05",
   "metadata": {},
   "source": [
    "# Concatenation"
   ]
  },
  {
   "cell_type": "code",
   "execution_count": 2,
   "id": "6d941013-b39a-410c-8bce-576096760b6d",
   "metadata": {},
   "outputs": [],
   "source": [
    "a = np.array([1, 2, 3, 4])"
   ]
  },
  {
   "cell_type": "code",
   "execution_count": 3,
   "id": "72225ab4-c627-4866-8fbc-23d3a962e63e",
   "metadata": {},
   "outputs": [],
   "source": [
    "b = np.array([5, 6, 7, 8, 9])"
   ]
  },
  {
   "cell_type": "code",
   "execution_count": 4,
   "id": "4a5aa852-5880-4226-81d1-56f1a5afcdf8",
   "metadata": {},
   "outputs": [
    {
     "data": {
      "text/plain": [
       "array([1, 2, 3, 4])"
      ]
     },
     "execution_count": 4,
     "metadata": {},
     "output_type": "execute_result"
    }
   ],
   "source": [
    "a"
   ]
  },
  {
   "cell_type": "code",
   "execution_count": 5,
   "id": "9f4a727e-475c-433f-99b8-7f80e14e6315",
   "metadata": {},
   "outputs": [
    {
     "data": {
      "text/plain": [
       "array([5, 6, 7, 8, 9])"
      ]
     },
     "execution_count": 5,
     "metadata": {},
     "output_type": "execute_result"
    }
   ],
   "source": [
    "b"
   ]
  },
  {
   "cell_type": "code",
   "execution_count": 6,
   "id": "75959777-4af2-437a-9876-bcf36167987a",
   "metadata": {},
   "outputs": [
    {
     "data": {
      "text/plain": [
       "array([1, 2, 3, 4, 5, 6, 7, 8, 9])"
      ]
     },
     "execution_count": 6,
     "metadata": {},
     "output_type": "execute_result"
    }
   ],
   "source": [
    "np.concatenate([a, b])"
   ]
  },
  {
   "cell_type": "code",
   "execution_count": 7,
   "id": "dcde8b9f-f4a4-4696-9ed0-82a4d32cc57f",
   "metadata": {},
   "outputs": [],
   "source": [
    "list1 = [10, 20, 30, 40]"
   ]
  },
  {
   "cell_type": "code",
   "execution_count": 8,
   "id": "a6eb4c43-a833-4cbf-82ed-fe33053f49eb",
   "metadata": {},
   "outputs": [],
   "source": [
    "list2 = [60, 70]"
   ]
  },
  {
   "cell_type": "code",
   "execution_count": 11,
   "id": "669d6dfa-297c-4755-84fd-72197fa6a7f7",
   "metadata": {},
   "outputs": [
    {
     "data": {
      "text/plain": [
       "[10, 20, 30, 40, 60, 70]"
      ]
     },
     "execution_count": 11,
     "metadata": {},
     "output_type": "execute_result"
    }
   ],
   "source": [
    "list1 + list2"
   ]
  },
  {
   "cell_type": "code",
   "execution_count": 12,
   "id": "b3cc68eb-f9c1-4bf1-a29c-b5947e2d1874",
   "metadata": {},
   "outputs": [
    {
     "data": {
      "text/plain": [
       "[10, 20, 30, 40, 10, 20, 30, 40, 10, 20, 30, 40]"
      ]
     },
     "execution_count": 12,
     "metadata": {},
     "output_type": "execute_result"
    }
   ],
   "source": [
    "list1 * 3"
   ]
  },
  {
   "cell_type": "code",
   "execution_count": 14,
   "id": "7b4f3e99-7fbd-47cc-bff7-7b8e0c7ea071",
   "metadata": {},
   "outputs": [
    {
     "data": {
      "text/plain": [
       "array([ 1,  2,  3,  4,  5,  6,  7,  8,  9, 10, 20, 30, 40])"
      ]
     },
     "execution_count": 14,
     "metadata": {},
     "output_type": "execute_result"
    }
   ],
   "source": [
    "np.concatenate([a, b, list1])"
   ]
  },
  {
   "cell_type": "code",
   "execution_count": 15,
   "id": "a7ac6a37-b40b-404f-8ac4-45f307de2d15",
   "metadata": {},
   "outputs": [],
   "source": [
    "list3 = [1, 2.1, \"5.4\"]"
   ]
  },
  {
   "cell_type": "code",
   "execution_count": 16,
   "id": "08a96bf8-0812-4715-a435-e56ee6300f47",
   "metadata": {},
   "outputs": [
    {
     "data": {
      "text/plain": [
       "array(['1', '2', '3', '4', '1', '2.1', '5.4'], dtype='<U32')"
      ]
     },
     "execution_count": 16,
     "metadata": {},
     "output_type": "execute_result"
    }
   ],
   "source": [
    "np.concatenate([a, list3])"
   ]
  },
  {
   "cell_type": "code",
   "execution_count": 17,
   "id": "93a57bdd-d9b7-4126-b2fe-b9a988f5a0fd",
   "metadata": {},
   "outputs": [],
   "source": [
    "matrix1 = np.arange(1, 31).reshape(5, 6)"
   ]
  },
  {
   "cell_type": "code",
   "execution_count": 29,
   "id": "5b83278b-2015-4d12-bcce-21028284193d",
   "metadata": {},
   "outputs": [],
   "source": [
    "matrix2 = np.arange(21, 51).reshape(5, 6)"
   ]
  },
  {
   "cell_type": "code",
   "execution_count": 18,
   "id": "b92ef6ac-2186-4849-bf04-8d426097eceb",
   "metadata": {},
   "outputs": [
    {
     "data": {
      "text/plain": [
       "array([[ 1,  2,  3,  4,  5,  6],\n",
       "       [ 7,  8,  9, 10, 11, 12],\n",
       "       [13, 14, 15, 16, 17, 18],\n",
       "       [19, 20, 21, 22, 23, 24],\n",
       "       [25, 26, 27, 28, 29, 30]])"
      ]
     },
     "execution_count": 18,
     "metadata": {},
     "output_type": "execute_result"
    }
   ],
   "source": [
    "matrix1"
   ]
  },
  {
   "cell_type": "code",
   "execution_count": 30,
   "id": "bc2d7640-aff2-4399-8675-093bec2363d7",
   "metadata": {},
   "outputs": [
    {
     "data": {
      "text/plain": [
       "array([[21, 22, 23, 24, 25, 26],\n",
       "       [27, 28, 29, 30, 31, 32],\n",
       "       [33, 34, 35, 36, 37, 38],\n",
       "       [39, 40, 41, 42, 43, 44],\n",
       "       [45, 46, 47, 48, 49, 50]])"
      ]
     },
     "execution_count": 30,
     "metadata": {},
     "output_type": "execute_result"
    }
   ],
   "source": [
    "matrix2"
   ]
  },
  {
   "cell_type": "code",
   "execution_count": 23,
   "id": "e160ce99-e62e-4353-bfa3-492a34b6a66d",
   "metadata": {},
   "outputs": [
    {
     "data": {
      "text/plain": [
       "(4,)"
      ]
     },
     "execution_count": 23,
     "metadata": {},
     "output_type": "execute_result"
    }
   ],
   "source": [
    "a.shape"
   ]
  },
  {
   "cell_type": "code",
   "execution_count": 32,
   "id": "33cea2fe-2805-4dbe-b436-624e0e343374",
   "metadata": {},
   "outputs": [
    {
     "data": {
      "text/plain": [
       "array([[ 1,  2,  3,  4,  5,  6, 21, 22, 23, 24, 25, 26],\n",
       "       [ 7,  8,  9, 10, 11, 12, 27, 28, 29, 30, 31, 32],\n",
       "       [13, 14, 15, 16, 17, 18, 33, 34, 35, 36, 37, 38],\n",
       "       [19, 20, 21, 22, 23, 24, 39, 40, 41, 42, 43, 44],\n",
       "       [25, 26, 27, 28, 29, 30, 45, 46, 47, 48, 49, 50]])"
      ]
     },
     "execution_count": 32,
     "metadata": {},
     "output_type": "execute_result"
    }
   ],
   "source": [
    "np.concatenate([matrix1, matrix2], axis=1)"
   ]
  },
  {
   "cell_type": "code",
   "execution_count": null,
   "id": "2cfa754e-3d58-448a-9b97-67b9a0cb7d66",
   "metadata": {},
   "outputs": [],
   "source": []
  }
 ],
 "metadata": {
  "kernelspec": {
   "display_name": "Python 3 (ipykernel)",
   "language": "python",
   "name": "python3"
  },
  "language_info": {
   "codemirror_mode": {
    "name": "ipython",
    "version": 3
   },
   "file_extension": ".py",
   "mimetype": "text/x-python",
   "name": "python",
   "nbconvert_exporter": "python",
   "pygments_lexer": "ipython3",
   "version": "3.9.13"
  }
 },
 "nbformat": 4,
 "nbformat_minor": 5
}
