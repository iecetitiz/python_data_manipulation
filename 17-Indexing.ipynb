{
 "cells": [
  {
   "cell_type": "markdown",
   "id": "ded4a4d5-6620-4c76-86ee-fedefafd8078",
   "metadata": {},
   "source": [
    "**indexleme demek elemanlara ulasmak demek, bir matrixte bir satirin tamamina ulasabilecegim gibi specific olarak bir elemanin kendisine de ulasabilirim**\n",
    "\n",
    "**ulasabilecegim gibi ulastigim sekilde atama yaparak o elemani degistire de bilirim**\n",
    "\n",
    "**bu guncellemeyi yaparken elimde halihazirda olusturulmus bir array oldugu icin arrayin dtyp'i neyse ona cast edilerek guncelleme yapilir**\n",
    "\n",
    "**yorum satirlarini okumayi unutma**\n",
    "\n",
    "**index ile slice mantigi ayni olan islemler, index ile tek bir elemana slice ile birden fazla elemana erisiyorum**"
   ]
  },
  {
   "cell_type": "code",
   "execution_count": 1,
   "id": "21091319-5ea0-4745-8298-5837fa86d517",
   "metadata": {},
   "outputs": [],
   "source": [
    "import numpy as np"
   ]
  },
  {
   "cell_type": "code",
   "execution_count": 5,
   "id": "2de20e5c-a21e-445a-b756-2aebcee47793",
   "metadata": {},
   "outputs": [],
   "source": [
    "a = np.arange(1, 41).reshape(8, 5)"
   ]
  },
  {
   "cell_type": "code",
   "execution_count": 6,
   "id": "26283b73-ee97-4df2-be37-bfded7eb1c59",
   "metadata": {},
   "outputs": [
    {
     "data": {
      "text/plain": [
       "array([[ 1,  2,  3,  4,  5],\n",
       "       [ 6,  7,  8,  9, 10],\n",
       "       [11, 12, 13, 14, 15],\n",
       "       [16, 17, 18, 19, 20],\n",
       "       [21, 22, 23, 24, 25],\n",
       "       [26, 27, 28, 29, 30],\n",
       "       [31, 32, 33, 34, 35],\n",
       "       [36, 37, 38, 39, 40]])"
      ]
     },
     "execution_count": 6,
     "metadata": {},
     "output_type": "execute_result"
    }
   ],
   "source": [
    "a"
   ]
  },
  {
   "cell_type": "code",
   "execution_count": 7,
   "id": "d920da6c-d871-45e5-9340-37305a4fea3e",
   "metadata": {},
   "outputs": [
    {
     "data": {
      "text/plain": [
       "array([1, 2, 3, 4, 5])"
      ]
     },
     "execution_count": 7,
     "metadata": {},
     "output_type": "execute_result"
    }
   ],
   "source": [
    "a[0]"
   ]
  },
  {
   "cell_type": "code",
   "execution_count": 7,
   "id": "ca4078d6-9be0-4709-b22d-2ed85cf7f705",
   "metadata": {},
   "outputs": [
    {
     "data": {
      "text/plain": [
       "array([11, 12, 13, 14, 15])"
      ]
     },
     "execution_count": 7,
     "metadata": {},
     "output_type": "execute_result"
    }
   ],
   "source": [
    "a[2]"
   ]
  },
  {
   "cell_type": "code",
   "execution_count": 8,
   "id": "1f4d4fec-7904-4091-9015-9a8da3ad4670",
   "metadata": {},
   "outputs": [],
   "source": [
    "b = a[0][2] #alt satirdakiyle bu satir ayni sey"
   ]
  },
  {
   "cell_type": "code",
   "execution_count": 9,
   "id": "33eec574-085e-436f-8540-e366ba6b62a5",
   "metadata": {},
   "outputs": [
    {
     "data": {
      "text/plain": [
       "3"
      ]
     },
     "execution_count": 9,
     "metadata": {},
     "output_type": "execute_result"
    }
   ],
   "source": [
    "b"
   ]
  },
  {
   "cell_type": "code",
   "execution_count": 10,
   "id": "1d824332-4f88-43ec-acaa-b60c11133961",
   "metadata": {},
   "outputs": [
    {
     "data": {
      "text/plain": [
       "numpy.int32"
      ]
     },
     "execution_count": 10,
     "metadata": {},
     "output_type": "execute_result"
    }
   ],
   "source": [
    "type(b)"
   ]
  },
  {
   "cell_type": "code",
   "execution_count": 11,
   "id": "5636aedb-5c6a-48f2-a50d-0200e9af6da1",
   "metadata": {},
   "outputs": [],
   "source": [
    "c = a[0]"
   ]
  },
  {
   "cell_type": "code",
   "execution_count": 12,
   "id": "fe73bdec-8376-4bc7-a937-3a802910c9d4",
   "metadata": {},
   "outputs": [
    {
     "data": {
      "text/plain": [
       "array([1, 2, 3, 4, 5])"
      ]
     },
     "execution_count": 12,
     "metadata": {},
     "output_type": "execute_result"
    }
   ],
   "source": [
    "c"
   ]
  },
  {
   "cell_type": "code",
   "execution_count": 13,
   "id": "a2dabadc-e48e-41a1-8b0a-015e10c3efe7",
   "metadata": {},
   "outputs": [
    {
     "data": {
      "text/plain": [
       "numpy.ndarray"
      ]
     },
     "execution_count": 13,
     "metadata": {},
     "output_type": "execute_result"
    }
   ],
   "source": [
    "type(c)"
   ]
  },
  {
   "cell_type": "code",
   "execution_count": 14,
   "id": "d7dfac99-8ba6-4bd4-9dfc-3adebca73d57",
   "metadata": {},
   "outputs": [
    {
     "data": {
      "text/plain": [
       "(5,)"
      ]
     },
     "execution_count": 14,
     "metadata": {},
     "output_type": "execute_result"
    }
   ],
   "source": [
    "c.shape"
   ]
  },
  {
   "cell_type": "code",
   "execution_count": 18,
   "id": "18957a23-c168-411f-ad4b-495fd1c5bf8d",
   "metadata": {},
   "outputs": [],
   "source": [
    "d = np.arange(1, 6).reshape(5, 1)"
   ]
  },
  {
   "cell_type": "code",
   "execution_count": 19,
   "id": "b9e4e17f-8da6-43b2-87fb-8c15f5962735",
   "metadata": {},
   "outputs": [
    {
     "data": {
      "text/plain": [
       "array([[1],\n",
       "       [2],\n",
       "       [3],\n",
       "       [4],\n",
       "       [5]])"
      ]
     },
     "execution_count": 19,
     "metadata": {},
     "output_type": "execute_result"
    }
   ],
   "source": [
    "d"
   ]
  },
  {
   "cell_type": "code",
   "execution_count": 20,
   "id": "9aa5d1b2-27e2-420d-8d84-b775780e9474",
   "metadata": {},
   "outputs": [
    {
     "data": {
      "text/plain": [
       "array([[1],\n",
       "       [2],\n",
       "       [3],\n",
       "       [4],\n",
       "       [5]])"
      ]
     },
     "execution_count": 20,
     "metadata": {},
     "output_type": "execute_result"
    }
   ],
   "source": [
    "d"
   ]
  },
  {
   "cell_type": "code",
   "execution_count": 10,
   "id": "b84e0c0d-4e52-4a5f-9b67-cf0c44a73ec7",
   "metadata": {},
   "outputs": [],
   "source": [
    "a[0, 2] = \"30\" #bunu yapabilirim cunku sayisal bir string"
   ]
  },
  {
   "cell_type": "code",
   "execution_count": 12,
   "id": "c0fbfa10-a448-4421-b804-08f18fd1b3a7",
   "metadata": {},
   "outputs": [
    {
     "ename": "ValueError",
     "evalue": "invalid literal for int() with base 10: '30.60'",
     "output_type": "error",
     "traceback": [
      "\u001b[1;31m---------------------------------------------------------------------------\u001b[0m",
      "\u001b[1;31mValueError\u001b[0m                                Traceback (most recent call last)",
      "\u001b[1;32m~\\AppData\\Local\\Temp\\ipykernel_1292\\292451683.py\u001b[0m in \u001b[0;36m<module>\u001b[1;34m\u001b[0m\n\u001b[1;32m----> 1\u001b[1;33m \u001b[0ma\u001b[0m\u001b[1;33m[\u001b[0m\u001b[1;36m0\u001b[0m\u001b[1;33m,\u001b[0m \u001b[1;36m2\u001b[0m\u001b[1;33m]\u001b[0m \u001b[1;33m=\u001b[0m \u001b[1;34m\"30.60\"\u001b[0m \u001b[1;31m#bunu yapamam cunku floati int olarak guncelleyemem\u001b[0m\u001b[1;33m\u001b[0m\u001b[1;33m\u001b[0m\u001b[0m\n\u001b[0m",
      "\u001b[1;31mValueError\u001b[0m: invalid literal for int() with base 10: '30.60'"
     ]
    }
   ],
   "source": [
    "a[0, 2] = \"30.60\" #bunu yapamam cunku floati int olarak guncelleyemem"
   ]
  },
  {
   "cell_type": "markdown",
   "id": "b41856d9-18e4-478d-a591-02424fedd0cb",
   "metadata": {},
   "source": [
    "# Slicing\n",
    "\n",
    "**su satirdan bu satira kadar tum satirlari al dersem yapiyi koruyarak dondurur**"
   ]
  },
  {
   "cell_type": "code",
   "execution_count": 21,
   "id": "8ba4b6ad-30e0-45b0-91f2-b798d21a3380",
   "metadata": {},
   "outputs": [
    {
     "data": {
      "text/plain": [
       "array([[ 1,  2,  3,  4,  5],\n",
       "       [ 6,  7,  8,  9, 10],\n",
       "       [11, 12, 13, 14, 15],\n",
       "       [16, 17, 18, 19, 20],\n",
       "       [21, 22, 23, 24, 25],\n",
       "       [26, 27, 28, 29, 30],\n",
       "       [31, 32, 33, 34, 35],\n",
       "       [36, 37, 38, 39, 40]])"
      ]
     },
     "execution_count": 21,
     "metadata": {},
     "output_type": "execute_result"
    }
   ],
   "source": [
    "a"
   ]
  },
  {
   "cell_type": "code",
   "execution_count": 13,
   "id": "f7144124-085e-49ec-858d-459efb2f323d",
   "metadata": {},
   "outputs": [
    {
     "data": {
      "text/plain": [
       "array([[ 1,  2, 30,  4,  5],\n",
       "       [ 6,  7,  8,  9, 10],\n",
       "       [11, 12, 13, 14, 15]])"
      ]
     },
     "execution_count": 13,
     "metadata": {},
     "output_type": "execute_result"
    }
   ],
   "source": [
    "a[0:3]"
   ]
  },
  {
   "cell_type": "code",
   "execution_count": 14,
   "id": "ae61000d-2a7e-4fd0-abf0-44c3467848a6",
   "metadata": {},
   "outputs": [
    {
     "data": {
      "text/plain": [
       "array([[ 1,  2, 30,  4,  5],\n",
       "       [ 6,  7,  8,  9, 10]])"
      ]
     },
     "execution_count": 14,
     "metadata": {},
     "output_type": "execute_result"
    }
   ],
   "source": [
    "a[:2]"
   ]
  },
  {
   "cell_type": "code",
   "execution_count": 15,
   "id": "55b30c74-2aef-4a25-a6c2-e7c1797162b9",
   "metadata": {},
   "outputs": [
    {
     "data": {
      "text/plain": [
       "array([[ 1,  2, 30,  4,  5],\n",
       "       [ 6,  7,  8,  9, 10],\n",
       "       [11, 12, 13, 14, 15],\n",
       "       [16, 17, 18, 19, 20]])"
      ]
     },
     "execution_count": 15,
     "metadata": {},
     "output_type": "execute_result"
    }
   ],
   "source": [
    "a[0:]"
   ]
  },
  {
   "cell_type": "code",
   "execution_count": 16,
   "id": "ad0f13e9-08cb-4076-afda-5a671cdf0f1a",
   "metadata": {},
   "outputs": [
    {
     "data": {
      "text/plain": [
       "array([[ 6,  7,  8,  9, 10],\n",
       "       [11, 12, 13, 14, 15],\n",
       "       [16, 17, 18, 19, 20]])"
      ]
     },
     "execution_count": 16,
     "metadata": {},
     "output_type": "execute_result"
    }
   ],
   "source": [
    "a[1:]"
   ]
  },
  {
   "cell_type": "code",
   "execution_count": 17,
   "id": "ced8d92e-0e7f-4695-8222-19dc7ce3ae6c",
   "metadata": {},
   "outputs": [
    {
     "data": {
      "text/plain": [
       "array([[ 1,  2, 30,  4,  5],\n",
       "       [11, 12, 13, 14, 15]])"
      ]
     },
     "execution_count": 17,
     "metadata": {},
     "output_type": "execute_result"
    }
   ],
   "source": [
    "a[::2]"
   ]
  },
  {
   "cell_type": "code",
   "execution_count": 18,
   "id": "b84ab7e1-336d-489b-a403-3c94b0403ffb",
   "metadata": {},
   "outputs": [
    {
     "data": {
      "text/plain": [
       "array([[ 6,  7,  8,  9, 10],\n",
       "       [16, 17, 18, 19, 20]])"
      ]
     },
     "execution_count": 18,
     "metadata": {},
     "output_type": "execute_result"
    }
   ],
   "source": [
    "a[1::2]"
   ]
  },
  {
   "cell_type": "code",
   "execution_count": 19,
   "id": "ce2f1008-39c9-4c21-b90f-67e42c0d5599",
   "metadata": {},
   "outputs": [
    {
     "data": {
      "text/plain": [
       "14"
      ]
     },
     "execution_count": 19,
     "metadata": {},
     "output_type": "execute_result"
    }
   ],
   "source": [
    "a[2,3]"
   ]
  },
  {
   "cell_type": "code",
   "execution_count": 23,
   "id": "073c7118-3cb2-4f68-b2f3-04bc91ae2235",
   "metadata": {},
   "outputs": [
    {
     "data": {
      "text/plain": [
       "array([[ 1,  2,  3,  4,  5],\n",
       "       [ 6,  7,  8,  9, 10],\n",
       "       [11, 12, 13, 14, 15],\n",
       "       [16, 17, 18, 19, 20],\n",
       "       [21, 22, 23, 24, 25],\n",
       "       [26, 27, 28, 29, 30],\n",
       "       [31, 32, 33, 34, 35],\n",
       "       [36, 37, 38, 39, 40]])"
      ]
     },
     "execution_count": 23,
     "metadata": {},
     "output_type": "execute_result"
    }
   ],
   "source": [
    "a"
   ]
  },
  {
   "cell_type": "code",
   "execution_count": null,
   "id": "bcfaf7ac-8922-43e1-8d9b-90e25693daa8",
   "metadata": {},
   "outputs": [],
   "source": []
  },
  {
   "cell_type": "code",
   "execution_count": 22,
   "id": "9e3c596e-bfd2-4c00-9b80-9d1bf0bdec96",
   "metadata": {},
   "outputs": [
    {
     "data": {
      "text/plain": [
       "array([ 4,  9, 14, 19, 24, 29, 34, 39])"
      ]
     },
     "execution_count": 22,
     "metadata": {},
     "output_type": "execute_result"
    }
   ],
   "source": [
    "a[:, 3] #tum rowlari al ama sutun olarak 3.sutunu al, yani 3.col'u al ve butun satirlarla kesistir"
   ]
  },
  {
   "cell_type": "markdown",
   "id": "e43f6aa5-5811-4e5d-88e5-536b8fcb71c1",
   "metadata": {},
   "source": [
    "**ve bunu bana bir sayi obegi olarak dondurecek**"
   ]
  },
  {
   "cell_type": "code",
   "execution_count": 22,
   "id": "076bbd46-90f0-4b8c-85c9-a4c809fc49f1",
   "metadata": {},
   "outputs": [
    {
     "data": {
      "text/plain": [
       "(4,)"
      ]
     },
     "execution_count": 22,
     "metadata": {},
     "output_type": "execute_result"
    }
   ],
   "source": [
    "a[:, 3].shape"
   ]
  },
  {
   "cell_type": "markdown",
   "id": "19832342-e17f-4eb1-8e69-74600d9de82a",
   "metadata": {},
   "source": [
    "**sol taraf satir, sag taraf sutun**"
   ]
  },
  {
   "cell_type": "code",
   "execution_count": 24,
   "id": "2dab3e09-bb44-499b-b99c-8c75d2044661",
   "metadata": {},
   "outputs": [],
   "source": [
    "m = a[::2,3]"
   ]
  },
  {
   "cell_type": "code",
   "execution_count": 25,
   "id": "afd152c2-1378-46d3-a61c-13bba7bf5307",
   "metadata": {},
   "outputs": [
    {
     "data": {
      "text/plain": [
       "array([ 4, 14, 24, 34])"
      ]
     },
     "execution_count": 25,
     "metadata": {},
     "output_type": "execute_result"
    }
   ],
   "source": [
    "m"
   ]
  },
  {
   "cell_type": "code",
   "execution_count": 26,
   "id": "de4a853e-02cf-49b0-95e1-005d79cdc90e",
   "metadata": {},
   "outputs": [
    {
     "data": {
      "text/plain": [
       "(4,)"
      ]
     },
     "execution_count": 26,
     "metadata": {},
     "output_type": "execute_result"
    }
   ],
   "source": [
    "m.shape"
   ]
  },
  {
   "cell_type": "code",
   "execution_count": 27,
   "id": "b7c9f74c-a69c-424b-bd25-e0c37833cca6",
   "metadata": {},
   "outputs": [
    {
     "data": {
      "text/plain": [
       "4"
      ]
     },
     "execution_count": 27,
     "metadata": {},
     "output_type": "execute_result"
    }
   ],
   "source": [
    "m.size"
   ]
  },
  {
   "cell_type": "code",
   "execution_count": 25,
   "id": "8484742a-6425-4340-abcb-19aab60a2c7d",
   "metadata": {},
   "outputs": [
    {
     "data": {
      "text/plain": [
       "array([ 1,  2, 30,  4,  5])"
      ]
     },
     "execution_count": 25,
     "metadata": {},
     "output_type": "execute_result"
    }
   ],
   "source": [
    "a[0, :] #ilk rowu al ve tum sutunlarla kesistir"
   ]
  },
  {
   "cell_type": "code",
   "execution_count": 26,
   "id": "f3051d48-c07d-4d4d-ab67-aec51b40c15c",
   "metadata": {},
   "outputs": [
    {
     "data": {
      "text/plain": [
       "array([ 1,  2, 30,  4,  5])"
      ]
     },
     "execution_count": 26,
     "metadata": {},
     "output_type": "execute_result"
    }
   ],
   "source": [
    "a[0] #aynisini bununla da yapabilirdim"
   ]
  },
  {
   "cell_type": "code",
   "execution_count": 28,
   "id": "675d658b-a286-4ff7-acbb-a4049eef1153",
   "metadata": {},
   "outputs": [
    {
     "data": {
      "text/plain": [
       "array([30,  4])"
      ]
     },
     "execution_count": 28,
     "metadata": {},
     "output_type": "execute_result"
    }
   ],
   "source": [
    "a[0, 2:4] #ayni slice mantigini sutunlar icin de yapabilirim"
   ]
  },
  {
   "cell_type": "code",
   "execution_count": 4,
   "id": "79eeaeea-b13e-4727-bb37-a360d4518747",
   "metadata": {},
   "outputs": [],
   "source": [
    "b = np.arange(1, 41).reshape(8, 5)"
   ]
  },
  {
   "cell_type": "code",
   "execution_count": 5,
   "id": "7949d91e-fda8-45a8-91ae-13a3bd82cb84",
   "metadata": {},
   "outputs": [
    {
     "data": {
      "text/plain": [
       "array([[ 1,  2,  3,  4,  5],\n",
       "       [ 6,  7,  8,  9, 10],\n",
       "       [11, 12, 13, 14, 15],\n",
       "       [16, 17, 18, 19, 20],\n",
       "       [21, 22, 23, 24, 25],\n",
       "       [26, 27, 28, 29, 30],\n",
       "       [31, 32, 33, 34, 35],\n",
       "       [36, 37, 38, 39, 40]])"
      ]
     },
     "execution_count": 5,
     "metadata": {},
     "output_type": "execute_result"
    }
   ],
   "source": [
    "b"
   ]
  },
  {
   "cell_type": "code",
   "execution_count": 7,
   "id": "70a937d3-13ab-4a9e-b8c7-c26c45c84889",
   "metadata": {},
   "outputs": [],
   "source": [
    "c = b[1:3, 3:5]"
   ]
  },
  {
   "cell_type": "code",
   "execution_count": 8,
   "id": "29defe4b-c782-48dd-bef8-314ae7783afc",
   "metadata": {},
   "outputs": [
    {
     "data": {
      "text/plain": [
       "array([[ 9, 10],\n",
       "       [14, 15]])"
      ]
     },
     "execution_count": 8,
     "metadata": {},
     "output_type": "execute_result"
    }
   ],
   "source": [
    "c"
   ]
  },
  {
   "cell_type": "code",
   "execution_count": 9,
   "id": "92849e48-a87c-4f90-81fd-0d34c4a5a1c4",
   "metadata": {},
   "outputs": [
    {
     "data": {
      "text/plain": [
       "(2, 2)"
      ]
     },
     "execution_count": 9,
     "metadata": {},
     "output_type": "execute_result"
    }
   ],
   "source": [
    "c.shape"
   ]
  }
 ],
 "metadata": {
  "kernelspec": {
   "display_name": "Python 3 (ipykernel)",
   "language": "python",
   "name": "python3"
  },
  "language_info": {
   "codemirror_mode": {
    "name": "ipython",
    "version": 3
   },
   "file_extension": ".py",
   "mimetype": "text/x-python",
   "name": "python",
   "nbconvert_exporter": "python",
   "pygments_lexer": "ipython3",
   "version": "3.9.13"
  }
 },
 "nbformat": 4,
 "nbformat_minor": 5
}
