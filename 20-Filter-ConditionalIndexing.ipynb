{
 "cells": [
  {
   "cell_type": "markdown",
   "id": "7043f0c8-09c3-4551-a19b-c5ac68b81c85",
   "metadata": {},
   "source": [
    "# Conditional Indexing\n",
    "\n",
    "**Burda yaptigim sey de cok onemli, fancy index ile yarisir aslinda**\n",
    "\n",
    "**Istersem iki numpy arrayinin ayni olan elemanlarini da kontrol edebilirim ama bunun icin uzunluklari ayni olmali**\n",
    "\n",
    "**filter icinde and or ve not degil de &, | ve ~ kullanmaliyim**\n",
    "\n",
    "**Her bir satiri tek tek incele**"
   ]
  },
  {
   "cell_type": "code",
   "execution_count": 4,
   "id": "bb38dbbc-0a7a-4a4c-9616-551e13506d5d",
   "metadata": {},
   "outputs": [],
   "source": [
    "import numpy as np"
   ]
  },
  {
   "cell_type": "code",
   "execution_count": 5,
   "id": "55c3ffe8-e866-423f-b32f-541af5d3e21a",
   "metadata": {},
   "outputs": [],
   "source": [
    "a = np.arange(1, 10)"
   ]
  },
  {
   "cell_type": "code",
   "execution_count": 6,
   "id": "25f579e1-66eb-4553-9621-6d71ae51edd8",
   "metadata": {},
   "outputs": [
    {
     "data": {
      "text/plain": [
       "array([1, 2, 3, 4, 5, 6, 7, 8, 9])"
      ]
     },
     "execution_count": 6,
     "metadata": {},
     "output_type": "execute_result"
    }
   ],
   "source": [
    "a"
   ]
  },
  {
   "cell_type": "code",
   "execution_count": 7,
   "id": "d182e264-38d7-48d1-9d75-66e90ba51339",
   "metadata": {},
   "outputs": [
    {
     "data": {
      "text/plain": [
       "array([ True,  True,  True,  True, False, False, False, False, False])"
      ]
     },
     "execution_count": 7,
     "metadata": {},
     "output_type": "execute_result"
    }
   ],
   "source": [
    "a < 5"
   ]
  },
  {
   "cell_type": "code",
   "execution_count": 8,
   "id": "b492ad56-f7f1-4244-8d0a-a8f4d641684e",
   "metadata": {},
   "outputs": [
    {
     "data": {
      "text/plain": [
       "array([1, 2, 3, 4])"
      ]
     },
     "execution_count": 8,
     "metadata": {},
     "output_type": "execute_result"
    }
   ],
   "source": [
    "a[a<5]"
   ]
  },
  {
   "cell_type": "markdown",
   "id": "2181b748-0c50-445d-924d-6e7d6429a677",
   "metadata": {},
   "source": [
    "* filter tanimlayarak bir abstraction sagliyorum"
   ]
  },
  {
   "cell_type": "code",
   "execution_count": 9,
   "id": "864d2066-16e7-4e6d-bc86-14cb13f464d6",
   "metadata": {},
   "outputs": [],
   "source": [
    "filter = a < 6"
   ]
  },
  {
   "cell_type": "code",
   "execution_count": 10,
   "id": "b29fa4a8-bcc6-4a6c-bc52-04643e2b2908",
   "metadata": {},
   "outputs": [
    {
     "data": {
      "text/plain": [
       "array([1, 2, 3, 4, 5])"
      ]
     },
     "execution_count": 10,
     "metadata": {},
     "output_type": "execute_result"
    }
   ],
   "source": [
    "a[filter]"
   ]
  },
  {
   "cell_type": "code",
   "execution_count": 11,
   "id": "c97d1405-b62f-469a-a537-2a2671abdebe",
   "metadata": {},
   "outputs": [],
   "source": [
    "l1 = [1, 2, 3, 4]\n",
    "l2= [1, 2, 3, 4]\n",
    "# normal python listlerinde ayni durum soz konusu degil"
   ]
  },
  {
   "cell_type": "code",
   "execution_count": 12,
   "id": "3f14a0da-c0cd-4110-ab89-4b3d879f2cc3",
   "metadata": {},
   "outputs": [
    {
     "data": {
      "text/plain": [
       "True"
      ]
     },
     "execution_count": 12,
     "metadata": {},
     "output_type": "execute_result"
    }
   ],
   "source": [
    "l1 == l2"
   ]
  },
  {
   "cell_type": "code",
   "execution_count": 13,
   "id": "bd7346d3-adce-4703-94cd-65b8ca509ff1",
   "metadata": {},
   "outputs": [],
   "source": [
    "b = np.array([10, 2, 34, 5, 5, 6, 3, 2, 1])"
   ]
  },
  {
   "cell_type": "code",
   "execution_count": 14,
   "id": "5c18c07c-e493-4e6c-9a5f-098be7ccc5dd",
   "metadata": {},
   "outputs": [],
   "source": [
    "c = a == b"
   ]
  },
  {
   "cell_type": "code",
   "execution_count": 17,
   "id": "40f6b85c-4ede-47d6-89ed-86a7c73bb830",
   "metadata": {},
   "outputs": [
    {
     "data": {
      "text/plain": [
       "array([False,  True, False, False,  True,  True, False, False, False])"
      ]
     },
     "execution_count": 17,
     "metadata": {},
     "output_type": "execute_result"
    }
   ],
   "source": [
    "c"
   ]
  },
  {
   "cell_type": "code",
   "execution_count": 18,
   "id": "e69c8cf5-defa-4377-b2f0-1acdbd7b3bad",
   "metadata": {},
   "outputs": [
    {
     "data": {
      "text/plain": [
       "numpy.ndarray"
      ]
     },
     "execution_count": 18,
     "metadata": {},
     "output_type": "execute_result"
    }
   ],
   "source": [
    "type(c)"
   ]
  },
  {
   "cell_type": "code",
   "execution_count": 15,
   "id": "57eaecfe-efee-4cec-9d31-bce339474e5c",
   "metadata": {},
   "outputs": [
    {
     "data": {
      "text/plain": [
       "array([2, 5, 6])"
      ]
     },
     "execution_count": 15,
     "metadata": {},
     "output_type": "execute_result"
    }
   ],
   "source": [
    "a[a==b]"
   ]
  },
  {
   "cell_type": "code",
   "execution_count": 16,
   "id": "fd5fca47-bc35-45df-b3e9-ef5c7df8573d",
   "metadata": {},
   "outputs": [],
   "source": [
    "filter1 = (a > 5) | (a>8)"
   ]
  },
  {
   "cell_type": "code",
   "execution_count": 19,
   "id": "78a483b7-9967-49b1-942a-bda0e7c07197",
   "metadata": {},
   "outputs": [
    {
     "data": {
      "text/plain": [
       "array([6, 7, 8, 9])"
      ]
     },
     "execution_count": 19,
     "metadata": {},
     "output_type": "execute_result"
    }
   ],
   "source": [
    "a[filter1]"
   ]
  },
  {
   "cell_type": "code",
   "execution_count": 20,
   "id": "e77ca82e-03fe-459c-bad5-2146456533d6",
   "metadata": {},
   "outputs": [],
   "source": [
    "filter2 = (a > 5) & (a>8)"
   ]
  },
  {
   "cell_type": "code",
   "execution_count": 21,
   "id": "b52156f1-8d8a-42b8-a29e-22717dccf86a",
   "metadata": {},
   "outputs": [
    {
     "data": {
      "text/plain": [
       "array([9])"
      ]
     },
     "execution_count": 21,
     "metadata": {},
     "output_type": "execute_result"
    }
   ],
   "source": [
    "a[filter2]"
   ]
  },
  {
   "cell_type": "code",
   "execution_count": 23,
   "id": "e2cab02d-ac55-4c60-9900-6124d39b2ea7",
   "metadata": {},
   "outputs": [],
   "source": [
    "a = np.random.randint(30, size = (4,5))"
   ]
  },
  {
   "cell_type": "code",
   "execution_count": 24,
   "id": "2b6beb56-1dc1-4d5f-ae43-592a02fb86b3",
   "metadata": {},
   "outputs": [
    {
     "data": {
      "text/plain": [
       "array([[20, 25,  3, 12,  4],\n",
       "       [ 5,  2,  5, 12, 28],\n",
       "       [18, 20,  1,  7, 14],\n",
       "       [14,  3, 11,  2, 23]])"
      ]
     },
     "execution_count": 24,
     "metadata": {},
     "output_type": "execute_result"
    }
   ],
   "source": [
    "a"
   ]
  },
  {
   "cell_type": "code",
   "execution_count": 25,
   "id": "2e3dbd87-b394-4f12-88a4-3609411bb601",
   "metadata": {},
   "outputs": [],
   "source": [
    "filter3 = ~((a > 10) & (a < 20))"
   ]
  },
  {
   "cell_type": "code",
   "execution_count": 26,
   "id": "6b1d1af1-fe12-4577-a001-45632caadda0",
   "metadata": {},
   "outputs": [
    {
     "data": {
      "text/plain": [
       "array([20, 25,  3,  4,  5,  2,  5, 28, 20,  1,  7,  3,  2, 23])"
      ]
     },
     "execution_count": 26,
     "metadata": {},
     "output_type": "execute_result"
    }
   ],
   "source": [
    "a[filter3]"
   ]
  },
  {
   "cell_type": "code",
   "execution_count": 27,
   "id": "5540feaa-ea45-474f-9f8d-19f00ae9b401",
   "metadata": {},
   "outputs": [
    {
     "data": {
      "text/plain": [
       "array([[False, False,  True, False,  True],\n",
       "       [False,  True, False, False, False],\n",
       "       [False, False,  True, False, False],\n",
       "       [False,  True, False,  True, False]])"
      ]
     },
     "execution_count": 27,
     "metadata": {},
     "output_type": "execute_result"
    }
   ],
   "source": [
    "a < 5"
   ]
  },
  {
   "cell_type": "code",
   "execution_count": 28,
   "id": "868bacc2-7a37-432f-9e2a-bd922dad518d",
   "metadata": {},
   "outputs": [
    {
     "data": {
      "text/plain": [
       "numpy.ndarray"
      ]
     },
     "execution_count": 28,
     "metadata": {},
     "output_type": "execute_result"
    }
   ],
   "source": [
    "type(a)"
   ]
  },
  {
   "cell_type": "code",
   "execution_count": 29,
   "id": "3704b992-c12a-4427-a402-c6696f6c5f85",
   "metadata": {},
   "outputs": [
    {
     "data": {
      "text/plain": [
       "numpy.ndarray"
      ]
     },
     "execution_count": 29,
     "metadata": {},
     "output_type": "execute_result"
    }
   ],
   "source": [
    "type(a < 7)"
   ]
  },
  {
   "cell_type": "code",
   "execution_count": 32,
   "id": "59f555db-7e49-4c1b-9c20-6e2a003ebf69",
   "metadata": {},
   "outputs": [
    {
     "data": {
      "text/plain": [
       "(4, 5)"
      ]
     },
     "execution_count": 32,
     "metadata": {},
     "output_type": "execute_result"
    }
   ],
   "source": [
    "filter3.shape"
   ]
  },
  {
   "cell_type": "code",
   "execution_count": 6,
   "id": "3af6faff-5533-466d-a114-5d6511fefffc",
   "metadata": {},
   "outputs": [],
   "source": [
    "n = np.array([1, 2, 3, None])"
   ]
  },
  {
   "cell_type": "code",
   "execution_count": 7,
   "id": "52b6c1a7-bf04-42cb-96f9-428ad7574a5f",
   "metadata": {},
   "outputs": [
    {
     "data": {
      "text/plain": [
       "array([1, 2, 3, None], dtype=object)"
      ]
     },
     "execution_count": 7,
     "metadata": {},
     "output_type": "execute_result"
    }
   ],
   "source": [
    "n"
   ]
  },
  {
   "cell_type": "code",
   "execution_count": 8,
   "id": "0a687f6e-3132-4015-abff-e241c9894c17",
   "metadata": {},
   "outputs": [
    {
     "data": {
      "text/plain": [
       "array([False, False, False,  True])"
      ]
     },
     "execution_count": 8,
     "metadata": {},
     "output_type": "execute_result"
    }
   ],
   "source": [
    "n == None"
   ]
  },
  {
   "cell_type": "code",
   "execution_count": 9,
   "id": "7946ec78-cec3-4d3f-99fb-6d3fed56940a",
   "metadata": {},
   "outputs": [
    {
     "data": {
      "text/plain": [
       "array([None], dtype=object)"
      ]
     },
     "execution_count": 9,
     "metadata": {},
     "output_type": "execute_result"
    }
   ],
   "source": [
    "n[n == None]"
   ]
  },
  {
   "cell_type": "code",
   "execution_count": 10,
   "id": "26567e70-483a-44c4-ac03-9890d23ab986",
   "metadata": {},
   "outputs": [
    {
     "data": {
      "text/plain": [
       "array([False, False, False, False])"
      ]
     },
     "execution_count": 10,
     "metadata": {},
     "output_type": "execute_result"
    }
   ],
   "source": [
    "n == 5"
   ]
  },
  {
   "cell_type": "code",
   "execution_count": 19,
   "id": "3b26b6dd-3dae-4274-9b6c-d6d645b5a6ba",
   "metadata": {},
   "outputs": [
    {
     "data": {
      "text/plain": [
       "array([1, 2, 3, 4, 5, 6, 7, 8, 9])"
      ]
     },
     "execution_count": 19,
     "metadata": {},
     "output_type": "execute_result"
    }
   ],
   "source": [
    "a"
   ]
  },
  {
   "cell_type": "code",
   "execution_count": 20,
   "id": "c94d3032-7869-464d-ba86-acb21bdd88c1",
   "metadata": {},
   "outputs": [],
   "source": [
    "e = np.random.randint(30, size = (4,5))"
   ]
  },
  {
   "cell_type": "code",
   "execution_count": 21,
   "id": "e2f27682-1a6d-4455-b44e-898a65a6261e",
   "metadata": {},
   "outputs": [
    {
     "data": {
      "text/plain": [
       "array([[10, 13, 23, 20, 17],\n",
       "       [ 9, 17, 25, 21,  6],\n",
       "       [ 5,  4,  6, 22, 10],\n",
       "       [29, 10, 19, 24,  4]])"
      ]
     },
     "execution_count": 21,
     "metadata": {},
     "output_type": "execute_result"
    }
   ],
   "source": [
    "e"
   ]
  },
  {
   "cell_type": "code",
   "execution_count": 24,
   "id": "5bfc60b0-02a7-4ac2-abfb-e64ebc367701",
   "metadata": {},
   "outputs": [],
   "source": [
    "filter5 = e % 5 == 0"
   ]
  },
  {
   "cell_type": "code",
   "execution_count": 25,
   "id": "4e7c0ee4-e234-42df-89ad-20a477d906ff",
   "metadata": {},
   "outputs": [
    {
     "data": {
      "text/plain": [
       "array([13, 23, 17,  9, 17, 21,  6,  4,  6, 22, 29, 19, 24,  4])"
      ]
     },
     "execution_count": 25,
     "metadata": {},
     "output_type": "execute_result"
    }
   ],
   "source": [
    "e[~filter5]"
   ]
  },
  {
   "cell_type": "code",
   "execution_count": 26,
   "id": "2c31ebe0-bfcb-4028-9614-710506ae26f9",
   "metadata": {},
   "outputs": [
    {
     "data": {
      "text/plain": [
       "array([[ True, False, False,  True, False],\n",
       "       [False, False,  True, False, False],\n",
       "       [ True, False, False, False,  True],\n",
       "       [False,  True, False, False, False]])"
      ]
     },
     "execution_count": 26,
     "metadata": {},
     "output_type": "execute_result"
    }
   ],
   "source": [
    "filter5"
   ]
  },
  {
   "cell_type": "code",
   "execution_count": null,
   "id": "b34b7942-cfbb-458c-bba2-d779a30aec21",
   "metadata": {},
   "outputs": [],
   "source": []
  }
 ],
 "metadata": {
  "kernelspec": {
   "display_name": "Python 3 (ipykernel)",
   "language": "python",
   "name": "python3"
  },
  "language_info": {
   "codemirror_mode": {
    "name": "ipython",
    "version": 3
   },
   "file_extension": ".py",
   "mimetype": "text/x-python",
   "name": "python",
   "nbconvert_exporter": "python",
   "pygments_lexer": "ipython3",
   "version": "3.9.13"
  }
 },
 "nbformat": 4,
 "nbformat_minor": 5
}
