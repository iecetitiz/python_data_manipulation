{
 "cells": [
  {
   "cell_type": "markdown",
   "id": "5cfd6dbc-45a7-45e0-9630-d9f96b317803",
   "metadata": {},
   "source": [
    "# Array Attributes"
   ]
  },
  {
   "cell_type": "markdown",
   "id": "2c756cfd-50ab-4ab4-8385-c130bab16709",
   "metadata": {},
   "source": [
    "* **shape**\n",
    "* **ndim**\n",
    "* **size** (eleman sayisini veriyor, kisa yoldan dimensionlardaki sayilari carparak bulabilirim)\n",
    "* **dtype**\n"
   ]
  },
  {
   "cell_type": "code",
   "execution_count": 2,
   "id": "2b2d5fcd-5406-4f9c-a3d2-9dcb00c4f8a7",
   "metadata": {},
   "outputs": [],
   "source": [
    "import numpy as np"
   ]
  },
  {
   "cell_type": "code",
   "execution_count": 3,
   "id": "a4eb283c-fa83-49f4-a800-38bdd1140fda",
   "metadata": {},
   "outputs": [],
   "source": [
    "x = np.zeros(5)"
   ]
  },
  {
   "cell_type": "code",
   "execution_count": 7,
   "id": "5fe43c80-8bbf-4827-9e38-519c9923f04d",
   "metadata": {},
   "outputs": [
    {
     "data": {
      "text/plain": [
       "(5,)"
      ]
     },
     "execution_count": 7,
     "metadata": {},
     "output_type": "execute_result"
    }
   ],
   "source": [
    "x.shape"
   ]
  },
  {
   "cell_type": "code",
   "execution_count": 8,
   "id": "c7f5ded0-5d46-4d9a-88f0-0c2ff71cced4",
   "metadata": {},
   "outputs": [
    {
     "data": {
      "text/plain": [
       "5"
      ]
     },
     "execution_count": 8,
     "metadata": {},
     "output_type": "execute_result"
    }
   ],
   "source": [
    "x.size"
   ]
  },
  {
   "cell_type": "code",
   "execution_count": 9,
   "id": "6256f941-9c37-44e5-b9dc-9bbc28849360",
   "metadata": {},
   "outputs": [
    {
     "data": {
      "text/plain": [
       "dtype('float64')"
      ]
     },
     "execution_count": 9,
     "metadata": {},
     "output_type": "execute_result"
    }
   ],
   "source": [
    "x.dtype"
   ]
  },
  {
   "cell_type": "code",
   "execution_count": 10,
   "id": "366ac52f-06a6-455f-ba52-581c77e20af4",
   "metadata": {},
   "outputs": [
    {
     "data": {
      "text/plain": [
       "1"
      ]
     },
     "execution_count": 10,
     "metadata": {},
     "output_type": "execute_result"
    }
   ],
   "source": [
    "x.ndim"
   ]
  },
  {
   "cell_type": "code",
   "execution_count": 14,
   "id": "26a06c53-4a3b-4488-ab42-d494b971b3a1",
   "metadata": {},
   "outputs": [],
   "source": [
    "y = np.full((3, 4, 5), 5)"
   ]
  },
  {
   "cell_type": "code",
   "execution_count": 15,
   "id": "6f109a2d-9f84-4304-a5b3-e2f4fd9d4f63",
   "metadata": {},
   "outputs": [
    {
     "data": {
      "text/plain": [
       "(3, 4, 5)"
      ]
     },
     "execution_count": 15,
     "metadata": {},
     "output_type": "execute_result"
    }
   ],
   "source": [
    "y.shape"
   ]
  },
  {
   "cell_type": "code",
   "execution_count": 16,
   "id": "0570b340-1784-4979-825e-a71dd4cb62df",
   "metadata": {},
   "outputs": [
    {
     "data": {
      "text/plain": [
       "3"
      ]
     },
     "execution_count": 16,
     "metadata": {},
     "output_type": "execute_result"
    }
   ],
   "source": [
    "y.ndim"
   ]
  },
  {
   "cell_type": "code",
   "execution_count": 17,
   "id": "bc0b8eb8-3527-4cf0-ac7e-ff335d7b07ac",
   "metadata": {},
   "outputs": [
    {
     "data": {
      "text/plain": [
       "60"
      ]
     },
     "execution_count": 17,
     "metadata": {},
     "output_type": "execute_result"
    }
   ],
   "source": [
    "y.size"
   ]
  },
  {
   "cell_type": "code",
   "execution_count": 18,
   "id": "a35382a0-df0c-49a4-812e-279acd49cb7d",
   "metadata": {},
   "outputs": [
    {
     "data": {
      "text/plain": [
       "array([[[5, 5, 5, 5, 5],\n",
       "        [5, 5, 5, 5, 5],\n",
       "        [5, 5, 5, 5, 5],\n",
       "        [5, 5, 5, 5, 5]],\n",
       "\n",
       "       [[5, 5, 5, 5, 5],\n",
       "        [5, 5, 5, 5, 5],\n",
       "        [5, 5, 5, 5, 5],\n",
       "        [5, 5, 5, 5, 5]],\n",
       "\n",
       "       [[5, 5, 5, 5, 5],\n",
       "        [5, 5, 5, 5, 5],\n",
       "        [5, 5, 5, 5, 5],\n",
       "        [5, 5, 5, 5, 5]]])"
      ]
     },
     "execution_count": 18,
     "metadata": {},
     "output_type": "execute_result"
    }
   ],
   "source": [
    "y"
   ]
  },
  {
   "cell_type": "code",
   "execution_count": 19,
   "id": "f4bc0c89-373f-447f-92e1-9d0486b7d511",
   "metadata": {},
   "outputs": [
    {
     "data": {
      "text/plain": [
       "dtype('int32')"
      ]
     },
     "execution_count": 19,
     "metadata": {},
     "output_type": "execute_result"
    }
   ],
   "source": [
    "y.dtype"
   ]
  },
  {
   "cell_type": "code",
   "execution_count": 20,
   "id": "3c18c69e-b826-4686-8b13-ad64a0497a6c",
   "metadata": {},
   "outputs": [],
   "source": [
    "s = np.full((3, 5, 6), \"ece\")"
   ]
  },
  {
   "cell_type": "code",
   "execution_count": 21,
   "id": "e04c0d0e-4ad5-4859-a58c-2a0b42d7e3c3",
   "metadata": {},
   "outputs": [
    {
     "data": {
      "text/plain": [
       "array([[['ece', 'ece', 'ece', 'ece', 'ece', 'ece'],\n",
       "        ['ece', 'ece', 'ece', 'ece', 'ece', 'ece'],\n",
       "        ['ece', 'ece', 'ece', 'ece', 'ece', 'ece'],\n",
       "        ['ece', 'ece', 'ece', 'ece', 'ece', 'ece'],\n",
       "        ['ece', 'ece', 'ece', 'ece', 'ece', 'ece']],\n",
       "\n",
       "       [['ece', 'ece', 'ece', 'ece', 'ece', 'ece'],\n",
       "        ['ece', 'ece', 'ece', 'ece', 'ece', 'ece'],\n",
       "        ['ece', 'ece', 'ece', 'ece', 'ece', 'ece'],\n",
       "        ['ece', 'ece', 'ece', 'ece', 'ece', 'ece'],\n",
       "        ['ece', 'ece', 'ece', 'ece', 'ece', 'ece']],\n",
       "\n",
       "       [['ece', 'ece', 'ece', 'ece', 'ece', 'ece'],\n",
       "        ['ece', 'ece', 'ece', 'ece', 'ece', 'ece'],\n",
       "        ['ece', 'ece', 'ece', 'ece', 'ece', 'ece'],\n",
       "        ['ece', 'ece', 'ece', 'ece', 'ece', 'ece'],\n",
       "        ['ece', 'ece', 'ece', 'ece', 'ece', 'ece']]], dtype='<U3')"
      ]
     },
     "execution_count": 21,
     "metadata": {},
     "output_type": "execute_result"
    }
   ],
   "source": [
    "s"
   ]
  },
  {
   "cell_type": "code",
   "execution_count": null,
   "id": "52f84e14-2121-4ea4-8bef-04265294a7cf",
   "metadata": {},
   "outputs": [],
   "source": []
  }
 ],
 "metadata": {
  "kernelspec": {
   "display_name": "Python 3 (ipykernel)",
   "language": "python",
   "name": "python3"
  },
  "language_info": {
   "codemirror_mode": {
    "name": "ipython",
    "version": 3
   },
   "file_extension": ".py",
   "mimetype": "text/x-python",
   "name": "python",
   "nbconvert_exporter": "python",
   "pygments_lexer": "ipython3",
   "version": "3.9.13"
  }
 },
 "nbformat": 4,
 "nbformat_minor": 5
}
