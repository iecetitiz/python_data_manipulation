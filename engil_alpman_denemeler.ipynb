{
 "cells": [
  {
   "cell_type": "code",
   "execution_count": 1,
   "id": "81bc6f69-e1e7-4731-b8b1-f349b2e79b28",
   "metadata": {},
   "outputs": [],
   "source": [
    "numbers = [e for e in range(3, 61, 3)]"
   ]
  },
  {
   "cell_type": "code",
   "execution_count": 2,
   "id": "370003ef-f31f-4c89-96d8-b6ffcb1d7321",
   "metadata": {},
   "outputs": [
    {
     "data": {
      "text/plain": [
       "[3, 6, 9, 12, 15, 18, 21, 24, 27, 30, 33, 36, 39, 42, 45, 48, 51, 54, 57, 60]"
      ]
     },
     "execution_count": 2,
     "metadata": {},
     "output_type": "execute_result"
    }
   ],
   "source": [
    "numbers"
   ]
  },
  {
   "cell_type": "code",
   "execution_count": 7,
   "id": "1e0a495e-37b2-4a0e-9bc8-ea1a0019fc2a",
   "metadata": {},
   "outputs": [],
   "source": [
    "altinin_katlari = [e for e in numbers if e % 3 == 0 and e % 2 == 0]"
   ]
  },
  {
   "cell_type": "code",
   "execution_count": 8,
   "id": "f2513b25-6d57-4eb4-8680-662141784115",
   "metadata": {},
   "outputs": [
    {
     "data": {
      "text/plain": [
       "[6, 12, 18, 24, 30, 36, 42, 48, 54, 60]"
      ]
     },
     "execution_count": 8,
     "metadata": {},
     "output_type": "execute_result"
    }
   ],
   "source": [
    "altinin_katlari"
   ]
  },
  {
   "cell_type": "code",
   "execution_count": 9,
   "id": "3cd02d7b-fa91-46be-bbd0-13a2d4d476bd",
   "metadata": {},
   "outputs": [],
   "source": [
    "randomnumbers= [3, 6, 89, 90, 34, 12, 67, 23]"
   ]
  },
  {
   "cell_type": "code",
   "execution_count": 10,
   "id": "34094615-04be-4636-ba39-5a58b7063071",
   "metadata": {},
   "outputs": [],
   "source": [
    "my_numbers = [1, 2, 3, 4, 23, 90]"
   ]
  },
  {
   "cell_type": "code",
   "execution_count": 14,
   "id": "ec1ba778-0dd0-434c-8e01-f196dc1613b1",
   "metadata": {},
   "outputs": [],
   "source": [
    "movies = ['Avatar','Spider-Man','Top Gun','Jurassic World','Doctor Strange','Minions','The Battle at Lake', 'Hi, MomLian Ray Pictures',\t'Black Panther','No Time to Die','The Batman',\n",
    "'Thor: Love and Thunder','F9','Detective Chinatown','Venom','Demon Slayer the Movie','The Eight Hundred',\n",
    "'Godzilla vs. Kong','My People, My Homeland\tChina Lion Film Distribution','Shang-Chi and the Legend of the Ten Rings','Moon Man','Bad Boys for Life',]"
   ]
  },
  {
   "cell_type": "code",
   "execution_count": 15,
   "id": "0c38a545-0ef8-465e-981b-4e29c9138ad1",
   "metadata": {},
   "outputs": [
    {
     "data": {
      "text/plain": [
       "['Avatar',\n",
       " 'Spider-Man',\n",
       " 'Top Gun',\n",
       " 'Jurassic World',\n",
       " 'Doctor Strange',\n",
       " 'Minions',\n",
       " 'The Battle at Lake',\n",
       " 'Hi, MomLian Ray Pictures',\n",
       " 'Black Panther',\n",
       " 'No Time to Die',\n",
       " 'The Batman',\n",
       " 'Thor: Love and Thunder',\n",
       " 'F9',\n",
       " 'Detective Chinatown',\n",
       " 'Venom',\n",
       " 'Demon Slayer the Movie',\n",
       " 'The Eight Hundred',\n",
       " 'Godzilla vs. Kong',\n",
       " 'My People, My Homeland\\tChina Lion Film Distribution',\n",
       " 'Shang-Chi and the Legend of the Ten Rings',\n",
       " 'Moon Man',\n",
       " 'Bad Boys for Life']"
      ]
     },
     "execution_count": 15,
     "metadata": {},
     "output_type": "execute_result"
    }
   ],
   "source": [
    "movies"
   ]
  },
  {
   "cell_type": "code",
   "execution_count": 16,
   "id": "29e232a4-ea67-438c-b81e-185972e3e5cc",
   "metadata": {},
   "outputs": [],
   "source": [
    "tmovies = []"
   ]
  },
  {
   "cell_type": "code",
   "execution_count": 17,
   "id": "f287a1e2-42c9-4b43-b199-4642508c7887",
   "metadata": {},
   "outputs": [],
   "source": [
    "for title in movies:\n",
    "    if title.startswith(\"T\"):\n",
    "        tmovies.append(title)"
   ]
  },
  {
   "cell_type": "code",
   "execution_count": 18,
   "id": "426c2f46-4370-4d61-8cba-f9fcbfe4f884",
   "metadata": {},
   "outputs": [
    {
     "data": {
      "text/plain": [
       "['Top Gun',\n",
       " 'The Battle at Lake',\n",
       " 'The Batman',\n",
       " 'Thor: Love and Thunder',\n",
       " 'The Eight Hundred']"
      ]
     },
     "execution_count": 18,
     "metadata": {},
     "output_type": "execute_result"
    }
   ],
   "source": [
    "tmovies"
   ]
  },
  {
   "cell_type": "code",
   "execution_count": 21,
   "id": "66b96e60-6cda-4bea-9ee1-13f0e13cba87",
   "metadata": {},
   "outputs": [],
   "source": [
    "tmovies2 = [title for title in movies if title.startswith(\"T\")]"
   ]
  },
  {
   "cell_type": "code",
   "execution_count": 22,
   "id": "16b71593-ba43-4299-9090-a55b5ad87ace",
   "metadata": {},
   "outputs": [
    {
     "data": {
      "text/plain": [
       "['Top Gun',\n",
       " 'The Battle at Lake',\n",
       " 'The Batman',\n",
       " 'Thor: Love and Thunder',\n",
       " 'The Eight Hundred']"
      ]
     },
     "execution_count": 22,
     "metadata": {},
     "output_type": "execute_result"
    }
   ],
   "source": [
    "tmovies2"
   ]
  },
  {
   "cell_type": "code",
   "execution_count": null,
   "id": "98a49a00-6bc1-4157-9acc-68fdde0b7449",
   "metadata": {},
   "outputs": [],
   "source": []
  }
 ],
 "metadata": {
  "kernelspec": {
   "display_name": "Python 3 (ipykernel)",
   "language": "python",
   "name": "python3"
  },
  "language_info": {
   "codemirror_mode": {
    "name": "ipython",
    "version": 3
   },
   "file_extension": ".py",
   "mimetype": "text/x-python",
   "name": "python",
   "nbconvert_exporter": "python",
   "pygments_lexer": "ipython3",
   "version": "3.9.13"
  }
 },
 "nbformat": 4,
 "nbformat_minor": 5
}
