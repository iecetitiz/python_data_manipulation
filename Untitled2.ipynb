{
 "cells": [
  {
   "cell_type": "code",
   "execution_count": 1,
   "id": "556a2e5a-cad2-4fe9-8190-923ce1f8abec",
   "metadata": {},
   "outputs": [],
   "source": [
    "import numpy as np"
   ]
  },
  {
   "cell_type": "code",
   "execution_count": 2,
   "id": "1ceb2aac-5b91-42dc-8ccf-ce8bb7680cd1",
   "metadata": {},
   "outputs": [],
   "source": [
    "l = np.arange(2, 41, 2)"
   ]
  },
  {
   "cell_type": "code",
   "execution_count": 3,
   "id": "69c214e5-52af-452b-927f-88389d880055",
   "metadata": {},
   "outputs": [
    {
     "data": {
      "text/plain": [
       "array([ 2,  4,  6,  8, 10, 12, 14, 16, 18, 20, 22, 24, 26, 28, 30, 32, 34,\n",
       "       36, 38, 40])"
      ]
     },
     "execution_count": 3,
     "metadata": {},
     "output_type": "execute_result"
    }
   ],
   "source": [
    "l"
   ]
  },
  {
   "cell_type": "code",
   "execution_count": 4,
   "id": "112dce19-7074-4eca-9cef-59df39e78591",
   "metadata": {},
   "outputs": [],
   "source": [
    "index = [0, 4, 8]"
   ]
  },
  {
   "cell_type": "code",
   "execution_count": 5,
   "id": "f4504a07-0e56-4fb1-91ad-46a493a1a327",
   "metadata": {},
   "outputs": [
    {
     "data": {
      "text/plain": [
       "array([ 2, 10, 18])"
      ]
     },
     "execution_count": 5,
     "metadata": {},
     "output_type": "execute_result"
    }
   ],
   "source": [
    "l[index]"
   ]
  },
  {
   "cell_type": "code",
   "execution_count": 6,
   "id": "8e09bfe7-eeaa-48c4-bdeb-8fde96b0e6a0",
   "metadata": {},
   "outputs": [],
   "source": [
    "m = np.arange(1, 41).reshape(8, 5)"
   ]
  },
  {
   "cell_type": "code",
   "execution_count": 7,
   "id": "f059bf4b-edea-4914-9e08-72308656df43",
   "metadata": {},
   "outputs": [
    {
     "data": {
      "text/plain": [
       "array([[ 1,  2,  3,  4,  5],\n",
       "       [ 6,  7,  8,  9, 10],\n",
       "       [11, 12, 13, 14, 15],\n",
       "       [16, 17, 18, 19, 20],\n",
       "       [21, 22, 23, 24, 25],\n",
       "       [26, 27, 28, 29, 30],\n",
       "       [31, 32, 33, 34, 35],\n",
       "       [36, 37, 38, 39, 40]])"
      ]
     },
     "execution_count": 7,
     "metadata": {},
     "output_type": "execute_result"
    }
   ],
   "source": [
    "m"
   ]
  },
  {
   "cell_type": "code",
   "execution_count": 8,
   "id": "f18b0469-6f53-427d-9aa8-1babf453ab17",
   "metadata": {},
   "outputs": [],
   "source": [
    "c = m[2:6, [1, 3]]"
   ]
  },
  {
   "cell_type": "code",
   "execution_count": 9,
   "id": "f55e81de-724a-42cd-a164-baa0ae5036d2",
   "metadata": {},
   "outputs": [
    {
     "data": {
      "text/plain": [
       "array([[12, 14],\n",
       "       [17, 19],\n",
       "       [22, 24],\n",
       "       [27, 29]])"
      ]
     },
     "execution_count": 9,
     "metadata": {},
     "output_type": "execute_result"
    }
   ],
   "source": [
    "c"
   ]
  },
  {
   "cell_type": "code",
   "execution_count": 12,
   "id": "71e98738-b14f-4034-ad69-11d82cce15fb",
   "metadata": {},
   "outputs": [],
   "source": [
    "f = m[[1, 3], [0, 4]]"
   ]
  },
  {
   "cell_type": "code",
   "execution_count": 13,
   "id": "3c11f63a-e785-4301-8b5e-9ff4dd466275",
   "metadata": {},
   "outputs": [
    {
     "data": {
      "text/plain": [
       "array([ 6, 20])"
      ]
     },
     "execution_count": 13,
     "metadata": {},
     "output_type": "execute_result"
    }
   ],
   "source": [
    "f"
   ]
  },
  {
   "cell_type": "code",
   "execution_count": 14,
   "id": "101ccd16-2425-479f-8e4b-b0a5be804dc0",
   "metadata": {},
   "outputs": [
    {
     "data": {
      "text/plain": [
       "(2,)"
      ]
     },
     "execution_count": 14,
     "metadata": {},
     "output_type": "execute_result"
    }
   ],
   "source": [
    "f.shape"
   ]
  },
  {
   "cell_type": "code",
   "execution_count": 15,
   "id": "ae0a81c1-f06c-4c37-8d2e-6d5efb66afa5",
   "metadata": {},
   "outputs": [
    {
     "data": {
      "text/plain": [
       "array([[ 1,  2,  3,  4,  5],\n",
       "       [ 6,  7,  8,  9, 10],\n",
       "       [11, 12, 13, 14, 15],\n",
       "       [16, 17, 18, 19, 20],\n",
       "       [21, 22, 23, 24, 25],\n",
       "       [26, 27, 28, 29, 30],\n",
       "       [31, 32, 33, 34, 35],\n",
       "       [36, 37, 38, 39, 40]])"
      ]
     },
     "execution_count": 15,
     "metadata": {},
     "output_type": "execute_result"
    }
   ],
   "source": [
    "m "
   ]
  },
  {
   "cell_type": "code",
   "execution_count": 20,
   "id": "446feb5f-3567-4e26-833e-0ff77ae4958a",
   "metadata": {},
   "outputs": [],
   "source": [
    "indx1 = [0, 1, 4]\n"
   ]
  },
  {
   "cell_type": "code",
   "execution_count": 21,
   "id": "79947857-d147-49d1-8f10-e731c22737b6",
   "metadata": {},
   "outputs": [],
   "source": [
    "indx2 = [1,2]"
   ]
  },
  {
   "cell_type": "code",
   "execution_count": 23,
   "id": "800c3361-69ac-4bda-b66e-26f05f187527",
   "metadata": {},
   "outputs": [],
   "source": [
    "ece = m[indx1][indx2] #satirlarin yine satirlarini alan bir yapi veriyor = b[indx1][indx2] #satirlarin yine satirlarini alan bir yapi veriyor"
   ]
  },
  {
   "cell_type": "code",
   "execution_count": 24,
   "id": "e7894f68-e2bf-4391-a793-abbca4ec601b",
   "metadata": {},
   "outputs": [
    {
     "data": {
      "text/plain": [
       "array([[ 6,  7,  8,  9, 10],\n",
       "       [21, 22, 23, 24, 25]])"
      ]
     },
     "execution_count": 24,
     "metadata": {},
     "output_type": "execute_result"
    }
   ],
   "source": [
    "ece"
   ]
  },
  {
   "cell_type": "code",
   "execution_count": 25,
   "id": "5b50e7c1-53ef-479a-b8f4-25413424a9ec",
   "metadata": {},
   "outputs": [
    {
     "data": {
      "text/plain": [
       "array([[ 1,  2,  3,  4,  5],\n",
       "       [ 6,  7,  8,  9, 10],\n",
       "       [21, 22, 23, 24, 25]])"
      ]
     },
     "execution_count": 25,
     "metadata": {},
     "output_type": "execute_result"
    }
   ],
   "source": [
    "m[indx1]"
   ]
  },
  {
   "cell_type": "code",
   "execution_count": 26,
   "id": "206be315-fc14-4ba3-bd97-8d2549a5cc24",
   "metadata": {},
   "outputs": [
    {
     "data": {
      "text/plain": [
       "array([[ 6,  7,  8,  9, 10],\n",
       "       [11, 12, 13, 14, 15],\n",
       "       [21, 22, 23, 24, 25]])"
      ]
     },
     "execution_count": 26,
     "metadata": {},
     "output_type": "execute_result"
    }
   ],
   "source": [
    "m[[1, 2, 4]]"
   ]
  },
  {
   "cell_type": "code",
   "execution_count": 34,
   "id": "d42fe301-1bed-4eee-babb-4b7c23352c65",
   "metadata": {},
   "outputs": [],
   "source": [
    "ecem = m[[1, 2, 4]][[0,1]]"
   ]
  },
  {
   "cell_type": "code",
   "execution_count": 35,
   "id": "52d7c7dd-9e53-4f15-9e94-eddcb88f715b",
   "metadata": {},
   "outputs": [
    {
     "data": {
      "text/plain": [
       "numpy.ndarray"
      ]
     },
     "execution_count": 35,
     "metadata": {},
     "output_type": "execute_result"
    }
   ],
   "source": [
    "type(ecem)"
   ]
  },
  {
   "cell_type": "code",
   "execution_count": 36,
   "id": "51c7a326-65b8-4350-beea-9ab0e93966c5",
   "metadata": {},
   "outputs": [
    {
     "data": {
      "text/plain": [
       "(2, 5)"
      ]
     },
     "execution_count": 36,
     "metadata": {},
     "output_type": "execute_result"
    }
   ],
   "source": [
    "ecem.shape"
   ]
  },
  {
   "cell_type": "code",
   "execution_count": 37,
   "id": "10152dd9-43dd-4cc7-9dff-f9cf59a19118",
   "metadata": {},
   "outputs": [
    {
     "data": {
      "text/plain": [
       "array([[ 6,  7,  8,  9, 10],\n",
       "       [11, 12, 13, 14, 15]])"
      ]
     },
     "execution_count": 37,
     "metadata": {},
     "output_type": "execute_result"
    }
   ],
   "source": [
    "ecem"
   ]
  },
  {
   "cell_type": "code",
   "execution_count": null,
   "id": "c766deeb-ca09-4276-a95e-41d4b352ee56",
   "metadata": {},
   "outputs": [],
   "source": []
  }
 ],
 "metadata": {
  "kernelspec": {
   "display_name": "Python 3 (ipykernel)",
   "language": "python",
   "name": "python3"
  },
  "language_info": {
   "codemirror_mode": {
    "name": "ipython",
    "version": 3
   },
   "file_extension": ".py",
   "mimetype": "text/x-python",
   "name": "python",
   "nbconvert_exporter": "python",
   "pygments_lexer": "ipython3",
   "version": "3.9.13"
  }
 },
 "nbformat": 4,
 "nbformat_minor": 5
}
