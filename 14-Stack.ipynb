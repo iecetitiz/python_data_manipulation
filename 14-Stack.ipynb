{
 "cells": [
  {
   "cell_type": "markdown",
   "id": "2b0dc961-1723-4efd-b618-33df04a5cfe3",
   "metadata": {},
   "source": [
    "# Stack"
   ]
  },
  {
   "cell_type": "markdown",
   "id": "fddd26e2-3a66-4c7d-8826-27941cfb64b7",
   "metadata": {},
   "source": [
    "**Concatenate ile boyutlar ayni kalacak sekilde bir birlestirme yapiyordum, ama stack ile boyutu arttirarak bir birlstirme soz konusu, aradaki fark bu** \n",
    "\n",
    "**kullanim sekli concatenate ile ayni yine birlestirecegim degerleri koseli parantezler icinde birlestiriyorum**\n",
    "\n",
    "**simdilik tek boyutu ogrenmem kafi, 3.boyuta gecmiyorum**\n",
    "\n",
    "**axis=1 oldugunda soldan saga, axis = 0 oldugunda yukaridan asagiya bir ekleme yaptigini bilmem yeterli**\n"
   ]
  },
  {
   "cell_type": "code",
   "execution_count": 2,
   "id": "2070649c-9643-4cdd-98ec-da1e5cf28161",
   "metadata": {},
   "outputs": [],
   "source": [
    "import numpy as np"
   ]
  },
  {
   "cell_type": "code",
   "execution_count": 29,
   "id": "462cffae-28b7-470d-ab00-3dd8812d3c2b",
   "metadata": {},
   "outputs": [],
   "source": [
    "a = np.arange(1, 6)"
   ]
  },
  {
   "cell_type": "code",
   "execution_count": 30,
   "id": "2c3ba9c5-75a7-46d4-a6dd-4fbd3bb14c73",
   "metadata": {},
   "outputs": [],
   "source": [
    "b = np.arange(6, 11)"
   ]
  },
  {
   "cell_type": "code",
   "execution_count": 31,
   "id": "cb64b9ca-14b6-4ee1-8be7-d5695480461c",
   "metadata": {},
   "outputs": [
    {
     "data": {
      "text/plain": [
       "(5,)"
      ]
     },
     "execution_count": 31,
     "metadata": {},
     "output_type": "execute_result"
    }
   ],
   "source": [
    "a.shape"
   ]
  },
  {
   "cell_type": "code",
   "execution_count": 32,
   "id": "2bec18da-604a-4d1b-923d-405b3f73bb81",
   "metadata": {},
   "outputs": [
    {
     "data": {
      "text/plain": [
       "(5,)"
      ]
     },
     "execution_count": 32,
     "metadata": {},
     "output_type": "execute_result"
    }
   ],
   "source": [
    "b.shape"
   ]
  },
  {
   "cell_type": "code",
   "execution_count": 33,
   "id": "bfdeae4e-122f-4681-9e68-056ac277f282",
   "metadata": {},
   "outputs": [],
   "source": [
    "c = np.stack([a, b], axis = 1)"
   ]
  },
  {
   "cell_type": "code",
   "execution_count": 34,
   "id": "a1d74d12-32ac-4972-9698-a3f1041b4b45",
   "metadata": {},
   "outputs": [
    {
     "data": {
      "text/plain": [
       "array([[ 1,  6],\n",
       "       [ 2,  7],\n",
       "       [ 3,  8],\n",
       "       [ 4,  9],\n",
       "       [ 5, 10]])"
      ]
     },
     "execution_count": 34,
     "metadata": {},
     "output_type": "execute_result"
    }
   ],
   "source": [
    "c"
   ]
  },
  {
   "cell_type": "code",
   "execution_count": 45,
   "id": "205f701b-4aa0-4ef7-a335-3a2584f8ca52",
   "metadata": {},
   "outputs": [
    {
     "data": {
      "text/plain": [
       "(5, 2)"
      ]
     },
     "execution_count": 45,
     "metadata": {},
     "output_type": "execute_result"
    }
   ],
   "source": [
    "c.shape"
   ]
  },
  {
   "cell_type": "code",
   "execution_count": null,
   "id": "c9a47026-4d94-4f65-ad6f-355df61aedd3",
   "metadata": {},
   "outputs": [],
   "source": []
  }
 ],
 "metadata": {
  "kernelspec": {
   "display_name": "Python 3 (ipykernel)",
   "language": "python",
   "name": "python3"
  },
  "language_info": {
   "codemirror_mode": {
    "name": "ipython",
    "version": 3
   },
   "file_extension": ".py",
   "mimetype": "text/x-python",
   "name": "python",
   "nbconvert_exporter": "python",
   "pygments_lexer": "ipython3",
   "version": "3.9.13"
  }
 },
 "nbformat": 4,
 "nbformat_minor": 5
}
