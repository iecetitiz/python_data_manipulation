{
 "cells": [
  {
   "cell_type": "markdown",
   "id": "cc806968-42a4-462c-9747-74ed785f09de",
   "metadata": {},
   "source": [
    "# Numpy Array"
   ]
  },
  {
   "cell_type": "markdown",
   "id": "8a0d28e8-1c40-4a92-b1dc-681979033b5f",
   "metadata": {},
   "source": [
    "**Numpy arraylerinin icinde tek tip veri olmak zorunda**"
   ]
  },
  {
   "cell_type": "code",
   "execution_count": 3,
   "id": "f3a40f32-5e99-422f-91ea-510f1b993838",
   "metadata": {},
   "outputs": [],
   "source": [
    "import numpy as np"
   ]
  },
  {
   "cell_type": "code",
   "execution_count": 2,
   "id": "6e390890-9990-4438-b450-dd2c1c8f2e27",
   "metadata": {},
   "outputs": [],
   "source": [
    "x = np.array([1, 2, 3, 4, 5])"
   ]
  },
  {
   "cell_type": "code",
   "execution_count": 8,
   "id": "1d2efc62-d859-4196-8d60-cfbe9a8fe8d9",
   "metadata": {},
   "outputs": [
    {
     "data": {
      "text/plain": [
       "numpy.ndarray"
      ]
     },
     "execution_count": 8,
     "metadata": {},
     "output_type": "execute_result"
    }
   ],
   "source": [
    "type(x)"
   ]
  },
  {
   "cell_type": "code",
   "execution_count": 9,
   "id": "1e52c573-e3d3-4bda-a291-fc2b9fd45773",
   "metadata": {},
   "outputs": [],
   "source": [
    "y = np.array([\"a\", \"b\"])"
   ]
  },
  {
   "cell_type": "markdown",
   "id": "a9d920a4-03b5-40b0-8f8f-6054a0ffb19e",
   "metadata": {},
   "source": [
    "**ndarray yaratirken kullandigim listin icinde bir float varsa ve digerleri int'se otomatik hepsi floata cast ediliyor ve oyle yaratiliyor**"
   ]
  },
  {
   "cell_type": "code",
   "execution_count": 17,
   "id": "6d124055-09e5-4afd-98f4-9232dfc941d2",
   "metadata": {},
   "outputs": [],
   "source": [
    "m = np.array([1, 2, 5, 4.7, ])"
   ]
  },
  {
   "cell_type": "markdown",
   "id": "3b6e9737-eb9a-491a-ac73-69b4dfa9e1f8",
   "metadata": {},
   "source": [
    "**ndarray yaratirken kullandigim listin icinde bir string varsa otomatik hepsi stringe cast ediliyor ve oyle yaratiliyor, yani en genel ifade edilebilen hangisiyse hepsi ona cast ediliyor ve oyle yaratiliyor**"
   ]
  },
  {
   "cell_type": "code",
   "execution_count": 4,
   "id": "a8bc7237-3c82-4d75-9954-f1af791e5521",
   "metadata": {},
   "outputs": [],
   "source": [
    "z = np.array([1, 2, 5, \"5\", 4.70])"
   ]
  },
  {
   "cell_type": "code",
   "execution_count": 5,
   "id": "4f26d21e-ecd0-4bcb-8717-24a9a4b50be5",
   "metadata": {},
   "outputs": [
    {
     "data": {
      "text/plain": [
       "array(['1', '2', '5', '5', '4.7'], dtype='<U32')"
      ]
     },
     "execution_count": 5,
     "metadata": {},
     "output_type": "execute_result"
    }
   ],
   "source": [
    "z"
   ]
  },
  {
   "cell_type": "code",
   "execution_count": null,
   "id": "e79f1ccc-3880-4478-8075-1e30dbee6645",
   "metadata": {},
   "outputs": [],
   "source": []
  }
 ],
 "metadata": {
  "kernelspec": {
   "display_name": "Python 3 (ipykernel)",
   "language": "python",
   "name": "python3"
  },
  "language_info": {
   "codemirror_mode": {
    "name": "ipython",
    "version": 3
   },
   "file_extension": ".py",
   "mimetype": "text/x-python",
   "name": "python",
   "nbconvert_exporter": "python",
   "pygments_lexer": "ipython3",
   "version": "3.9.13"
  }
 },
 "nbformat": 4,
 "nbformat_minor": 5
}
