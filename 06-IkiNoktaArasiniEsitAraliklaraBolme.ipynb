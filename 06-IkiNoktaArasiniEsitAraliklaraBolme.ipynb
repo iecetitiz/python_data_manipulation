{
 "cells": [
  {
   "cell_type": "markdown",
   "id": "b4ca82ac-192c-49ea-933f-bc1fe02579b6",
   "metadata": {},
   "source": [
    "# Iki sayiyi belli sayida esit araliklara bolme"
   ]
  },
  {
   "cell_type": "markdown",
   "id": "3ae26973-44fc-4a50-bb18-15105cedbd9d",
   "metadata": {},
   "source": [
    "**linspace'i zihninde sihirli bir degnek olarak canlandir ve uclari dahil olacak sekilde esit araliklara boldugunu hayal et**\n",
    "\n",
    "**tamam bunu hayal et ama ozunde yaptigi sey, totalde, verdigim sayida sayi dondurmesi ayni zamanda**\n",
    "\n",
    "**girdigim sayilar da dahil olmak uzere toplamda elimde kac sayi olacagini bana veriyor, girdigim bu uc noktalar float da olabilir int de olabilir fark etmez**\n",
    "\n",
    "**aralik sayisi yazmazsam default olarak 50 esit parcaya ayirir**\n",
    "\n",
    "**eger istersem endpoint dahil olmasin diyebilirim**\n",
    "\n",
    "**python'da fonksiyonlar sira gozettigi icin parametrede num olarak belirtmeme gerek yoktu belirtsem de belirtmesem de ayni sekilde calisacak**\n",
    " \n",
    " **istersem ayirdigim parcalarin tamamini int yapabilirim**\n",
    " \n",
    " **np.linspace(start, stop, num=4, dtype = int)**\n",
    " \n",
    " **istersem buyukten kucuge de gidebilirim**\n"
   ]
  },
  {
   "cell_type": "code",
   "execution_count": 1,
   "id": "97443119-3ae9-48aa-bfe7-8603dfdc9659",
   "metadata": {},
   "outputs": [],
   "source": [
    "import numpy as np\n"
   ]
  },
  {
   "cell_type": "code",
   "execution_count": 2,
   "id": "c62d541b-6fd4-47f3-b11e-eb14f3107b3e",
   "metadata": {},
   "outputs": [
    {
     "data": {
      "text/plain": [
       "array([1.        , 1.02040816, 1.04081633, 1.06122449, 1.08163265,\n",
       "       1.10204082, 1.12244898, 1.14285714, 1.16326531, 1.18367347,\n",
       "       1.20408163, 1.2244898 , 1.24489796, 1.26530612, 1.28571429,\n",
       "       1.30612245, 1.32653061, 1.34693878, 1.36734694, 1.3877551 ,\n",
       "       1.40816327, 1.42857143, 1.44897959, 1.46938776, 1.48979592,\n",
       "       1.51020408, 1.53061224, 1.55102041, 1.57142857, 1.59183673,\n",
       "       1.6122449 , 1.63265306, 1.65306122, 1.67346939, 1.69387755,\n",
       "       1.71428571, 1.73469388, 1.75510204, 1.7755102 , 1.79591837,\n",
       "       1.81632653, 1.83673469, 1.85714286, 1.87755102, 1.89795918,\n",
       "       1.91836735, 1.93877551, 1.95918367, 1.97959184, 2.        ])"
      ]
     },
     "execution_count": 2,
     "metadata": {},
     "output_type": "execute_result"
    }
   ],
   "source": [
    "np.linspace(1, 2)"
   ]
  },
  {
   "cell_type": "code",
   "execution_count": 3,
   "id": "141bedb2-0cb0-45be-a1f3-38ab277f882a",
   "metadata": {},
   "outputs": [
    {
     "data": {
      "text/plain": [
       "array([1.  , 1.25, 1.5 , 1.75, 2.  ])"
      ]
     },
     "execution_count": 3,
     "metadata": {},
     "output_type": "execute_result"
    }
   ],
   "source": [
    "np.linspace(1, 2, 5)"
   ]
  },
  {
   "cell_type": "code",
   "execution_count": 4,
   "id": "c27876d7-521d-4cdd-95de-75c1869aeb65",
   "metadata": {},
   "outputs": [
    {
     "data": {
      "text/plain": [
       "array([1.  , 1.25, 1.5 , 1.75, 2.  ])"
      ]
     },
     "execution_count": 4,
     "metadata": {},
     "output_type": "execute_result"
    }
   ],
   "source": [
    "np.linspace(1, 2, num = 5)"
   ]
  },
  {
   "cell_type": "code",
   "execution_count": 3,
   "id": "52afe67b-066a-43ad-b433-d77291d6cb6e",
   "metadata": {},
   "outputs": [
    {
     "data": {
      "text/plain": [
       "array([1. , 2.8, 4.6, 6.4, 8.2])"
      ]
     },
     "execution_count": 3,
     "metadata": {},
     "output_type": "execute_result"
    }
   ],
   "source": [
    "np.linspace(1, 10, num = 5, endpoint=False)"
   ]
  },
  {
   "cell_type": "code",
   "execution_count": 6,
   "id": "8c9c5151-608e-4a98-ad80-6d83119eac66",
   "metadata": {},
   "outputs": [
    {
     "data": {
      "text/plain": [
       "array([ 1.  ,  3.25,  5.5 ,  7.75, 10.  ])"
      ]
     },
     "execution_count": 6,
     "metadata": {},
     "output_type": "execute_result"
    }
   ],
   "source": [
    "np.linspace(1, 10, num = 5)"
   ]
  },
  {
   "cell_type": "code",
   "execution_count": 11,
   "id": "1ef22756-b2bd-4f67-819a-99a762fc4b37",
   "metadata": {},
   "outputs": [
    {
     "data": {
      "text/plain": [
       "array([  1,  34,  67, 100])"
      ]
     },
     "execution_count": 11,
     "metadata": {},
     "output_type": "execute_result"
    }
   ],
   "source": [
    "np.linspace(1, 100, num=4, dtype = int)"
   ]
  },
  {
   "cell_type": "code",
   "execution_count": 4,
   "id": "4f1a07eb-b011-425f-a4f8-445115b889fc",
   "metadata": {},
   "outputs": [
    {
     "data": {
      "text/plain": [
       "array([1, 2, 4, 6, 8])"
      ]
     },
     "execution_count": 4,
     "metadata": {},
     "output_type": "execute_result"
    }
   ],
   "source": [
    "np.linspace(1, 10, num = 5, endpoint=False, dtype = int)"
   ]
  },
  {
   "cell_type": "code",
   "execution_count": 5,
   "id": "08600093-f799-4650-ad96-a57744830d36",
   "metadata": {},
   "outputs": [
    {
     "data": {
      "text/plain": [
       "array([100,  82,  64,  46,  28])"
      ]
     },
     "execution_count": 5,
     "metadata": {},
     "output_type": "execute_result"
    }
   ],
   "source": [
    "np.linspace(100, 10, num = 5, endpoint=False, dtype = int)"
   ]
  },
  {
   "cell_type": "code",
   "execution_count": null,
   "id": "38af4d70-b424-4aa2-9c7c-bb0ec3430fb7",
   "metadata": {},
   "outputs": [],
   "source": []
  }
 ],
 "metadata": {
  "kernelspec": {
   "display_name": "Python 3 (ipykernel)",
   "language": "python",
   "name": "python3"
  },
  "language_info": {
   "codemirror_mode": {
    "name": "ipython",
    "version": 3
   },
   "file_extension": ".py",
   "mimetype": "text/x-python",
   "name": "python",
   "nbconvert_exporter": "python",
   "pygments_lexer": "ipython3",
   "version": "3.9.13"
  }
 },
 "nbformat": 4,
 "nbformat_minor": 5
}
