{
 "cells": [
  {
   "cell_type": "markdown",
   "id": "b8302fc5-e6d4-4069-8a2d-e0d4ce393593",
   "metadata": {},
   "source": [
    "**soru 1 -->** concatanate ile 1-D ve 2-D hatta 3-D array birlestir\n",
    "\n",
    "**soru 2 -->** bir arrayin son elemanina tersten eris, index ile ulasarak bir elemani degistir\n",
    "\n",
    "**soru 3 -->** 3-D bir arrayda elemanlara tek tek ulasmayi dene\n",
    "\n",
    "**soru 4 -->** en bastan bir array olustur ve icinde sadece bir tane float deger olsun, sonra bir array olustur hepsi int olsun ama sonradan ekledigin \n",
    "float olsun **index basliginda sadece bu iki basliga odaklan baska bir numarasi yok**\n",
    "\n",
    "**soru 5 -->** bastan basla belli bir indexe kadar 4er 4er al ve bu ornegin cok cok farkli kombinasyonlarini dene\n",
    "\n",
    "**soru 6 -->** ilk 3 satiri al, son iki sutunu al, ortadaki 2-5 satirlar ve 1-3 sutunlari al\n",
    "\n",
    "**soru 7 -->** bir matrix'ten bir parca cikar ve onun uzerinde degisiklikler yap, ve bunu iki sekilde yap, ilkinde ana matrix'im etkilenmesin \n",
    "digerinde etkilensin\n",
    "\n",
    "**soru 8 -->** bir matrix'i veya 1-D arrayi tamamen bir sayiyla carp, float or int whatever\n"
   ]
  },
  {
   "cell_type": "code",
   "execution_count": null,
   "id": "a1527247-380d-4c07-af8a-153f4d5f3b7a",
   "metadata": {},
   "outputs": [],
   "source": []
  }
 ],
 "metadata": {
  "kernelspec": {
   "display_name": "Python 3 (ipykernel)",
   "language": "python",
   "name": "python3"
  },
  "language_info": {
   "codemirror_mode": {
    "name": "ipython",
    "version": 3
   },
   "file_extension": ".py",
   "mimetype": "text/x-python",
   "name": "python",
   "nbconvert_exporter": "python",
   "pygments_lexer": "ipython3",
   "version": "3.9.13"
  }
 },
 "nbformat": 4,
 "nbformat_minor": 5
}
