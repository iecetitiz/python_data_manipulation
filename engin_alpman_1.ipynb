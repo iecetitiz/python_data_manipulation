{
 "cells": [
  {
   "cell_type": "markdown",
   "id": "35e0cad4-939b-4d7c-b5c4-7ed53d5f993d",
   "metadata": {},
   "source": [
    "# listlerden array yaratmak\n"
   ]
  },
  {
   "cell_type": "code",
   "execution_count": 4,
   "id": "7d62c417-608c-40f9-a687-1ace3b20a4e2",
   "metadata": {},
   "outputs": [],
   "source": [
    "import numpy as np"
   ]
  },
  {
   "cell_type": "markdown",
   "id": "921df98e-f1b9-4ce8-a216-47248d9a4edf",
   "metadata": {},
   "source": [
    "list'ten bir numpy array yaratmis oldum"
   ]
  },
  {
   "cell_type": "code",
   "execution_count": 9,
   "id": "13298f5f-2b22-489f-9a3b-32e1e488f0fe",
   "metadata": {},
   "outputs": [
    {
     "data": {
      "text/plain": [
       "array(['ece', 'ege'], dtype='<U3')"
      ]
     },
     "execution_count": 9,
     "metadata": {},
     "output_type": "execute_result"
    }
   ],
   "source": [
    "x = np.array((\"ece\", \"ege\"))\n",
    "x"
   ]
  },
  {
   "cell_type": "code",
   "execution_count": 5,
   "id": "91df3c23-dcbb-4563-b3d7-31fa79b3fc78",
   "metadata": {},
   "outputs": [],
   "source": [
    "y = np.array((1, 2, 3, 4, 5))"
   ]
  },
  {
   "cell_type": "code",
   "execution_count": 6,
   "id": "24153529-e518-4e23-85c8-b2289d1905f0",
   "metadata": {},
   "outputs": [
    {
     "data": {
      "text/plain": [
       "numpy.ndarray"
      ]
     },
     "execution_count": 6,
     "metadata": {},
     "output_type": "execute_result"
    }
   ],
   "source": [
    "type(y)"
   ]
  },
  {
   "cell_type": "code",
   "execution_count": 10,
   "id": "d9b49b32-6506-4309-8e0a-dc26545ff945",
   "metadata": {},
   "outputs": [
    {
     "data": {
      "text/plain": [
       "array(['1', '2', '3', '4', 'a'], dtype='<U11')"
      ]
     },
     "execution_count": 10,
     "metadata": {},
     "output_type": "execute_result"
    }
   ],
   "source": [
    "z = np.array([1, 2, 3, 4, \"a\"])\n",
    "z"
   ]
  },
  {
   "cell_type": "markdown",
   "id": "843c410c-ed6a-4290-b70e-0827e0a279b7",
   "metadata": {},
   "source": [
    "# Array'e tipini manuel olarak vermek"
   ]
  },
  {
   "cell_type": "code",
   "execution_count": 11,
   "id": "b60af3e3-124a-43b4-8ba5-bdbecca50b7b",
   "metadata": {},
   "outputs": [
    {
     "data": {
      "text/plain": [
       "array([ 1. ,  3. ,  6.7,  5. , 67. ])"
      ]
     },
     "execution_count": 11,
     "metadata": {},
     "output_type": "execute_result"
    }
   ],
   "source": [
    "u = np.array([1, 3, 6.7, 5, 67])\n",
    "u"
   ]
  },
  {
   "cell_type": "code",
   "execution_count": 12,
   "id": "0eb5514b-d3b9-42f1-a461-116f1b1ad9aa",
   "metadata": {},
   "outputs": [
    {
     "data": {
      "text/plain": [
       "array([ 1,  3,  6,  5, 67])"
      ]
     },
     "execution_count": 12,
     "metadata": {},
     "output_type": "execute_result"
    }
   ],
   "source": [
    "u = np.array([1, 3, 6.7, 5, 67], dtype = \"int32\")\n",
    "u"
   ]
  },
  {
   "cell_type": "code",
   "execution_count": 13,
   "id": "991bfad2-6e15-4efe-aefd-28667b0efba1",
   "metadata": {},
   "outputs": [
    {
     "data": {
      "text/plain": [
       "array(['1', '3', '6.7', '5', '67'], dtype='<U3')"
      ]
     },
     "execution_count": 13,
     "metadata": {},
     "output_type": "execute_result"
    }
   ],
   "source": [
    "u = np.array([1, 3, 6.7, 5, 67], dtype = \"str\")\n",
    "u"
   ]
  },
  {
   "cell_type": "markdown",
   "id": "9573eb28-cbce-44cf-a627-f531e846d9cc",
   "metadata": {},
   "source": [
    "# zero matrix"
   ]
  },
  {
   "cell_type": "code",
   "execution_count": 14,
   "id": "914c6d05-38b1-453d-a7c7-be84d17e650a",
   "metadata": {},
   "outputs": [
    {
     "data": {
      "text/plain": [
       "array([0., 0., 0., 0., 0., 0., 0., 0., 0., 0.])"
      ]
     },
     "execution_count": 14,
     "metadata": {},
     "output_type": "execute_result"
    }
   ],
   "source": [
    "zeros = np.zeros(10)\n",
    "zeros"
   ]
  },
  {
   "cell_type": "code",
   "execution_count": 16,
   "id": "85e1915c-c222-423b-b921-91646a58c18a",
   "metadata": {},
   "outputs": [
    {
     "data": {
      "text/plain": [
       "array([False, False, False, False, False, False, False, False, False,\n",
       "       False])"
      ]
     },
     "execution_count": 16,
     "metadata": {},
     "output_type": "execute_result"
    }
   ],
   "source": [
    "zeros = np.zeros(10, dtype=bool)\n",
    "zeros"
   ]
  },
  {
   "cell_type": "code",
   "execution_count": 18,
   "id": "7f721776-c622-465f-96e9-44dd403661ad",
   "metadata": {},
   "outputs": [
    {
     "data": {
      "text/plain": [
       "array(['', '', '', '', ''], dtype='<U1')"
      ]
     },
     "execution_count": 18,
     "metadata": {},
     "output_type": "execute_result"
    }
   ],
   "source": [
    "zeros = np.zeros(5, dtype = str)\n",
    "zeros"
   ]
  },
  {
   "cell_type": "code",
   "execution_count": 19,
   "id": "844bf2cd-30af-44c5-8f6c-12687761dc8a",
   "metadata": {},
   "outputs": [
    {
     "data": {
      "text/plain": [
       "array([[0., 0., 0., 0.],\n",
       "       [0., 0., 0., 0.],\n",
       "       [0., 0., 0., 0.]])"
      ]
     },
     "execution_count": 19,
     "metadata": {},
     "output_type": "execute_result"
    }
   ],
   "source": [
    "zeros = np.zeros((3,4))\n",
    "zeros"
   ]
  },
  {
   "cell_type": "code",
   "execution_count": 20,
   "id": "903ef0b6-a17c-454f-a5f7-b5b1c76c9a43",
   "metadata": {},
   "outputs": [
    {
     "data": {
      "text/plain": [
       "array([[[0., 0., 0., 0., 0., 0.],\n",
       "        [0., 0., 0., 0., 0., 0.],\n",
       "        [0., 0., 0., 0., 0., 0.],\n",
       "        [0., 0., 0., 0., 0., 0.],\n",
       "        [0., 0., 0., 0., 0., 0.]],\n",
       "\n",
       "       [[0., 0., 0., 0., 0., 0.],\n",
       "        [0., 0., 0., 0., 0., 0.],\n",
       "        [0., 0., 0., 0., 0., 0.],\n",
       "        [0., 0., 0., 0., 0., 0.],\n",
       "        [0., 0., 0., 0., 0., 0.]],\n",
       "\n",
       "       [[0., 0., 0., 0., 0., 0.],\n",
       "        [0., 0., 0., 0., 0., 0.],\n",
       "        [0., 0., 0., 0., 0., 0.],\n",
       "        [0., 0., 0., 0., 0., 0.],\n",
       "        [0., 0., 0., 0., 0., 0.]]])"
      ]
     },
     "execution_count": 20,
     "metadata": {},
     "output_type": "execute_result"
    }
   ],
   "source": [
    "np.zeros([3, 5, 6])"
   ]
  },
  {
   "cell_type": "markdown",
   "id": "72499550-e4e4-4d55-a521-5f3d0c277e81",
   "metadata": {},
   "source": [
    "# Belli bir degerle doldurmak"
   ]
  },
  {
   "cell_type": "code",
   "execution_count": 21,
   "id": "9ecd4038-eaa0-427b-bd2e-283687608566",
   "metadata": {},
   "outputs": [],
   "source": [
    "z = np.full((4, 4), 5)"
   ]
  },
  {
   "cell_type": "code",
   "execution_count": 22,
   "id": "6704ecb5-f366-4d7b-a58c-383e5b406e7f",
   "metadata": {},
   "outputs": [
    {
     "data": {
      "text/plain": [
       "array([[5, 5, 5, 5],\n",
       "       [5, 5, 5, 5],\n",
       "       [5, 5, 5, 5],\n",
       "       [5, 5, 5, 5]])"
      ]
     },
     "execution_count": 22,
     "metadata": {},
     "output_type": "execute_result"
    }
   ],
   "source": [
    "z"
   ]
  },
  {
   "cell_type": "code",
   "execution_count": 23,
   "id": "71b25696-9cbe-4ae7-bf49-c9e8566f8a01",
   "metadata": {},
   "outputs": [
    {
     "data": {
      "text/plain": [
       "array([[5.67, 5.67, 5.67, 5.67, 5.67],\n",
       "       [5.67, 5.67, 5.67, 5.67, 5.67],\n",
       "       [5.67, 5.67, 5.67, 5.67, 5.67],\n",
       "       [5.67, 5.67, 5.67, 5.67, 5.67]])"
      ]
     },
     "execution_count": 23,
     "metadata": {},
     "output_type": "execute_result"
    }
   ],
   "source": [
    "np.full((4, 5), 5.67)"
   ]
  },
  {
   "cell_type": "markdown",
   "id": "2f956be4-ba65-4057-afff-efac460ad3b0",
   "metadata": {},
   "source": []
  },
  {
   "cell_type": "raw",
   "id": "665e61d6-303a-4919-9a9a-2cc8ffd914d9",
   "metadata": {},
   "source": [
    "burda boyle bir gariplik oluyor olsun bu da boyle "
   ]
  },
  {
   "cell_type": "code",
   "execution_count": 24,
   "id": "af5bd83a-55e0-4169-9c6e-8b7ff2dfb743",
   "metadata": {},
   "outputs": [
    {
     "data": {
      "text/plain": [
       "array([['5', '5', '5', '5', '5'],\n",
       "       ['5', '5', '5', '5', '5'],\n",
       "       ['5', '5', '5', '5', '5'],\n",
       "       ['5', '5', '5', '5', '5']], dtype='<U1')"
      ]
     },
     "execution_count": 24,
     "metadata": {},
     "output_type": "execute_result"
    }
   ],
   "source": [
    "np.full((4, 5), 5.67, dtype = str)"
   ]
  },
  {
   "cell_type": "code",
   "execution_count": 36,
   "id": "576e7276-69c5-4cfa-9582-1e77ab888a72",
   "metadata": {},
   "outputs": [
    {
     "data": {
      "text/plain": [
       "array([['5', '5', '5', '5', '5'],\n",
       "       ['5', '5', '5', '5', '5'],\n",
       "       ['5', '5', '5', '5', '5'],\n",
       "       ['5', '5', '5', '5', '5']], dtype='<U1')"
      ]
     },
     "execution_count": 36,
     "metadata": {},
     "output_type": "execute_result"
    }
   ],
   "source": [
    "np.full((4, 5), 5.67, str)"
   ]
  },
  {
   "cell_type": "code",
   "execution_count": 25,
   "id": "8843987d-af39-420d-96af-415bd46d4b94",
   "metadata": {},
   "outputs": [
    {
     "data": {
      "text/plain": [
       "array([['5.67', '5.67', '5.67', '5.67', '5.67'],\n",
       "       ['5.67', '5.67', '5.67', '5.67', '5.67'],\n",
       "       ['5.67', '5.67', '5.67', '5.67', '5.67'],\n",
       "       ['5.67', '5.67', '5.67', '5.67', '5.67']], dtype='<U4')"
      ]
     },
     "execution_count": 25,
     "metadata": {},
     "output_type": "execute_result"
    }
   ],
   "source": [
    "np.full((4, 5), \"5.67\")"
   ]
  },
  {
   "cell_type": "markdown",
   "id": "d605d6b9-1c4c-4198-bb3c-52ad1b219175",
   "metadata": {},
   "source": [
    "# Ardisik sayilardan array olusturmak"
   ]
  },
  {
   "cell_type": "code",
   "execution_count": 26,
   "id": "f71bc649-5d41-4a2b-bf54-029db85996fa",
   "metadata": {},
   "outputs": [
    {
     "data": {
      "text/plain": [
       "array([ 0,  1,  2,  3,  4,  5,  6,  7,  8,  9, 10, 11])"
      ]
     },
     "execution_count": 26,
     "metadata": {},
     "output_type": "execute_result"
    }
   ],
   "source": [
    "np.arange(0, 12)"
   ]
  },
  {
   "cell_type": "code",
   "execution_count": 27,
   "id": "5b8c0306-b507-42ab-967a-a305522bb6e7",
   "metadata": {},
   "outputs": [
    {
     "data": {
      "text/plain": [
       "array([ 2,  3,  4,  5,  6,  7,  8,  9, 10, 11])"
      ]
     },
     "execution_count": 27,
     "metadata": {},
     "output_type": "execute_result"
    }
   ],
   "source": [
    "np.arange(2, 12)"
   ]
  },
  {
   "cell_type": "code",
   "execution_count": 33,
   "id": "d5ae32b0-eee6-4f98-a0b9-5d0f36e45dc8",
   "metadata": {},
   "outputs": [
    {
     "data": {
      "text/plain": [
       "array([ 2.5,  4.5,  6.5,  8.5, 10.5])"
      ]
     },
     "execution_count": 33,
     "metadata": {},
     "output_type": "execute_result"
    }
   ],
   "source": [
    "np.arange(2.5, 12, 2)"
   ]
  },
  {
   "cell_type": "code",
   "execution_count": 32,
   "id": "446bb6de-9037-45bf-bd47-7467f39c8119",
   "metadata": {},
   "outputs": [
    {
     "data": {
      "text/plain": [
       "array([], dtype=float64)"
      ]
     },
     "execution_count": 32,
     "metadata": {},
     "output_type": "execute_result"
    }
   ],
   "source": [
    "np.arange(2, 12, -2)"
   ]
  },
  {
   "cell_type": "code",
   "execution_count": 30,
   "id": "3e104136-b58d-4130-b024-548c16603ed7",
   "metadata": {},
   "outputs": [
    {
     "data": {
      "text/plain": [
       "array([12, 10,  8,  6,  4])"
      ]
     },
     "execution_count": 30,
     "metadata": {},
     "output_type": "execute_result"
    }
   ],
   "source": [
    "np.arange(12, 2, -2)"
   ]
  },
  {
   "cell_type": "markdown",
   "id": "85cd8a95-c48d-4901-8aeb-ba6cd9aa8ad1",
   "metadata": {},
   "source": [
    "# Bir araliktan birbirine esit mesafede noktalar olusturmak"
   ]
  },
  {
   "cell_type": "code",
   "execution_count": 35,
   "id": "59441bdb-b2dc-4588-9ead-e7bef828bd96",
   "metadata": {},
   "outputs": [
    {
     "data": {
      "text/plain": [
       "array([1.        , 1.02040816, 1.04081633, 1.06122449, 1.08163265,\n",
       "       1.10204082, 1.12244898, 1.14285714, 1.16326531, 1.18367347,\n",
       "       1.20408163, 1.2244898 , 1.24489796, 1.26530612, 1.28571429,\n",
       "       1.30612245, 1.32653061, 1.34693878, 1.36734694, 1.3877551 ,\n",
       "       1.40816327, 1.42857143, 1.44897959, 1.46938776, 1.48979592,\n",
       "       1.51020408, 1.53061224, 1.55102041, 1.57142857, 1.59183673,\n",
       "       1.6122449 , 1.63265306, 1.65306122, 1.67346939, 1.69387755,\n",
       "       1.71428571, 1.73469388, 1.75510204, 1.7755102 , 1.79591837,\n",
       "       1.81632653, 1.83673469, 1.85714286, 1.87755102, 1.89795918,\n",
       "       1.91836735, 1.93877551, 1.95918367, 1.97959184, 2.        ])"
      ]
     },
     "execution_count": 35,
     "metadata": {},
     "output_type": "execute_result"
    }
   ],
   "source": [
    "np.linspace(1, 2)"
   ]
  },
  {
   "cell_type": "code",
   "execution_count": 37,
   "id": "1ab95b35-68ca-4bf2-a8f4-454bab6e70fc",
   "metadata": {},
   "outputs": [
    {
     "data": {
      "text/plain": [
       "array([1.5 , 1.82, 2.14, 2.46, 2.78, 3.1 , 3.42, 3.74, 4.06, 4.38])"
      ]
     },
     "execution_count": 37,
     "metadata": {},
     "output_type": "execute_result"
    }
   ],
   "source": [
    "np.linspace(1.5, 4.7, num = 10, endpoint = False)"
   ]
  },
  {
   "cell_type": "code",
   "execution_count": 38,
   "id": "89e88198-52ff-4faf-a766-af77601fd5ad",
   "metadata": {},
   "outputs": [
    {
     "data": {
      "text/plain": [
       "array([ 1.        ,  1.29292929,  1.58585859,  1.87878788,  2.17171717,\n",
       "        2.46464646,  2.75757576,  3.05050505,  3.34343434,  3.63636364,\n",
       "        3.92929293,  4.22222222,  4.51515152,  4.80808081,  5.1010101 ,\n",
       "        5.39393939,  5.68686869,  5.97979798,  6.27272727,  6.56565657,\n",
       "        6.85858586,  7.15151515,  7.44444444,  7.73737374,  8.03030303,\n",
       "        8.32323232,  8.61616162,  8.90909091,  9.2020202 ,  9.49494949,\n",
       "        9.78787879, 10.08080808, 10.37373737, 10.66666667, 10.95959596,\n",
       "       11.25252525, 11.54545455, 11.83838384, 12.13131313, 12.42424242,\n",
       "       12.71717172, 13.01010101, 13.3030303 , 13.5959596 , 13.88888889,\n",
       "       14.18181818, 14.47474747, 14.76767677, 15.06060606, 15.35353535,\n",
       "       15.64646465, 15.93939394, 16.23232323, 16.52525253, 16.81818182,\n",
       "       17.11111111, 17.4040404 , 17.6969697 , 17.98989899, 18.28282828,\n",
       "       18.57575758, 18.86868687, 19.16161616, 19.45454545, 19.74747475,\n",
       "       20.04040404, 20.33333333, 20.62626263, 20.91919192, 21.21212121,\n",
       "       21.50505051, 21.7979798 , 22.09090909, 22.38383838, 22.67676768,\n",
       "       22.96969697, 23.26262626, 23.55555556, 23.84848485, 24.14141414,\n",
       "       24.43434343, 24.72727273, 25.02020202, 25.31313131, 25.60606061,\n",
       "       25.8989899 , 26.19191919, 26.48484848, 26.77777778, 27.07070707,\n",
       "       27.36363636, 27.65656566, 27.94949495, 28.24242424, 28.53535354,\n",
       "       28.82828283, 29.12121212, 29.41414141, 29.70707071, 30.        ])"
      ]
     },
     "execution_count": 38,
     "metadata": {},
     "output_type": "execute_result"
    }
   ],
   "source": [
    "np.linspace(1, 30, 100)"
   ]
  },
  {
   "cell_type": "markdown",
   "id": "12438d73-83c8-4ac2-93ea-2fbf93fe674d",
   "metadata": {},
   "source": [
    "# Normal Distribution ile Array Olusturmak"
   ]
  },
  {
   "cell_type": "markdown",
   "id": "b5d9ada8-9e5f-4d6d-b129-1c8dbb1003aa",
   "metadata": {},
   "source": [
    "* (mean, std, array_size)"
   ]
  },
  {
   "cell_type": "code",
   "execution_count": 40,
   "id": "2c55c46d-6125-461a-bc80-65de505e77b2",
   "metadata": {},
   "outputs": [
    {
     "data": {
      "text/plain": [
       "array([10.60445175,  2.44733072, -7.781474  ,  2.84184202, 19.02701249])"
      ]
     },
     "execution_count": 40,
     "metadata": {},
     "output_type": "execute_result"
    }
   ],
   "source": [
    "np.random.normal(0, 10, 5)"
   ]
  },
  {
   "cell_type": "code",
   "execution_count": 41,
   "id": "d013545d-c8d8-4048-84ed-cd537da75b81",
   "metadata": {},
   "outputs": [
    {
     "data": {
      "text/plain": [
       "array([[  19.31456866,   34.04163886,  -80.01141524, -131.16194933,\n",
       "        -197.13944533],\n",
       "       [ -85.89812103,   35.45070528,  -25.88714694,  158.93733807,\n",
       "         -88.34489389],\n",
       "       [   8.41798211,   33.21743016,  115.44488667,   99.94319617,\n",
       "         136.159359  ],\n",
       "       [ 239.2248798 ,  -41.15027123,   71.78530699,   38.70085323,\n",
       "          10.14651258]])"
      ]
     },
     "execution_count": 41,
     "metadata": {},
     "output_type": "execute_result"
    }
   ],
   "source": [
    "np.random.normal(10, 100, (4,5))"
   ]
  },
  {
   "cell_type": "markdown",
   "id": "f866f982-a25d-4bab-a75f-cad5ea572467",
   "metadata": {},
   "source": [
    "# Random Integer Degerler ile Array Uretmek"
   ]
  },
  {
   "cell_type": "markdown",
   "id": "e72aea6c-d29b-422a-825b-5eab234c2bea",
   "metadata": {},
   "source": [
    "[low, high)"
   ]
  },
  {
   "cell_type": "code",
   "execution_count": 43,
   "id": "17fb1aef-b5b7-44ad-a167-952d8fde368b",
   "metadata": {},
   "outputs": [
    {
     "data": {
      "text/plain": [
       "array([[13,  8,  9, 29],\n",
       "       [28, 14, 13,  8],\n",
       "       [15, 10, 12,  3]])"
      ]
     },
     "execution_count": 43,
     "metadata": {},
     "output_type": "execute_result"
    }
   ],
   "source": [
    "np.random.randint(3, 30, (3, 4))"
   ]
  },
  {
   "cell_type": "code",
   "execution_count": 45,
   "id": "57657aac-be2c-470a-857b-2adf8213676b",
   "metadata": {},
   "outputs": [
    {
     "data": {
      "text/plain": [
       "1"
      ]
     },
     "execution_count": 45,
     "metadata": {},
     "output_type": "execute_result"
    }
   ],
   "source": [
    "np.random.randint(1, 5)"
   ]
  },
  {
   "cell_type": "code",
   "execution_count": 47,
   "id": "da9086d8-97fa-4a34-b9e0-d7619e6d6b64",
   "metadata": {},
   "outputs": [],
   "source": [
    "d = {}\n",
    "for _ in range(2000):\n",
    "    val = np.random.randint(1, 11)\n",
    "    if val not in d:\n",
    "        d[val] = 1\n",
    "    else:\n",
    "        d[val] += 1\n",
    "        "
   ]
  },
  {
   "cell_type": "code",
   "execution_count": 48,
   "id": "e9c4ec83-15e8-400a-b837-a6010a26982c",
   "metadata": {},
   "outputs": [
    {
     "data": {
      "text/plain": [
       "{3: 187,\n",
       " 4: 198,\n",
       " 10: 193,\n",
       " 5: 193,\n",
       " 6: 196,\n",
       " 1: 209,\n",
       " 8: 210,\n",
       " 9: 222,\n",
       " 7: 184,\n",
       " 2: 208}"
      ]
     },
     "execution_count": 48,
     "metadata": {},
     "output_type": "execute_result"
    }
   ],
   "source": [
    "d"
   ]
  },
  {
   "cell_type": "code",
   "execution_count": 54,
   "id": "8ffd6155-dcdb-4075-be6f-c69a0288b5cf",
   "metadata": {},
   "outputs": [
    {
     "name": "stdout",
     "output_type": "stream",
     "text": [
      "2\n",
      "6\n",
      "10\n",
      "14\n",
      "18\n"
     ]
    }
   ],
   "source": [
    "for i in range(2, 20, 4):\n",
    "    print(i)"
   ]
  },
  {
   "cell_type": "markdown",
   "id": "8b367dbd-ac89-4c05-a26c-25be2e7053e4",
   "metadata": {},
   "source": [
    "# Identity Matrix"
   ]
  },
  {
   "cell_type": "code",
   "execution_count": 55,
   "id": "a2b61e8f-21a1-49a1-9d39-8441e91c1ed3",
   "metadata": {},
   "outputs": [
    {
     "data": {
      "text/plain": [
       "array([[1., 0., 0.],\n",
       "       [0., 1., 0.],\n",
       "       [0., 0., 1.]])"
      ]
     },
     "execution_count": 55,
     "metadata": {},
     "output_type": "execute_result"
    }
   ],
   "source": [
    "np.eye(3,3)"
   ]
  },
  {
   "cell_type": "code",
   "execution_count": 56,
   "id": "143c21fb-1016-4527-9f48-6eedb4242f7a",
   "metadata": {},
   "outputs": [
    {
     "data": {
      "text/plain": [
       "array([[1., 0., 0., 0.],\n",
       "       [0., 1., 0., 0.],\n",
       "       [0., 0., 1., 0.],\n",
       "       [0., 0., 0., 1.]])"
      ]
     },
     "execution_count": 56,
     "metadata": {},
     "output_type": "execute_result"
    }
   ],
   "source": [
    "np.eye(4, 4)"
   ]
  },
  {
   "cell_type": "code",
   "execution_count": 57,
   "id": "ff893228-3a28-4747-b554-82ba78edb0d8",
   "metadata": {},
   "outputs": [
    {
     "data": {
      "text/plain": [
       "array([[1., 0., 0., 0.],\n",
       "       [0., 1., 0., 0.],\n",
       "       [0., 0., 1., 0.]])"
      ]
     },
     "execution_count": 57,
     "metadata": {},
     "output_type": "execute_result"
    }
   ],
   "source": [
    "np.eye(3, 4)"
   ]
  },
  {
   "cell_type": "markdown",
   "id": "e06406c6-da79-43e4-a8ed-146e439a01f3",
   "metadata": {},
   "source": [
    "# Array Islemleri"
   ]
  },
  {
   "cell_type": "markdown",
   "id": "ec3e9c3a-8601-423a-bff8-5d418ec53384",
   "metadata": {},
   "source": [
    "* python list'leri icin + ve * islemleri concatanete icin tanimli, elemanlari toplayamiyor ve carpamiyor"
   ]
  },
  {
   "cell_type": "code",
   "execution_count": 73,
   "id": "8dcc90ec-90e9-41a9-8d71-01ca7bf9458b",
   "metadata": {},
   "outputs": [],
   "source": [
    "mya = [1, 2, 3, 4]\n",
    "myb = [5, 6, 7, 8]"
   ]
  },
  {
   "cell_type": "code",
   "execution_count": 75,
   "id": "519f13dc-62fa-4ee2-9d21-be59519b872f",
   "metadata": {},
   "outputs": [
    {
     "data": {
      "text/plain": [
       "[1, 2, 3, 4, 5, 6, 7, 8]"
      ]
     },
     "execution_count": 75,
     "metadata": {},
     "output_type": "execute_result"
    }
   ],
   "source": [
    "mya + myb"
   ]
  },
  {
   "cell_type": "code",
   "execution_count": 77,
   "id": "1f0df78a-786a-4bac-bb16-2c99c388eae0",
   "metadata": {},
   "outputs": [
    {
     "data": {
      "text/plain": [
       "[1, 2, 3, 4, 1, 2, 3, 4, 1, 2, 3, 4]"
      ]
     },
     "execution_count": 77,
     "metadata": {},
     "output_type": "execute_result"
    }
   ],
   "source": [
    "mya * 3"
   ]
  },
  {
   "cell_type": "code",
   "execution_count": 63,
   "id": "504c7010-34c0-41f4-ab4b-4d2c6060d9b5",
   "metadata": {},
   "outputs": [
    {
     "data": {
      "text/plain": [
       "[1, 2, 3, 4, 5, 6, 7, 8]"
      ]
     },
     "execution_count": 63,
     "metadata": {},
     "output_type": "execute_result"
    }
   ],
   "source": [
    "[1, 2, 3, 4] + [5, 6, 7, 8]"
   ]
  },
  {
   "cell_type": "code",
   "execution_count": 67,
   "id": "e39b067c-a125-428f-bbec-05516e722a7e",
   "metadata": {},
   "outputs": [
    {
     "data": {
      "text/plain": [
       "[5, 6, 7, 8, 5, 6, 7, 8, 5, 6, 7, 8]"
      ]
     },
     "execution_count": 67,
     "metadata": {},
     "output_type": "execute_result"
    }
   ],
   "source": [
    "[5, 6, 7, 8] * 3"
   ]
  },
  {
   "cell_type": "code",
   "execution_count": 68,
   "id": "db757ff8-b2ec-4f0b-ae94-0c768625f92d",
   "metadata": {},
   "outputs": [],
   "source": [
    "x = np.array([1, 2, 3, 4, 5])\n",
    "y = np.array([11, 22, 33, 44, 55])"
   ]
  },
  {
   "cell_type": "code",
   "execution_count": 69,
   "id": "a4d36e8d-ef68-45db-a27c-4ca989e7b892",
   "metadata": {},
   "outputs": [
    {
     "data": {
      "text/plain": [
       "array([12, 24, 36, 48, 60])"
      ]
     },
     "execution_count": 69,
     "metadata": {},
     "output_type": "execute_result"
    }
   ],
   "source": [
    "x + y"
   ]
  },
  {
   "cell_type": "code",
   "execution_count": 70,
   "id": "d25549ea-9e06-4de7-aa96-3823f9575697",
   "metadata": {},
   "outputs": [
    {
     "data": {
      "text/plain": [
       "array([ 11,  44,  99, 176, 275])"
      ]
     },
     "execution_count": 70,
     "metadata": {},
     "output_type": "execute_result"
    }
   ],
   "source": [
    "x * y"
   ]
  },
  {
   "cell_type": "code",
   "execution_count": 78,
   "id": "cf4aac8a-bc85-4779-86fc-a7ad073a6fbe",
   "metadata": {},
   "outputs": [
    {
     "data": {
      "text/plain": [
       "array([ 3,  6,  9, 12, 15])"
      ]
     },
     "execution_count": 78,
     "metadata": {},
     "output_type": "execute_result"
    }
   ],
   "source": [
    "x = x * 3\n",
    "x"
   ]
  },
  {
   "cell_type": "markdown",
   "id": "a7aaf7e0-2a9b-43b4-b73d-d90680ff909c",
   "metadata": {},
   "source": [
    "# Reshape "
   ]
  },
  {
   "cell_type": "code",
   "execution_count": 8,
   "id": "58ca8b43-01aa-47ed-8bdf-47980f324a94",
   "metadata": {},
   "outputs": [],
   "source": [
    "ece = np.arange(1, 31)"
   ]
  },
  {
   "cell_type": "code",
   "execution_count": 9,
   "id": "77434de5-fe81-4b4e-9da8-ac15179aec65",
   "metadata": {},
   "outputs": [
    {
     "data": {
      "text/plain": [
       "array([ 1,  2,  3,  4,  5,  6,  7,  8,  9, 10, 11, 12, 13, 14, 15, 16, 17,\n",
       "       18, 19, 20, 21, 22, 23, 24, 25, 26, 27, 28, 29, 30])"
      ]
     },
     "execution_count": 9,
     "metadata": {},
     "output_type": "execute_result"
    }
   ],
   "source": [
    "ece"
   ]
  },
  {
   "cell_type": "code",
   "execution_count": 12,
   "id": "b08a5ff5-0b6d-4c64-9599-8edba57b4a63",
   "metadata": {},
   "outputs": [
    {
     "data": {
      "text/plain": [
       "array([[ 1,  2,  3,  4,  5,  6],\n",
       "       [ 7,  8,  9, 10, 11, 12],\n",
       "       [13, 14, 15, 16, 17, 18],\n",
       "       [19, 20, 21, 22, 23, 24],\n",
       "       [25, 26, 27, 28, 29, 30]])"
      ]
     },
     "execution_count": 12,
     "metadata": {},
     "output_type": "execute_result"
    }
   ],
   "source": [
    "ece.reshape((5, 6))"
   ]
  },
  {
   "cell_type": "code",
   "execution_count": 13,
   "id": "8e3b31d4-8469-45bd-a8a4-cdce9d270e30",
   "metadata": {},
   "outputs": [
    {
     "data": {
      "text/plain": [
       "2"
      ]
     },
     "execution_count": 13,
     "metadata": {},
     "output_type": "execute_result"
    }
   ],
   "source": [
    "ece.reshape((5, 6)).ndim"
   ]
  },
  {
   "cell_type": "markdown",
   "id": "e89467d3-bd4e-45ab-8356-ba1bd1d3f189",
   "metadata": {},
   "source": [
    "# -1 ile Boyuta Karar Vermek"
   ]
  },
  {
   "cell_type": "code",
   "execution_count": 14,
   "id": "8245975f-5d3e-4706-8a3c-f0c580230951",
   "metadata": {},
   "outputs": [
    {
     "data": {
      "text/plain": [
       "array([[ 1,  2,  3,  4,  5,  6,  7,  8,  9, 10],\n",
       "       [11, 12, 13, 14, 15, 16, 17, 18, 19, 20],\n",
       "       [21, 22, 23, 24, 25, 26, 27, 28, 29, 30]])"
      ]
     },
     "execution_count": 14,
     "metadata": {},
     "output_type": "execute_result"
    }
   ],
   "source": [
    "ece.reshape(3, -1)"
   ]
  },
  {
   "cell_type": "code",
   "execution_count": 15,
   "id": "207eca2e-5b39-4c2c-967e-ab1a96f0866d",
   "metadata": {},
   "outputs": [
    {
     "data": {
      "text/plain": [
       "array([[ 1,  2,  3],\n",
       "       [ 4,  5,  6],\n",
       "       [ 7,  8,  9],\n",
       "       [10, 11, 12],\n",
       "       [13, 14, 15],\n",
       "       [16, 17, 18],\n",
       "       [19, 20, 21],\n",
       "       [22, 23, 24],\n",
       "       [25, 26, 27],\n",
       "       [28, 29, 30]])"
      ]
     },
     "execution_count": 15,
     "metadata": {},
     "output_type": "execute_result"
    }
   ],
   "source": [
    "ece.reshape(-1,3)"
   ]
  },
  {
   "cell_type": "markdown",
   "id": "b311c413-7806-4703-8a59-74d2ac7617ed",
   "metadata": {},
   "source": [
    "# Yeni Bir Boyut Eklemek"
   ]
  },
  {
   "cell_type": "code",
   "execution_count": 20,
   "id": "66f67b8a-e1f4-47e6-9c43-bb7a23bf7743",
   "metadata": {},
   "outputs": [],
   "source": [
    "ece1 = np.arange(1,21).reshape(4,5)"
   ]
  },
  {
   "cell_type": "code",
   "execution_count": 21,
   "id": "e457c0b8-5038-41f9-93d2-d75d6d553e65",
   "metadata": {},
   "outputs": [
    {
     "data": {
      "text/plain": [
       "array([[ 1,  2,  3,  4,  5],\n",
       "       [ 6,  7,  8,  9, 10],\n",
       "       [11, 12, 13, 14, 15],\n",
       "       [16, 17, 18, 19, 20]])"
      ]
     },
     "execution_count": 21,
     "metadata": {},
     "output_type": "execute_result"
    }
   ],
   "source": [
    "ece1"
   ]
  },
  {
   "cell_type": "code",
   "execution_count": 25,
   "id": "1296409f-5fe7-4714-8678-306e42078402",
   "metadata": {},
   "outputs": [
    {
     "data": {
      "text/plain": [
       "array([[[ 1,  2,  3,  4,  5]],\n",
       "\n",
       "       [[ 6,  7,  8,  9, 10]],\n",
       "\n",
       "       [[11, 12, 13, 14, 15]],\n",
       "\n",
       "       [[16, 17, 18, 19, 20]]])"
      ]
     },
     "execution_count": 25,
     "metadata": {},
     "output_type": "execute_result"
    }
   ],
   "source": [
    "ece1[:, np.newaxis]"
   ]
  },
  {
   "cell_type": "code",
   "execution_count": 26,
   "id": "86804b1d-6b3e-4b0e-bd0d-e3e5522b71d7",
   "metadata": {},
   "outputs": [],
   "source": [
    "A = np.array([[3],\n",
    "             [11],\n",
    "             [4],\n",
    "             [5]])"
   ]
  },
  {
   "cell_type": "code",
   "execution_count": 29,
   "id": "8f4f486d-8e01-4b81-8b7b-80b9c4faea75",
   "metadata": {},
   "outputs": [
    {
     "data": {
      "text/plain": [
       "(4, 1)"
      ]
     },
     "execution_count": 29,
     "metadata": {},
     "output_type": "execute_result"
    }
   ],
   "source": [
    "A.shape"
   ]
  },
  {
   "cell_type": "code",
   "execution_count": 35,
   "id": "470a7087-533b-42bc-b734-ad9b7ea938ca",
   "metadata": {},
   "outputs": [],
   "source": [
    "B = np.array([5, 0, 3]).reshape(1,3)"
   ]
  },
  {
   "cell_type": "code",
   "execution_count": 36,
   "id": "645c261d-66b3-481a-8b94-4a82de621a83",
   "metadata": {},
   "outputs": [
    {
     "data": {
      "text/plain": [
       "(1, 3)"
      ]
     },
     "execution_count": 36,
     "metadata": {},
     "output_type": "execute_result"
    }
   ],
   "source": [
    "B.shape"
   ]
  },
  {
   "cell_type": "code",
   "execution_count": 37,
   "id": "edfa46c3-2da1-40ca-99e3-2d464c289588",
   "metadata": {},
   "outputs": [],
   "source": [
    "C = A - B"
   ]
  },
  {
   "cell_type": "code",
   "execution_count": 38,
   "id": "bf0a78f2-102a-49e1-8361-af1183e86a18",
   "metadata": {},
   "outputs": [
    {
     "data": {
      "text/plain": [
       "array([[-2,  3,  0],\n",
       "       [ 6, 11,  8],\n",
       "       [-1,  4,  1],\n",
       "       [ 0,  5,  2]])"
      ]
     },
     "execution_count": 38,
     "metadata": {},
     "output_type": "execute_result"
    }
   ],
   "source": [
    "C"
   ]
  },
  {
   "cell_type": "code",
   "execution_count": null,
   "id": "28604791-1556-47c3-b6ee-b56d602b3a36",
   "metadata": {},
   "outputs": [],
   "source": []
  }
 ],
 "metadata": {
  "kernelspec": {
   "display_name": "Python 3 (ipykernel)",
   "language": "python",
   "name": "python3"
  },
  "language_info": {
   "codemirror_mode": {
    "name": "ipython",
    "version": 3
   },
   "file_extension": ".py",
   "mimetype": "text/x-python",
   "name": "python",
   "nbconvert_exporter": "python",
   "pygments_lexer": "ipython3",
   "version": "3.9.13"
  }
 },
 "nbformat": 4,
 "nbformat_minor": 5
}
