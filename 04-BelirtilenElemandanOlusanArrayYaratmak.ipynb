{
 "cells": [
  {
   "cell_type": "markdown",
   "id": "8a6c8ac4-f5b3-421d-bf95-5d14de2bc947",
   "metadata": {},
   "source": [
    "# Belirtilen Elemanla Dolu Bir Array Yaratmak"
   ]
  },
  {
   "cell_type": "markdown",
   "id": "0bacfae9-d6f5-4fc6-a74a-a4482f0e2d0b",
   "metadata": {},
   "source": [
    "**np.full((shape), neyle doldurucam, dtype)**\n",
    "\n",
    "**shape illa tuple ile belirtilmek zorunda degil koseli parantez de olur ayrica np.full(sayi, neyle doldurucam, dtype) yazarsam bir sayi obegi verir yani row column mantiginda olmayan bir yapi donderir**\n",
    "\n",
    "**a.shape diyerek a ndarray'inin shape'ine bakabilirim**"
   ]
  },
  {
   "cell_type": "code",
   "execution_count": 2,
   "id": "ba1740af-dec6-4e3b-93c7-a656e05c274b",
   "metadata": {},
   "outputs": [],
   "source": [
    "import numpy as np"
   ]
  },
  {
   "cell_type": "code",
   "execution_count": 2,
   "id": "88a70356-f355-45ae-8edc-adbd7b51824c",
   "metadata": {},
   "outputs": [
    {
     "data": {
      "text/plain": [
       "array([[5, 5, 5, 5, 5],\n",
       "       [5, 5, 5, 5, 5],\n",
       "       [5, 5, 5, 5, 5],\n",
       "       [5, 5, 5, 5, 5],\n",
       "       [5, 5, 5, 5, 5]])"
      ]
     },
     "execution_count": 2,
     "metadata": {},
     "output_type": "execute_result"
    }
   ],
   "source": [
    "np.full((5,5), 5, int)"
   ]
  },
  {
   "cell_type": "code",
   "execution_count": 3,
   "id": "1e962ea8-9129-44de-a971-ba765b45ca61",
   "metadata": {},
   "outputs": [
    {
     "data": {
      "text/plain": [
       "array([[5., 5., 5., 5., 5.],\n",
       "       [5., 5., 5., 5., 5.],\n",
       "       [5., 5., 5., 5., 5.],\n",
       "       [5., 5., 5., 5., 5.],\n",
       "       [5., 5., 5., 5., 5.]])"
      ]
     },
     "execution_count": 3,
     "metadata": {},
     "output_type": "execute_result"
    }
   ],
   "source": [
    "np.full((5,5), 5, float)"
   ]
  },
  {
   "cell_type": "code",
   "execution_count": 4,
   "id": "681f531f-9e57-43bc-bc0b-ffc7d0b9f0ec",
   "metadata": {},
   "outputs": [],
   "source": [
    "a = np.full(5, 20)"
   ]
  },
  {
   "cell_type": "code",
   "execution_count": 5,
   "id": "2529bc3b-976c-46da-9da5-4c48c8c18991",
   "metadata": {},
   "outputs": [
    {
     "data": {
      "text/plain": [
       "array([20, 20, 20, 20, 20])"
      ]
     },
     "execution_count": 5,
     "metadata": {},
     "output_type": "execute_result"
    }
   ],
   "source": [
    "a"
   ]
  },
  {
   "cell_type": "code",
   "execution_count": 6,
   "id": "b66f0f7e-57e9-4eb6-b054-d8de35925395",
   "metadata": {},
   "outputs": [
    {
     "data": {
      "text/plain": [
       "numpy.ndarray"
      ]
     },
     "execution_count": 6,
     "metadata": {},
     "output_type": "execute_result"
    }
   ],
   "source": [
    "type(a)"
   ]
  },
  {
   "cell_type": "code",
   "execution_count": 9,
   "id": "d9e2c3cb-1bb4-46f6-963c-732d49d5132f",
   "metadata": {},
   "outputs": [
    {
     "data": {
      "text/plain": [
       "(5,)"
      ]
     },
     "execution_count": 9,
     "metadata": {},
     "output_type": "execute_result"
    }
   ],
   "source": [
    "a.shape"
   ]
  },
  {
   "cell_type": "markdown",
   "id": "1ca86616-3f14-4a13-b7a3-32d171504cb1",
   "metadata": {},
   "source": [
    "**burda ufak bi tuhaflik var, ama kucuk bi detay, float olarak cast etmiyor, kusurati atip string yapiyor**"
   ]
  },
  {
   "cell_type": "code",
   "execution_count": 10,
   "id": "e14e0a91-b434-4857-a650-f1f4514da52b",
   "metadata": {},
   "outputs": [
    {
     "data": {
      "text/plain": [
       "array([['5', '5', '5', '5', '5'],\n",
       "       ['5', '5', '5', '5', '5'],\n",
       "       ['5', '5', '5', '5', '5'],\n",
       "       ['5', '5', '5', '5', '5']], dtype='<U1')"
      ]
     },
     "execution_count": 10,
     "metadata": {},
     "output_type": "execute_result"
    }
   ],
   "source": [
    "np.full((4, 5), 5.2, dtype=\"str\")"
   ]
  },
  {
   "cell_type": "code",
   "execution_count": 11,
   "id": "1518cd82-cb57-48c9-a1da-2e9d155d85fa",
   "metadata": {},
   "outputs": [
    {
     "data": {
      "text/plain": [
       "array([['5.2', '5.2', '5.2', '5.2', '5.2'],\n",
       "       ['5.2', '5.2', '5.2', '5.2', '5.2'],\n",
       "       ['5.2', '5.2', '5.2', '5.2', '5.2'],\n",
       "       ['5.2', '5.2', '5.2', '5.2', '5.2']], dtype='<U3')"
      ]
     },
     "execution_count": 11,
     "metadata": {},
     "output_type": "execute_result"
    }
   ],
   "source": [
    "np.full((4, 5), \"5.2\")"
   ]
  },
  {
   "cell_type": "code",
   "execution_count": 12,
   "id": "01eb45e7-2d5e-4b03-ac63-c2acbc11e30d",
   "metadata": {},
   "outputs": [
    {
     "data": {
      "text/plain": [
       "array([[5.2, 5.2, 5.2, 5.2, 5.2],\n",
       "       [5.2, 5.2, 5.2, 5.2, 5.2],\n",
       "       [5.2, 5.2, 5.2, 5.2, 5.2],\n",
       "       [5.2, 5.2, 5.2, 5.2, 5.2]])"
      ]
     },
     "execution_count": 12,
     "metadata": {},
     "output_type": "execute_result"
    }
   ],
   "source": [
    "np.full((4, 5), 5.2)"
   ]
  },
  {
   "cell_type": "code",
   "execution_count": 5,
   "id": "71f38060-8634-4751-92ad-c0d25c5c8a33",
   "metadata": {},
   "outputs": [
    {
     "data": {
      "text/plain": [
       "array([[2.9, 2.9, 2.9, 2.9, 2.9],\n",
       "       [2.9, 2.9, 2.9, 2.9, 2.9],\n",
       "       [2.9, 2.9, 2.9, 2.9, 2.9],\n",
       "       [2.9, 2.9, 2.9, 2.9, 2.9],\n",
       "       [2.9, 2.9, 2.9, 2.9, 2.9]])"
      ]
     },
     "execution_count": 5,
     "metadata": {},
     "output_type": "execute_result"
    }
   ],
   "source": [
    "np.full([5,5], 2.90)"
   ]
  },
  {
   "cell_type": "code",
   "execution_count": null,
   "id": "9a5cbe96-f70e-441a-9863-71ecb2359c5d",
   "metadata": {},
   "outputs": [],
   "source": []
  }
 ],
 "metadata": {
  "kernelspec": {
   "display_name": "Python 3 (ipykernel)",
   "language": "python",
   "name": "python3"
  },
  "language_info": {
   "codemirror_mode": {
    "name": "ipython",
    "version": 3
   },
   "file_extension": ".py",
   "mimetype": "text/x-python",
   "name": "python",
   "nbconvert_exporter": "python",
   "pygments_lexer": "ipython3",
   "version": "3.9.13"
  }
 },
 "nbformat": 4,
 "nbformat_minor": 5
}
