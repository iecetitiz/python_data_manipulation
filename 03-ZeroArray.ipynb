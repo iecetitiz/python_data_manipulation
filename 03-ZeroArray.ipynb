{
 "cells": [
  {
   "cell_type": "markdown",
   "id": "97c5de37-32a5-44f2-a6bb-923d68d180e4",
   "metadata": {},
   "source": [
    "# Zero Array"
   ]
  },
  {
   "cell_type": "markdown",
   "id": "f50022de-91ee-4f3d-9cda-284bd0f5674b",
   "metadata": {},
   "source": [
    "**zero array deyince aklina booleanlar ve stringlerin de zero halleri de gelsin, stringlerde bosluk, booleanlarda false olacak**\n",
    "\n",
    "**default yaratilma degeri float sifirdir**\n",
    "\n",
    "**zeros((shape), dtype) --> eger bu sirada kullanmazsam hata alirim** \n",
    "\n",
    "**shape'i illa tuple olarak yazmak zorunda degilim koseli parantez olarak da shape yazabilirim**\n",
    "\n",
    "**np.zeros([3, 8, 8]) yazdigimda elimde 3 tane 8X8'lik bi fotograf var gibi dusunebilirim, ilk sayi resim sayisini tutuyor**\n",
    "\n",
    "**m[2,3,2] = 99 uc boyutlu arrayimde boyle bir degisiklik yaptigimda ben int ile update etmis olsamda yaratilmis halihazirdaki array'e uyacak ve float olarak onu arraya ekleyecek**"
   ]
  },
  {
   "cell_type": "code",
   "execution_count": 2,
   "id": "6403460d-e57f-4b9c-bcee-386c860527d9",
   "metadata": {},
   "outputs": [],
   "source": [
    "import numpy as np"
   ]
  },
  {
   "cell_type": "code",
   "execution_count": 3,
   "id": "059b600e-1184-4f66-9f82-e2d48e47a508",
   "metadata": {},
   "outputs": [
    {
     "data": {
      "text/plain": [
       "array([0., 0., 0., 0., 0.])"
      ]
     },
     "execution_count": 3,
     "metadata": {},
     "output_type": "execute_result"
    }
   ],
   "source": [
    "np.zeros(5)"
   ]
  },
  {
   "cell_type": "code",
   "execution_count": 4,
   "id": "6fd707a8-3ac8-42ca-9889-663479e18583",
   "metadata": {},
   "outputs": [
    {
     "data": {
      "text/plain": [
       "array([0, 0, 0, 0, 0, 0, 0, 0, 0, 0])"
      ]
     },
     "execution_count": 4,
     "metadata": {},
     "output_type": "execute_result"
    }
   ],
   "source": [
    "np.zeros(10, int)"
   ]
  },
  {
   "cell_type": "code",
   "execution_count": 5,
   "id": "68f1d0c0-1934-453d-b9c3-112124326f98",
   "metadata": {},
   "outputs": [
    {
     "data": {
      "text/plain": [
       "array(['', '', '', '', '', '', '', '', '', ''], dtype='<U1')"
      ]
     },
     "execution_count": 5,
     "metadata": {},
     "output_type": "execute_result"
    }
   ],
   "source": [
    "np.zeros(10, str)"
   ]
  },
  {
   "cell_type": "code",
   "execution_count": 6,
   "id": "ee84c94c-7316-4db3-8f75-102b028b339c",
   "metadata": {},
   "outputs": [
    {
     "data": {
      "text/plain": [
       "array([[False, False],\n",
       "       [False, False],\n",
       "       [False, False],\n",
       "       [False, False],\n",
       "       [False, False]])"
      ]
     },
     "execution_count": 6,
     "metadata": {},
     "output_type": "execute_result"
    }
   ],
   "source": [
    "np.zeros((5,2), bool)"
   ]
  },
  {
   "cell_type": "code",
   "execution_count": 7,
   "id": "84e78756-521e-4cb9-a5f9-f156436ede6c",
   "metadata": {},
   "outputs": [
    {
     "data": {
      "text/plain": [
       "array([False, False, False])"
      ]
     },
     "execution_count": 7,
     "metadata": {},
     "output_type": "execute_result"
    }
   ],
   "source": [
    "np.zeros(3, bool)"
   ]
  },
  {
   "cell_type": "code",
   "execution_count": 8,
   "id": "2ee057d0-0a9a-475d-95e9-69ad892a715c",
   "metadata": {},
   "outputs": [],
   "source": [
    "m = np.zeros([3, 6, 6])"
   ]
  },
  {
   "cell_type": "code",
   "execution_count": 8,
   "id": "4db1f0fe-f2fa-4243-9681-efbf6c8409cc",
   "metadata": {},
   "outputs": [
    {
     "data": {
      "text/plain": [
       "array([[[0., 0., 0., 0., 0., 0.],\n",
       "        [0., 0., 0., 0., 0., 0.],\n",
       "        [0., 0., 0., 0., 0., 0.],\n",
       "        [0., 0., 0., 0., 0., 0.],\n",
       "        [0., 0., 0., 0., 0., 0.],\n",
       "        [0., 0., 0., 0., 0., 0.]],\n",
       "\n",
       "       [[0., 0., 0., 0., 0., 0.],\n",
       "        [0., 0., 0., 0., 0., 0.],\n",
       "        [0., 0., 0., 0., 0., 0.],\n",
       "        [0., 0., 0., 0., 0., 0.],\n",
       "        [0., 0., 0., 0., 0., 0.],\n",
       "        [0., 0., 0., 0., 0., 0.]],\n",
       "\n",
       "       [[0., 0., 0., 0., 0., 0.],\n",
       "        [0., 0., 0., 0., 0., 0.],\n",
       "        [0., 0., 0., 0., 0., 0.],\n",
       "        [0., 0., 0., 0., 0., 0.],\n",
       "        [0., 0., 0., 0., 0., 0.],\n",
       "        [0., 0., 0., 0., 0., 0.]]])"
      ]
     },
     "execution_count": 8,
     "metadata": {},
     "output_type": "execute_result"
    }
   ],
   "source": [
    "m"
   ]
  },
  {
   "cell_type": "code",
   "execution_count": 9,
   "id": "cb14ee87-b009-48c8-872f-92cf047030dd",
   "metadata": {},
   "outputs": [],
   "source": [
    "m[2,3,2] = 99"
   ]
  },
  {
   "cell_type": "code",
   "execution_count": 10,
   "id": "62ba354c-3098-4e0b-b97e-f5777227b064",
   "metadata": {},
   "outputs": [
    {
     "data": {
      "text/plain": [
       "array([[[ 0.,  0.,  0.,  0.,  0.,  0.],\n",
       "        [ 0.,  0.,  0.,  0.,  0.,  0.],\n",
       "        [ 0.,  0.,  0.,  0.,  0.,  0.],\n",
       "        [ 0.,  0.,  0.,  0.,  0.,  0.],\n",
       "        [ 0.,  0.,  0.,  0.,  0.,  0.],\n",
       "        [ 0.,  0.,  0.,  0.,  0.,  0.]],\n",
       "\n",
       "       [[ 0.,  0.,  0.,  0.,  0.,  0.],\n",
       "        [ 0.,  0.,  0.,  0.,  0.,  0.],\n",
       "        [ 0.,  0.,  0.,  0.,  0.,  0.],\n",
       "        [ 0.,  0.,  0.,  0.,  0.,  0.],\n",
       "        [ 0.,  0.,  0.,  0.,  0.,  0.],\n",
       "        [ 0.,  0.,  0.,  0.,  0.,  0.]],\n",
       "\n",
       "       [[ 0.,  0.,  0.,  0.,  0.,  0.],\n",
       "        [ 0.,  0.,  0.,  0.,  0.,  0.],\n",
       "        [ 0.,  0.,  0.,  0.,  0.,  0.],\n",
       "        [ 0.,  0., 99.,  0.,  0.,  0.],\n",
       "        [ 0.,  0.,  0.,  0.,  0.,  0.],\n",
       "        [ 0.,  0.,  0.,  0.,  0.,  0.]]])"
      ]
     },
     "execution_count": 10,
     "metadata": {},
     "output_type": "execute_result"
    }
   ],
   "source": [
    "m"
   ]
  },
  {
   "cell_type": "code",
   "execution_count": null,
   "id": "92a8d984-f6fd-41f9-b9b1-738a39391586",
   "metadata": {},
   "outputs": [],
   "source": []
  }
 ],
 "metadata": {
  "kernelspec": {
   "display_name": "Python 3 (ipykernel)",
   "language": "python",
   "name": "python3"
  },
  "language_info": {
   "codemirror_mode": {
    "name": "ipython",
    "version": 3
   },
   "file_extension": ".py",
   "mimetype": "text/x-python",
   "name": "python",
   "nbconvert_exporter": "python",
   "pygments_lexer": "ipython3",
   "version": "3.9.13"
  }
 },
 "nbformat": 4,
 "nbformat_minor": 5
}
