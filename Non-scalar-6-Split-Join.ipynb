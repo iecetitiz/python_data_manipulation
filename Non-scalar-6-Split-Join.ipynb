{
 "cells": [
  {
   "cell_type": "markdown",
   "id": "4ef27e7f-2405-47b8-a01f-6d512329b41e",
   "metadata": {},
   "source": [
    "# split()\n",
    "\n",
    "**Bir stringi bir patterna gore parcalara ayirip onlari bir liste atan methoddur, defaultu bosluktur**"
   ]
  },
  {
   "cell_type": "code",
   "execution_count": 1,
   "id": "8376cf00-fd05-4c33-80b3-16d34b4dc813",
   "metadata": {},
   "outputs": [],
   "source": [
    "message = \"ee daha daha nasilsiniz ?\""
   ]
  },
  {
   "cell_type": "code",
   "execution_count": 2,
   "id": "bf712de8-1f71-4104-a142-419738b27c49",
   "metadata": {},
   "outputs": [
    {
     "data": {
      "text/plain": [
       "['ee', 'daha', 'daha', 'nasilsiniz', '?']"
      ]
     },
     "execution_count": 2,
     "metadata": {},
     "output_type": "execute_result"
    }
   ],
   "source": [
    "message.split()"
   ]
  },
  {
   "cell_type": "code",
   "execution_count": 3,
   "id": "4368735e-aef2-4494-bb91-64730f486095",
   "metadata": {},
   "outputs": [],
   "source": [
    "list = message.split()"
   ]
  },
  {
   "cell_type": "code",
   "execution_count": 8,
   "id": "2a9d93ea-99d4-4869-b5d9-a058750cd1a5",
   "metadata": {},
   "outputs": [],
   "source": [
    "list = message.split(\" \")"
   ]
  },
  {
   "cell_type": "code",
   "execution_count": 9,
   "id": "112592fb-7acd-4801-b586-58c3b12aa7e6",
   "metadata": {},
   "outputs": [
    {
     "data": {
      "text/plain": [
       "['ee', 'daha', 'daha', 'nasilsiniz', '?']"
      ]
     },
     "execution_count": 9,
     "metadata": {},
     "output_type": "execute_result"
    }
   ],
   "source": [
    "list\n"
   ]
  },
  {
   "cell_type": "code",
   "execution_count": 5,
   "id": "4bdbd9ec-1408-48bd-b2a9-5b5b871fa232",
   "metadata": {},
   "outputs": [],
   "source": [
    "s = \"limon, portakal, elma\""
   ]
  },
  {
   "cell_type": "code",
   "execution_count": 6,
   "id": "59473efe-efbf-4ac4-890e-05a6243b23ca",
   "metadata": {},
   "outputs": [],
   "source": [
    "list2 = s.split(\",\")"
   ]
  },
  {
   "cell_type": "code",
   "execution_count": 7,
   "id": "73fcf075-fa1a-4215-8765-35b17122625f",
   "metadata": {},
   "outputs": [
    {
     "data": {
      "text/plain": [
       "['limon', ' portakal', ' elma']"
      ]
     },
     "execution_count": 7,
     "metadata": {},
     "output_type": "execute_result"
    }
   ],
   "source": [
    "list2"
   ]
  },
  {
   "cell_type": "markdown",
   "id": "3d076f0e-141a-4d8f-985b-4d97070a0e91",
   "metadata": {},
   "source": [
    "# join()\n",
    "\n",
    "**bir listin elemanlari arasina nasil bir pattern koymak istiyorsam onu yaziyorum ve bir string elde ediyorum**"
   ]
  },
  {
   "cell_type": "code",
   "execution_count": 10,
   "id": "76605c50-7213-4c4b-9927-424c477e3442",
   "metadata": {},
   "outputs": [],
   "source": [
    "string = \"#\".join(list2)"
   ]
  },
  {
   "cell_type": "code",
   "execution_count": 11,
   "id": "30b64340-bd0a-463e-83eb-c606ade8dc95",
   "metadata": {},
   "outputs": [
    {
     "data": {
      "text/plain": [
       "'limon# portakal# elma'"
      ]
     },
     "execution_count": 11,
     "metadata": {},
     "output_type": "execute_result"
    }
   ],
   "source": [
    "string"
   ]
  },
  {
   "cell_type": "code",
   "execution_count": 12,
   "id": "2d1fb5a6-378b-4959-af2d-e9eeb2343a40",
   "metadata": {},
   "outputs": [
    {
     "data": {
      "text/plain": [
       "str"
      ]
     },
     "execution_count": 12,
     "metadata": {},
     "output_type": "execute_result"
    }
   ],
   "source": [
    "type(string)"
   ]
  },
  {
   "cell_type": "code",
   "execution_count": null,
   "id": "58e97a7a-7c5a-4d88-b8b8-4eab1ece01d5",
   "metadata": {},
   "outputs": [],
   "source": []
  }
 ],
 "metadata": {
  "kernelspec": {
   "display_name": "Python 3 (ipykernel)",
   "language": "python",
   "name": "python3"
  },
  "language_info": {
   "codemirror_mode": {
    "name": "ipython",
    "version": 3
   },
   "file_extension": ".py",
   "mimetype": "text/x-python",
   "name": "python",
   "nbconvert_exporter": "python",
   "pygments_lexer": "ipython3",
   "version": "3.9.13"
  }
 },
 "nbformat": 4,
 "nbformat_minor": 5
}
