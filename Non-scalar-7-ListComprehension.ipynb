{
 "cells": [
  {
   "cell_type": "markdown",
   "id": "9dd3db89-8631-40e7-ad40-08ada61c967a",
   "metadata": {},
   "source": [
    "# List Comprehension"
   ]
  },
  {
   "cell_type": "code",
   "execution_count": 6,
   "id": "9918317a-9cd3-4c9c-9bd8-1070f2682e05",
   "metadata": {},
   "outputs": [],
   "source": [
    "squares = []\n",
    "for i in range(1, 11):\n",
    "    squares.append(i * i)"
   ]
  },
  {
   "cell_type": "code",
   "execution_count": 7,
   "id": "327d2562-67bf-425f-93a0-500abb18ebe9",
   "metadata": {},
   "outputs": [
    {
     "data": {
      "text/plain": [
       "[1, 4, 9, 16, 25, 36, 49, 64, 81, 100]"
      ]
     },
     "execution_count": 7,
     "metadata": {},
     "output_type": "execute_result"
    }
   ],
   "source": [
    "squares"
   ]
  },
  {
   "cell_type": "markdown",
   "id": "441b799f-487a-4a65-ba20-93479a0c25ed",
   "metadata": {},
   "source": [
    "**bunun aynisini list comprehensionla yapicam**"
   ]
  },
  {
   "cell_type": "code",
   "execution_count": 8,
   "id": "a4f3f56b-3a10-4c06-b1ac-ccb014ab8a1b",
   "metadata": {},
   "outputs": [],
   "source": [
    "cubes = [i ** 3 for i in range(1, 11)]"
   ]
  },
  {
   "cell_type": "code",
   "execution_count": 9,
   "id": "a60e0fd6-1e28-4961-8be6-f53252493d4c",
   "metadata": {},
   "outputs": [
    {
     "data": {
      "text/plain": [
       "[1, 8, 27, 64, 125, 216, 343, 512, 729, 1000]"
      ]
     },
     "execution_count": 9,
     "metadata": {},
     "output_type": "execute_result"
    }
   ],
   "source": [
    "cubes"
   ]
  },
  {
   "cell_type": "markdown",
   "id": "641cf678-2020-4372-adb9-07ac430f94fe",
   "metadata": {},
   "source": [
    "**fonksiyon da kullanabilirim**"
   ]
  },
  {
   "cell_type": "code",
   "execution_count": 10,
   "id": "3cd31dc7-105f-4b90-a97d-24a8980eac0f",
   "metadata": {},
   "outputs": [],
   "source": [
    "def cube(x):\n",
    "    return x ** 3"
   ]
  },
  {
   "cell_type": "code",
   "execution_count": 11,
   "id": "3f249904-7e79-4381-8bd9-99b8ca46e287",
   "metadata": {},
   "outputs": [],
   "source": [
    "cubess = [cube(x) for x in range(1, 5)]"
   ]
  },
  {
   "cell_type": "code",
   "execution_count": 12,
   "id": "449360e5-5ea0-446e-8a2f-eb864f30a63e",
   "metadata": {},
   "outputs": [
    {
     "data": {
      "text/plain": [
       "[1, 8, 27, 64]"
      ]
     },
     "execution_count": 12,
     "metadata": {},
     "output_type": "execute_result"
    }
   ],
   "source": [
    "cubess"
   ]
  },
  {
   "cell_type": "markdown",
   "id": "85765afe-e078-41d7-800d-2bdbca7de802",
   "metadata": {},
   "source": [
    "**conditional bir yapi da kullanabilirim, eger kosul hicbir durumda saglanmazsa liste de hicbir sey eklenmemis olur**"
   ]
  },
  {
   "cell_type": "code",
   "execution_count": 24,
   "id": "dfeb393e-9999-406e-911d-86809e5e05c2",
   "metadata": {},
   "outputs": [],
   "source": [
    "numbers = [1, 2, 3, 4, 5, 6, 7, 8, 9, 10]"
   ]
  },
  {
   "cell_type": "code",
   "execution_count": 25,
   "id": "ea5c9bc2-352c-497e-a635-e21728450c5a",
   "metadata": {},
   "outputs": [],
   "source": [
    "odd_numbers = [e for e in numbers if e % 2 == 1]"
   ]
  },
  {
   "cell_type": "code",
   "execution_count": 26,
   "id": "83b0c3fa-0fae-4b5e-b23c-1169fe785b7e",
   "metadata": {},
   "outputs": [
    {
     "data": {
      "text/plain": [
       "[1, 3, 5, 7, 9]"
      ]
     },
     "execution_count": 26,
     "metadata": {},
     "output_type": "execute_result"
    }
   ],
   "source": [
    "odd_numbers"
   ]
  },
  {
   "cell_type": "code",
   "execution_count": 27,
   "id": "974a56e0-115f-479b-8fbf-6a5a4782b240",
   "metadata": {},
   "outputs": [],
   "source": [
    "def is_even(x):\n",
    "    if x % 2 == 0:\n",
    "        return True\n",
    "    else:\n",
    "        return False"
   ]
  },
  {
   "cell_type": "code",
   "execution_count": 28,
   "id": "67466b01-b1fe-4064-b253-344a5300aa12",
   "metadata": {},
   "outputs": [],
   "source": [
    "even_numbers = [e for e in numbers if is_even(e)]"
   ]
  },
  {
   "cell_type": "code",
   "execution_count": 29,
   "id": "d2b93061-0211-412e-86a0-28eed31c4af4",
   "metadata": {},
   "outputs": [
    {
     "data": {
      "text/plain": [
       "[2, 4, 6, 8, 10]"
      ]
     },
     "execution_count": 29,
     "metadata": {},
     "output_type": "execute_result"
    }
   ],
   "source": [
    "even_numbers"
   ]
  },
  {
   "cell_type": "code",
   "execution_count": 30,
   "id": "f600f431-7053-45b2-bdd7-595c42ae3a48",
   "metadata": {},
   "outputs": [],
   "source": [
    "def is_empty(x):\n",
    "    return False"
   ]
  },
  {
   "cell_type": "code",
   "execution_count": 31,
   "id": "6299d01d-210b-4cd7-a318-81d0ca3e6a4c",
   "metadata": {},
   "outputs": [],
   "source": [
    "empty_list = [e for e in numbers if is_empty(e)]"
   ]
  },
  {
   "cell_type": "code",
   "execution_count": 32,
   "id": "47e743b6-a938-4e96-95f3-0ca674d8026f",
   "metadata": {},
   "outputs": [
    {
     "data": {
      "text/plain": [
       "[]"
      ]
     },
     "execution_count": 32,
     "metadata": {},
     "output_type": "execute_result"
    }
   ],
   "source": [
    "empty_list"
   ]
  },
  {
   "cell_type": "code",
   "execution_count": 36,
   "id": "fe2ea44a-4324-4cf7-ae64-0ea97e657d24",
   "metadata": {},
   "outputs": [],
   "source": [
    "weird_squares = [e if e % 2 == 0 else -1 for e in numbers]"
   ]
  },
  {
   "cell_type": "code",
   "execution_count": 37,
   "id": "ccfc20df-0601-4676-9ab1-4652feaae090",
   "metadata": {},
   "outputs": [
    {
     "data": {
      "text/plain": [
       "[-1, 2, -1, 4, -1, 6, -1, 8, -1, 10]"
      ]
     },
     "execution_count": 37,
     "metadata": {},
     "output_type": "execute_result"
    }
   ],
   "source": [
    "weird_squares"
   ]
  },
  {
   "cell_type": "code",
   "execution_count": 38,
   "id": "af68913d-7786-4bca-aa59-faaf10ad098e",
   "metadata": {},
   "outputs": [],
   "source": [
    "ultra_weird = [e if e % 2 == 0 else -1 for e in numbers if is_even(e)]"
   ]
  },
  {
   "cell_type": "code",
   "execution_count": 39,
   "id": "893d2eb2-f571-4559-bfb8-0dc4731c7178",
   "metadata": {},
   "outputs": [
    {
     "data": {
      "text/plain": [
       "[2, 4, 6, 8, 10]"
      ]
     },
     "execution_count": 39,
     "metadata": {},
     "output_type": "execute_result"
    }
   ],
   "source": [
    "ultra_weird"
   ]
  },
  {
   "cell_type": "markdown",
   "id": "4beb5828-7a66-4307-95c3-2a479cc8c730",
   "metadata": {},
   "source": [
    "# Set Comprehensions"
   ]
  },
  {
   "cell_type": "code",
   "execution_count": 40,
   "id": "5340f543-a5cf-46a4-9f11-3c75f97f223a",
   "metadata": {},
   "outputs": [],
   "source": [
    "numbers1 = [10, 20, 31, 23, 46, 90, 80, 80]"
   ]
  },
  {
   "cell_type": "code",
   "execution_count": 43,
   "id": "e18cae52-c8d4-4197-88f4-71fc1b279de2",
   "metadata": {},
   "outputs": [],
   "source": [
    "set_numbers = {s for s in numbers1 if s in [10, 20, 30, 80]}"
   ]
  },
  {
   "cell_type": "code",
   "execution_count": 44,
   "id": "85746a93-7683-46bb-b51f-09436edbcafd",
   "metadata": {},
   "outputs": [
    {
     "data": {
      "text/plain": [
       "{10, 20, 80}"
      ]
     },
     "execution_count": 44,
     "metadata": {},
     "output_type": "execute_result"
    }
   ],
   "source": [
    "set_numbers"
   ]
  },
  {
   "cell_type": "markdown",
   "id": "c4690589-68cd-4f05-aae1-a5cb10ceba44",
   "metadata": {},
   "source": [
    "# Dictionary Comprehensions"
   ]
  },
  {
   "cell_type": "code",
   "execution_count": 45,
   "id": "ad23004b-bf6e-4aa7-9331-a66cbc5375fd",
   "metadata": {},
   "outputs": [],
   "source": [
    "square_dict = {e: e * e for e in range(1, 11)}"
   ]
  },
  {
   "cell_type": "code",
   "execution_count": 46,
   "id": "7dca80b1-d587-4627-b9c3-52dffbbab580",
   "metadata": {},
   "outputs": [
    {
     "data": {
      "text/plain": [
       "{1: 1, 2: 4, 3: 9, 4: 16, 5: 25, 6: 36, 7: 49, 8: 64, 9: 81, 10: 100}"
      ]
     },
     "execution_count": 46,
     "metadata": {},
     "output_type": "execute_result"
    }
   ],
   "source": [
    "square_dict"
   ]
  },
  {
   "cell_type": "markdown",
   "id": "539b13d5-d515-4b78-b807-357815f144d3",
   "metadata": {},
   "source": [
    "# burdan itibaren izlenmeyen yerler var"
   ]
  },
  {
   "cell_type": "code",
   "execution_count": null,
   "id": "6a5a984d-8bc6-4725-9dda-94566ca15790",
   "metadata": {},
   "outputs": [],
   "source": []
  }
 ],
 "metadata": {
  "kernelspec": {
   "display_name": "Python 3 (ipykernel)",
   "language": "python",
   "name": "python3"
  },
  "language_info": {
   "codemirror_mode": {
    "name": "ipython",
    "version": 3
   },
   "file_extension": ".py",
   "mimetype": "text/x-python",
   "name": "python",
   "nbconvert_exporter": "python",
   "pygments_lexer": "ipython3",
   "version": "3.9.13"
  }
 },
 "nbformat": 4,
 "nbformat_minor": 5
}
