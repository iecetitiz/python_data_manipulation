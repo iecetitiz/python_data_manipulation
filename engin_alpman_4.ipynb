{
 "cells": [
  {
   "cell_type": "markdown",
   "id": "dd875312-464a-46b1-8e6e-e993601c8e84",
   "metadata": {},
   "source": [
    "# Conditional Indexing (Filtering)"
   ]
  },
  {
   "cell_type": "code",
   "execution_count": 1,
   "id": "2ce81e55-a18f-4692-b034-3b95d5186e48",
   "metadata": {},
   "outputs": [],
   "source": [
    "import numpy as np"
   ]
  },
  {
   "cell_type": "code",
   "execution_count": 12,
   "id": "5fa776f7-6d2b-4213-8776-d771d60abb0d",
   "metadata": {},
   "outputs": [],
   "source": [
    "a = np.random.randint(20, size=(10,))"
   ]
  },
  {
   "cell_type": "code",
   "execution_count": 13,
   "id": "1857426c-86a9-4b31-ab15-f42af2b61064",
   "metadata": {},
   "outputs": [
    {
     "data": {
      "text/plain": [
       "array([17, 15, 16, 14,  6, 16, 15, 18,  5,  9])"
      ]
     },
     "execution_count": 13,
     "metadata": {},
     "output_type": "execute_result"
    }
   ],
   "source": [
    "a"
   ]
  },
  {
   "cell_type": "code",
   "execution_count": 15,
   "id": "4d1aa8a7-0cd7-42ef-a1cc-b70910e5296c",
   "metadata": {},
   "outputs": [
    {
     "data": {
      "text/plain": [
       "array([False, False, False, False, False, False, False, False, False,\n",
       "       False])"
      ]
     },
     "execution_count": 15,
     "metadata": {},
     "output_type": "execute_result"
    }
   ],
   "source": [
    "a < 4"
   ]
  },
  {
   "cell_type": "code",
   "execution_count": 18,
   "id": "f4df1406-f182-4ba0-98cd-5c1658751164",
   "metadata": {},
   "outputs": [],
   "source": [
    "filter = a > 10"
   ]
  },
  {
   "cell_type": "code",
   "execution_count": 19,
   "id": "cfa5f91a-c19f-4875-940a-c1dd2c405cce",
   "metadata": {},
   "outputs": [
    {
     "data": {
      "text/plain": [
       "array([17, 15, 16, 14, 16, 15, 18])"
      ]
     },
     "execution_count": 19,
     "metadata": {},
     "output_type": "execute_result"
    }
   ],
   "source": [
    "a[filter]"
   ]
  },
  {
   "cell_type": "code",
   "execution_count": 23,
   "id": "0761f63a-e903-486d-949f-8c697b55e46f",
   "metadata": {},
   "outputs": [],
   "source": [
    "b = np.random.randint(20, size=(10, ))"
   ]
  },
  {
   "cell_type": "code",
   "execution_count": 24,
   "id": "d400ffc7-b44f-477b-93de-f4237e52a18c",
   "metadata": {},
   "outputs": [
    {
     "data": {
      "text/plain": [
       "array([14,  2,  3,  6, 19,  5, 18, 13, 13,  9])"
      ]
     },
     "execution_count": 24,
     "metadata": {},
     "output_type": "execute_result"
    }
   ],
   "source": [
    "b"
   ]
  },
  {
   "cell_type": "code",
   "execution_count": 25,
   "id": "baafd01e-cf3b-441e-bf05-493090870b67",
   "metadata": {},
   "outputs": [
    {
     "data": {
      "text/plain": [
       "array([False, False, False, False, False, False, False, False, False,\n",
       "        True])"
      ]
     },
     "execution_count": 25,
     "metadata": {},
     "output_type": "execute_result"
    }
   ],
   "source": [
    "a == b"
   ]
  },
  {
   "cell_type": "code",
   "execution_count": 26,
   "id": "ca48fa80-ccfc-428c-af5b-29f003d7ae64",
   "metadata": {},
   "outputs": [],
   "source": [
    "filter = a == b"
   ]
  },
  {
   "cell_type": "code",
   "execution_count": 27,
   "id": "35ad7bd4-f3be-41ee-8210-c789944fa0a5",
   "metadata": {},
   "outputs": [
    {
     "data": {
      "text/plain": [
       "array([9])"
      ]
     },
     "execution_count": 27,
     "metadata": {},
     "output_type": "execute_result"
    }
   ],
   "source": [
    "a[filter]"
   ]
  },
  {
   "cell_type": "code",
   "execution_count": 28,
   "id": "636990e5-3577-4957-81c6-60f11b058364",
   "metadata": {},
   "outputs": [
    {
     "data": {
      "text/plain": [
       "array([9])"
      ]
     },
     "execution_count": 28,
     "metadata": {},
     "output_type": "execute_result"
    }
   ],
   "source": [
    "a[a==b]"
   ]
  },
  {
   "cell_type": "code",
   "execution_count": 29,
   "id": "d5b4160a-fa37-4c90-b836-6b41e2ee7a53",
   "metadata": {},
   "outputs": [
    {
     "data": {
      "text/plain": [
       "array([9])"
      ]
     },
     "execution_count": 29,
     "metadata": {},
     "output_type": "execute_result"
    }
   ],
   "source": [
    "b[a==b]"
   ]
  },
  {
   "cell_type": "code",
   "execution_count": 30,
   "id": "78869fcb-390b-4ab4-a578-7d30443f0994",
   "metadata": {},
   "outputs": [
    {
     "data": {
      "text/plain": [
       "array([17, 15, 16, 14, 16, 15, 18])"
      ]
     },
     "execution_count": 30,
     "metadata": {},
     "output_type": "execute_result"
    }
   ],
   "source": [
    "a[(a < 5) | (a > 10)]"
   ]
  },
  {
   "cell_type": "code",
   "execution_count": 31,
   "id": "022cf8c0-c441-4a12-a10f-07c2c5ef4631",
   "metadata": {},
   "outputs": [
    {
     "data": {
      "text/plain": [
       "array([14,  2,  3, 19, 18, 13, 13])"
      ]
     },
     "execution_count": 31,
     "metadata": {},
     "output_type": "execute_result"
    }
   ],
   "source": [
    "b[(b < 5) | (b > 10)]"
   ]
  },
  {
   "cell_type": "code",
   "execution_count": 32,
   "id": "f904f108-d4fb-4c62-8b47-7fc371a09fea",
   "metadata": {},
   "outputs": [
    {
     "data": {
      "text/plain": [
       "(7,)"
      ]
     },
     "execution_count": 32,
     "metadata": {},
     "output_type": "execute_result"
    }
   ],
   "source": [
    "b[(b < 5) | (b > 10)].shape"
   ]
  },
  {
   "cell_type": "code",
   "execution_count": 33,
   "id": "f650d6d4-49f2-4dd3-a9c3-97db0de442fc",
   "metadata": {},
   "outputs": [
    {
     "data": {
      "text/plain": [
       "array([15, 15,  5])"
      ]
     },
     "execution_count": 33,
     "metadata": {},
     "output_type": "execute_result"
    }
   ],
   "source": [
    "a[a % 5 == 0]"
   ]
  },
  {
   "cell_type": "code",
   "execution_count": 34,
   "id": "3118c996-ee5e-46be-988a-ce3ee8510786",
   "metadata": {},
   "outputs": [
    {
     "data": {
      "text/plain": [
       "array([15, 15])"
      ]
     },
     "execution_count": 34,
     "metadata": {},
     "output_type": "execute_result"
    }
   ],
   "source": [
    "a[(a % 5 == 0) & (a > 5)]"
   ]
  },
  {
   "cell_type": "markdown",
   "id": "a4641199-b892-4a6c-8407-e9a639ac290a",
   "metadata": {},
   "source": [
    "# Filtreleme Yaparken Degilini Almak"
   ]
  },
  {
   "cell_type": "code",
   "execution_count": 35,
   "id": "e7761b93-491f-4b3e-94d9-e763a65b2a9e",
   "metadata": {},
   "outputs": [],
   "source": [
    "m = np.random.randint(30, size = (4, 5))"
   ]
  },
  {
   "cell_type": "code",
   "execution_count": 36,
   "id": "23cc2d89-14c5-482f-8f7f-0bc83f8aff09",
   "metadata": {},
   "outputs": [
    {
     "data": {
      "text/plain": [
       "array([[13, 18, 15,  4,  0],\n",
       "       [22,  3,  3, 24, 28],\n",
       "       [26, 10,  8, 11, 12],\n",
       "       [12, 17,  2,  2, 28]])"
      ]
     },
     "execution_count": 36,
     "metadata": {},
     "output_type": "execute_result"
    }
   ],
   "source": [
    "m"
   ]
  },
  {
   "cell_type": "code",
   "execution_count": 41,
   "id": "c4a7ae56-8535-4adf-a524-a58754ceae96",
   "metadata": {},
   "outputs": [
    {
     "data": {
      "text/plain": [
       "array([[False, False, False,  True,  True],\n",
       "       [False,  True,  True, False, False],\n",
       "       [False, False, False, False, False],\n",
       "       [False, False,  True,  True, False]])"
      ]
     },
     "execution_count": 41,
     "metadata": {},
     "output_type": "execute_result"
    }
   ],
   "source": [
    "m < 5"
   ]
  },
  {
   "cell_type": "code",
   "execution_count": 37,
   "id": "02c988aa-a47e-4450-84b2-0e91f12a0d14",
   "metadata": {},
   "outputs": [
    {
     "data": {
      "text/plain": [
       "array([4, 0, 3, 3, 2, 2])"
      ]
     },
     "execution_count": 37,
     "metadata": {},
     "output_type": "execute_result"
    }
   ],
   "source": [
    "m[m<5]"
   ]
  },
  {
   "cell_type": "code",
   "execution_count": 38,
   "id": "4f2b382f-8e1c-4986-8492-c994709770c9",
   "metadata": {},
   "outputs": [
    {
     "data": {
      "text/plain": [
       "(6,)"
      ]
     },
     "execution_count": 38,
     "metadata": {},
     "output_type": "execute_result"
    }
   ],
   "source": [
    "m[m<5].shape"
   ]
  },
  {
   "cell_type": "code",
   "execution_count": 39,
   "id": "32d5350c-cbc3-4a98-9910-1413ae3aa7da",
   "metadata": {},
   "outputs": [
    {
     "data": {
      "text/plain": [
       "array([ 4,  0, 22,  3,  3, 24, 28, 26,  2,  2, 28])"
      ]
     },
     "execution_count": 39,
     "metadata": {},
     "output_type": "execute_result"
    }
   ],
   "source": [
    "m[~((m>5) & (m < 20))]"
   ]
  },
  {
   "cell_type": "code",
   "execution_count": 48,
   "id": "308083c6-03fb-43ec-a24a-a7bfd80afb54",
   "metadata": {},
   "outputs": [],
   "source": [
    "my_array = np.array([3, 5, 7, 7, 10, 7, None])"
   ]
  },
  {
   "cell_type": "code",
   "execution_count": 49,
   "id": "41107195-f66a-4294-ac2a-3e61284dbe10",
   "metadata": {},
   "outputs": [
    {
     "data": {
      "text/plain": [
       "dtype('O')"
      ]
     },
     "execution_count": 49,
     "metadata": {},
     "output_type": "execute_result"
    }
   ],
   "source": [
    "my_array.dtype"
   ]
  },
  {
   "cell_type": "code",
   "execution_count": 50,
   "id": "54f9e34c-666f-46c3-8b23-4e8f2764ca82",
   "metadata": {},
   "outputs": [
    {
     "data": {
      "text/plain": [
       "array([3, 5, 7, 7, 10, 7, None], dtype=object)"
      ]
     },
     "execution_count": 50,
     "metadata": {},
     "output_type": "execute_result"
    }
   ],
   "source": [
    "my_array"
   ]
  },
  {
   "cell_type": "code",
   "execution_count": 51,
   "id": "74f87593-17d6-43a0-8906-4fe0e2f28740",
   "metadata": {},
   "outputs": [
    {
     "data": {
      "text/plain": [
       "array([False, False, False, False, False, False,  True])"
      ]
     },
     "execution_count": 51,
     "metadata": {},
     "output_type": "execute_result"
    }
   ],
   "source": [
    "my_array == None"
   ]
  },
  {
   "cell_type": "code",
   "execution_count": 53,
   "id": "c0c8df5e-4676-4924-93aa-9a17ebba6145",
   "metadata": {},
   "outputs": [
    {
     "data": {
      "text/plain": [
       "array([7, 7, 7], dtype=object)"
      ]
     },
     "execution_count": 53,
     "metadata": {},
     "output_type": "execute_result"
    }
   ],
   "source": [
    "my_array[my_array == 7]"
   ]
  }
 ],
 "metadata": {
  "kernelspec": {
   "display_name": "Python 3 (ipykernel)",
   "language": "python",
   "name": "python3"
  },
  "language_info": {
   "codemirror_mode": {
    "name": "ipython",
    "version": 3
   },
   "file_extension": ".py",
   "mimetype": "text/x-python",
   "name": "python",
   "nbconvert_exporter": "python",
   "pygments_lexer": "ipython3",
   "version": "3.9.13"
  }
 },
 "nbformat": 4,
 "nbformat_minor": 5
}
