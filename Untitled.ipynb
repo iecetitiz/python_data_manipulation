{
 "cells": [
  {
   "cell_type": "markdown",
   "id": "d7537e20-8354-4035-9bb7-aa8bc030c334",
   "metadata": {},
   "source": [
    "# fancy index"
   ]
  },
  {
   "cell_type": "code",
   "execution_count": 2,
   "id": "46d6fc33-34f6-4c18-815b-5c1478c7836f",
   "metadata": {},
   "outputs": [],
   "source": [
    "import numpy as np"
   ]
  },
  {
   "cell_type": "code",
   "execution_count": 3,
   "id": "6f194b67-2a6e-4669-889c-89a9db53b1d5",
   "metadata": {},
   "outputs": [],
   "source": [
    "my_array = np.arange(0, 30, 3)"
   ]
  },
  {
   "cell_type": "code",
   "execution_count": 4,
   "id": "a35315dc-375b-4e04-9773-b4af9ab35b06",
   "metadata": {},
   "outputs": [
    {
     "data": {
      "text/plain": [
       "array([ 0,  3,  6,  9, 12, 15, 18, 21, 24, 27])"
      ]
     },
     "execution_count": 4,
     "metadata": {},
     "output_type": "execute_result"
    }
   ],
   "source": [
    "my_array"
   ]
  },
  {
   "cell_type": "code",
   "execution_count": 6,
   "id": "0afe9bdc-e8c5-4a92-84c3-9cfca6d45e8a",
   "metadata": {},
   "outputs": [],
   "source": [
    "al_getir = [1, 3, 5]"
   ]
  },
  {
   "cell_type": "code",
   "execution_count": 7,
   "id": "d0806d10-37ef-4271-91da-b69e2305f5ed",
   "metadata": {},
   "outputs": [
    {
     "data": {
      "text/plain": [
       "array([ 3,  9, 15])"
      ]
     },
     "execution_count": 7,
     "metadata": {},
     "output_type": "execute_result"
    }
   ],
   "source": [
    "my_array[al_getir]"
   ]
  },
  {
   "cell_type": "markdown",
   "id": "e1b5d3c9-516f-4eab-827a-d17b6e011d8e",
   "metadata": {},
   "source": [
    "# iki boyutta fancy index"
   ]
  },
  {
   "cell_type": "code",
   "execution_count": 8,
   "id": "5c60eba3-e53b-4923-a0d0-3967e1d38102",
   "metadata": {},
   "outputs": [],
   "source": [
    "m = np.arange(9).reshape(3,3)"
   ]
  },
  {
   "cell_type": "code",
   "execution_count": 9,
   "id": "77c10137-c46c-4b66-ac0b-73f87f9bbc05",
   "metadata": {},
   "outputs": [
    {
     "data": {
      "text/plain": [
       "array([[0, 1, 2],\n",
       "       [3, 4, 5],\n",
       "       [6, 7, 8]])"
      ]
     },
     "execution_count": 9,
     "metadata": {},
     "output_type": "execute_result"
    }
   ],
   "source": [
    "m"
   ]
  },
  {
   "cell_type": "code",
   "execution_count": 11,
   "id": "c7d53b1a-6ff6-4465-9bd1-4870cd95391a",
   "metadata": {},
   "outputs": [],
   "source": [
    "satir = np.array([0, 1])\n",
    "sutun = np.array([1, 2])"
   ]
  },
  {
   "cell_type": "code",
   "execution_count": 12,
   "id": "8beebf49-fc1e-4555-aba3-caa95014892d",
   "metadata": {},
   "outputs": [
    {
     "data": {
      "text/plain": [
       "array([1, 5])"
      ]
     },
     "execution_count": 12,
     "metadata": {},
     "output_type": "execute_result"
    }
   ],
   "source": [
    "m[satir, sutun]"
   ]
  },
  {
   "cell_type": "code",
   "execution_count": null,
   "id": "028a53c5-dc3b-4844-9e98-c273d0841ec1",
   "metadata": {},
   "outputs": [],
   "source": []
  }
 ],
 "metadata": {
  "kernelspec": {
   "display_name": "Python 3 (ipykernel)",
   "language": "python",
   "name": "python3"
  },
  "language_info": {
   "codemirror_mode": {
    "name": "ipython",
    "version": 3
   },
   "file_extension": ".py",
   "mimetype": "text/x-python",
   "name": "python",
   "nbconvert_exporter": "python",
   "pygments_lexer": "ipython3",
   "version": "3.9.13"
  }
 },
 "nbformat": 4,
 "nbformat_minor": 5
}
