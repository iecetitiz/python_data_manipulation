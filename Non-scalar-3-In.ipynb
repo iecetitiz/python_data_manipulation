{
 "cells": [
  {
   "cell_type": "markdown",
   "id": "e999a4ae-8651-41d6-aac7-80d342f95656",
   "metadata": {},
   "source": [
    "# Tuple ve Listlerde Eleman Kontrolu"
   ]
  },
  {
   "cell_type": "code",
   "execution_count": 1,
   "id": "226385dc-155e-43f3-9d06-00d6f332b53d",
   "metadata": {},
   "outputs": [],
   "source": [
    "l = [1, 2, 3,4]"
   ]
  },
  {
   "cell_type": "code",
   "execution_count": 2,
   "id": "111f5325-3fae-4162-aaed-667ca689645c",
   "metadata": {},
   "outputs": [
    {
     "data": {
      "text/plain": [
       "True"
      ]
     },
     "execution_count": 2,
     "metadata": {},
     "output_type": "execute_result"
    }
   ],
   "source": [
    "4 in l"
   ]
  },
  {
   "cell_type": "code",
   "execution_count": 3,
   "id": "1367bf5c-bac6-4cf0-8c4f-1f1787940049",
   "metadata": {},
   "outputs": [
    {
     "name": "stdout",
     "output_type": "stream",
     "text": [
      "yes 2 is here\n"
     ]
    }
   ],
   "source": [
    "if 2 in l:\n",
    "    print(\"yes 2 is here\")\n",
    "else:\n",
    "    print(\"burda oyle biri yok\")"
   ]
  },
  {
   "cell_type": "code",
   "execution_count": 4,
   "id": "b4d1e4c7-cf7e-4cfa-a4ad-231cae2e7677",
   "metadata": {},
   "outputs": [],
   "source": [
    "t = (1, 2, 3)"
   ]
  },
  {
   "cell_type": "code",
   "execution_count": null,
   "id": "4d649b1c-b03b-4163-a703-0783b49fb05b",
   "metadata": {},
   "outputs": [],
   "source": []
  }
 ],
 "metadata": {
  "kernelspec": {
   "display_name": "Python 3 (ipykernel)",
   "language": "python",
   "name": "python3"
  },
  "language_info": {
   "codemirror_mode": {
    "name": "ipython",
    "version": 3
   },
   "file_extension": ".py",
   "mimetype": "text/x-python",
   "name": "python",
   "nbconvert_exporter": "python",
   "pygments_lexer": "ipython3",
   "version": "3.9.13"
  }
 },
 "nbformat": 4,
 "nbformat_minor": 5
}
