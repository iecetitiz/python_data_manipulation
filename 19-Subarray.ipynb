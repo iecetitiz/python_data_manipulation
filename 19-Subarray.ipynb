{
 "cells": [
  {
   "cell_type": "markdown",
   "id": "788ee718-1af9-4fb7-87b8-2b404d872e05",
   "metadata": {},
   "source": [
    "# Subarray\n",
    "**Bir arrayden bir parcayi oldugu gibi baska bir degiskene atayip onda degisiklikler yaparsam asil matrixim tum bu degisikliklerden etkileniyor**\n"
   ]
  },
  {
   "cell_type": "code",
   "execution_count": 1,
   "id": "bcaf75ad-cdf2-4c7f-959b-a7784203cb5e",
   "metadata": {},
   "outputs": [],
   "source": [
    "import numpy as np"
   ]
  },
  {
   "cell_type": "code",
   "execution_count": 2,
   "id": "847ccb24-313c-4d3c-ad81-9b3c4d35515e",
   "metadata": {},
   "outputs": [],
   "source": [
    "a = np.arange(1, 21).reshape(4, 5)"
   ]
  },
  {
   "cell_type": "code",
   "execution_count": 3,
   "id": "e852350e-612d-4ad9-bbbb-8409abb1a1d4",
   "metadata": {},
   "outputs": [
    {
     "data": {
      "text/plain": [
       "array([[ 1,  2,  3,  4,  5],\n",
       "       [ 6,  7,  8,  9, 10],\n",
       "       [11, 12, 13, 14, 15],\n",
       "       [16, 17, 18, 19, 20]])"
      ]
     },
     "execution_count": 3,
     "metadata": {},
     "output_type": "execute_result"
    }
   ],
   "source": [
    "a"
   ]
  },
  {
   "cell_type": "code",
   "execution_count": 4,
   "id": "5a053651-1014-46f6-ba8f-b3440d7e431c",
   "metadata": {},
   "outputs": [],
   "source": [
    "b = a[:2, :3]"
   ]
  },
  {
   "cell_type": "code",
   "execution_count": 5,
   "id": "ef0058a8-a4ca-4491-b7bb-027c64475bfd",
   "metadata": {},
   "outputs": [
    {
     "data": {
      "text/plain": [
       "array([[1, 2, 3],\n",
       "       [6, 7, 8]])"
      ]
     },
     "execution_count": 5,
     "metadata": {},
     "output_type": "execute_result"
    }
   ],
   "source": [
    "b"
   ]
  },
  {
   "cell_type": "code",
   "execution_count": 6,
   "id": "73d7fc2b-ea25-4a39-baa8-df1244cf2671",
   "metadata": {},
   "outputs": [
    {
     "data": {
      "text/plain": [
       "2"
      ]
     },
     "execution_count": 6,
     "metadata": {},
     "output_type": "execute_result"
    }
   ],
   "source": [
    "b.ndim"
   ]
  },
  {
   "cell_type": "code",
   "execution_count": 7,
   "id": "c3e799a7-e5ed-428f-bc1d-c3c2214fddb3",
   "metadata": {},
   "outputs": [],
   "source": [
    "b[0, 0] = 100"
   ]
  },
  {
   "cell_type": "code",
   "execution_count": 8,
   "id": "e65acc76-7300-4c21-b19f-303d62df690e",
   "metadata": {},
   "outputs": [
    {
     "data": {
      "text/plain": [
       "array([[100,   2,   3,   4,   5],\n",
       "       [  6,   7,   8,   9,  10],\n",
       "       [ 11,  12,  13,  14,  15],\n",
       "       [ 16,  17,  18,  19,  20]])"
      ]
     },
     "execution_count": 8,
     "metadata": {},
     "output_type": "execute_result"
    }
   ],
   "source": [
    "a"
   ]
  },
  {
   "cell_type": "code",
   "execution_count": 11,
   "id": "b2d079d5-b5f7-443a-96a3-c3a83d50c5c1",
   "metadata": {},
   "outputs": [],
   "source": [
    "d = a[:2, :3].copy() #degismemesi icin yapmam gereken sey copy methodunu kullanmak"
   ]
  },
  {
   "cell_type": "code",
   "execution_count": 10,
   "id": "4cfeeb28-3cc8-48c9-80ac-dba75afa1c9d",
   "metadata": {},
   "outputs": [
    {
     "data": {
      "text/plain": [
       "array([[100,   2,   3],\n",
       "       [  6,   7,   8]])"
      ]
     },
     "execution_count": 10,
     "metadata": {},
     "output_type": "execute_result"
    }
   ],
   "source": [
    "d"
   ]
  },
  {
   "cell_type": "code",
   "execution_count": null,
   "id": "1c96474b-4b1f-4dae-9f2f-378d00a82636",
   "metadata": {},
   "outputs": [],
   "source": []
  }
 ],
 "metadata": {
  "kernelspec": {
   "display_name": "Python 3 (ipykernel)",
   "language": "python",
   "name": "python3"
  },
  "language_info": {
   "codemirror_mode": {
    "name": "ipython",
    "version": 3
   },
   "file_extension": ".py",
   "mimetype": "text/x-python",
   "name": "python",
   "nbconvert_exporter": "python",
   "pygments_lexer": "ipython3",
   "version": "3.9.13"
  }
 },
 "nbformat": 4,
 "nbformat_minor": 5
}
