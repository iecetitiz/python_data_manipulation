{
 "cells": [
  {
   "cell_type": "markdown",
   "id": "69443ab1-60a1-41f4-9b37-d2cedee2d3ea",
   "metadata": {},
   "source": [
    "# Numpy Array'i Operationlari"
   ]
  },
  {
   "cell_type": "markdown",
   "id": "8bc07909-3d3a-485b-9815-1d4b417abada",
   "metadata": {},
   "source": [
    "**python listleri arasinda * operatoru tanimli degildir iki python listini carpmaya calisirsam hata alirim**\n",
    "\n",
    "**python listlerinde + operatoru tanimlidir ve iki listeyi concatenate edebilirim, ayrica * ile bir scaler ile carpip yine concatenate ederim**\n",
    "\n",
    "**ama numpy listlerinde durum farkli, iki numpy arrayini carparsam ve toplarsam elementwise olarak toplar ve yeni bir ndarray olarak tutar**\n",
    "\n",
    "**bunu yapabilmesi icin eleman sayilari ayni olmak zorunda**\n",
    "\n",
    "**sadece iki numpy ndarrayini degil ayni zamanda bir numpy arrayi ile bir scalari da carpabilirim yine elementwise olarak tum elemanlar 3'le carpilmis olur, ama bu degisim kalici olmaz, carpilmis haline ihtiyacim olursa bir degiskene atarim, eger kalici olmasini istersem kendisini 3'le carptigim haline esitlerim**"
   ]
  },
  {
   "cell_type": "code",
   "execution_count": 1,
   "id": "37984b73-1380-4894-9393-300ad85c0661",
   "metadata": {},
   "outputs": [],
   "source": [
    "import numpy as np"
   ]
  },
  {
   "cell_type": "code",
   "execution_count": 2,
   "id": "49bc1799-f445-4f42-9467-10c52c3a29e2",
   "metadata": {},
   "outputs": [],
   "source": [
    "a = np.arange(1, 21)"
   ]
  },
  {
   "cell_type": "code",
   "execution_count": 3,
   "id": "4bc83df5-7dd9-41b5-b0ba-e20cc041dcc7",
   "metadata": {},
   "outputs": [
    {
     "data": {
      "text/plain": [
       "numpy.ndarray"
      ]
     },
     "execution_count": 3,
     "metadata": {},
     "output_type": "execute_result"
    }
   ],
   "source": [
    "type(a)"
   ]
  },
  {
   "cell_type": "code",
   "execution_count": 4,
   "id": "0fd8214c-574f-4ecc-845f-6b524910f016",
   "metadata": {},
   "outputs": [
    {
     "data": {
      "text/plain": [
       "(20,)"
      ]
     },
     "execution_count": 4,
     "metadata": {},
     "output_type": "execute_result"
    }
   ],
   "source": [
    "a.shape"
   ]
  },
  {
   "cell_type": "code",
   "execution_count": 5,
   "id": "dd54e9b5-3fad-4d0c-86e8-d9eef0a6270b",
   "metadata": {},
   "outputs": [
    {
     "data": {
      "text/plain": [
       "1"
      ]
     },
     "execution_count": 5,
     "metadata": {},
     "output_type": "execute_result"
    }
   ],
   "source": [
    "a.ndim"
   ]
  },
  {
   "cell_type": "code",
   "execution_count": 6,
   "id": "0c5ded3b-446c-4120-b9bb-81b6747faa08",
   "metadata": {},
   "outputs": [],
   "source": [
    "list1 = [1, 2, 3, 4, \"ece\", \"7.90\", 4]\n",
    "list2 = [4, 90, \"sevin\"]"
   ]
  },
  {
   "cell_type": "code",
   "execution_count": 7,
   "id": "e27ad510-f46a-4bf3-abb1-6938587ea4b5",
   "metadata": {},
   "outputs": [],
   "source": [
    "list3 = list1 + list2"
   ]
  },
  {
   "cell_type": "code",
   "execution_count": 8,
   "id": "ae116598-0888-4858-b37e-a15c08dafbcc",
   "metadata": {},
   "outputs": [
    {
     "data": {
      "text/plain": [
       "[1, 2, 3, 4, 'ece', '7.90', 4, 4, 90, 'sevin']"
      ]
     },
     "execution_count": 8,
     "metadata": {},
     "output_type": "execute_result"
    }
   ],
   "source": [
    "list3\n"
   ]
  },
  {
   "cell_type": "code",
   "execution_count": 11,
   "id": "837dcd50-2a33-40a7-b68d-04b4267d4e72",
   "metadata": {},
   "outputs": [],
   "source": [
    "list4 = list3 * 2"
   ]
  },
  {
   "cell_type": "code",
   "execution_count": 12,
   "id": "7932196c-f744-415b-ad0d-60c4aa456e6b",
   "metadata": {},
   "outputs": [
    {
     "data": {
      "text/plain": [
       "[1,\n",
       " 2,\n",
       " 3,\n",
       " 4,\n",
       " 'ece',\n",
       " '7.90',\n",
       " 4,\n",
       " 4,\n",
       " 90,\n",
       " 'sevin',\n",
       " 1,\n",
       " 2,\n",
       " 3,\n",
       " 4,\n",
       " 'ece',\n",
       " '7.90',\n",
       " 4,\n",
       " 4,\n",
       " 90,\n",
       " 'sevin']"
      ]
     },
     "execution_count": 12,
     "metadata": {},
     "output_type": "execute_result"
    }
   ],
   "source": [
    "list4"
   ]
  },
  {
   "cell_type": "code",
   "execution_count": 13,
   "id": "a895d809-7459-48f4-9d70-ca8867879761",
   "metadata": {},
   "outputs": [
    {
     "data": {
      "text/plain": [
       "array([ 4, 10, 18])"
      ]
     },
     "execution_count": 13,
     "metadata": {},
     "output_type": "execute_result"
    }
   ],
   "source": [
    "m = np.array([1, 2, 3])\n",
    "n = np.array([4, 5, 6])\n",
    "m * n "
   ]
  },
  {
   "cell_type": "code",
   "execution_count": 14,
   "id": "b4e5de16-5aba-42f0-ade7-6bd9951c4e9f",
   "metadata": {},
   "outputs": [],
   "source": [
    "n = np.array([4, 5, 6, 7])"
   ]
  },
  {
   "cell_type": "code",
   "execution_count": 15,
   "id": "b85673f1-0bfa-451a-8d18-7c625ddfb904",
   "metadata": {},
   "outputs": [
    {
     "ename": "ValueError",
     "evalue": "operands could not be broadcast together with shapes (3,) (4,) ",
     "output_type": "error",
     "traceback": [
      "\u001b[1;31m---------------------------------------------------------------------------\u001b[0m",
      "\u001b[1;31mValueError\u001b[0m                                Traceback (most recent call last)",
      "\u001b[1;32m~\\AppData\\Local\\Temp\\ipykernel_14284\\3611109177.py\u001b[0m in \u001b[0;36m<module>\u001b[1;34m\u001b[0m\n\u001b[1;32m----> 1\u001b[1;33m \u001b[0mm\u001b[0m \u001b[1;33m*\u001b[0m \u001b[0mn\u001b[0m\u001b[1;33m\u001b[0m\u001b[1;33m\u001b[0m\u001b[0m\n\u001b[0m",
      "\u001b[1;31mValueError\u001b[0m: operands could not be broadcast together with shapes (3,) (4,) "
     ]
    }
   ],
   "source": [
    "m * n "
   ]
  },
  {
   "cell_type": "code",
   "execution_count": 17,
   "id": "00420905-98c3-4eb6-9cd8-4b593494fb44",
   "metadata": {},
   "outputs": [
    {
     "name": "stdout",
     "output_type": "stream",
     "text": [
      "olmadi\n"
     ]
    }
   ],
   "source": [
    "try: \n",
    "    m * n \n",
    "except ValueError:\n",
    "    print(\"olmadi\")\n",
    "    pass"
   ]
  },
  {
   "cell_type": "code",
   "execution_count": 18,
   "id": "f07f540c-d585-4a65-8b98-aeea852867af",
   "metadata": {},
   "outputs": [
    {
     "data": {
      "text/plain": [
       "array([3, 6, 9])"
      ]
     },
     "execution_count": 18,
     "metadata": {},
     "output_type": "execute_result"
    }
   ],
   "source": [
    "m * 3"
   ]
  },
  {
   "cell_type": "code",
   "execution_count": 19,
   "id": "c5b019ed-41aa-4286-8dc5-cb5c5be3bbf3",
   "metadata": {},
   "outputs": [
    {
     "data": {
      "text/plain": [
       "array([1, 2, 3])"
      ]
     },
     "execution_count": 19,
     "metadata": {},
     "output_type": "execute_result"
    }
   ],
   "source": [
    "m"
   ]
  },
  {
   "cell_type": "code",
   "execution_count": 20,
   "id": "1d9814fd-7146-4385-9560-f51a7d91073c",
   "metadata": {},
   "outputs": [],
   "source": [
    "o = m * 3"
   ]
  },
  {
   "cell_type": "code",
   "execution_count": 21,
   "id": "44256f50-9e0c-42b5-9b77-5461c7e26b0b",
   "metadata": {},
   "outputs": [
    {
     "data": {
      "text/plain": [
       "array([3, 6, 9])"
      ]
     },
     "execution_count": 21,
     "metadata": {},
     "output_type": "execute_result"
    }
   ],
   "source": [
    "o"
   ]
  },
  {
   "cell_type": "code",
   "execution_count": 22,
   "id": "dfafea14-4bc6-4a06-9da4-6fe0b6a60be8",
   "metadata": {},
   "outputs": [],
   "source": [
    "o = o * 3"
   ]
  },
  {
   "cell_type": "code",
   "execution_count": 23,
   "id": "fefa4a87-5550-459a-93d8-af4094b68f07",
   "metadata": {},
   "outputs": [
    {
     "data": {
      "text/plain": [
       "0"
      ]
     },
     "execution_count": 23,
     "metadata": {},
     "output_type": "execute_result"
    }
   ],
   "source": [
    "0"
   ]
  },
  {
   "cell_type": "code",
   "execution_count": 24,
   "id": "d048e33c-8cab-4ea0-90b3-ffb6fbaf235f",
   "metadata": {},
   "outputs": [
    {
     "data": {
      "text/plain": [
       "array([ 9, 18, 27])"
      ]
     },
     "execution_count": 24,
     "metadata": {},
     "output_type": "execute_result"
    }
   ],
   "source": [
    "o"
   ]
  },
  {
   "cell_type": "code",
   "execution_count": 25,
   "id": "b836585f-4dcb-4cec-b3ca-71ff489d4f69",
   "metadata": {},
   "outputs": [],
   "source": [
    "matrix = np.arange(1, 21).reshape(4, 5)"
   ]
  },
  {
   "cell_type": "code",
   "execution_count": 26,
   "id": "b4548d74-ce7e-4dce-8061-79cbe13a8af9",
   "metadata": {},
   "outputs": [
    {
     "data": {
      "text/plain": [
       "array([[ 1,  2,  3,  4,  5],\n",
       "       [ 6,  7,  8,  9, 10],\n",
       "       [11, 12, 13, 14, 15],\n",
       "       [16, 17, 18, 19, 20]])"
      ]
     },
     "execution_count": 26,
     "metadata": {},
     "output_type": "execute_result"
    }
   ],
   "source": [
    "matrix"
   ]
  },
  {
   "cell_type": "code",
   "execution_count": 27,
   "id": "0e0fb315-5bd7-4bee-81e9-28926b5ce574",
   "metadata": {},
   "outputs": [
    {
     "data": {
      "text/plain": [
       "array([[ 3,  6,  9, 12, 15],\n",
       "       [18, 21, 24, 27, 30],\n",
       "       [33, 36, 39, 42, 45],\n",
       "       [48, 51, 54, 57, 60]])"
      ]
     },
     "execution_count": 27,
     "metadata": {},
     "output_type": "execute_result"
    }
   ],
   "source": [
    "matrix * 3"
   ]
  },
  {
   "cell_type": "code",
   "execution_count": 28,
   "id": "992c24fd-146d-40ef-926b-fc9c5275427a",
   "metadata": {},
   "outputs": [
    {
     "data": {
      "text/plain": [
       "array([[ 2,  4,  6,  8, 10],\n",
       "       [12, 14, 16, 18, 20],\n",
       "       [22, 24, 26, 28, 30],\n",
       "       [32, 34, 36, 38, 40]])"
      ]
     },
     "execution_count": 28,
     "metadata": {},
     "output_type": "execute_result"
    }
   ],
   "source": [
    "matrix + matrix"
   ]
  },
  {
   "cell_type": "code",
   "execution_count": null,
   "id": "ea8515d3-5e40-47f3-b849-5a45b8b6ffc2",
   "metadata": {},
   "outputs": [],
   "source": []
  }
 ],
 "metadata": {
  "kernelspec": {
   "display_name": "Python 3 (ipykernel)",
   "language": "python",
   "name": "python3"
  },
  "language_info": {
   "codemirror_mode": {
    "name": "ipython",
    "version": 3
   },
   "file_extension": ".py",
   "mimetype": "text/x-python",
   "name": "python",
   "nbconvert_exporter": "python",
   "pygments_lexer": "ipython3",
   "version": "3.9.13"
  }
 },
 "nbformat": 4,
 "nbformat_minor": 5
}
