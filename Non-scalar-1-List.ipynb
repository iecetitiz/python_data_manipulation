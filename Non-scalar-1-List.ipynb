{
 "cells": [
  {
   "cell_type": "markdown",
   "id": "0943abae-46d4-4a2e-8918-c586dc49c1cd",
   "metadata": {},
   "source": [
    "**Listler icinde tutabilecegim elemanlarin bir sarti yok, istedigim turden her seyi karisik bir sekilde tutabilirim**"
   ]
  },
  {
   "cell_type": "code",
   "execution_count": 14,
   "id": "b98c7c0f-9e6a-4b28-91ea-80fe43f4e5d8",
   "metadata": {},
   "outputs": [],
   "source": [
    "list = [1, 2, \"a\", \"b\", True, 4.5, [1, 2, 3]]"
   ]
  },
  {
   "cell_type": "code",
   "execution_count": 15,
   "id": "821848e7-a4e3-42ce-bbdd-387128673445",
   "metadata": {},
   "outputs": [
    {
     "data": {
      "text/plain": [
       "[1, 2, 'a', 'b', True, 4.5, [1, 2, 3]]"
      ]
     },
     "execution_count": 15,
     "metadata": {},
     "output_type": "execute_result"
    }
   ],
   "source": [
    "list"
   ]
  },
  {
   "cell_type": "markdown",
   "id": "69b85f16-1519-4752-a894-24d961985d6e",
   "metadata": {},
   "source": [
    "# Indexing ve Slicing"
   ]
  },
  {
   "cell_type": "markdown",
   "id": "2d347cb9-822b-425f-8776-1b64e9f68732",
   "metadata": {},
   "source": [
    "**-1 dedigimde son elemani getiriyor**"
   ]
  },
  {
   "cell_type": "code",
   "execution_count": 16,
   "id": "b8dc6003-79a4-4ce1-91e7-a7dc25a7dbfd",
   "metadata": {},
   "outputs": [
    {
     "data": {
      "text/plain": [
       "[1, 2, 3]"
      ]
     },
     "execution_count": 16,
     "metadata": {},
     "output_type": "execute_result"
    }
   ],
   "source": [
    "list[-1]"
   ]
  },
  {
   "cell_type": "code",
   "execution_count": 17,
   "id": "3aa30092-cad0-4751-99ac-43464ad8d0d1",
   "metadata": {},
   "outputs": [
    {
     "ename": "IndexError",
     "evalue": "list index out of range",
     "output_type": "error",
     "traceback": [
      "\u001b[1;31m---------------------------------------------------------------------------\u001b[0m",
      "\u001b[1;31mIndexError\u001b[0m                                Traceback (most recent call last)",
      "\u001b[1;32m~\\AppData\\Local\\Temp\\ipykernel_2680\\427639187.py\u001b[0m in \u001b[0;36m<module>\u001b[1;34m\u001b[0m\n\u001b[1;32m----> 1\u001b[1;33m \u001b[0mlist\u001b[0m\u001b[1;33m[\u001b[0m\u001b[1;36m10\u001b[0m\u001b[1;33m]\u001b[0m\u001b[1;33m\u001b[0m\u001b[1;33m\u001b[0m\u001b[0m\n\u001b[0m",
      "\u001b[1;31mIndexError\u001b[0m: list index out of range"
     ]
    }
   ],
   "source": [
    "list[10]"
   ]
  },
  {
   "cell_type": "code",
   "execution_count": 18,
   "id": "c38ef66b-c449-4139-9dde-6f2d5ca41151",
   "metadata": {},
   "outputs": [
    {
     "data": {
      "text/plain": [
       "[2, 'a', 'b', True, 4.5, [1, 2, 3]]"
      ]
     },
     "execution_count": 18,
     "metadata": {},
     "output_type": "execute_result"
    }
   ],
   "source": [
    "list[1:]"
   ]
  },
  {
   "cell_type": "markdown",
   "id": "6984e1e2-e6fb-4510-9fce-2d1c8bfe2a5f",
   "metadata": {},
   "source": [
    "**slice yaparken stop icin yazdigimi dahil etmiyor, ve garip bir sey var burda, stop icin cok buyuk bir sayi yazsam bile hata almiyorum**"
   ]
  },
  {
   "cell_type": "code",
   "execution_count": 19,
   "id": "42458128-f6db-4082-a940-9569045af36f",
   "metadata": {},
   "outputs": [
    {
     "data": {
      "text/plain": [
       "[2, 'a']"
      ]
     },
     "execution_count": 19,
     "metadata": {},
     "output_type": "execute_result"
    }
   ],
   "source": [
    "list[1:3] "
   ]
  },
  {
   "cell_type": "markdown",
   "id": "c939c01b-5181-4061-a840-4193a257a31e",
   "metadata": {},
   "source": [
    "# Listlerin elemanlari degistirilebilir, mutable'dir, ama stringler mutable degildir, degistirmek istersem hata alirim\n",
    "\n",
    "# Istersem tek bir elemani degistiririm, istersem slice belirtirim ve o slice'i tamamen degistiririm, 4 elemanlik bir slice icine istersem 5 eleman koyarim istersem 1 eleman KOYAMAM, sol iterable oldugu icin sag taraf da iterable olmali, illa tek eleman vereceksem onu bir list icine koymam gerek, koseli paranteze yazip koyarim"
   ]
  },
  {
   "cell_type": "code",
   "execution_count": 20,
   "id": "585a90fe-3a9f-446a-a0de-b95424fc24ca",
   "metadata": {},
   "outputs": [],
   "source": [
    "notlar = [70, 90, 80, 35, 75, 40, 90]"
   ]
  },
  {
   "cell_type": "code",
   "execution_count": 21,
   "id": "ea22d673-00a9-41d5-bb9c-cee9d1c2c9f7",
   "metadata": {},
   "outputs": [],
   "source": [
    "notlar[1] += 5"
   ]
  },
  {
   "cell_type": "code",
   "execution_count": 22,
   "id": "1e6c2016-f427-4422-8346-3e54f1976e40",
   "metadata": {},
   "outputs": [
    {
     "data": {
      "text/plain": [
       "[70, 95, 80, 35, 75, 40, 90]"
      ]
     },
     "execution_count": 22,
     "metadata": {},
     "output_type": "execute_result"
    }
   ],
   "source": [
    "notlar"
   ]
  },
  {
   "cell_type": "code",
   "execution_count": 27,
   "id": "e4728913-5b2c-4c69-9def-d476aa924f3d",
   "metadata": {},
   "outputs": [],
   "source": [
    "notlar[0:4] = [1]\n"
   ]
  },
  {
   "cell_type": "code",
   "execution_count": 28,
   "id": "7c61b1e6-1146-4dbc-8cc5-ae657cbcdd73",
   "metadata": {},
   "outputs": [
    {
     "data": {
      "text/plain": [
       "[1, 90]"
      ]
     },
     "execution_count": 28,
     "metadata": {},
     "output_type": "execute_result"
    }
   ],
   "source": [
    "notlar"
   ]
  },
  {
   "cell_type": "code",
   "execution_count": 29,
   "id": "5a8c7c67-4f19-4d48-a761-dd0cb8e13328",
   "metadata": {},
   "outputs": [],
   "source": [
    "notlar = [70, 90, 80, 35, 75, 40, 90]"
   ]
  },
  {
   "cell_type": "markdown",
   "id": "5da676da-b2f7-43f7-8cdf-919919d317c0",
   "metadata": {},
   "source": [
    "# len()\n",
    "\n",
    "* listin eleman sayisini verir"
   ]
  },
  {
   "cell_type": "code",
   "execution_count": 30,
   "id": "b0a93991-63ef-4d1f-91fd-7c37c863872b",
   "metadata": {},
   "outputs": [
    {
     "data": {
      "text/plain": [
       "7"
      ]
     },
     "execution_count": 30,
     "metadata": {},
     "output_type": "execute_result"
    }
   ],
   "source": [
    "len(notlar)"
   ]
  },
  {
   "cell_type": "markdown",
   "id": "ee4a8fa8-0d12-47ac-9ae6-a786449ede4c",
   "metadata": {},
   "source": [
    "# append()\n",
    "\n",
    "* listin sonuna tek bir eleman ekler, cok siklikla gorursun"
   ]
  },
  {
   "cell_type": "code",
   "execution_count": 31,
   "id": "36bc1704-cea3-40fd-94d5-1359c0424270",
   "metadata": {},
   "outputs": [
    {
     "data": {
      "text/plain": [
       "[70, 90, 80, 35, 75, 40, 90]"
      ]
     },
     "execution_count": 31,
     "metadata": {},
     "output_type": "execute_result"
    }
   ],
   "source": [
    "notlar"
   ]
  },
  {
   "cell_type": "code",
   "execution_count": 32,
   "id": "a651badc-9046-4f45-a380-c25e00496f70",
   "metadata": {},
   "outputs": [],
   "source": [
    "notlar.append(200)"
   ]
  },
  {
   "cell_type": "code",
   "execution_count": 33,
   "id": "16f8bfa5-3a75-43a5-9b8e-2417d8c846f5",
   "metadata": {},
   "outputs": [
    {
     "data": {
      "text/plain": [
       "[70, 90, 80, 35, 75, 40, 90, 200]"
      ]
     },
     "execution_count": 33,
     "metadata": {},
     "output_type": "execute_result"
    }
   ],
   "source": [
    "notlar"
   ]
  },
  {
   "cell_type": "markdown",
   "id": "49d682e1-a8be-4002-a856-de08d8bbdbae",
   "metadata": {},
   "source": [
    "# Listin fonksiyonlarinin isimlerini ezberlemeye calisma, sadece list ile neler yapilabilecegini bilmen yeterli, zaten arastirip bulabilirsin o fonksiyon neyse"
   ]
  },
  {
   "cell_type": "markdown",
   "id": "f3233f23-b128-4cdb-b355-55f052d5e37a",
   "metadata": {},
   "source": [
    "# insert()\n",
    "\n",
    "* spesifik bir indexe eleman eklemek isteyebilirim, ve o yere eleman eklendikten sonra diger elemanlar saga kaydiriliyor"
   ]
  },
  {
   "cell_type": "code",
   "execution_count": 34,
   "id": "3a54fea9-3e29-4f67-9608-57dd88ac9819",
   "metadata": {},
   "outputs": [
    {
     "data": {
      "text/plain": [
       "[70, 90, 80, 35, 75, 40, 90, 200]"
      ]
     },
     "execution_count": 34,
     "metadata": {},
     "output_type": "execute_result"
    }
   ],
   "source": [
    "notlar"
   ]
  },
  {
   "cell_type": "code",
   "execution_count": 35,
   "id": "f1c72a11-d38b-4e06-9f8b-3a9cc9418fb6",
   "metadata": {},
   "outputs": [],
   "source": [
    "notlar.insert(0, 100)"
   ]
  },
  {
   "cell_type": "code",
   "execution_count": 36,
   "id": "ed79f9b9-9452-41bf-93f6-605602f0635b",
   "metadata": {},
   "outputs": [
    {
     "data": {
      "text/plain": [
       "[100, 70, 90, 80, 35, 75, 40, 90, 200]"
      ]
     },
     "execution_count": 36,
     "metadata": {},
     "output_type": "execute_result"
    }
   ],
   "source": [
    "notlar"
   ]
  },
  {
   "cell_type": "markdown",
   "id": "ce1b5c89-1185-4810-8905-de21957487fb",
   "metadata": {},
   "source": [
    "# remove() \n",
    "\n",
    "* listede oldugunu bildigim bir elemani siliyorum, eger bu eleman listede yoksa ve remove yaparsam error aliyorum, eger birden fazla bu silmeye calistigim eleman varsa ilk gordugu bu elemani siliyor"
   ]
  },
  {
   "cell_type": "markdown",
   "id": "7e7fb91b-d679-42e0-8d27-99925d84aac3",
   "metadata": {},
   "source": [
    "# pop()\n",
    "\n",
    "* listin belli bir indexindeki elemani silmemi saglar, VE GERIYE SILDIGI ELEMANI DONDURUR\n",
    "\n",
    "* remove()'dan farki bu, remove() geriye bir eleman dondurmuyor"
   ]
  },
  {
   "cell_type": "code",
   "execution_count": 37,
   "id": "88f8d43c-4396-4036-a4fa-8edefd2db539",
   "metadata": {},
   "outputs": [],
   "source": [
    "l = [1, 2, 3, 4, 5, \"ece\"]"
   ]
  },
  {
   "cell_type": "code",
   "execution_count": 38,
   "id": "14db9298-bf64-43f3-8a78-703d24a19123",
   "metadata": {},
   "outputs": [
    {
     "data": {
      "text/plain": [
       "'ece'"
      ]
     },
     "execution_count": 38,
     "metadata": {},
     "output_type": "execute_result"
    }
   ],
   "source": [
    "l.pop(5)"
   ]
  },
  {
   "cell_type": "code",
   "execution_count": 39,
   "id": "dcc46fd1-c36a-467d-a31b-4467ef368657",
   "metadata": {},
   "outputs": [
    {
     "data": {
      "text/plain": [
       "[1, 2, 3, 4, 5]"
      ]
     },
     "execution_count": 39,
     "metadata": {},
     "output_type": "execute_result"
    }
   ],
   "source": [
    "l"
   ]
  },
  {
   "cell_type": "code",
   "execution_count": 40,
   "id": "bc22ab98-97c7-4916-9790-9924d989122c",
   "metadata": {},
   "outputs": [
    {
     "data": {
      "text/plain": [
       "6"
      ]
     },
     "execution_count": 40,
     "metadata": {},
     "output_type": "execute_result"
    }
   ],
   "source": [
    "l.pop(1) + 4"
   ]
  },
  {
   "cell_type": "markdown",
   "id": "953fb2c4-0700-4e1c-b6a5-cc7f578e0577",
   "metadata": {},
   "source": [
    "# count()\n",
    "\n",
    "* count() icine yazdigim degerin list icinde kac tane oldugunu dondurur"
   ]
  },
  {
   "cell_type": "code",
   "execution_count": 41,
   "id": "358ff15b-9394-41dd-adbb-601a45212b6a",
   "metadata": {},
   "outputs": [],
   "source": [
    "list = [1, 2, 3, 1, 1, 10, 4, 4]"
   ]
  },
  {
   "cell_type": "code",
   "execution_count": 42,
   "id": "41f87f71-9914-4fc9-8908-8ba756bbd13e",
   "metadata": {},
   "outputs": [
    {
     "data": {
      "text/plain": [
       "0"
      ]
     },
     "execution_count": 42,
     "metadata": {},
     "output_type": "execute_result"
    }
   ],
   "source": [
    "list.count(100)"
   ]
  },
  {
   "cell_type": "code",
   "execution_count": 43,
   "id": "d0a68ab2-ac88-4f95-baaf-365189f85934",
   "metadata": {},
   "outputs": [
    {
     "data": {
      "text/plain": [
       "3"
      ]
     },
     "execution_count": 43,
     "metadata": {},
     "output_type": "execute_result"
    }
   ],
   "source": [
    "list.count(1)"
   ]
  },
  {
   "cell_type": "markdown",
   "id": "ab80e4b4-b8ae-48ae-878f-261ed1cb27f1",
   "metadata": {},
   "source": [
    "# Aliasing\n",
    "\n",
    "* list = list2 dedigimde her ikisi de ayni liste referans olacak ve degisiklikler birbirinden etkilenecek, bunu copy ile engelliyorum"
   ]
  },
  {
   "cell_type": "code",
   "execution_count": 3,
   "id": "1530cdcc-d08d-4e33-815d-607b6b1ff23e",
   "metadata": {},
   "outputs": [],
   "source": [
    "l1 = [1, 2, 3, 4]"
   ]
  },
  {
   "cell_type": "code",
   "execution_count": 45,
   "id": "c53aeb79-b230-4ef8-853a-b45ccb3ffbce",
   "metadata": {},
   "outputs": [],
   "source": [
    "l2 = l1.copy()"
   ]
  },
  {
   "cell_type": "markdown",
   "id": "9e0facda-6687-4be0-8cf7-679151cbaa90",
   "metadata": {},
   "source": [
    "# Listlerde Concatenation\n",
    "\n",
    "* '+' operatoru ile yapiyorum, ama bu kalici bir sey degil, kalici olsun istersem bir degiskene atama yaparak yapiyorum bunu"
   ]
  },
  {
   "cell_type": "markdown",
   "id": "7eaaeede-428a-4390-b35f-c7e6ec9b2cf7",
   "metadata": {},
   "source": [
    "# Bir elemanin indexini bulmak\n",
    "\n",
    "* ilk indexi donduruyor, listede yoksa hata aliyorum"
   ]
  },
  {
   "cell_type": "code",
   "execution_count": 4,
   "id": "13bad8e4-b119-4aa4-91f2-b5ab50311748",
   "metadata": {},
   "outputs": [
    {
     "data": {
      "text/plain": [
       "0"
      ]
     },
     "execution_count": 4,
     "metadata": {},
     "output_type": "execute_result"
    }
   ],
   "source": [
    "l1.index(1)"
   ]
  },
  {
   "cell_type": "markdown",
   "id": "f0c51f18-dc0e-429b-a78c-d238c17b5046",
   "metadata": {},
   "source": [
    "# Bir listi ters cevirmek\n",
    "\n",
    "* reverse() methodu inplace bir methoddur, yani yaptigim degisiklik kalici olur, kalici olmamasini istersem en sondan geriye sayan bir slice yapmam gerekir"
   ]
  },
  {
   "cell_type": "code",
   "execution_count": 5,
   "id": "234a9f48-8eb4-461c-bbe3-22e9e31c619e",
   "metadata": {},
   "outputs": [],
   "source": [
    "l1.reverse()"
   ]
  },
  {
   "cell_type": "code",
   "execution_count": 6,
   "id": "7a7ecfb4-4c6f-4c45-8290-baa863a6ee49",
   "metadata": {},
   "outputs": [
    {
     "data": {
      "text/plain": [
       "[4, 3, 2, 1]"
      ]
     },
     "execution_count": 6,
     "metadata": {},
     "output_type": "execute_result"
    }
   ],
   "source": [
    "l1"
   ]
  },
  {
   "cell_type": "code",
   "execution_count": 7,
   "id": "41b851b2-1d11-4391-adce-0c54a249cd6f",
   "metadata": {},
   "outputs": [],
   "source": [
    "l2 = l1[::-1]"
   ]
  },
  {
   "cell_type": "code",
   "execution_count": 8,
   "id": "577907a8-6206-47a3-88ad-593bd55e444f",
   "metadata": {},
   "outputs": [
    {
     "data": {
      "text/plain": [
       "[1, 2, 3, 4]"
      ]
     },
     "execution_count": 8,
     "metadata": {},
     "output_type": "execute_result"
    }
   ],
   "source": [
    "l2"
   ]
  },
  {
   "cell_type": "markdown",
   "id": "c29c604c-7212-4734-a273-bb9d28e34b97",
   "metadata": {},
   "source": [
    "# Bir listi siralamak\n",
    "\n",
    "* alfabetik veya sayisal olabilir\n",
    "\n",
    "* sorted() inplace degil, ama sort() inplace"
   ]
  },
  {
   "cell_type": "code",
   "execution_count": 9,
   "id": "44020dff-7a6f-4cfe-8783-a7c4cb657ce0",
   "metadata": {},
   "outputs": [],
   "source": [
    "l3 = [7, 60, 44, 32, 12, 10]"
   ]
  },
  {
   "cell_type": "code",
   "execution_count": 10,
   "id": "1483f751-1ecc-43f1-8fbd-35e600008395",
   "metadata": {},
   "outputs": [
    {
     "data": {
      "text/plain": [
       "[7, 10, 12, 32, 44, 60]"
      ]
     },
     "execution_count": 10,
     "metadata": {},
     "output_type": "execute_result"
    }
   ],
   "source": [
    "sorted(l3)"
   ]
  },
  {
   "cell_type": "code",
   "execution_count": 12,
   "id": "8416ae26-5019-4bc9-ba8f-8c470ecbf812",
   "metadata": {},
   "outputs": [
    {
     "data": {
      "text/plain": [
       "[7, 60, 44, 32, 12, 10]"
      ]
     },
     "execution_count": 12,
     "metadata": {},
     "output_type": "execute_result"
    }
   ],
   "source": [
    "l3"
   ]
  },
  {
   "cell_type": "code",
   "execution_count": 13,
   "id": "114e71e0-8009-4b9c-ac7e-7eb9912591c3",
   "metadata": {},
   "outputs": [],
   "source": [
    "l3.sort()"
   ]
  },
  {
   "cell_type": "code",
   "execution_count": 14,
   "id": "15bffe41-3176-4ee3-946a-c1b187ddf945",
   "metadata": {},
   "outputs": [
    {
     "data": {
      "text/plain": [
       "[7, 10, 12, 32, 44, 60]"
      ]
     },
     "execution_count": 14,
     "metadata": {},
     "output_type": "execute_result"
    }
   ],
   "source": [
    "l3"
   ]
  },
  {
   "cell_type": "code",
   "execution_count": 15,
   "id": "14dcc47b-f074-454e-9643-65954da84ad8",
   "metadata": {},
   "outputs": [],
   "source": [
    "l4 = [1, 4, \"a\"]"
   ]
  },
  {
   "cell_type": "code",
   "execution_count": 16,
   "id": "eb02f6de-009d-4296-a234-e62c4add7559",
   "metadata": {},
   "outputs": [
    {
     "ename": "TypeError",
     "evalue": "'<' not supported between instances of 'str' and 'int'",
     "output_type": "error",
     "traceback": [
      "\u001b[1;31m---------------------------------------------------------------------------\u001b[0m",
      "\u001b[1;31mTypeError\u001b[0m                                 Traceback (most recent call last)",
      "\u001b[1;32m~\\AppData\\Local\\Temp\\ipykernel_2528\\4249352390.py\u001b[0m in \u001b[0;36m<module>\u001b[1;34m\u001b[0m\n\u001b[1;32m----> 1\u001b[1;33m \u001b[0msorted\u001b[0m\u001b[1;33m(\u001b[0m\u001b[0ml4\u001b[0m\u001b[1;33m)\u001b[0m\u001b[1;33m\u001b[0m\u001b[1;33m\u001b[0m\u001b[0m\n\u001b[0m",
      "\u001b[1;31mTypeError\u001b[0m: '<' not supported between instances of 'str' and 'int'"
     ]
    }
   ],
   "source": [
    "sorted(l4)"
   ]
  },
  {
   "cell_type": "code",
   "execution_count": 17,
   "id": "98560129-c1d6-4b30-88c5-70e7a1358df3",
   "metadata": {},
   "outputs": [],
   "source": [
    "l5 = [1, 1.2, 3, 4, 0.6]"
   ]
  },
  {
   "cell_type": "code",
   "execution_count": 18,
   "id": "088dd2dc-5661-45be-b62c-6a205f3d0bfa",
   "metadata": {},
   "outputs": [
    {
     "data": {
      "text/plain": [
       "[0.6, 1, 1.2, 3, 4]"
      ]
     },
     "execution_count": 18,
     "metadata": {},
     "output_type": "execute_result"
    }
   ],
   "source": [
    "sorted(l5)"
   ]
  },
  {
   "cell_type": "code",
   "execution_count": 19,
   "id": "b51a5aa0-f5d7-4b3b-886f-bd61041943fa",
   "metadata": {},
   "outputs": [],
   "source": [
    "l6 = [\"8\",\"a\",\"d\", \"z\", \"g\", \"45\", \"0.8\", \"12\"]"
   ]
  },
  {
   "cell_type": "code",
   "execution_count": 20,
   "id": "92ce0637-1168-491f-98cc-b2a02cba3e41",
   "metadata": {},
   "outputs": [
    {
     "data": {
      "text/plain": [
       "['0.8', '12', '45', '8', 'a', 'd', 'g', 'z']"
      ]
     },
     "execution_count": 20,
     "metadata": {},
     "output_type": "execute_result"
    }
   ],
   "source": [
    "sorted(l6)"
   ]
  },
  {
   "cell_type": "code",
   "execution_count": 21,
   "id": "d8c9a247-0135-4fb9-8d54-6e7a701216ca",
   "metadata": {},
   "outputs": [],
   "source": [
    "l7 = [[10, 4, 23], [-1, 30, 40]]"
   ]
  },
  {
   "cell_type": "code",
   "execution_count": 22,
   "id": "c09619c5-9c97-4ccb-af6b-87e926041e2b",
   "metadata": {},
   "outputs": [
    {
     "data": {
      "text/plain": [
       "[[-1, 30, 40], [10, 4, 23]]"
      ]
     },
     "execution_count": 22,
     "metadata": {},
     "output_type": "execute_result"
    }
   ],
   "source": [
    "sorted(l7)"
   ]
  },
  {
   "cell_type": "code",
   "execution_count": 25,
   "id": "d356300c-8fa9-4aca-9474-af20960058ab",
   "metadata": {},
   "outputs": [],
   "source": [
    "l8 = [[\"z\", \"a\"], [10, 4, 23]] #burda hata aliyorum ama eger ikisinin de ilk elemanlari sayi olmus olsaydi hata almayacaktim"
   ]
  },
  {
   "cell_type": "code",
   "execution_count": 24,
   "id": "f35776e2-e641-4092-be38-9b0c5bee4adb",
   "metadata": {},
   "outputs": [
    {
     "ename": "TypeError",
     "evalue": "'<' not supported between instances of 'int' and 'str'",
     "output_type": "error",
     "traceback": [
      "\u001b[1;31m---------------------------------------------------------------------------\u001b[0m",
      "\u001b[1;31mTypeError\u001b[0m                                 Traceback (most recent call last)",
      "\u001b[1;32m~\\AppData\\Local\\Temp\\ipykernel_2528\\1727199895.py\u001b[0m in \u001b[0;36m<module>\u001b[1;34m\u001b[0m\n\u001b[1;32m----> 1\u001b[1;33m \u001b[0msorted\u001b[0m\u001b[1;33m(\u001b[0m\u001b[0ml8\u001b[0m\u001b[1;33m)\u001b[0m\u001b[1;33m\u001b[0m\u001b[1;33m\u001b[0m\u001b[0m\n\u001b[0m",
      "\u001b[1;31mTypeError\u001b[0m: '<' not supported between instances of 'int' and 'str'"
     ]
    }
   ],
   "source": [
    "sorted(l8)"
   ]
  },
  {
   "cell_type": "code",
   "execution_count": null,
   "id": "9d883511-7b57-49db-86be-b099a5621896",
   "metadata": {},
   "outputs": [],
   "source": []
  }
 ],
 "metadata": {
  "kernelspec": {
   "display_name": "Python 3 (ipykernel)",
   "language": "python",
   "name": "python3"
  },
  "language_info": {
   "codemirror_mode": {
    "name": "ipython",
    "version": 3
   },
   "file_extension": ".py",
   "mimetype": "text/x-python",
   "name": "python",
   "nbconvert_exporter": "python",
   "pygments_lexer": "ipython3",
   "version": "3.9.13"
  }
 },
 "nbformat": 4,
 "nbformat_minor": 5
}
