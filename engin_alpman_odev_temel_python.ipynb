{
 "cells": [
  {
   "cell_type": "markdown",
   "id": "1810d6d3-d76e-4518-a215-dfb9ed71897b",
   "metadata": {},
   "source": [
    "# LIST\n",
    "\n",
    "**soru-->** bir listten bir dilimi cikar ve onun yerine baska elemanlar ekle\n",
    "\n",
    "**soru-->** bir sonuna tek bir eleman ekle\n",
    "\n",
    "**soru-->** iki listeyi birlestir ve baska bir list olarak tut\n",
    "\n",
    "**soru-->** bir listenin icinde kac tane 3 var\n",
    "\n",
    "**soru-->** bir listenin icinde ilk gorulen 10 kacinci indexte\n",
    "\n",
    "**soru-->** bir listenin sonuna birden fazla eleman ekle, mesela bir baska list olsun\n",
    "bunu bi appendle yap bir de extend ile yap\n",
    "\n",
    "**soru-->** bir listi tersine cevirip baska bir list olarak tut \n",
    "\n",
    "**soru-->** bir listin elemanini baska bir list ismiyle erisip guncelle\n",
    "\n",
    "**soru-->** inplace olarak degismek ne demek\n",
    "\n",
    "**soru-->** reverse methodunun nasil calistigini bir kod yazarak guncelle\n",
    "\n",
    "**soru-->** list.sort() ve sorted(list) methodlarinin nasil calistigina bak ve karsilastir hangisi inplace hangisi degil bi bak\n",
    "\n",
    "\n",
    "# TUPLE\n",
    "\n",
    "**soru-->** tuple'i elemanlarin degerlerini degsitirmek icin nasil kullanabiliyorum temp olmadan\n",
    "**soru-->** parantez koymadan oyle aralarina virgul koydugum seylerin ne olarak tutuldugunu kontrol et\n",
    "**soru-->** replace etme olayi tuple'a ozgu bir sey degil listlerle de yapabilirim, paranteze gerek yok virguller koyarak da yapabilirim\n",
    "\n",
    "# in\n",
    "**soru-->** bir listin icinde 2 varsa iki var yoksa 2 yok yazdir\n",
    "\n",
    "# Dictionary\n",
    "**soru-->** bir dictionary yarat ve keyleri isim valuelari ogrenci bilgileri olsun\n",
    "**soru-->** dictionary'e bir key value ikilisi ekle ve bir key value ikilisini sil\n",
    "**soru-->**  dictionary'de bir key degeri var mi yok mu diye bak\n",
    "**soru-->**  dictionary'de ogrenciler ve notlari tutuloyor olsun, notlari 80den buyuk olan ogrencileri dondur\n"
   ]
  }
 ],
 "metadata": {
  "kernelspec": {
   "display_name": "Python 3 (ipykernel)",
   "language": "python",
   "name": "python3"
  },
  "language_info": {
   "codemirror_mode": {
    "name": "ipython",
    "version": 3
   },
   "file_extension": ".py",
   "mimetype": "text/x-python",
   "name": "python",
   "nbconvert_exporter": "python",
   "pygments_lexer": "ipython3",
   "version": "3.9.13"
  }
 },
 "nbformat": 4,
 "nbformat_minor": 5
}
