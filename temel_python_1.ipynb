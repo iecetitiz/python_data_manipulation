{
 "cells": [
  {
   "cell_type": "code",
   "execution_count": 10,
   "id": "f15768ba-5072-4798-82fd-be6ff555c961",
   "metadata": {},
   "outputs": [],
   "source": [
    "import numpy as np"
   ]
  },
  {
   "cell_type": "code",
   "execution_count": 11,
   "id": "0772f901-4217-4d46-8724-150735716bf7",
   "metadata": {},
   "outputs": [
    {
     "data": {
      "text/plain": [
       "False"
      ]
     },
     "execution_count": 11,
     "metadata": {},
     "output_type": "execute_result"
    }
   ],
   "source": [
    "2 > 3"
   ]
  },
  {
   "cell_type": "code",
   "execution_count": 12,
   "id": "4f6770a2-8ef2-4cc5-b614-208d248fa686",
   "metadata": {},
   "outputs": [
    {
     "data": {
      "text/plain": [
       "bool"
      ]
     },
     "execution_count": 12,
     "metadata": {},
     "output_type": "execute_result"
    }
   ],
   "source": [
    "type(True)"
   ]
  },
  {
   "cell_type": "code",
   "execution_count": 13,
   "id": "c6a9ac37-6d71-4d50-9381-78faf4d48f5e",
   "metadata": {},
   "outputs": [
    {
     "data": {
      "text/plain": [
       "float"
      ]
     },
     "execution_count": 13,
     "metadata": {},
     "output_type": "execute_result"
    }
   ],
   "source": [
    "type(2.4)"
   ]
  },
  {
   "cell_type": "code",
   "execution_count": 14,
   "id": "4b3b4e37-ffdb-43d9-b138-56afb1591dd7",
   "metadata": {},
   "outputs": [
    {
     "data": {
      "text/plain": [
       "int"
      ]
     },
     "execution_count": 14,
     "metadata": {},
     "output_type": "execute_result"
    }
   ],
   "source": [
    "type(5)"
   ]
  },
  {
   "cell_type": "code",
   "execution_count": 15,
   "id": "6178523a-f33b-4d98-9ce2-3ea20ffbbaed",
   "metadata": {},
   "outputs": [],
   "source": [
    "b = 2 + 4"
   ]
  },
  {
   "cell_type": "code",
   "execution_count": 16,
   "id": "5100edce-9742-4e28-96cb-e485c566ae96",
   "metadata": {},
   "outputs": [
    {
     "data": {
      "text/plain": [
       "6"
      ]
     },
     "execution_count": 16,
     "metadata": {},
     "output_type": "execute_result"
    }
   ],
   "source": [
    "b"
   ]
  },
  {
   "cell_type": "code",
   "execution_count": 17,
   "id": "f51f4bac-4ad5-4d0f-a124-a3a91b50185a",
   "metadata": {},
   "outputs": [
    {
     "data": {
      "text/plain": [
       "int"
      ]
     },
     "execution_count": 17,
     "metadata": {},
     "output_type": "execute_result"
    }
   ],
   "source": [
    "type(4 + 5)"
   ]
  },
  {
   "cell_type": "code",
   "execution_count": 18,
   "id": "cb1535fd-569a-4943-9048-5d749707fa94",
   "metadata": {},
   "outputs": [],
   "source": [
    "a = 7.9 + 3"
   ]
  },
  {
   "cell_type": "code",
   "execution_count": 19,
   "id": "4392adff-4144-4e12-8218-0819160d5d91",
   "metadata": {},
   "outputs": [
    {
     "data": {
      "text/plain": [
       "10.9"
      ]
     },
     "execution_count": 19,
     "metadata": {},
     "output_type": "execute_result"
    }
   ],
   "source": [
    "a"
   ]
  },
  {
   "cell_type": "code",
   "execution_count": 20,
   "id": "6ec256c0-b052-4253-bfe8-c217f8a665f9",
   "metadata": {},
   "outputs": [
    {
     "data": {
      "text/plain": [
       "float"
      ]
     },
     "execution_count": 20,
     "metadata": {},
     "output_type": "execute_result"
    }
   ],
   "source": [
    "type(10.5 + 9)"
   ]
  },
  {
   "cell_type": "code",
   "execution_count": 21,
   "id": "c6860dc8-901f-4e19-8fbf-7413aa003f38",
   "metadata": {},
   "outputs": [
    {
     "data": {
      "text/plain": [
       "float"
      ]
     },
     "execution_count": 21,
     "metadata": {},
     "output_type": "execute_result"
    }
   ],
   "source": [
    "type(2 - 2.1)"
   ]
  },
  {
   "cell_type": "code",
   "execution_count": 22,
   "id": "4eab5b61-522b-441a-b15a-6fb69ca007b1",
   "metadata": {},
   "outputs": [
    {
     "data": {
      "text/plain": [
       "-0.10000000000000009"
      ]
     },
     "execution_count": 22,
     "metadata": {},
     "output_type": "execute_result"
    }
   ],
   "source": [
    "2 - 2.1"
   ]
  },
  {
   "cell_type": "code",
   "execution_count": 23,
   "id": "cc64cfb5-51ec-4804-889f-38b36b49f693",
   "metadata": {},
   "outputs": [
    {
     "data": {
      "text/plain": [
       "0.42857142857142855"
      ]
     },
     "execution_count": 23,
     "metadata": {},
     "output_type": "execute_result"
    }
   ],
   "source": [
    "3 / 7"
   ]
  },
  {
   "cell_type": "code",
   "execution_count": 24,
   "id": "c276b5ea-c4f8-4790-9d86-d591d42ba827",
   "metadata": {},
   "outputs": [
    {
     "data": {
      "text/plain": [
       "2.0"
      ]
     },
     "execution_count": 24,
     "metadata": {},
     "output_type": "execute_result"
    }
   ],
   "source": [
    "8 / 4"
   ]
  },
  {
   "cell_type": "code",
   "execution_count": 25,
   "id": "e74f81f8-5f10-4e35-b6ff-1b06fdd7d19b",
   "metadata": {},
   "outputs": [
    {
     "data": {
      "text/plain": [
       "1"
      ]
     },
     "execution_count": 25,
     "metadata": {},
     "output_type": "execute_result"
    }
   ],
   "source": [
    "5 // 4"
   ]
  },
  {
   "cell_type": "code",
   "execution_count": 26,
   "id": "5829d468-9df3-440e-8623-4132b615625d",
   "metadata": {},
   "outputs": [
    {
     "data": {
      "text/plain": [
       "2.0"
      ]
     },
     "execution_count": 26,
     "metadata": {},
     "output_type": "execute_result"
    }
   ],
   "source": [
    "8 / 4"
   ]
  },
  {
   "cell_type": "code",
   "execution_count": 27,
   "id": "0c45acb5-14d8-44c3-84c0-e448febc258e",
   "metadata": {},
   "outputs": [
    {
     "data": {
      "text/plain": [
       "2.0"
      ]
     },
     "execution_count": 27,
     "metadata": {},
     "output_type": "execute_result"
    }
   ],
   "source": [
    "5//2.5"
   ]
  },
  {
   "cell_type": "code",
   "execution_count": 28,
   "id": "70280513-faea-4428-b2ca-fe791d592e53",
   "metadata": {},
   "outputs": [
    {
     "data": {
      "text/plain": [
       "2.0"
      ]
     },
     "execution_count": 28,
     "metadata": {},
     "output_type": "execute_result"
    }
   ],
   "source": [
    "5 // 2.5"
   ]
  },
  {
   "cell_type": "code",
   "execution_count": 30,
   "id": "818fd667-af1f-44a8-ad32-25b9a0c66721",
   "metadata": {},
   "outputs": [
    {
     "data": {
      "text/plain": [
       "2.0"
      ]
     },
     "execution_count": 30,
     "metadata": {},
     "output_type": "execute_result"
    }
   ],
   "source": [
    "5 // 2.0"
   ]
  },
  {
   "cell_type": "code",
   "execution_count": 31,
   "id": "b85329a8-f1f8-4500-9f5a-29f36c2a4580",
   "metadata": {},
   "outputs": [
    {
     "data": {
      "text/plain": [
       "0.0"
      ]
     },
     "execution_count": 31,
     "metadata": {},
     "output_type": "execute_result"
    }
   ],
   "source": [
    "4.2 // 5"
   ]
  },
  {
   "cell_type": "code",
   "execution_count": 32,
   "id": "8e08cbed-b83b-400f-ad58-418a7370403b",
   "metadata": {},
   "outputs": [
    {
     "data": {
      "text/plain": [
       "0"
      ]
     },
     "execution_count": 32,
     "metadata": {},
     "output_type": "execute_result"
    }
   ],
   "source": [
    "4 // 5"
   ]
  },
  {
   "cell_type": "code",
   "execution_count": 33,
   "id": "b2d56f40-c05d-442f-9c13-c89d53ea869d",
   "metadata": {},
   "outputs": [
    {
     "data": {
      "text/plain": [
       "10"
      ]
     },
     "execution_count": 33,
     "metadata": {},
     "output_type": "execute_result"
    }
   ],
   "source": [
    "2 * 5"
   ]
  },
  {
   "cell_type": "code",
   "execution_count": 34,
   "id": "7231c68b-cf00-4c58-89b5-107de96563c7",
   "metadata": {},
   "outputs": [
    {
     "data": {
      "text/plain": [
       "10.0"
      ]
     },
     "execution_count": 34,
     "metadata": {},
     "output_type": "execute_result"
    }
   ],
   "source": [
    "2.0 * 5"
   ]
  },
  {
   "cell_type": "code",
   "execution_count": 35,
   "id": "b8c4266d-226c-4af0-a594-7a1ebf51c8ab",
   "metadata": {},
   "outputs": [
    {
     "data": {
      "text/plain": [
       "8"
      ]
     },
     "execution_count": 35,
     "metadata": {},
     "output_type": "execute_result"
    }
   ],
   "source": [
    "2 ** 3"
   ]
  },
  {
   "cell_type": "code",
   "execution_count": 36,
   "id": "6743555b-c163-4614-be1d-f377109fbef8",
   "metadata": {},
   "outputs": [
    {
     "data": {
      "text/plain": [
       "0.5"
      ]
     },
     "execution_count": 36,
     "metadata": {},
     "output_type": "execute_result"
    }
   ],
   "source": [
    "2.5 % 2"
   ]
  },
  {
   "cell_type": "code",
   "execution_count": 37,
   "id": "3d35ded3-4270-47e4-a113-371d66a6baa9",
   "metadata": {},
   "outputs": [
    {
     "data": {
      "text/plain": [
       "1"
      ]
     },
     "execution_count": 37,
     "metadata": {},
     "output_type": "execute_result"
    }
   ],
   "source": [
    "10 % 3"
   ]
  },
  {
   "cell_type": "code",
   "execution_count": 38,
   "id": "fed6549e-949f-4424-a9a5-93ff3de4cf8b",
   "metadata": {},
   "outputs": [
    {
     "data": {
      "text/plain": [
       "0.2"
      ]
     },
     "execution_count": 38,
     "metadata": {},
     "output_type": "execute_result"
    }
   ],
   "source": [
    "5 ** -1"
   ]
  },
  {
   "cell_type": "markdown",
   "id": "d032c8ed-4517-4287-b0a2-4b07e32eff71",
   "metadata": {},
   "source": [
    "# Stringler"
   ]
  },
  {
   "cell_type": "code",
   "execution_count": 3,
   "id": "6039e11d-37fa-4660-a7d4-41bf4d99ed2d",
   "metadata": {},
   "outputs": [],
   "source": [
    "merhaba = \"hey\\n      ece\""
   ]
  },
  {
   "cell_type": "code",
   "execution_count": 4,
   "id": "76535678-00e3-4f9f-a286-fad0814cdcfc",
   "metadata": {},
   "outputs": [
    {
     "data": {
      "text/plain": [
       "13"
      ]
     },
     "execution_count": 4,
     "metadata": {},
     "output_type": "execute_result"
    }
   ],
   "source": [
    "len(merhaba)"
   ]
  },
  {
   "cell_type": "code",
   "execution_count": 5,
   "id": "23024a98-c372-4fe6-8545-e0668417d0ce",
   "metadata": {},
   "outputs": [
    {
     "data": {
      "text/plain": [
       "'hey\\n      ece'"
      ]
     },
     "execution_count": 5,
     "metadata": {},
     "output_type": "execute_result"
    }
   ],
   "source": [
    "merhaba"
   ]
  },
  {
   "cell_type": "code",
   "execution_count": 6,
   "id": "ba477b87-33de-4c71-87da-f0d590477d12",
   "metadata": {},
   "outputs": [
    {
     "name": "stdout",
     "output_type": "stream",
     "text": [
      "hey\n",
      "      ece\n"
     ]
    }
   ],
   "source": [
    "print(merhaba)"
   ]
  },
  {
   "cell_type": "code",
   "execution_count": 1,
   "id": "0a360261-0e28-416d-8358-c58341029179",
   "metadata": {},
   "outputs": [],
   "source": [
    "name = \"ece\""
   ]
  },
  {
   "cell_type": "code",
   "execution_count": 2,
   "id": "234ab5fd-311f-45e2-87b6-3863f5597d45",
   "metadata": {},
   "outputs": [],
   "source": [
    "say_hallo = \"welcome \" + name + \" how are you?\""
   ]
  },
  {
   "cell_type": "code",
   "execution_count": 3,
   "id": "9208680c-5455-4c7d-90cd-17a143f86913",
   "metadata": {},
   "outputs": [
    {
     "name": "stdout",
     "output_type": "stream",
     "text": [
      "welcome ece how are you?\n"
     ]
    }
   ],
   "source": [
    "print(say_hallo)"
   ]
  },
  {
   "cell_type": "code",
   "execution_count": 4,
   "id": "f759a74e-d00e-4c7b-9a42-993ce5265ea5",
   "metadata": {},
   "outputs": [],
   "source": [
    "hey4 = 4 * \"hey\""
   ]
  },
  {
   "cell_type": "code",
   "execution_count": 5,
   "id": "e24541db-0f22-4e8e-b8d7-df2dcf861c7e",
   "metadata": {},
   "outputs": [
    {
     "data": {
      "text/plain": [
       "'heyheyheyhey'"
      ]
     },
     "execution_count": 5,
     "metadata": {},
     "output_type": "execute_result"
    }
   ],
   "source": [
    "hey4"
   ]
  },
  {
   "cell_type": "code",
   "execution_count": 6,
   "id": "00f72682-8c24-4c21-b4be-787d59d589ce",
   "metadata": {},
   "outputs": [
    {
     "data": {
      "text/plain": [
       "str"
      ]
     },
     "execution_count": 6,
     "metadata": {},
     "output_type": "execute_result"
    }
   ],
   "source": [
    "type(hey4)"
   ]
  },
  {
   "cell_type": "code",
   "execution_count": 8,
   "id": "79e3e385-6964-4b62-b8df-3adf0b8bc47f",
   "metadata": {},
   "outputs": [
    {
     "data": {
      "text/plain": [
       "'10000'"
      ]
     },
     "execution_count": 8,
     "metadata": {},
     "output_type": "execute_result"
    }
   ],
   "source": [
    "\"1\" + 4 * \"0\""
   ]
  },
  {
   "cell_type": "code",
   "execution_count": 9,
   "id": "e35cd0dd-1564-4212-8ffe-53460212584a",
   "metadata": {},
   "outputs": [
    {
     "data": {
      "text/plain": [
       "0"
      ]
     },
     "execution_count": 9,
     "metadata": {},
     "output_type": "execute_result"
    }
   ],
   "source": [
    "len(\"\")"
   ]
  },
  {
   "cell_type": "code",
   "execution_count": 1,
   "id": "723da255-c322-46f3-b226-f7ebb5af734e",
   "metadata": {},
   "outputs": [
    {
     "data": {
      "text/plain": [
       "1"
      ]
     },
     "execution_count": 1,
     "metadata": {},
     "output_type": "execute_result"
    }
   ],
   "source": [
    "len(\" \")"
   ]
  },
  {
   "cell_type": "code",
   "execution_count": null,
   "id": "d92ddc1e-eebe-4fd0-973b-153ab9f2f26c",
   "metadata": {},
   "outputs": [],
   "source": []
  }
 ],
 "metadata": {
  "kernelspec": {
   "display_name": "Python 3 (ipykernel)",
   "language": "python",
   "name": "python3"
  },
  "language_info": {
   "codemirror_mode": {
    "name": "ipython",
    "version": 3
   },
   "file_extension": ".py",
   "mimetype": "text/x-python",
   "name": "python",
   "nbconvert_exporter": "python",
   "pygments_lexer": "ipython3",
   "version": "3.9.13"
  }
 },
 "nbformat": 4,
 "nbformat_minor": 5
}
