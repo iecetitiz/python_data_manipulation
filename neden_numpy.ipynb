{
 "cells": [
  {
   "cell_type": "markdown",
   "id": "c2c4ed9f-0d87-4bc0-bbe7-20d6717c4c67",
   "metadata": {},
   "source": [
    "# NEDEN NumPy?"
   ]
  },
  {
   "cell_type": "code",
   "execution_count": 1,
   "id": "810be29c-7d11-458f-85c6-a44d723c1f6c",
   "metadata": {},
   "outputs": [],
   "source": [
    "import numpy as np"
   ]
  },
  {
   "cell_type": "code",
   "execution_count": 2,
   "id": "fa283edd-9712-4530-b0c4-40b084306fbf",
   "metadata": {},
   "outputs": [
    {
     "data": {
      "text/plain": [
       "array([1, 2, 3, 4])"
      ]
     },
     "execution_count": 2,
     "metadata": {},
     "output_type": "execute_result"
    }
   ],
   "source": [
    "np.array([1, 2, 3, 4])"
   ]
  },
  {
   "cell_type": "code",
   "execution_count": 10,
   "id": "340bcb49-da5a-4214-8707-1292103675b1",
   "metadata": {},
   "outputs": [
    {
     "data": {
      "text/plain": [
       "array([1, 2, 3, 4])"
      ]
     },
     "execution_count": 10,
     "metadata": {},
     "output_type": "execute_result"
    }
   ],
   "source": [
    "a = np.array([1.23, 2, 3, 4], dtype = int)\n",
    "a"
   ]
  },
  {
   "cell_type": "code",
   "execution_count": 7,
   "id": "c268852a-4a0b-48ef-b1f5-436d2d0d6b46",
   "metadata": {},
   "outputs": [
    {
     "data": {
      "text/plain": [
       "numpy.ndarray"
      ]
     },
     "execution_count": 7,
     "metadata": {},
     "output_type": "execute_result"
    }
   ],
   "source": [
    "type(a)"
   ]
  },
  {
   "cell_type": "markdown",
   "id": "1c33d357-1748-4073-809a-1df7d164846d",
   "metadata": {},
   "source": [
    "#sifirdan array olusturma "
   ]
  },
  {
   "cell_type": "code",
   "execution_count": 11,
   "id": "c8883193-5ad8-4a46-8386-e564881b40c5",
   "metadata": {},
   "outputs": [
    {
     "data": {
      "text/plain": [
       "array([0, 0, 0, 0, 0, 0, 0, 0, 0, 0])"
      ]
     },
     "execution_count": 11,
     "metadata": {},
     "output_type": "execute_result"
    }
   ],
   "source": [
    "np.zeros(10, dtype = int)"
   ]
  },
  {
   "cell_type": "code",
   "execution_count": 13,
   "id": "699bf519-b0fc-436c-8f79-4b777bc9f7ac",
   "metadata": {},
   "outputs": [
    {
     "data": {
      "text/plain": [
       "array([[1., 1., 1., 1., 1.],\n",
       "       [1., 1., 1., 1., 1.],\n",
       "       [1., 1., 1., 1., 1.]], dtype=float32)"
      ]
     },
     "execution_count": 13,
     "metadata": {},
     "output_type": "execute_result"
    }
   ],
   "source": [
    "np.ones((3, 5), dtype = \"float32\")"
   ]
  },
  {
   "cell_type": "code",
   "execution_count": 15,
   "id": "16b81df9-5639-4597-8ab1-4a0b2f580723",
   "metadata": {},
   "outputs": [
    {
     "data": {
      "text/plain": [
       "array([1, 1, 1, 1, 1, 1, 1, 1, 1, 1, 1, 1, 1, 1, 1, 1, 1, 1, 1, 1])"
      ]
     },
     "execution_count": 15,
     "metadata": {},
     "output_type": "execute_result"
    }
   ],
   "source": [
    "np.ones(20, dtype = int)"
   ]
  },
  {
   "cell_type": "code",
   "execution_count": 16,
   "id": "8e32ba67-b4cf-49ec-a82f-fd3c6427cd67",
   "metadata": {},
   "outputs": [
    {
     "data": {
      "text/plain": [
       "array([4, 4, 4, 4, 4, 4, 4, 4, 4, 4])"
      ]
     },
     "execution_count": 16,
     "metadata": {},
     "output_type": "execute_result"
    }
   ],
   "source": [
    "np.full(10, 4)"
   ]
  },
  {
   "cell_type": "code",
   "execution_count": 17,
   "id": "d813f1f1-2753-474a-912d-c89e08d04c00",
   "metadata": {},
   "outputs": [
    {
     "data": {
      "text/plain": [
       "array([[9, 9, 9, 9],\n",
       "       [9, 9, 9, 9],\n",
       "       [9, 9, 9, 9]])"
      ]
     },
     "execution_count": 17,
     "metadata": {},
     "output_type": "execute_result"
    }
   ],
   "source": [
    "np.full((3, 4), 9)"
   ]
  },
  {
   "cell_type": "code",
   "execution_count": 18,
   "id": "29195f87-eefb-4f9e-b5a2-c263bf29455f",
   "metadata": {},
   "outputs": [
    {
     "data": {
      "text/plain": [
       "array([ 0,  3,  6,  9, 12, 15, 18, 21, 24, 27, 30])"
      ]
     },
     "execution_count": 18,
     "metadata": {},
     "output_type": "execute_result"
    }
   ],
   "source": [
    "np.arange(0, 31, 3)\n"
   ]
  },
  {
   "cell_type": "code",
   "execution_count": 19,
   "id": "f6664a30-b45b-4fee-8e47-fcf9ae1f9a9b",
   "metadata": {},
   "outputs": [
    {
     "data": {
      "text/plain": [
       "array([0.        , 0.11111111, 0.22222222, 0.33333333, 0.44444444,\n",
       "       0.55555556, 0.66666667, 0.77777778, 0.88888889, 1.        ])"
      ]
     },
     "execution_count": 19,
     "metadata": {},
     "output_type": "execute_result"
    }
   ],
   "source": [
    "np.linspace(0, 1, 10)"
   ]
  },
  {
   "cell_type": "code",
   "execution_count": 20,
   "id": "3a452c29-4db6-4b40-bdb5-0e14996c00da",
   "metadata": {},
   "outputs": [
    {
     "data": {
      "text/plain": [
       "array([[11.88354993,  6.88571512,  4.58066609, 12.33312388],\n",
       "       [ 7.14265438, 14.2445399 ,  9.03513946, 12.06889853],\n",
       "       [ 2.65419731,  4.68915447,  5.63774701,  6.81465413]])"
      ]
     },
     "execution_count": 20,
     "metadata": {},
     "output_type": "execute_result"
    }
   ],
   "source": [
    "np.random.normal(10, 4, (3, 4))"
   ]
  },
  {
   "cell_type": "code",
   "execution_count": 26,
   "id": "6bf2b994-430e-445e-8e90-cddf2ebb64b0",
   "metadata": {},
   "outputs": [
    {
     "data": {
      "text/plain": [
       "array([[5, 9, 5, 0],\n",
       "       [1, 2, 1, 1],\n",
       "       [8, 0, 1, 3]])"
      ]
     },
     "execution_count": 26,
     "metadata": {},
     "output_type": "execute_result"
    }
   ],
   "source": [
    "np.random.randint(0, 10, (3, 4))"
   ]
  },
  {
   "cell_type": "code",
   "execution_count": 27,
   "id": "0db945cd-e75d-47e9-b97f-8dfeaf2629da",
   "metadata": {},
   "outputs": [
    {
     "data": {
      "text/plain": [
       "array([[12, 10, 19,  5],\n",
       "       [ 4,  4,  1, 18],\n",
       "       [ 3, 19, 19,  2]])"
      ]
     },
     "execution_count": 27,
     "metadata": {},
     "output_type": "execute_result"
    }
   ],
   "source": [
    "np.random.randint(0, 20, size = (3, 4))"
   ]
  },
  {
   "cell_type": "code",
   "execution_count": 29,
   "id": "09b3722c-ca59-4d51-a67e-64ee266f5f82",
   "metadata": {},
   "outputs": [
    {
     "data": {
      "text/plain": [
       "array([16, 16, 14, 11, 15, 15, 15, 12, 19, 14])"
      ]
     },
     "execution_count": 29,
     "metadata": {},
     "output_type": "execute_result"
    }
   ],
   "source": [
    "np.random.randint(10, 20, size = (10))"
   ]
  },
  {
   "cell_type": "code",
   "execution_count": null,
   "id": "50c4656f-e15e-43a4-ad3f-e6d6af6617e4",
   "metadata": {},
   "outputs": [],
   "source": []
  }
 ],
 "metadata": {
  "kernelspec": {
   "display_name": "Python 3 (ipykernel)",
   "language": "python",
   "name": "python3"
  },
  "language_info": {
   "codemirror_mode": {
    "name": "ipython",
    "version": 3
   },
   "file_extension": ".py",
   "mimetype": "text/x-python",
   "name": "python",
   "nbconvert_exporter": "python",
   "pygments_lexer": "ipython3",
   "version": "3.9.13"
  }
 },
 "nbformat": 4,
 "nbformat_minor": 5
}
