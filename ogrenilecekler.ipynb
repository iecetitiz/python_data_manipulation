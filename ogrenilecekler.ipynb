{
 "cells": [
  {
   "cell_type": "markdown",
   "id": "6a7e2406-bf81-42cb-8abb-26f4ffc27da5",
   "metadata": {},
   "source": [
    "**12-Reshaping bolumundeki np.newaxis kismini cok anlamadim**"
   ]
  },
  {
   "cell_type": "code",
   "execution_count": null,
   "id": "c5f658db-ea84-4a02-b422-3ba789e623c0",
   "metadata": {},
   "outputs": [],
   "source": []
  }
 ],
 "metadata": {
  "kernelspec": {
   "display_name": "Python 3 (ipykernel)",
   "language": "python",
   "name": "python3"
  },
  "language_info": {
   "codemirror_mode": {
    "name": "ipython",
    "version": 3
   },
   "file_extension": ".py",
   "mimetype": "text/x-python",
   "name": "python",
   "nbconvert_exporter": "python",
   "pygments_lexer": "ipython3",
   "version": "3.9.13"
  }
 },
 "nbformat": 4,
 "nbformat_minor": 5
}
