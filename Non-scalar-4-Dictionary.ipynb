{
 "cells": [
  {
   "cell_type": "code",
   "execution_count": 3,
   "id": "baa6c670-1df6-4852-84f1-2a8a9db2c780",
   "metadata": {},
   "outputs": [],
   "source": [
    "students = {\"Deniz\":{\"not\": 80, \"no\": 111}, \"Melis\": {\"not\": 70, \"no\":112}}\n"
   ]
  },
  {
   "cell_type": "code",
   "execution_count": 4,
   "id": "20f3a989-785d-4a35-998d-1bb6aa3e8b73",
   "metadata": {},
   "outputs": [
    {
     "data": {
      "text/plain": [
       "80"
      ]
     },
     "execution_count": 4,
     "metadata": {},
     "output_type": "execute_result"
    }
   ],
   "source": [
    "students[\"Deniz\"][\"not\"]"
   ]
  },
  {
   "cell_type": "code",
   "execution_count": 5,
   "id": "d319c3fe-6214-44d8-9e3c-06f8af76d9c4",
   "metadata": {},
   "outputs": [],
   "source": [
    "students[\"Deniz\"][\"not\"] = 85"
   ]
  },
  {
   "cell_type": "code",
   "execution_count": 6,
   "id": "450cbaae-9dae-41ae-a64b-084da6cf3f9b",
   "metadata": {},
   "outputs": [
    {
     "data": {
      "text/plain": [
       "{'Deniz': {'not': 85, 'no': 111}, 'Melis': {'not': 70, 'no': 112}}"
      ]
     },
     "execution_count": 6,
     "metadata": {},
     "output_type": "execute_result"
    }
   ],
   "source": [
    "students"
   ]
  },
  {
   "cell_type": "markdown",
   "id": "f0b2f7fe-44cd-425d-97ef-61345a5c96be",
   "metadata": {},
   "source": [
    "# len()\n"
   ]
  },
  {
   "cell_type": "code",
   "execution_count": 7,
   "id": "f139c8c1-aa99-4988-b014-671fab223d21",
   "metadata": {},
   "outputs": [
    {
     "data": {
      "text/plain": [
       "2"
      ]
     },
     "execution_count": 7,
     "metadata": {},
     "output_type": "execute_result"
    }
   ],
   "source": [
    "len(students)"
   ]
  },
  {
   "cell_type": "markdown",
   "id": "a70dd5a1-99fe-4e56-a35f-d0617016e64a",
   "metadata": {},
   "source": [
    "# Eleman Eklemek\n",
    "\n"
   ]
  },
  {
   "cell_type": "code",
   "execution_count": 8,
   "id": "6624f03a-585a-40ed-964c-dbc18c06ac12",
   "metadata": {},
   "outputs": [],
   "source": [
    "students[\"salep\"] = 40"
   ]
  },
  {
   "cell_type": "code",
   "execution_count": 9,
   "id": "830b8cab-e1d0-4cf7-8053-4f60a5b0e219",
   "metadata": {},
   "outputs": [
    {
     "data": {
      "text/plain": [
       "{'Deniz': {'not': 85, 'no': 111}, 'Melis': {'not': 70, 'no': 112}, 'salep': 40}"
      ]
     },
     "execution_count": 9,
     "metadata": {},
     "output_type": "execute_result"
    }
   ],
   "source": [
    "students"
   ]
  },
  {
   "cell_type": "code",
   "execution_count": 10,
   "id": "bb577cc8-f4e6-4230-a0d5-ac20c7189059",
   "metadata": {},
   "outputs": [],
   "source": [
    "students[\"salep\"] = 60"
   ]
  },
  {
   "cell_type": "code",
   "execution_count": 11,
   "id": "09c33470-f9cc-4df0-9d48-2ff419938f45",
   "metadata": {},
   "outputs": [
    {
     "data": {
      "text/plain": [
       "{'Deniz': {'not': 85, 'no': 111}, 'Melis': {'not': 70, 'no': 112}, 'salep': 60}"
      ]
     },
     "execution_count": 11,
     "metadata": {},
     "output_type": "execute_result"
    }
   ],
   "source": [
    "students"
   ]
  },
  {
   "cell_type": "markdown",
   "id": "1bb94e23-ac8e-4b24-8bda-41fa574d008d",
   "metadata": {},
   "source": [
    "# Eleman Silmek"
   ]
  },
  {
   "cell_type": "code",
   "execution_count": 12,
   "id": "94346a15-e538-43ee-a9b7-ea73e3b66347",
   "metadata": {},
   "outputs": [],
   "source": [
    "del students[\"salep\"]"
   ]
  },
  {
   "cell_type": "code",
   "execution_count": 13,
   "id": "3968a907-4941-42a4-a7ce-0dda38019172",
   "metadata": {},
   "outputs": [
    {
     "data": {
      "text/plain": [
       "{'Deniz': {'not': 85, 'no': 111}, 'Melis': {'not': 70, 'no': 112}}"
      ]
     },
     "execution_count": 13,
     "metadata": {},
     "output_type": "execute_result"
    }
   ],
   "source": [
    "students"
   ]
  },
  {
   "cell_type": "markdown",
   "id": "9bd98974-e5c6-495d-9429-1c221f8fdbe5",
   "metadata": {},
   "source": [
    "# Sadece Immutable Tipindeki Veriler key olabilir, mesela list olamaz"
   ]
  },
  {
   "cell_type": "markdown",
   "id": "53bb9ded-2cd3-4e4f-903f-bfea49e01693",
   "metadata": {},
   "source": [
    "# Bos dictionary yaratabilirim"
   ]
  },
  {
   "cell_type": "code",
   "execution_count": 14,
   "id": "cf6beb2b-f302-42db-8b25-fc24e2f888a1",
   "metadata": {},
   "outputs": [],
   "source": [
    "dict = {}"
   ]
  },
  {
   "cell_type": "code",
   "execution_count": 15,
   "id": "b614d1fb-2080-4df7-8872-23a145464af0",
   "metadata": {},
   "outputs": [],
   "source": [
    "dict[\"a\"] = 40"
   ]
  },
  {
   "cell_type": "markdown",
   "id": "d2601653-bbda-4361-89fd-d8af531b47fe",
   "metadata": {},
   "source": [
    "# Bu deger keyler arasinda var mi diye sorgulamak"
   ]
  },
  {
   "cell_type": "code",
   "execution_count": 16,
   "id": "f4deb99a-1f2f-4cdc-8bb5-212fa230598f",
   "metadata": {},
   "outputs": [
    {
     "data": {
      "text/plain": [
       "True"
      ]
     },
     "execution_count": 16,
     "metadata": {},
     "output_type": "execute_result"
    }
   ],
   "source": [
    "\"a\" in dict"
   ]
  },
  {
   "cell_type": "code",
   "execution_count": null,
   "id": "1bf98137-d588-41dc-b149-208e5eefcdd0",
   "metadata": {},
   "outputs": [],
   "source": []
  }
 ],
 "metadata": {
  "kernelspec": {
   "display_name": "Python 3 (ipykernel)",
   "language": "python",
   "name": "python3"
  },
  "language_info": {
   "codemirror_mode": {
    "name": "ipython",
    "version": 3
   },
   "file_extension": ".py",
   "mimetype": "text/x-python",
   "name": "python",
   "nbconvert_exporter": "python",
   "pygments_lexer": "ipython3",
   "version": "3.9.13"
  }
 },
 "nbformat": 4,
 "nbformat_minor": 5
}
