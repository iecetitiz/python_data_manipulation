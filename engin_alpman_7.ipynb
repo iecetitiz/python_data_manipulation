{
 "cells": [
  {
   "cell_type": "markdown",
   "id": "cac2cf61-da10-438f-9dd9-d643dcc219fc",
   "metadata": {},
   "source": [
    "# List Comprehension"
   ]
  },
  {
   "cell_type": "code",
   "execution_count": 1,
   "id": "ea183115-7a32-4ea9-9a59-a21ae63d1fb7",
   "metadata": {},
   "outputs": [],
   "source": [
    "squares = []"
   ]
  },
  {
   "cell_type": "code",
   "execution_count": 2,
   "id": "da4ef138-28b9-493d-94bb-60ad4f8e9b4d",
   "metadata": {},
   "outputs": [],
   "source": [
    "for i in range(1, 11):\n",
    "    squares.append(i * i)"
   ]
  },
  {
   "cell_type": "code",
   "execution_count": 3,
   "id": "71633421-6b08-4b4c-87a9-9e0edc29adc9",
   "metadata": {},
   "outputs": [
    {
     "data": {
      "text/plain": [
       "[1, 4, 9, 16, 25, 36, 49, 64, 81, 100]"
      ]
     },
     "execution_count": 3,
     "metadata": {},
     "output_type": "execute_result"
    }
   ],
   "source": [
    "squares"
   ]
  },
  {
   "cell_type": "code",
   "execution_count": 4,
   "id": "56c95c3a-de65-4151-94a9-94387cd77fa2",
   "metadata": {},
   "outputs": [],
   "source": [
    "squares2 = [i * i for i in range(1, 11)]"
   ]
  },
  {
   "cell_type": "code",
   "execution_count": 5,
   "id": "ad654799-dcdb-4d53-ac9d-c4fee2d2d305",
   "metadata": {},
   "outputs": [],
   "source": [
    "def cube(x):\n",
    "    return x*x*x"
   ]
  },
  {
   "cell_type": "code",
   "execution_count": 6,
   "id": "1b1bc18b-9abb-4ea3-825a-ff12d73af736",
   "metadata": {},
   "outputs": [],
   "source": [
    "squares3 = [cube(x) for x in range(5)]"
   ]
  },
  {
   "cell_type": "code",
   "execution_count": 7,
   "id": "47ad85a5-6374-4091-9509-781c1d6e7138",
   "metadata": {},
   "outputs": [
    {
     "data": {
      "text/plain": [
       "[0, 1, 8, 27, 64]"
      ]
     },
     "execution_count": 7,
     "metadata": {},
     "output_type": "execute_result"
    }
   ],
   "source": [
    "squares3"
   ]
  },
  {
   "cell_type": "code",
   "execution_count": 8,
   "id": "8257971e-90ca-45dd-a948-6fdca9a66d65",
   "metadata": {},
   "outputs": [],
   "source": [
    "odd_squares = []\n",
    "for e in squares:\n",
    "    if e % 2 == 1:\n",
    "        odd_squares.append(e)"
   ]
  },
  {
   "cell_type": "code",
   "execution_count": 9,
   "id": "fa8ddcd6-b925-4446-b93c-7e1b5493ff64",
   "metadata": {},
   "outputs": [
    {
     "data": {
      "text/plain": [
       "[1, 9, 25, 49, 81]"
      ]
     },
     "execution_count": 9,
     "metadata": {},
     "output_type": "execute_result"
    }
   ],
   "source": [
    "odd_squares"
   ]
  },
  {
   "cell_type": "code",
   "execution_count": 12,
   "id": "1e7a9608-e735-4cb5-96bf-7a8130456d67",
   "metadata": {},
   "outputs": [],
   "source": [
    "odd_squares2 = [e+10 for e in squares if e % 2 == 1]"
   ]
  },
  {
   "cell_type": "code",
   "execution_count": 13,
   "id": "f8ca0bf5-3e20-41de-a3c9-45bc652f5f84",
   "metadata": {},
   "outputs": [
    {
     "data": {
      "text/plain": [
       "[11, 19, 35, 59, 91]"
      ]
     },
     "execution_count": 13,
     "metadata": {},
     "output_type": "execute_result"
    }
   ],
   "source": [
    "odd_squares2"
   ]
  },
  {
   "cell_type": "code",
   "execution_count": 14,
   "id": "70442142-fa50-4e6d-862c-ef7d701bb6ac",
   "metadata": {},
   "outputs": [],
   "source": [
    "def is_even(x):\n",
    "    if x % 2 == 0:\n",
    "        return True\n",
    "    else:\n",
    "        return False"
   ]
  },
  {
   "cell_type": "code",
   "execution_count": 15,
   "id": "bc2482ad-7b7f-4a45-aa40-a2d509bb6700",
   "metadata": {},
   "outputs": [],
   "source": [
    "ultra_weird_squares = [e if e % 2 == 0 else -1 for e in squares if is_even(e)]"
   ]
  },
  {
   "cell_type": "code",
   "execution_count": 16,
   "id": "aa881a94-9ca1-45ee-bb00-47cdfa17ff2a",
   "metadata": {},
   "outputs": [
    {
     "data": {
      "text/plain": [
       "[4, 16, 36, 64, 100]"
      ]
     },
     "execution_count": 16,
     "metadata": {},
     "output_type": "execute_result"
    }
   ],
   "source": [
    "ultra_weird_squares"
   ]
  },
  {
   "cell_type": "code",
   "execution_count": 1,
   "id": "32cdaa9d-816f-449f-9cd7-19ee3c4d71a1",
   "metadata": {},
   "outputs": [],
   "source": [
    "def hello(name):\n",
    "    \"\"\"\n",
    "    bu method selam veren bir method\n",
    "    \"\"\"\n",
    "    print(\"hello \" + name)"
   ]
  },
  {
   "cell_type": "code",
   "execution_count": 2,
   "id": "6d0caf11-4e47-4bae-a42a-b674d82b3f1e",
   "metadata": {},
   "outputs": [
    {
     "data": {
      "text/plain": [
       "\u001b[1;31mSignature:\u001b[0m \u001b[0mhello\u001b[0m\u001b[1;33m(\u001b[0m\u001b[0mname\u001b[0m\u001b[1;33m)\u001b[0m\u001b[1;33m\u001b[0m\u001b[1;33m\u001b[0m\u001b[0m\n",
       "\u001b[1;31mDocstring:\u001b[0m bu method selam veren bir method\n",
       "\u001b[1;31mFile:\u001b[0m      c:\\users\\iecet\\appdata\\local\\temp\\ipykernel_10020\\3891874602.py\n",
       "\u001b[1;31mType:\u001b[0m      function\n"
      ]
     },
     "metadata": {},
     "output_type": "display_data"
    }
   ],
   "source": [
    "?hello"
   ]
  },
  {
   "cell_type": "code",
   "execution_count": 3,
   "id": "ea2864e8-9fe8-44c9-a055-f94f5311d830",
   "metadata": {},
   "outputs": [
    {
     "data": {
      "text/plain": [
       "\u001b[1;31mSignature:\u001b[0m \u001b[0mhello\u001b[0m\u001b[1;33m(\u001b[0m\u001b[0mname\u001b[0m\u001b[1;33m)\u001b[0m\u001b[1;33m\u001b[0m\u001b[1;33m\u001b[0m\u001b[0m\n",
       "\u001b[1;31mSource:\u001b[0m   \n",
       "\u001b[1;32mdef\u001b[0m \u001b[0mhello\u001b[0m\u001b[1;33m(\u001b[0m\u001b[0mname\u001b[0m\u001b[1;33m)\u001b[0m\u001b[1;33m:\u001b[0m\u001b[1;33m\n",
       "\u001b[0m    \u001b[1;34m\"\"\"\n",
       "    bu method selam veren bir method\n",
       "    \"\"\"\u001b[0m\u001b[1;33m\n",
       "\u001b[0m    \u001b[0mprint\u001b[0m\u001b[1;33m(\u001b[0m\u001b[1;34m\"hello \"\u001b[0m \u001b[1;33m+\u001b[0m \u001b[0mname\u001b[0m\u001b[1;33m)\u001b[0m\u001b[1;33m\u001b[0m\u001b[1;33m\u001b[0m\u001b[0m\n",
       "\u001b[1;31mFile:\u001b[0m      c:\\users\\iecet\\appdata\\local\\temp\\ipykernel_10020\\3891874602.py\n",
       "\u001b[1;31mType:\u001b[0m      function\n"
      ]
     },
     "metadata": {},
     "output_type": "display_data"
    }
   ],
   "source": [
    "??hello"
   ]
  },
  {
   "cell_type": "code",
   "execution_count": null,
   "id": "97bf0ada-2ce7-4723-8fdc-23a773b79e60",
   "metadata": {},
   "outputs": [],
   "source": []
  }
 ],
 "metadata": {
  "kernelspec": {
   "display_name": "Python 3 (ipykernel)",
   "language": "python",
   "name": "python3"
  },
  "language_info": {
   "codemirror_mode": {
    "name": "ipython",
    "version": 3
   },
   "file_extension": ".py",
   "mimetype": "text/x-python",
   "name": "python",
   "nbconvert_exporter": "python",
   "pygments_lexer": "ipython3",
   "version": "3.9.13"
  }
 },
 "nbformat": 4,
 "nbformat_minor": 5
}
