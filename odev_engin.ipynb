{
 "cells": [
  {
   "cell_type": "markdown",
   "id": "844aa6c8-a8e1-4c6e-b57f-469d07aefa78",
   "metadata": {},
   "source": [
    "**soru -->** 10 uzunluklu sifirlardan olusan 1-D array olustur\n",
    "\n",
    "**soru -->** 5 uzunluklu float sifirlardan olusan 1-D olustur\n",
    "\n",
    "**soru -->** 15 uzunluklu string sifirlardan olusan 1-D olustur\n",
    "\n",
    "**soru -->** hem folat hem de int'lerden olusan(ayri ayri olustur) 2-D arrayler olustur uzunluklari (3, 4) olsun\n",
    "\n",
    "**soru -->** (3,4) boyutlarinda string olarak bos ve bool olarak hem true hem de false 2-D array olustur\n",
    "\n",
    "**soru -->** (5,5) boyutlarinda 8'lerden olusan bir matrix olustur ve bir tane de 9 uzunluklu 10'lardan olusan bir vector olustur\n",
    "\n",
    "**soru -->** bir python list'i 4 defa yan yana eklenecek sekilde baska bir list'e aktar\n",
    "\n",
    "**soru -->** numpy arrayleri element-wise olarak topla ve carp\n",
    "\n",
    "**soru -->** bir numpy arrayi tum elemanlari 3 katina cikacak sekilde guncelle"
   ]
  },
  {
   "cell_type": "code",
   "execution_count": null,
   "id": "fbcb476b-617c-412c-88d6-a3d789d2580f",
   "metadata": {},
   "outputs": [],
   "source": []
  }
 ],
 "metadata": {
  "kernelspec": {
   "display_name": "Python 3 (ipykernel)",
   "language": "python",
   "name": "python3"
  },
  "language_info": {
   "codemirror_mode": {
    "name": "ipython",
    "version": 3
   },
   "file_extension": ".py",
   "mimetype": "text/x-python",
   "name": "python",
   "nbconvert_exporter": "python",
   "pygments_lexer": "ipython3",
   "version": "3.9.13"
  }
 },
 "nbformat": 4,
 "nbformat_minor": 5
}
