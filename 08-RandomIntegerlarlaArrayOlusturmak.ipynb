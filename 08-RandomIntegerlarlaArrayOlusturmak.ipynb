{
 "cells": [
  {
   "cell_type": "markdown",
   "id": "aa1b82ac-2401-4e55-8ffb-0db97d8d162d",
   "metadata": {},
   "source": [
    "# Random Integerlarla Array Olusturmak"
   ]
  },
  {
   "cell_type": "markdown",
   "id": "ed67136e-520c-42ce-8140-c416f61b0ba3",
   "metadata": {},
   "source": [
    "**dikkat et azonce np.random.normal'di simdi np.random.randint kullanicam**\n",
    "\n",
    "**burda randomluk uniform yani her bir sayi esit olasiliklarla gelecek**\n",
    "\n",
    "**np.random.randint([low, high),(size))**\n",
    "\n",
    "**eger size belirtmezsem yalnizca bir tane sayi uretiyor, size belirttigim an ndarray olusuyor**\n",
    "\n",
    "**eger tek bir deger girersem default olarak baslangici sifir olan bitisi verdigim sayi olan ama dahil olmayan bir random sayi olusuyor**\n",
    "\n",
    "**Return random integers from `low` (inclusive) to `high` (exclusive).\n",
    "\n",
    " If `high` is None (the default), then results are from [0, `low`)."
   ]
  },
  {
   "cell_type": "code",
   "execution_count": 3,
   "id": "e8025115-fe5f-48bc-9e64-ee9a984593bd",
   "metadata": {},
   "outputs": [],
   "source": [
    "import numpy as np"
   ]
  },
  {
   "cell_type": "code",
   "execution_count": 5,
   "id": "abde6448-3ee1-4b48-8cb4-071223e42ecf",
   "metadata": {},
   "outputs": [],
   "source": [
    "ece = np.random.randint(3, 50)"
   ]
  },
  {
   "cell_type": "code",
   "execution_count": 6,
   "id": "b0607c58-d16c-4abd-a341-d05adda0d1d5",
   "metadata": {},
   "outputs": [
    {
     "data": {
      "text/plain": [
       "22"
      ]
     },
     "execution_count": 6,
     "metadata": {},
     "output_type": "execute_result"
    }
   ],
   "source": [
    "ece"
   ]
  },
  {
   "cell_type": "code",
   "execution_count": 4,
   "id": "77a9cea6-fe4f-497e-b56c-cc0b4fbf250b",
   "metadata": {},
   "outputs": [],
   "source": [
    "a = np.random.randint(low = 1,high= 20, size = (4, 5))"
   ]
  },
  {
   "cell_type": "code",
   "execution_count": 5,
   "id": "a5127c53-9db9-4920-ad88-180278ac0606",
   "metadata": {},
   "outputs": [
    {
     "data": {
      "text/plain": [
       "array([[14,  6, 11, 12, 16],\n",
       "       [14, 19, 17,  9,  8],\n",
       "       [13, 14,  8,  8, 15],\n",
       "       [17, 12,  1, 15, 17]])"
      ]
     },
     "execution_count": 5,
     "metadata": {},
     "output_type": "execute_result"
    }
   ],
   "source": [
    "a"
   ]
  },
  {
   "cell_type": "code",
   "execution_count": 6,
   "id": "e7d5852f-1d6d-47ee-a174-14c63a1327e6",
   "metadata": {},
   "outputs": [],
   "source": [
    "b = np.random.randint(1, 20, (5, ))"
   ]
  },
  {
   "cell_type": "code",
   "execution_count": 7,
   "id": "49273f16-54c2-4147-b6f7-8fcb754ebb73",
   "metadata": {},
   "outputs": [
    {
     "data": {
      "text/plain": [
       "array([13,  8, 12,  5, 10])"
      ]
     },
     "execution_count": 7,
     "metadata": {},
     "output_type": "execute_result"
    }
   ],
   "source": [
    "b"
   ]
  },
  {
   "cell_type": "code",
   "execution_count": 10,
   "id": "7d1eed2e-fb89-45ca-b11b-ba0aca0b30db",
   "metadata": {},
   "outputs": [
    {
     "data": {
      "text/plain": [
       "numpy.ndarray"
      ]
     },
     "execution_count": 10,
     "metadata": {},
     "output_type": "execute_result"
    }
   ],
   "source": [
    "type(b)"
   ]
  },
  {
   "cell_type": "code",
   "execution_count": 11,
   "id": "57331cdb-ea99-4d48-9f9f-22914ca9838b",
   "metadata": {},
   "outputs": [
    {
     "data": {
      "text/plain": [
       "(5,)"
      ]
     },
     "execution_count": 11,
     "metadata": {},
     "output_type": "execute_result"
    }
   ],
   "source": [
    "b.shape"
   ]
  },
  {
   "cell_type": "code",
   "execution_count": 12,
   "id": "3f177332-d53c-401b-88b6-dc377c280dfe",
   "metadata": {},
   "outputs": [
    {
     "data": {
      "text/plain": [
       "1"
      ]
     },
     "execution_count": 12,
     "metadata": {},
     "output_type": "execute_result"
    }
   ],
   "source": [
    "b.ndim"
   ]
  },
  {
   "cell_type": "code",
   "execution_count": 18,
   "id": "cbcf28f6-49f7-4517-babf-e6539922b697",
   "metadata": {},
   "outputs": [],
   "source": [
    "c = np.random.randint(low = 1, high= 30)"
   ]
  },
  {
   "cell_type": "code",
   "execution_count": 19,
   "id": "8d70f26f-5b1e-40a7-8351-d47df3213dfd",
   "metadata": {},
   "outputs": [
    {
     "data": {
      "text/plain": [
       "27"
      ]
     },
     "execution_count": 19,
     "metadata": {},
     "output_type": "execute_result"
    }
   ],
   "source": [
    "c"
   ]
  },
  {
   "cell_type": "code",
   "execution_count": 15,
   "id": "d18bcbb7-b3fa-40d8-ae5e-e435625d8fe9",
   "metadata": {},
   "outputs": [
    {
     "data": {
      "text/plain": [
       "int"
      ]
     },
     "execution_count": 15,
     "metadata": {},
     "output_type": "execute_result"
    }
   ],
   "source": [
    "type(c)"
   ]
  },
  {
   "cell_type": "code",
   "execution_count": 9,
   "id": "55fa891d-8181-484b-a086-57ff7e30e512",
   "metadata": {},
   "outputs": [],
   "source": [
    "d = np.random.randint(low = 40, size = (4, 5))"
   ]
  },
  {
   "cell_type": "code",
   "execution_count": 10,
   "id": "f0c06a6d-ea41-464c-9955-bc5ba5898af9",
   "metadata": {},
   "outputs": [
    {
     "data": {
      "text/plain": [
       "array([[38, 36, 15, 23, 20],\n",
       "       [20, 19, 23, 30, 39],\n",
       "       [27, 39, 38, 13, 10],\n",
       "       [12, 23, 22, 35, 12]])"
      ]
     },
     "execution_count": 10,
     "metadata": {},
     "output_type": "execute_result"
    }
   ],
   "source": [
    "d"
   ]
  },
  {
   "cell_type": "markdown",
   "id": "e680491b-a443-425a-a8de-cd5f48e46b7e",
   "metadata": {},
   "source": [
    "# Gercekten Uniform Distributiondan Mi Cekmis Bi Bakalim"
   ]
  },
  {
   "cell_type": "code",
   "execution_count": 25,
   "id": "35a3bbc4-b2bd-4a67-a472-c0a3c7b80693",
   "metadata": {},
   "outputs": [],
   "source": [
    "d = {}\n",
    "\n",
    "for _ in range(20000):\n",
    "    val = np.random.randint(1, 11)\n",
    "    if val not in d:\n",
    "        d[val] = 1\n",
    "    else:\n",
    "        d[val] += 1"
   ]
  },
  {
   "cell_type": "code",
   "execution_count": 26,
   "id": "dfc33466-db87-4fe5-bf2e-c1c1b768a2e8",
   "metadata": {},
   "outputs": [
    {
     "data": {
      "text/plain": [
       "{5: 2075,\n",
       " 10: 1975,\n",
       " 8: 2045,\n",
       " 1: 2026,\n",
       " 2: 2042,\n",
       " 3: 1984,\n",
       " 4: 2023,\n",
       " 7: 1919,\n",
       " 6: 2033,\n",
       " 9: 1878}"
      ]
     },
     "execution_count": 26,
     "metadata": {},
     "output_type": "execute_result"
    }
   ],
   "source": [
    "d"
   ]
  },
  {
   "cell_type": "code",
   "execution_count": 11,
   "id": "5be01c9d-c265-4fe3-9af1-f79112232033",
   "metadata": {},
   "outputs": [
    {
     "name": "stdout",
     "output_type": "stream",
     "text": [
      "Output 1D Array filled with random integers :  [0 0 0 2 1]\n"
     ]
    }
   ],
   "source": [
    "out_arr = np.random.randint(low = 0, high = 3, size = 5)\n",
    "print (\"Output 1D Array filled with random integers : \", out_arr)"
   ]
  },
  {
   "cell_type": "code",
   "execution_count": 12,
   "id": "0e89f95e-6d58-4c33-949d-585de814c79c",
   "metadata": {},
   "outputs": [
    {
     "data": {
      "text/plain": [
       "numpy.ndarray"
      ]
     },
     "execution_count": 12,
     "metadata": {},
     "output_type": "execute_result"
    }
   ],
   "source": [
    "type(out_arr)"
   ]
  },
  {
   "cell_type": "code",
   "execution_count": 13,
   "id": "413e2862-3dfc-4eb9-9443-c55c44f9e240",
   "metadata": {},
   "outputs": [],
   "source": [
    "out_arr = np.random.randint(low = 0, high = 3)"
   ]
  },
  {
   "cell_type": "code",
   "execution_count": 14,
   "id": "38a225a5-b044-4410-ad07-e2443007d750",
   "metadata": {},
   "outputs": [
    {
     "data": {
      "text/plain": [
       "int"
      ]
     },
     "execution_count": 14,
     "metadata": {},
     "output_type": "execute_result"
    }
   ],
   "source": [
    "type(out_arr)"
   ]
  },
  {
   "cell_type": "code",
   "execution_count": null,
   "id": "d7f6ff97-afec-4ab7-a3bf-cee3bcbe2a7e",
   "metadata": {},
   "outputs": [],
   "source": []
  }
 ],
 "metadata": {
  "kernelspec": {
   "display_name": "Python 3 (ipykernel)",
   "language": "python",
   "name": "python3"
  },
  "language_info": {
   "codemirror_mode": {
    "name": "ipython",
    "version": 3
   },
   "file_extension": ".py",
   "mimetype": "text/x-python",
   "name": "python",
   "nbconvert_exporter": "python",
   "pygments_lexer": "ipython3",
   "version": "3.9.13"
  }
 },
 "nbformat": 4,
 "nbformat_minor": 5
}
