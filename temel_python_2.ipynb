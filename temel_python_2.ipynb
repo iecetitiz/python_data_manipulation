{
 "cells": [
  {
   "cell_type": "code",
   "execution_count": 1,
   "id": "f5d595b3-44a1-48f1-973a-7f13f8ddfb40",
   "metadata": {},
   "outputs": [],
   "source": [
    "import numpy as np"
   ]
  },
  {
   "cell_type": "code",
   "execution_count": 2,
   "id": "a6eb4588-7b7a-4434-af07-7e3d863e4e89",
   "metadata": {},
   "outputs": [
    {
     "data": {
      "text/plain": [
       "'D'"
      ]
     },
     "execution_count": 2,
     "metadata": {},
     "output_type": "execute_result"
    }
   ],
   "source": [
    "\"Deniz\"[0]"
   ]
  },
  {
   "cell_type": "code",
   "execution_count": 3,
   "id": "a643d0c2-28c6-42a5-a355-db4eedcc0f5a",
   "metadata": {},
   "outputs": [],
   "source": [
    "text = \"hellomydarling!\""
   ]
  },
  {
   "cell_type": "code",
   "execution_count": 4,
   "id": "aa226510-5e6e-43f7-b28b-1b5880eccfc7",
   "metadata": {},
   "outputs": [
    {
     "data": {
      "text/plain": [
       "'hello'"
      ]
     },
     "execution_count": 4,
     "metadata": {},
     "output_type": "execute_result"
    }
   ],
   "source": [
    "text[:5]"
   ]
  },
  {
   "cell_type": "code",
   "execution_count": 5,
   "id": "a89ec0de-16a5-4b8f-9c39-7c2d33089f00",
   "metadata": {},
   "outputs": [
    {
     "data": {
      "text/plain": [
       "'llomydarling!'"
      ]
     },
     "execution_count": 5,
     "metadata": {},
     "output_type": "execute_result"
    }
   ],
   "source": [
    "text[2:500]"
   ]
  },
  {
   "cell_type": "code",
   "execution_count": 6,
   "id": "750cf9e4-9d16-40d0-b9ea-7b042893dd5b",
   "metadata": {},
   "outputs": [
    {
     "data": {
      "text/plain": [
       "''"
      ]
     },
     "execution_count": 6,
     "metadata": {},
     "output_type": "execute_result"
    }
   ],
   "source": [
    "text[0:10:-1]"
   ]
  },
  {
   "cell_type": "code",
   "execution_count": 7,
   "id": "c868f83d-4cc6-4737-b35a-4d40141f4055",
   "metadata": {},
   "outputs": [
    {
     "data": {
      "text/plain": [
       "'!gnilradymolle'"
      ]
     },
     "execution_count": 7,
     "metadata": {},
     "output_type": "execute_result"
    }
   ],
   "source": [
    "text[50:0:-1]"
   ]
  },
  {
   "cell_type": "code",
   "execution_count": 11,
   "id": "aa64b5b9-908a-4c2e-8bc6-815057f248cf",
   "metadata": {},
   "outputs": [],
   "source": [
    "my_text = \"birzamanlarburaya kadar hep bizimdi\""
   ]
  },
  {
   "cell_type": "code",
   "execution_count": 12,
   "id": "4dcdcd74-2d4b-4b35-b47a-f50e50f3a25f",
   "metadata": {},
   "outputs": [
    {
     "data": {
      "text/plain": [
       "35"
      ]
     },
     "execution_count": 12,
     "metadata": {},
     "output_type": "execute_result"
    }
   ],
   "source": [
    "len(my_text)"
   ]
  },
  {
   "cell_type": "code",
   "execution_count": 17,
   "id": "f6fcae9d-d0c8-4298-be9d-3e60baebdcde",
   "metadata": {},
   "outputs": [
    {
     "data": {
      "text/plain": [
       "'iiberaarrnai'"
      ]
     },
     "execution_count": 17,
     "metadata": {},
     "output_type": "execute_result"
    }
   ],
   "source": [
    "my_text[44::-3]"
   ]
  },
  {
   "cell_type": "code",
   "execution_count": 18,
   "id": "3a80c65d-62d7-45bf-89d1-62348518bb54",
   "metadata": {},
   "outputs": [],
   "source": [
    "a = \"5\""
   ]
  },
  {
   "cell_type": "code",
   "execution_count": 19,
   "id": "72bc9c62-8fa6-4581-9b73-64dde79c695c",
   "metadata": {},
   "outputs": [
    {
     "data": {
      "text/plain": [
       "5"
      ]
     },
     "execution_count": 19,
     "metadata": {},
     "output_type": "execute_result"
    }
   ],
   "source": [
    "int(a)"
   ]
  },
  {
   "cell_type": "code",
   "execution_count": 20,
   "id": "397baa8c-0fbc-410b-b0a7-b58a237673ac",
   "metadata": {},
   "outputs": [],
   "source": [
    "b = \"4.90\""
   ]
  },
  {
   "cell_type": "code",
   "execution_count": 22,
   "id": "df8dc469-b0ec-4364-8139-9968f26f073a",
   "metadata": {},
   "outputs": [
    {
     "data": {
      "text/plain": [
       "4"
      ]
     },
     "execution_count": 22,
     "metadata": {},
     "output_type": "execute_result"
    }
   ],
   "source": [
    "int(float(b))"
   ]
  },
  {
   "cell_type": "markdown",
   "id": "88d2c45c-11f5-4e72-b771-0e87e0611478",
   "metadata": {},
   "source": [
    "# Input"
   ]
  },
  {
   "cell_type": "code",
   "execution_count": 23,
   "id": "c27cecee-cfd9-48d9-a857-ce3b834553a2",
   "metadata": {},
   "outputs": [
    {
     "name": "stdin",
     "output_type": "stream",
     "text": [
      "bir sayi giriniz a\n"
     ]
    }
   ],
   "source": [
    "x = input(\"bir sayi giriniz\")"
   ]
  },
  {
   "cell_type": "code",
   "execution_count": 24,
   "id": "0720e43c-b63b-4aeb-9216-94e6791c717b",
   "metadata": {},
   "outputs": [
    {
     "data": {
      "text/plain": [
       "'a'"
      ]
     },
     "execution_count": 24,
     "metadata": {},
     "output_type": "execute_result"
    }
   ],
   "source": [
    "x"
   ]
  },
  {
   "cell_type": "code",
   "execution_count": 25,
   "id": "95c8f41c-292f-4a24-a6c7-611d735d134c",
   "metadata": {},
   "outputs": [
    {
     "data": {
      "text/plain": [
       "str"
      ]
     },
     "execution_count": 25,
     "metadata": {},
     "output_type": "execute_result"
    }
   ],
   "source": [
    "type(x)"
   ]
  },
  {
   "cell_type": "code",
   "execution_count": null,
   "id": "24926f43-07dc-472a-8422-c4f115f47b51",
   "metadata": {},
   "outputs": [],
   "source": []
  }
 ],
 "metadata": {
  "kernelspec": {
   "display_name": "Python 3 (ipykernel)",
   "language": "python",
   "name": "python3"
  },
  "language_info": {
   "codemirror_mode": {
    "name": "ipython",
    "version": 3
   },
   "file_extension": ".py",
   "mimetype": "text/x-python",
   "name": "python",
   "nbconvert_exporter": "python",
   "pygments_lexer": "ipython3",
   "version": "3.9.13"
  }
 },
 "nbformat": 4,
 "nbformat_minor": 5
}
